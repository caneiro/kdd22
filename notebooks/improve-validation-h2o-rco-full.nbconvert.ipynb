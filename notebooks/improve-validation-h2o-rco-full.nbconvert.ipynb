{
 "cells": [
  {
   "cell_type": "markdown",
   "metadata": {},
   "source": [
    "# Single Output Regression"
   ]
  },
  {
   "cell_type": "code",
   "execution_count": 1,
   "metadata": {
    "_cell_guid": "b1076dfc-b9ad-4769-8c92-a6c4dae69d19",
    "_uuid": "8f2839f25d086af736a60e9eeb907d3b93b6e0e5",
    "execution": {
     "iopub.execute_input": "2022-11-01T02:35:59.999986Z",
     "iopub.status.busy": "2022-11-01T02:35:59.999870Z",
     "iopub.status.idle": "2022-11-01T02:36:00.512154Z",
     "shell.execute_reply": "2022-11-01T02:36:00.511826Z"
    }
   },
   "outputs": [
    {
     "name": "stdout",
     "output_type": "stream",
     "text": [
      "/home/rco/DS/kdd22/data/raw\n"
     ]
    }
   ],
   "source": [
    "import os\n",
    "import sys\n",
    "import numpy as np\n",
    "import pandas as pd\n",
    "from tqdm.auto import tqdm\n",
    "import matplotlib.pyplot as plt\n",
    "from pathlib import Path\n",
    "\n",
    "SEED = 42\n",
    "HOME = Path.cwd().parent\n",
    "RAW_PATH = HOME / 'data/raw'\n",
    "print(RAW_PATH)\n",
    "MAX_TIME = 500"
   ]
  },
  {
   "cell_type": "code",
   "execution_count": 2,
   "metadata": {
    "execution": {
     "iopub.execute_input": "2022-11-01T02:36:00.539848Z",
     "iopub.status.busy": "2022-11-01T02:36:00.539746Z",
     "iopub.status.idle": "2022-11-01T02:36:00.644006Z",
     "shell.execute_reply": "2022-11-01T02:36:00.643771Z"
    }
   },
   "outputs": [
    {
     "name": "stdout",
     "output_type": "stream",
     "text": [
      "(146262, 6)\n"
     ]
    },
    {
     "data": {
      "text/html": [
       "<div>\n",
       "<style scoped>\n",
       "    .dataframe tbody tr th:only-of-type {\n",
       "        vertical-align: middle;\n",
       "    }\n",
       "\n",
       "    .dataframe tbody tr th {\n",
       "        vertical-align: top;\n",
       "    }\n",
       "\n",
       "    .dataframe thead th {\n",
       "        text-align: right;\n",
       "    }\n",
       "</style>\n",
       "<table border=\"1\" class=\"dataframe\">\n",
       "  <thead>\n",
       "    <tr style=\"text-align: right;\">\n",
       "      <th></th>\n",
       "      <th>Filename</th>\n",
       "      <th>Altitude</th>\n",
       "      <th>Delta</th>\n",
       "      <th>North</th>\n",
       "      <th>East</th>\n",
       "      <th>kfold</th>\n",
       "    </tr>\n",
       "  </thead>\n",
       "  <tbody>\n",
       "    <tr>\n",
       "      <th>0</th>\n",
       "      <td>00003e3b9e5336685200ae85d21b4f5e.jpg</td>\n",
       "      <td>178.829834</td>\n",
       "      <td>-0.065231</td>\n",
       "      <td>-0.386045</td>\n",
       "      <td>0.929772</td>\n",
       "      <td>0</td>\n",
       "    </tr>\n",
       "    <tr>\n",
       "      <th>1</th>\n",
       "      <td>0001261e2060303a06ba6c64d676d639.jpg</td>\n",
       "      <td>207.921478</td>\n",
       "      <td>-0.080688</td>\n",
       "      <td>0.635584</td>\n",
       "      <td>0.152819</td>\n",
       "      <td>2</td>\n",
       "    </tr>\n",
       "    <tr>\n",
       "      <th>2</th>\n",
       "      <td>0002ac0d783338cfeab0b2bdbd872cda.jpg</td>\n",
       "      <td>178.048431</td>\n",
       "      <td>0.021576</td>\n",
       "      <td>-1.228229</td>\n",
       "      <td>-0.499388</td>\n",
       "      <td>3</td>\n",
       "    </tr>\n",
       "    <tr>\n",
       "      <th>3</th>\n",
       "      <td>0004289ee1c7b8b08c77e19878106ae3.jpg</td>\n",
       "      <td>201.084625</td>\n",
       "      <td>0.505981</td>\n",
       "      <td>-1.739709</td>\n",
       "      <td>-0.699928</td>\n",
       "      <td>1</td>\n",
       "    </tr>\n",
       "    <tr>\n",
       "      <th>4</th>\n",
       "      <td>0004d0b59e19461ff126e3a08a814c33.jpg</td>\n",
       "      <td>187.550201</td>\n",
       "      <td>-0.328156</td>\n",
       "      <td>-0.169798</td>\n",
       "      <td>2.828752</td>\n",
       "      <td>0</td>\n",
       "    </tr>\n",
       "  </tbody>\n",
       "</table>\n",
       "</div>"
      ],
      "text/plain": [
       "                               Filename    Altitude     Delta     North  \\\n",
       "0  00003e3b9e5336685200ae85d21b4f5e.jpg  178.829834 -0.065231 -0.386045   \n",
       "1  0001261e2060303a06ba6c64d676d639.jpg  207.921478 -0.080688  0.635584   \n",
       "2  0002ac0d783338cfeab0b2bdbd872cda.jpg  178.048431  0.021576 -1.228229   \n",
       "3  0004289ee1c7b8b08c77e19878106ae3.jpg  201.084625  0.505981 -1.739709   \n",
       "4  0004d0b59e19461ff126e3a08a814c33.jpg  187.550201 -0.328156 -0.169798   \n",
       "\n",
       "       East  kfold  \n",
       "0  0.929772      0  \n",
       "1  0.152819      2  \n",
       "2 -0.499388      3  \n",
       "3 -0.699928      1  \n",
       "4  2.828752      0  "
      ]
     },
     "execution_count": 2,
     "metadata": {},
     "output_type": "execute_result"
    }
   ],
   "source": [
    "pub = pd.read_csv(RAW_PATH / 'public.csv')\n",
    "print(pub.shape)\n",
    "pub.head()"
   ]
  },
  {
   "cell_type": "code",
   "execution_count": 3,
   "metadata": {
    "execution": {
     "iopub.execute_input": "2022-11-01T02:36:00.645475Z",
     "iopub.status.busy": "2022-11-01T02:36:00.645398Z",
     "iopub.status.idle": "2022-11-01T02:36:01.363573Z",
     "shell.execute_reply": "2022-11-01T02:36:01.363283Z"
    }
   },
   "outputs": [
    {
     "name": "stdout",
     "output_type": "stream",
     "text": [
      "(91231, 8)\n",
      "(91231, 10)\n",
      "(91231, 12)\n",
      "(91231, 14)\n",
      "(91231, 16)\n",
      "(91231, 18)\n",
      "(91231, 20)\n",
      "(91231, 40)\n"
     ]
    },
    {
     "data": {
      "text/html": [
       "<div>\n",
       "<style scoped>\n",
       "    .dataframe tbody tr th:only-of-type {\n",
       "        vertical-align: middle;\n",
       "    }\n",
       "\n",
       "    .dataframe tbody tr th {\n",
       "        vertical-align: top;\n",
       "    }\n",
       "\n",
       "    .dataframe thead th {\n",
       "        text-align: right;\n",
       "    }\n",
       "</style>\n",
       "<table border=\"1\" class=\"dataframe\">\n",
       "  <thead>\n",
       "    <tr style=\"text-align: right;\">\n",
       "      <th></th>\n",
       "      <th>Filename</th>\n",
       "      <th>Altitude</th>\n",
       "      <th>Delta</th>\n",
       "      <th>North</th>\n",
       "      <th>East</th>\n",
       "      <th>kfold</th>\n",
       "      <th>North_pixel</th>\n",
       "      <th>East_pixel</th>\n",
       "      <th>North_pixel_a</th>\n",
       "      <th>East_pixel_a</th>\n",
       "      <th>...</th>\n",
       "      <th>pxl_10</th>\n",
       "      <th>pxl_11</th>\n",
       "      <th>pxl_12</th>\n",
       "      <th>pxl_13</th>\n",
       "      <th>pxl_14</th>\n",
       "      <th>pxl_15</th>\n",
       "      <th>pxl_16</th>\n",
       "      <th>pxl_17</th>\n",
       "      <th>pxl_18</th>\n",
       "      <th>pxl_19</th>\n",
       "    </tr>\n",
       "  </thead>\n",
       "  <tbody>\n",
       "    <tr>\n",
       "      <th>0</th>\n",
       "      <td>00003e3b9e5336685200ae85d21b4f5e.jpg</td>\n",
       "      <td>178.829834</td>\n",
       "      <td>-0.065231</td>\n",
       "      <td>-0.386045</td>\n",
       "      <td>0.929772</td>\n",
       "      <td>0</td>\n",
       "      <td>-1.098183</td>\n",
       "      <td>2.828369</td>\n",
       "      <td>-1.296189</td>\n",
       "      <td>2.868935</td>\n",
       "      <td>...</td>\n",
       "      <td>-2.882545</td>\n",
       "      <td>-1.254211</td>\n",
       "      <td>-3.426113</td>\n",
       "      <td>-1.640629</td>\n",
       "      <td>-2.829666</td>\n",
       "      <td>-1.183493</td>\n",
       "      <td>-2.998511</td>\n",
       "      <td>-1.221453</td>\n",
       "      <td>-2.975761</td>\n",
       "      <td>-1.224934</td>\n",
       "    </tr>\n",
       "    <tr>\n",
       "      <th>1</th>\n",
       "      <td>0001261e2060303a06ba6c64d676d639.jpg</td>\n",
       "      <td>207.921478</td>\n",
       "      <td>-0.080688</td>\n",
       "      <td>0.635584</td>\n",
       "      <td>0.152819</td>\n",
       "      <td>2</td>\n",
       "      <td>1.452448</td>\n",
       "      <td>0.207358</td>\n",
       "      <td>0.847966</td>\n",
       "      <td>0.356077</td>\n",
       "      <td>...</td>\n",
       "      <td>-0.268454</td>\n",
       "      <td>0.959177</td>\n",
       "      <td>-0.203712</td>\n",
       "      <td>1.094475</td>\n",
       "      <td>-0.268454</td>\n",
       "      <td>0.959177</td>\n",
       "      <td>-0.252202</td>\n",
       "      <td>1.062943</td>\n",
       "      <td>-0.326046</td>\n",
       "      <td>0.971859</td>\n",
       "    </tr>\n",
       "    <tr>\n",
       "      <th>2</th>\n",
       "      <td>0002ac0d783338cfeab0b2bdbd872cda.jpg</td>\n",
       "      <td>178.048431</td>\n",
       "      <td>0.021576</td>\n",
       "      <td>-1.228229</td>\n",
       "      <td>-0.499388</td>\n",
       "      <td>3</td>\n",
       "      <td>-3.544215</td>\n",
       "      <td>-1.494362</td>\n",
       "      <td>-3.517452</td>\n",
       "      <td>-1.592591</td>\n",
       "      <td>...</td>\n",
       "      <td>1.601097</td>\n",
       "      <td>-3.896843</td>\n",
       "      <td>1.576309</td>\n",
       "      <td>-3.810501</td>\n",
       "      <td>1.554550</td>\n",
       "      <td>-3.741711</td>\n",
       "      <td>1.583000</td>\n",
       "      <td>-3.806505</td>\n",
       "      <td>1.571258</td>\n",
       "      <td>-3.768505</td>\n",
       "    </tr>\n",
       "    <tr>\n",
       "      <th>3</th>\n",
       "      <td>0004289ee1c7b8b08c77e19878106ae3.jpg</td>\n",
       "      <td>201.084625</td>\n",
       "      <td>0.505981</td>\n",
       "      <td>-1.739709</td>\n",
       "      <td>-0.699928</td>\n",
       "      <td>1</td>\n",
       "      <td>-6.054061</td>\n",
       "      <td>-4.082150</td>\n",
       "      <td>-6.091535</td>\n",
       "      <td>-3.099275</td>\n",
       "      <td>...</td>\n",
       "      <td>3.585079</td>\n",
       "      <td>-6.579813</td>\n",
       "      <td>1.656113</td>\n",
       "      <td>-5.524193</td>\n",
       "      <td>2.281319</td>\n",
       "      <td>-5.760706</td>\n",
       "      <td>1.842140</td>\n",
       "      <td>-5.587303</td>\n",
       "      <td>2.933319</td>\n",
       "      <td>-6.275887</td>\n",
       "    </tr>\n",
       "    <tr>\n",
       "      <th>4</th>\n",
       "      <td>0004d0b59e19461ff126e3a08a814c33.jpg</td>\n",
       "      <td>187.550201</td>\n",
       "      <td>-0.328156</td>\n",
       "      <td>-0.169798</td>\n",
       "      <td>2.828752</td>\n",
       "      <td>0</td>\n",
       "      <td>-0.690250</td>\n",
       "      <td>8.232869</td>\n",
       "      <td>-0.449659</td>\n",
       "      <td>8.125691</td>\n",
       "      <td>...</td>\n",
       "      <td>-7.957325</td>\n",
       "      <td>-0.792717</td>\n",
       "      <td>-7.955856</td>\n",
       "      <td>-0.466026</td>\n",
       "      <td>-7.913773</td>\n",
       "      <td>-0.495544</td>\n",
       "      <td>-7.805359</td>\n",
       "      <td>-0.389091</td>\n",
       "      <td>-7.685028</td>\n",
       "      <td>-0.443871</td>\n",
       "    </tr>\n",
       "  </tbody>\n",
       "</table>\n",
       "<p>5 rows × 40 columns</p>\n",
       "</div>"
      ],
      "text/plain": [
       "                               Filename    Altitude     Delta     North  \\\n",
       "0  00003e3b9e5336685200ae85d21b4f5e.jpg  178.829834 -0.065231 -0.386045   \n",
       "1  0001261e2060303a06ba6c64d676d639.jpg  207.921478 -0.080688  0.635584   \n",
       "2  0002ac0d783338cfeab0b2bdbd872cda.jpg  178.048431  0.021576 -1.228229   \n",
       "3  0004289ee1c7b8b08c77e19878106ae3.jpg  201.084625  0.505981 -1.739709   \n",
       "4  0004d0b59e19461ff126e3a08a814c33.jpg  187.550201 -0.328156 -0.169798   \n",
       "\n",
       "       East  kfold  North_pixel  East_pixel  North_pixel_a  East_pixel_a  ...  \\\n",
       "0  0.929772      0    -1.098183    2.828369      -1.296189      2.868935  ...   \n",
       "1  0.152819      2     1.452448    0.207358       0.847966      0.356077  ...   \n",
       "2 -0.499388      3    -3.544215   -1.494362      -3.517452     -1.592591  ...   \n",
       "3 -0.699928      1    -6.054061   -4.082150      -6.091535     -3.099275  ...   \n",
       "4  2.828752      0    -0.690250    8.232869      -0.449659      8.125691  ...   \n",
       "\n",
       "     pxl_10    pxl_11    pxl_12    pxl_13    pxl_14    pxl_15    pxl_16  \\\n",
       "0 -2.882545 -1.254211 -3.426113 -1.640629 -2.829666 -1.183493 -2.998511   \n",
       "1 -0.268454  0.959177 -0.203712  1.094475 -0.268454  0.959177 -0.252202   \n",
       "2  1.601097 -3.896843  1.576309 -3.810501  1.554550 -3.741711  1.583000   \n",
       "3  3.585079 -6.579813  1.656113 -5.524193  2.281319 -5.760706  1.842140   \n",
       "4 -7.957325 -0.792717 -7.955856 -0.466026 -7.913773 -0.495544 -7.805359   \n",
       "\n",
       "     pxl_17    pxl_18    pxl_19  \n",
       "0 -1.221453 -2.975761 -1.224934  \n",
       "1  1.062943 -0.326046  0.971859  \n",
       "2 -3.806505  1.571258 -3.768505  \n",
       "3 -5.587303  2.933319 -6.275887  \n",
       "4 -0.389091 -7.685028 -0.443871  \n",
       "\n",
       "[5 rows x 40 columns]"
      ]
     },
     "execution_count": 3,
     "metadata": {},
     "output_type": "execute_result"
    }
   ],
   "source": [
    "def merge_pixels_dist(dataset='train', suffixes=['', '_a', '_a_est', '_h', '_h_est', '_p', '_p_est', '_rco']):\n",
    "    df_final = pub.copy()\n",
    "    for s in suffixes:\n",
    "        filename = 'pixels_dist_' + dataset + s + '.csv'\n",
    "        df_right = pd.read_csv(RAW_PATH / filename)\n",
    "        df_right.rename({'Images':'Filename'}, axis=1, inplace=True)\n",
    "        df_final = df_final.merge(df_right, on='Filename', how='inner', suffixes=(None, s))\n",
    "        print(df_final.shape)\n",
    "\n",
    "    return df_final\n",
    "\n",
    "train = merge_pixels_dist('train')\n",
    "train.head()"
   ]
  },
  {
   "cell_type": "code",
   "execution_count": 4,
   "metadata": {
    "execution": {
     "iopub.execute_input": "2022-11-01T02:36:01.365064Z",
     "iopub.status.busy": "2022-11-01T02:36:01.364981Z",
     "iopub.status.idle": "2022-11-01T02:36:01.841204Z",
     "shell.execute_reply": "2022-11-01T02:36:01.840940Z"
    }
   },
   "outputs": [
    {
     "name": "stdout",
     "output_type": "stream",
     "text": [
      "(55031, 8)\n",
      "(55031, 10)\n",
      "(55031, 12)\n",
      "(55031, 14)\n",
      "(55031, 16)\n",
      "(55031, 18)\n",
      "(55031, 20)\n",
      "(55031, 40)\n"
     ]
    },
    {
     "data": {
      "text/html": [
       "<div>\n",
       "<style scoped>\n",
       "    .dataframe tbody tr th:only-of-type {\n",
       "        vertical-align: middle;\n",
       "    }\n",
       "\n",
       "    .dataframe tbody tr th {\n",
       "        vertical-align: top;\n",
       "    }\n",
       "\n",
       "    .dataframe thead th {\n",
       "        text-align: right;\n",
       "    }\n",
       "</style>\n",
       "<table border=\"1\" class=\"dataframe\">\n",
       "  <thead>\n",
       "    <tr style=\"text-align: right;\">\n",
       "      <th></th>\n",
       "      <th>Filename</th>\n",
       "      <th>Altitude</th>\n",
       "      <th>Delta</th>\n",
       "      <th>kfold</th>\n",
       "      <th>North_pixel</th>\n",
       "      <th>East_pixel</th>\n",
       "      <th>North_pixel_a</th>\n",
       "      <th>East_pixel_a</th>\n",
       "      <th>North_pixel_a_est</th>\n",
       "      <th>East_pixel_a_est</th>\n",
       "      <th>...</th>\n",
       "      <th>pxl_10</th>\n",
       "      <th>pxl_11</th>\n",
       "      <th>pxl_12</th>\n",
       "      <th>pxl_13</th>\n",
       "      <th>pxl_14</th>\n",
       "      <th>pxl_15</th>\n",
       "      <th>pxl_16</th>\n",
       "      <th>pxl_17</th>\n",
       "      <th>pxl_18</th>\n",
       "      <th>pxl_19</th>\n",
       "    </tr>\n",
       "  </thead>\n",
       "  <tbody>\n",
       "    <tr>\n",
       "      <th>0</th>\n",
       "      <td>000053b1e684c9e7ea73727b2238ce18.jpg</td>\n",
       "      <td>167.943069</td>\n",
       "      <td>0.010269</td>\n",
       "      <td>0</td>\n",
       "      <td>3.946422</td>\n",
       "      <td>-3.815853</td>\n",
       "      <td>0.356597</td>\n",
       "      <td>0.257315</td>\n",
       "      <td>-0.654044</td>\n",
       "      <td>-1.042109</td>\n",
       "      <td>...</td>\n",
       "      <td>1.148582</td>\n",
       "      <td>-3.340916</td>\n",
       "      <td>0.824883</td>\n",
       "      <td>-3.930728</td>\n",
       "      <td>-8.145741</td>\n",
       "      <td>16.754318</td>\n",
       "      <td>-0.074838</td>\n",
       "      <td>0.269563</td>\n",
       "      <td>-0.299238</td>\n",
       "      <td>-1.830235</td>\n",
       "    </tr>\n",
       "    <tr>\n",
       "      <th>1</th>\n",
       "      <td>00029153d12ae1c9abe59c17ff2e0895.jpg</td>\n",
       "      <td>195.853088</td>\n",
       "      <td>0.089218</td>\n",
       "      <td>2</td>\n",
       "      <td>7.668228</td>\n",
       "      <td>-4.031865</td>\n",
       "      <td>9.366933</td>\n",
       "      <td>-2.493681</td>\n",
       "      <td>4.654472</td>\n",
       "      <td>-5.100857</td>\n",
       "      <td>...</td>\n",
       "      <td>4.385246</td>\n",
       "      <td>3.600212</td>\n",
       "      <td>3.636406</td>\n",
       "      <td>2.604145</td>\n",
       "      <td>4.080269</td>\n",
       "      <td>3.412636</td>\n",
       "      <td>4.182144</td>\n",
       "      <td>2.752205</td>\n",
       "      <td>2.429424</td>\n",
       "      <td>1.857857</td>\n",
       "    </tr>\n",
       "    <tr>\n",
       "      <th>2</th>\n",
       "      <td>0006246bee639c7a7b11a08e34dd3cc6.jpg</td>\n",
       "      <td>146.943466</td>\n",
       "      <td>-0.018326</td>\n",
       "      <td>1</td>\n",
       "      <td>-11.549439</td>\n",
       "      <td>-0.880645</td>\n",
       "      <td>-12.518370</td>\n",
       "      <td>-0.683746</td>\n",
       "      <td>-12.124315</td>\n",
       "      <td>-0.030847</td>\n",
       "      <td>...</td>\n",
       "      <td>0.003180</td>\n",
       "      <td>-15.928162</td>\n",
       "      <td>0.132889</td>\n",
       "      <td>-11.713745</td>\n",
       "      <td>0.002014</td>\n",
       "      <td>-11.649620</td>\n",
       "      <td>-0.202403</td>\n",
       "      <td>-11.936136</td>\n",
       "      <td>-0.197823</td>\n",
       "      <td>-11.768921</td>\n",
       "    </tr>\n",
       "    <tr>\n",
       "      <th>3</th>\n",
       "      <td>00063cb5da1826febf178b669eea3250.jpg</td>\n",
       "      <td>213.184418</td>\n",
       "      <td>-0.108704</td>\n",
       "      <td>1</td>\n",
       "      <td>-28.991636</td>\n",
       "      <td>1.930891</td>\n",
       "      <td>-25.942930</td>\n",
       "      <td>-0.682081</td>\n",
       "      <td>-21.449981</td>\n",
       "      <td>4.212570</td>\n",
       "      <td>...</td>\n",
       "      <td>9.191109</td>\n",
       "      <td>-32.700813</td>\n",
       "      <td>-16.807194</td>\n",
       "      <td>-2.444351</td>\n",
       "      <td>-15.071526</td>\n",
       "      <td>2.416723</td>\n",
       "      <td>-1.628705</td>\n",
       "      <td>-5.106833</td>\n",
       "      <td>-4.408707</td>\n",
       "      <td>-24.759686</td>\n",
       "    </tr>\n",
       "    <tr>\n",
       "      <th>4</th>\n",
       "      <td>00063ece2e68a8847f228e8fd922f851.jpg</td>\n",
       "      <td>184.757767</td>\n",
       "      <td>0.017700</td>\n",
       "      <td>0</td>\n",
       "      <td>0.184479</td>\n",
       "      <td>-6.925782</td>\n",
       "      <td>-0.165511</td>\n",
       "      <td>-6.852798</td>\n",
       "      <td>0.008325</td>\n",
       "      <td>-6.209880</td>\n",
       "      <td>...</td>\n",
       "      <td>5.979332</td>\n",
       "      <td>-0.635529</td>\n",
       "      <td>5.925034</td>\n",
       "      <td>-0.113266</td>\n",
       "      <td>6.414247</td>\n",
       "      <td>-0.772942</td>\n",
       "      <td>5.471008</td>\n",
       "      <td>-0.318184</td>\n",
       "      <td>6.608952</td>\n",
       "      <td>-0.145115</td>\n",
       "    </tr>\n",
       "  </tbody>\n",
       "</table>\n",
       "<p>5 rows × 38 columns</p>\n",
       "</div>"
      ],
      "text/plain": [
       "                               Filename    Altitude     Delta  kfold  \\\n",
       "0  000053b1e684c9e7ea73727b2238ce18.jpg  167.943069  0.010269      0   \n",
       "1  00029153d12ae1c9abe59c17ff2e0895.jpg  195.853088  0.089218      2   \n",
       "2  0006246bee639c7a7b11a08e34dd3cc6.jpg  146.943466 -0.018326      1   \n",
       "3  00063cb5da1826febf178b669eea3250.jpg  213.184418 -0.108704      1   \n",
       "4  00063ece2e68a8847f228e8fd922f851.jpg  184.757767  0.017700      0   \n",
       "\n",
       "   North_pixel  East_pixel  North_pixel_a  East_pixel_a  North_pixel_a_est  \\\n",
       "0     3.946422   -3.815853       0.356597      0.257315          -0.654044   \n",
       "1     7.668228   -4.031865       9.366933     -2.493681           4.654472   \n",
       "2   -11.549439   -0.880645     -12.518370     -0.683746         -12.124315   \n",
       "3   -28.991636    1.930891     -25.942930     -0.682081         -21.449981   \n",
       "4     0.184479   -6.925782      -0.165511     -6.852798           0.008325   \n",
       "\n",
       "   East_pixel_a_est  ...    pxl_10     pxl_11     pxl_12     pxl_13  \\\n",
       "0         -1.042109  ...  1.148582  -3.340916   0.824883  -3.930728   \n",
       "1         -5.100857  ...  4.385246   3.600212   3.636406   2.604145   \n",
       "2         -0.030847  ...  0.003180 -15.928162   0.132889 -11.713745   \n",
       "3          4.212570  ...  9.191109 -32.700813 -16.807194  -2.444351   \n",
       "4         -6.209880  ...  5.979332  -0.635529   5.925034  -0.113266   \n",
       "\n",
       "      pxl_14     pxl_15    pxl_16     pxl_17    pxl_18     pxl_19  \n",
       "0  -8.145741  16.754318 -0.074838   0.269563 -0.299238  -1.830235  \n",
       "1   4.080269   3.412636  4.182144   2.752205  2.429424   1.857857  \n",
       "2   0.002014 -11.649620 -0.202403 -11.936136 -0.197823 -11.768921  \n",
       "3 -15.071526   2.416723 -1.628705  -5.106833 -4.408707 -24.759686  \n",
       "4   6.414247  -0.772942  5.471008  -0.318184  6.608952  -0.145115  \n",
       "\n",
       "[5 rows x 38 columns]"
      ]
     },
     "execution_count": 4,
     "metadata": {},
     "output_type": "execute_result"
    }
   ],
   "source": [
    "test = merge_pixels_dist('test')\n",
    "test.drop(['North', 'East'], axis=1, inplace=True)\n",
    "test.head()"
   ]
  },
  {
   "cell_type": "code",
   "execution_count": 5,
   "metadata": {
    "execution": {
     "iopub.execute_input": "2022-11-01T02:36:01.842699Z",
     "iopub.status.busy": "2022-11-01T02:36:01.842616Z",
     "iopub.status.idle": "2022-11-01T02:36:04.999555Z",
     "shell.execute_reply": "2022-11-01T02:36:04.999255Z"
    }
   },
   "outputs": [
    {
     "name": "stdout",
     "output_type": "stream",
     "text": [
      "Checking whether there is an H2O instance running at http://localhost:54321 ..... not found.\n",
      "Attempting to start a local H2O server...\n",
      "  Java Version: openjdk version \"1.8.0_342\"; OpenJDK Runtime Environment (build 1.8.0_342-8u342-b07-0ubuntu1~22.04-b07); OpenJDK 64-Bit Server VM (build 25.342-b07, mixed mode)\n",
      "  Starting server from /home/rco/anaconda3/envs/kdd22/lib/python3.9/site-packages/h2o/backend/bin/h2o.jar\n",
      "  Ice root: /tmp/tmphz4jts7x\n",
      "  JVM stdout: /tmp/tmphz4jts7x/h2o_rco_started_from_python.out\n",
      "  JVM stderr: /tmp/tmphz4jts7x/h2o_rco_started_from_python.err\n",
      "  Server is running at http://127.0.0.1:54321\n",
      "Connecting to H2O server at http://127.0.0.1:54321 ... successful.\n"
     ]
    },
    {
     "data": {
      "text/html": [
       "\n",
       "<style>\n",
       "\n",
       "#h2o-table-1.h2o-container {\n",
       "  overflow-x: auto;\n",
       "}\n",
       "#h2o-table-1 .h2o-table {\n",
       "  /* width: 100%; */\n",
       "  margin-top: 1em;\n",
       "  margin-bottom: 1em;\n",
       "}\n",
       "#h2o-table-1 .h2o-table caption {\n",
       "  white-space: nowrap;\n",
       "  caption-side: top;\n",
       "  text-align: left;\n",
       "  /* margin-left: 1em; */\n",
       "  margin: 0;\n",
       "  font-size: larger;\n",
       "}\n",
       "#h2o-table-1 .h2o-table thead {\n",
       "  white-space: nowrap; \n",
       "  position: sticky;\n",
       "  top: 0;\n",
       "  box-shadow: 0 -1px inset;\n",
       "}\n",
       "#h2o-table-1 .h2o-table tbody {\n",
       "  overflow: auto;\n",
       "}\n",
       "#h2o-table-1 .h2o-table th,\n",
       "#h2o-table-1 .h2o-table td {\n",
       "  text-align: right;\n",
       "  /* border: 1px solid; */\n",
       "}\n",
       "#h2o-table-1 .h2o-table tr:nth-child(even) {\n",
       "  /* background: #F5F5F5 */\n",
       "}\n",
       "\n",
       "</style>      \n",
       "<div id=\"h2o-table-1\" class=\"h2o-container\">\n",
       "  <table class=\"h2o-table\">\n",
       "    <caption></caption>\n",
       "    <thead></thead>\n",
       "    <tbody><tr><td>H2O_cluster_uptime:</td>\n",
       "<td>00 secs</td></tr>\n",
       "<tr><td>H2O_cluster_timezone:</td>\n",
       "<td>America/Sao_Paulo</td></tr>\n",
       "<tr><td>H2O_data_parsing_timezone:</td>\n",
       "<td>UTC</td></tr>\n",
       "<tr><td>H2O_cluster_version:</td>\n",
       "<td>3.38.0.2</td></tr>\n",
       "<tr><td>H2O_cluster_version_age:</td>\n",
       "<td>4 days </td></tr>\n",
       "<tr><td>H2O_cluster_name:</td>\n",
       "<td>H2O_from_python_rco_ulwmom</td></tr>\n",
       "<tr><td>H2O_cluster_total_nodes:</td>\n",
       "<td>1</td></tr>\n",
       "<tr><td>H2O_cluster_free_memory:</td>\n",
       "<td>28.42 Gb</td></tr>\n",
       "<tr><td>H2O_cluster_total_cores:</td>\n",
       "<td>16</td></tr>\n",
       "<tr><td>H2O_cluster_allowed_cores:</td>\n",
       "<td>16</td></tr>\n",
       "<tr><td>H2O_cluster_status:</td>\n",
       "<td>locked, healthy</td></tr>\n",
       "<tr><td>H2O_connection_url:</td>\n",
       "<td>http://127.0.0.1:54321</td></tr>\n",
       "<tr><td>H2O_connection_proxy:</td>\n",
       "<td>{\"http\": null, \"https\": null}</td></tr>\n",
       "<tr><td>H2O_internal_security:</td>\n",
       "<td>False</td></tr>\n",
       "<tr><td>Python_version:</td>\n",
       "<td>3.9.12 final</td></tr></tbody>\n",
       "  </table>\n",
       "</div>\n"
      ],
      "text/plain": [
       "--------------------------  -----------------------------\n",
       "H2O_cluster_uptime:         00 secs\n",
       "H2O_cluster_timezone:       America/Sao_Paulo\n",
       "H2O_data_parsing_timezone:  UTC\n",
       "H2O_cluster_version:        3.38.0.2\n",
       "H2O_cluster_version_age:    4 days\n",
       "H2O_cluster_name:           H2O_from_python_rco_ulwmom\n",
       "H2O_cluster_total_nodes:    1\n",
       "H2O_cluster_free_memory:    28.42 Gb\n",
       "H2O_cluster_total_cores:    16\n",
       "H2O_cluster_allowed_cores:  16\n",
       "H2O_cluster_status:         locked, healthy\n",
       "H2O_connection_url:         http://127.0.0.1:54321\n",
       "H2O_connection_proxy:       {\"http\": null, \"https\": null}\n",
       "H2O_internal_security:      False\n",
       "Python_version:             3.9.12 final\n",
       "--------------------------  -----------------------------"
      ]
     },
     "metadata": {},
     "output_type": "display_data"
    }
   ],
   "source": [
    "import h2o\n",
    "from h2o.automl import H2OAutoML\n",
    "\n",
    "h2o.init(nthreads=16, max_mem_size='32G')"
   ]
  },
  {
   "cell_type": "code",
   "execution_count": 6,
   "metadata": {
    "execution": {
     "iopub.execute_input": "2022-11-01T02:36:05.001054Z",
     "iopub.status.busy": "2022-11-01T02:36:05.000933Z",
     "iopub.status.idle": "2022-11-01T02:36:09.986089Z",
     "shell.execute_reply": "2022-11-01T02:36:09.985794Z"
    }
   },
   "outputs": [
    {
     "name": "stdout",
     "output_type": "stream",
     "text": [
      "Parse progress: |████████████████████████████████████████████████████████████████| (done) 100%\n",
      "Parse progress: |████████████████████████████████████████████████████████████████| (done) 100%\n"
     ]
    }
   ],
   "source": [
    "train = h2o.H2OFrame(train)\n",
    "test = h2o.H2OFrame(test)"
   ]
  },
  {
   "cell_type": "code",
   "execution_count": 7,
   "metadata": {
    "execution": {
     "iopub.execute_input": "2022-11-01T02:36:09.987555Z",
     "iopub.status.busy": "2022-11-01T02:36:09.987448Z",
     "iopub.status.idle": "2022-11-01T02:36:09.990492Z",
     "shell.execute_reply": "2022-11-01T02:36:09.990233Z"
    }
   },
   "outputs": [],
   "source": [
    "features = [f for f in train.columns if f not in ['Filename', 'North', 'East', 'kfold']]\n",
    "\n",
    "def train_automl(train, test, target, max_runtime_secs=3600):\n",
    "    \n",
    "    aml = H2OAutoML(seed=SEED,\n",
    "                    max_runtime_secs=max_runtime_secs,\n",
    "                    stopping_metric='RMSE',\n",
    "                    sort_metric='RMSE',\n",
    "                    exploitation_ratio=0.1)\n",
    "\n",
    "    aml.train(x=features, y=target, training_frame=train)  \n",
    "    \n",
    "    train_preds = aml.leader.predict(train)\n",
    "    train_preds.rename({'predict':target+'_prediction'})\n",
    "    \n",
    "    test_preds = aml.leader.predict(test)\n",
    "    test_preds.rename({'predict':target+'_prediction'})\n",
    "    \n",
    "    return aml, train_preds, test_preds\n",
    "    "
   ]
  },
  {
   "cell_type": "code",
   "execution_count": 8,
   "metadata": {
    "execution": {
     "iopub.execute_input": "2022-11-01T02:36:09.992188Z",
     "iopub.status.busy": "2022-11-01T02:36:09.992025Z",
     "iopub.status.idle": "2022-11-01T02:44:32.959413Z",
     "shell.execute_reply": "2022-11-01T02:44:32.958922Z"
    }
   },
   "outputs": [
    {
     "name": "stdout",
     "output_type": "stream",
     "text": [
      "AutoML progress: |███████████████████████████████████████████████████████████████| (done) 100%\n",
      "stackedensemble prediction progress: |███████████████████████████████████████████| (done) 100%\n",
      "stackedensemble prediction progress: |███████████████████████████████████████████| (done) 100%\n"
     ]
    },
    {
     "data": {
      "text/html": [
       "<table class='dataframe'>\n",
       "<thead>\n",
       "<tr><th>model_id                                               </th><th style=\"text-align: right;\">    rmse</th><th style=\"text-align: right;\">     mse</th><th style=\"text-align: right;\">     mae</th><th style=\"text-align: right;\">  rmsle</th><th style=\"text-align: right;\">  mean_residual_deviance</th></tr>\n",
       "</thead>\n",
       "<tbody>\n",
       "<tr><td>StackedEnsemble_AllModels_3_AutoML_1_20221031_233610   </td><td style=\"text-align: right;\">0.342429</td><td style=\"text-align: right;\">0.117258</td><td style=\"text-align: right;\">0.134669</td><td style=\"text-align: right;\">    nan</td><td style=\"text-align: right;\">                0.117258</td></tr>\n",
       "<tr><td>StackedEnsemble_BestOfFamily_4_AutoML_1_20221031_233610</td><td style=\"text-align: right;\">0.347487</td><td style=\"text-align: right;\">0.120747</td><td style=\"text-align: right;\">0.139083</td><td style=\"text-align: right;\">    nan</td><td style=\"text-align: right;\">                0.120747</td></tr>\n",
       "<tr><td>StackedEnsemble_AllModels_2_AutoML_1_20221031_233610   </td><td style=\"text-align: right;\">0.355987</td><td style=\"text-align: right;\">0.126727</td><td style=\"text-align: right;\">0.145808</td><td style=\"text-align: right;\">    nan</td><td style=\"text-align: right;\">                0.126727</td></tr>\n",
       "<tr><td>StackedEnsemble_BestOfFamily_3_AutoML_1_20221031_233610</td><td style=\"text-align: right;\">0.356216</td><td style=\"text-align: right;\">0.12689 </td><td style=\"text-align: right;\">0.144992</td><td style=\"text-align: right;\">    nan</td><td style=\"text-align: right;\">                0.12689 </td></tr>\n",
       "<tr><td>StackedEnsemble_AllModels_1_AutoML_1_20221031_233610   </td><td style=\"text-align: right;\">0.357823</td><td style=\"text-align: right;\">0.128037</td><td style=\"text-align: right;\">0.147385</td><td style=\"text-align: right;\">    nan</td><td style=\"text-align: right;\">                0.128037</td></tr>\n",
       "<tr><td>StackedEnsemble_BestOfFamily_2_AutoML_1_20221031_233610</td><td style=\"text-align: right;\">0.358653</td><td style=\"text-align: right;\">0.128632</td><td style=\"text-align: right;\">0.148552</td><td style=\"text-align: right;\">    nan</td><td style=\"text-align: right;\">                0.128632</td></tr>\n",
       "<tr><td>XRT_1_AutoML_1_20221031_233610                         </td><td style=\"text-align: right;\">0.3609  </td><td style=\"text-align: right;\">0.130249</td><td style=\"text-align: right;\">0.149824</td><td style=\"text-align: right;\">    nan</td><td style=\"text-align: right;\">                0.130249</td></tr>\n",
       "<tr><td>DRF_1_AutoML_1_20221031_233610                         </td><td style=\"text-align: right;\">0.361509</td><td style=\"text-align: right;\">0.130688</td><td style=\"text-align: right;\">0.14773 </td><td style=\"text-align: right;\">    nan</td><td style=\"text-align: right;\">                0.130688</td></tr>\n",
       "<tr><td>GBM_grid_1_AutoML_1_20221031_233610_model_3            </td><td style=\"text-align: right;\">0.361607</td><td style=\"text-align: right;\">0.13076 </td><td style=\"text-align: right;\">0.148933</td><td style=\"text-align: right;\">    nan</td><td style=\"text-align: right;\">                0.13076 </td></tr>\n",
       "<tr><td>XGBoost_grid_1_AutoML_1_20221031_233610_model_5        </td><td style=\"text-align: right;\">0.36429 </td><td style=\"text-align: right;\">0.132707</td><td style=\"text-align: right;\">0.156305</td><td style=\"text-align: right;\">    nan</td><td style=\"text-align: right;\">                0.132707</td></tr>\n",
       "<tr><td>StackedEnsemble_BestOfFamily_1_AutoML_1_20221031_233610</td><td style=\"text-align: right;\">0.37093 </td><td style=\"text-align: right;\">0.137589</td><td style=\"text-align: right;\">0.162601</td><td style=\"text-align: right;\">    nan</td><td style=\"text-align: right;\">                0.137589</td></tr>\n",
       "<tr><td>XGBoost_grid_1_AutoML_1_20221031_233610_model_1        </td><td style=\"text-align: right;\">0.37132 </td><td style=\"text-align: right;\">0.137879</td><td style=\"text-align: right;\">0.150867</td><td style=\"text-align: right;\">    nan</td><td style=\"text-align: right;\">                0.137879</td></tr>\n",
       "<tr><td>XGBoost_grid_1_AutoML_1_20221031_233610_model_3        </td><td style=\"text-align: right;\">0.372038</td><td style=\"text-align: right;\">0.138412</td><td style=\"text-align: right;\">0.152836</td><td style=\"text-align: right;\">    nan</td><td style=\"text-align: right;\">                0.138412</td></tr>\n",
       "<tr><td>XGBoost_grid_1_AutoML_1_20221031_233610_model_2        </td><td style=\"text-align: right;\">0.376057</td><td style=\"text-align: right;\">0.141419</td><td style=\"text-align: right;\">0.159887</td><td style=\"text-align: right;\">    nan</td><td style=\"text-align: right;\">                0.141419</td></tr>\n",
       "<tr><td>GBM_grid_1_AutoML_1_20221031_233610_model_2            </td><td style=\"text-align: right;\">0.377697</td><td style=\"text-align: right;\">0.142655</td><td style=\"text-align: right;\">0.177675</td><td style=\"text-align: right;\">    nan</td><td style=\"text-align: right;\">                0.142655</td></tr>\n",
       "<tr><td>GBM_4_AutoML_1_20221031_233610                         </td><td style=\"text-align: right;\">0.378926</td><td style=\"text-align: right;\">0.143585</td><td style=\"text-align: right;\">0.181777</td><td style=\"text-align: right;\">    nan</td><td style=\"text-align: right;\">                0.143585</td></tr>\n",
       "<tr><td>GBM_1_AutoML_1_20221031_233610                         </td><td style=\"text-align: right;\">0.380006</td><td style=\"text-align: right;\">0.144404</td><td style=\"text-align: right;\">0.172902</td><td style=\"text-align: right;\">    nan</td><td style=\"text-align: right;\">                0.144404</td></tr>\n",
       "<tr><td>GBM_5_AutoML_1_20221031_233610                         </td><td style=\"text-align: right;\">0.385944</td><td style=\"text-align: right;\">0.148953</td><td style=\"text-align: right;\">0.199661</td><td style=\"text-align: right;\">    nan</td><td style=\"text-align: right;\">                0.148953</td></tr>\n",
       "<tr><td>XGBoost_1_AutoML_1_20221031_233610                     </td><td style=\"text-align: right;\">0.389629</td><td style=\"text-align: right;\">0.151811</td><td style=\"text-align: right;\">0.172437</td><td style=\"text-align: right;\">    nan</td><td style=\"text-align: right;\">                0.151811</td></tr>\n",
       "<tr><td>GBM_3_AutoML_1_20221031_233610                         </td><td style=\"text-align: right;\">0.394499</td><td style=\"text-align: right;\">0.155629</td><td style=\"text-align: right;\">0.198114</td><td style=\"text-align: right;\">    nan</td><td style=\"text-align: right;\">                0.155629</td></tr>\n",
       "</tbody>\n",
       "</table><pre style='font-size: smaller; margin-bottom: 1em;'>[20 rows x 6 columns]</pre>"
      ],
      "text/plain": [
       "model_id                                                     rmse       mse       mae    rmsle    mean_residual_deviance\n",
       "-------------------------------------------------------  --------  --------  --------  -------  ------------------------\n",
       "StackedEnsemble_AllModels_3_AutoML_1_20221031_233610     0.342429  0.117258  0.134669      nan                  0.117258\n",
       "StackedEnsemble_BestOfFamily_4_AutoML_1_20221031_233610  0.347487  0.120747  0.139083      nan                  0.120747\n",
       "StackedEnsemble_AllModels_2_AutoML_1_20221031_233610     0.355987  0.126727  0.145808      nan                  0.126727\n",
       "StackedEnsemble_BestOfFamily_3_AutoML_1_20221031_233610  0.356216  0.12689   0.144992      nan                  0.12689\n",
       "StackedEnsemble_AllModels_1_AutoML_1_20221031_233610     0.357823  0.128037  0.147385      nan                  0.128037\n",
       "StackedEnsemble_BestOfFamily_2_AutoML_1_20221031_233610  0.358653  0.128632  0.148552      nan                  0.128632\n",
       "XRT_1_AutoML_1_20221031_233610                           0.3609    0.130249  0.149824      nan                  0.130249\n",
       "DRF_1_AutoML_1_20221031_233610                           0.361509  0.130688  0.14773       nan                  0.130688\n",
       "GBM_grid_1_AutoML_1_20221031_233610_model_3              0.361607  0.13076   0.148933      nan                  0.13076\n",
       "XGBoost_grid_1_AutoML_1_20221031_233610_model_5          0.36429   0.132707  0.156305      nan                  0.132707\n",
       "StackedEnsemble_BestOfFamily_1_AutoML_1_20221031_233610  0.37093   0.137589  0.162601      nan                  0.137589\n",
       "XGBoost_grid_1_AutoML_1_20221031_233610_model_1          0.37132   0.137879  0.150867      nan                  0.137879\n",
       "XGBoost_grid_1_AutoML_1_20221031_233610_model_3          0.372038  0.138412  0.152836      nan                  0.138412\n",
       "XGBoost_grid_1_AutoML_1_20221031_233610_model_2          0.376057  0.141419  0.159887      nan                  0.141419\n",
       "GBM_grid_1_AutoML_1_20221031_233610_model_2              0.377697  0.142655  0.177675      nan                  0.142655\n",
       "GBM_4_AutoML_1_20221031_233610                           0.378926  0.143585  0.181777      nan                  0.143585\n",
       "GBM_1_AutoML_1_20221031_233610                           0.380006  0.144404  0.172902      nan                  0.144404\n",
       "GBM_5_AutoML_1_20221031_233610                           0.385944  0.148953  0.199661      nan                  0.148953\n",
       "XGBoost_1_AutoML_1_20221031_233610                       0.389629  0.151811  0.172437      nan                  0.151811\n",
       "GBM_3_AutoML_1_20221031_233610                           0.394499  0.155629  0.198114      nan                  0.155629\n",
       "[20 rows x 6 columns]\n"
      ]
     },
     "execution_count": 8,
     "metadata": {},
     "output_type": "execute_result"
    }
   ],
   "source": [
    "north_aml, north_train_preds, north_test_preds = train_automl(train, test, 'North', MAX_TIME)\n",
    "north_aml.leaderboard.head(20)"
   ]
  },
  {
   "cell_type": "code",
   "execution_count": 9,
   "metadata": {
    "execution": {
     "iopub.execute_input": "2022-11-01T02:44:32.961890Z",
     "iopub.status.busy": "2022-11-01T02:44:32.961609Z",
     "iopub.status.idle": "2022-11-01T02:52:55.376449Z",
     "shell.execute_reply": "2022-11-01T02:52:55.375865Z"
    }
   },
   "outputs": [
    {
     "name": "stdout",
     "output_type": "stream",
     "text": [
      "AutoML progress: |███████████████████████████████████████████████████████████████| (done) 100%\n",
      "stackedensemble prediction progress: |███████████████████████████████████████████| (done) 100%\n",
      "stackedensemble prediction progress: |███████████████████████████████████████████| (done) 100%\n"
     ]
    },
    {
     "data": {
      "text/html": [
       "<table class='dataframe'>\n",
       "<thead>\n",
       "<tr><th>model_id                                               </th><th style=\"text-align: right;\">    rmse</th><th style=\"text-align: right;\">      mse</th><th style=\"text-align: right;\">     mae</th><th style=\"text-align: right;\">  rmsle</th><th style=\"text-align: right;\">  mean_residual_deviance</th></tr>\n",
       "</thead>\n",
       "<tbody>\n",
       "<tr><td>StackedEnsemble_AllModels_3_AutoML_2_20221031_234432   </td><td style=\"text-align: right;\">0.309659</td><td style=\"text-align: right;\">0.0958888</td><td style=\"text-align: right;\">0.129924</td><td style=\"text-align: right;\">    nan</td><td style=\"text-align: right;\">               0.0958888</td></tr>\n",
       "<tr><td>StackedEnsemble_BestOfFamily_4_AutoML_2_20221031_234432</td><td style=\"text-align: right;\">0.313809</td><td style=\"text-align: right;\">0.0984761</td><td style=\"text-align: right;\">0.131849</td><td style=\"text-align: right;\">    nan</td><td style=\"text-align: right;\">               0.0984761</td></tr>\n",
       "<tr><td>StackedEnsemble_AllModels_2_AutoML_2_20221031_234432   </td><td style=\"text-align: right;\">0.321605</td><td style=\"text-align: right;\">0.10343  </td><td style=\"text-align: right;\">0.139862</td><td style=\"text-align: right;\">    nan</td><td style=\"text-align: right;\">               0.10343  </td></tr>\n",
       "<tr><td>StackedEnsemble_AllModels_1_AutoML_2_20221031_234432   </td><td style=\"text-align: right;\">0.322205</td><td style=\"text-align: right;\">0.103816 </td><td style=\"text-align: right;\">0.140866</td><td style=\"text-align: right;\">    nan</td><td style=\"text-align: right;\">               0.103816 </td></tr>\n",
       "<tr><td>StackedEnsemble_BestOfFamily_3_AutoML_2_20221031_234432</td><td style=\"text-align: right;\">0.324321</td><td style=\"text-align: right;\">0.105184 </td><td style=\"text-align: right;\">0.140645</td><td style=\"text-align: right;\">    nan</td><td style=\"text-align: right;\">               0.105184 </td></tr>\n",
       "<tr><td>StackedEnsemble_BestOfFamily_2_AutoML_2_20221031_234432</td><td style=\"text-align: right;\">0.325309</td><td style=\"text-align: right;\">0.105826 </td><td style=\"text-align: right;\">0.14246 </td><td style=\"text-align: right;\">    nan</td><td style=\"text-align: right;\">               0.105826 </td></tr>\n",
       "<tr><td>GBM_grid_1_AutoML_2_20221031_234432_model_3            </td><td style=\"text-align: right;\">0.328261</td><td style=\"text-align: right;\">0.107756 </td><td style=\"text-align: right;\">0.144401</td><td style=\"text-align: right;\">    nan</td><td style=\"text-align: right;\">               0.107756 </td></tr>\n",
       "<tr><td>DRF_1_AutoML_2_20221031_234432                         </td><td style=\"text-align: right;\">0.328744</td><td style=\"text-align: right;\">0.108072 </td><td style=\"text-align: right;\">0.142687</td><td style=\"text-align: right;\">    nan</td><td style=\"text-align: right;\">               0.108072 </td></tr>\n",
       "<tr><td>XGBoost_grid_1_AutoML_2_20221031_234432_model_3        </td><td style=\"text-align: right;\">0.330016</td><td style=\"text-align: right;\">0.108911 </td><td style=\"text-align: right;\">0.144207</td><td style=\"text-align: right;\">    nan</td><td style=\"text-align: right;\">               0.108911 </td></tr>\n",
       "<tr><td>XRT_1_AutoML_2_20221031_234432                         </td><td style=\"text-align: right;\">0.331764</td><td style=\"text-align: right;\">0.110068 </td><td style=\"text-align: right;\">0.145848</td><td style=\"text-align: right;\">    nan</td><td style=\"text-align: right;\">               0.110068 </td></tr>\n",
       "<tr><td>XGBoost_grid_1_AutoML_2_20221031_234432_model_1        </td><td style=\"text-align: right;\">0.335056</td><td style=\"text-align: right;\">0.112262 </td><td style=\"text-align: right;\">0.146266</td><td style=\"text-align: right;\">    nan</td><td style=\"text-align: right;\">               0.112262 </td></tr>\n",
       "<tr><td>StackedEnsemble_BestOfFamily_1_AutoML_2_20221031_234432</td><td style=\"text-align: right;\">0.337298</td><td style=\"text-align: right;\">0.11377  </td><td style=\"text-align: right;\">0.156835</td><td style=\"text-align: right;\">    nan</td><td style=\"text-align: right;\">               0.11377  </td></tr>\n",
       "<tr><td>XGBoost_grid_1_AutoML_2_20221031_234432_model_2        </td><td style=\"text-align: right;\">0.339453</td><td style=\"text-align: right;\">0.115229 </td><td style=\"text-align: right;\">0.154795</td><td style=\"text-align: right;\">    nan</td><td style=\"text-align: right;\">               0.115229 </td></tr>\n",
       "<tr><td>GBM_4_AutoML_2_20221031_234432                         </td><td style=\"text-align: right;\">0.343247</td><td style=\"text-align: right;\">0.117819 </td><td style=\"text-align: right;\">0.170359</td><td style=\"text-align: right;\">    nan</td><td style=\"text-align: right;\">               0.117819 </td></tr>\n",
       "<tr><td>GBM_grid_1_AutoML_2_20221031_234432_model_2            </td><td style=\"text-align: right;\">0.345483</td><td style=\"text-align: right;\">0.119359 </td><td style=\"text-align: right;\">0.169725</td><td style=\"text-align: right;\">    nan</td><td style=\"text-align: right;\">               0.119359 </td></tr>\n",
       "<tr><td>GBM_1_AutoML_2_20221031_234432                         </td><td style=\"text-align: right;\">0.347533</td><td style=\"text-align: right;\">0.120779 </td><td style=\"text-align: right;\">0.167358</td><td style=\"text-align: right;\">    nan</td><td style=\"text-align: right;\">               0.120779 </td></tr>\n",
       "<tr><td>XGBoost_grid_1_AutoML_2_20221031_234432_model_5        </td><td style=\"text-align: right;\">0.348194</td><td style=\"text-align: right;\">0.121239 </td><td style=\"text-align: right;\">0.171509</td><td style=\"text-align: right;\">    nan</td><td style=\"text-align: right;\">               0.121239 </td></tr>\n",
       "<tr><td>XGBoost_1_AutoML_2_20221031_234432                     </td><td style=\"text-align: right;\">0.353663</td><td style=\"text-align: right;\">0.125078 </td><td style=\"text-align: right;\">0.165989</td><td style=\"text-align: right;\">    nan</td><td style=\"text-align: right;\">               0.125078 </td></tr>\n",
       "<tr><td>GBM_3_AutoML_2_20221031_234432                         </td><td style=\"text-align: right;\">0.354368</td><td style=\"text-align: right;\">0.125577 </td><td style=\"text-align: right;\">0.183062</td><td style=\"text-align: right;\">    nan</td><td style=\"text-align: right;\">               0.125577 </td></tr>\n",
       "<tr><td>XGBoost_2_AutoML_2_20221031_234432                     </td><td style=\"text-align: right;\">0.354995</td><td style=\"text-align: right;\">0.126021 </td><td style=\"text-align: right;\">0.168916</td><td style=\"text-align: right;\">    nan</td><td style=\"text-align: right;\">               0.126021 </td></tr>\n",
       "</tbody>\n",
       "</table><pre style='font-size: smaller; margin-bottom: 1em;'>[20 rows x 6 columns]</pre>"
      ],
      "text/plain": [
       "model_id                                                     rmse        mse       mae    rmsle    mean_residual_deviance\n",
       "-------------------------------------------------------  --------  ---------  --------  -------  ------------------------\n",
       "StackedEnsemble_AllModels_3_AutoML_2_20221031_234432     0.309659  0.0958888  0.129924      nan                 0.0958888\n",
       "StackedEnsemble_BestOfFamily_4_AutoML_2_20221031_234432  0.313809  0.0984761  0.131849      nan                 0.0984761\n",
       "StackedEnsemble_AllModels_2_AutoML_2_20221031_234432     0.321605  0.10343    0.139862      nan                 0.10343\n",
       "StackedEnsemble_AllModels_1_AutoML_2_20221031_234432     0.322205  0.103816   0.140866      nan                 0.103816\n",
       "StackedEnsemble_BestOfFamily_3_AutoML_2_20221031_234432  0.324321  0.105184   0.140645      nan                 0.105184\n",
       "StackedEnsemble_BestOfFamily_2_AutoML_2_20221031_234432  0.325309  0.105826   0.14246       nan                 0.105826\n",
       "GBM_grid_1_AutoML_2_20221031_234432_model_3              0.328261  0.107756   0.144401      nan                 0.107756\n",
       "DRF_1_AutoML_2_20221031_234432                           0.328744  0.108072   0.142687      nan                 0.108072\n",
       "XGBoost_grid_1_AutoML_2_20221031_234432_model_3          0.330016  0.108911   0.144207      nan                 0.108911\n",
       "XRT_1_AutoML_2_20221031_234432                           0.331764  0.110068   0.145848      nan                 0.110068\n",
       "XGBoost_grid_1_AutoML_2_20221031_234432_model_1          0.335056  0.112262   0.146266      nan                 0.112262\n",
       "StackedEnsemble_BestOfFamily_1_AutoML_2_20221031_234432  0.337298  0.11377    0.156835      nan                 0.11377\n",
       "XGBoost_grid_1_AutoML_2_20221031_234432_model_2          0.339453  0.115229   0.154795      nan                 0.115229\n",
       "GBM_4_AutoML_2_20221031_234432                           0.343247  0.117819   0.170359      nan                 0.117819\n",
       "GBM_grid_1_AutoML_2_20221031_234432_model_2              0.345483  0.119359   0.169725      nan                 0.119359\n",
       "GBM_1_AutoML_2_20221031_234432                           0.347533  0.120779   0.167358      nan                 0.120779\n",
       "XGBoost_grid_1_AutoML_2_20221031_234432_model_5          0.348194  0.121239   0.171509      nan                 0.121239\n",
       "XGBoost_1_AutoML_2_20221031_234432                       0.353663  0.125078   0.165989      nan                 0.125078\n",
       "GBM_3_AutoML_2_20221031_234432                           0.354368  0.125577   0.183062      nan                 0.125577\n",
       "XGBoost_2_AutoML_2_20221031_234432                       0.354995  0.126021   0.168916      nan                 0.126021\n",
       "[20 rows x 6 columns]\n"
      ]
     },
     "execution_count": 9,
     "metadata": {},
     "output_type": "execute_result"
    }
   ],
   "source": [
    "east_aml, east_train_preds, east_test_preds = train_automl(train, test, 'East', MAX_TIME)\n",
    "east_aml.leaderboard.head(20)"
   ]
  },
  {
   "cell_type": "code",
   "execution_count": 10,
   "metadata": {
    "execution": {
     "iopub.execute_input": "2022-11-01T02:52:55.378968Z",
     "iopub.status.busy": "2022-11-01T02:52:55.378754Z",
     "iopub.status.idle": "2022-11-01T02:52:59.227598Z",
     "shell.execute_reply": "2022-11-01T02:52:59.227361Z"
    }
   },
   "outputs": [
    {
     "data": {
      "text/html": [
       "<table class='dataframe'>\n",
       "<thead>\n",
       "<tr><th>Filename                            </th><th style=\"text-align: right;\">  Altitude</th><th style=\"text-align: right;\">     Delta</th><th style=\"text-align: right;\">    North</th><th style=\"text-align: right;\">     East</th><th style=\"text-align: right;\">  kfold</th><th style=\"text-align: right;\">  North_pixel</th><th style=\"text-align: right;\">  East_pixel</th><th style=\"text-align: right;\">  North_pixel_a</th><th style=\"text-align: right;\">  East_pixel_a</th><th style=\"text-align: right;\">  North_pixel_a_est</th><th style=\"text-align: right;\">  East_pixel_a_est</th><th style=\"text-align: right;\">  North_pixel_h</th><th style=\"text-align: right;\">  East_pixel_h</th><th style=\"text-align: right;\">  North_pixel_h_est</th><th style=\"text-align: right;\">  East_pixel_h_est</th><th style=\"text-align: right;\">  North_pixel_p</th><th style=\"text-align: right;\">  East_pixel_p</th><th style=\"text-align: right;\">  North_pixel_p_est</th><th style=\"text-align: right;\">  East_pixel_p_est</th><th style=\"text-align: right;\">    pxl_0</th><th style=\"text-align: right;\">    pxl_1</th><th style=\"text-align: right;\">    pxl_2</th><th style=\"text-align: right;\">    pxl_3</th><th style=\"text-align: right;\">   pxl_4</th><th style=\"text-align: right;\">   pxl_5</th><th style=\"text-align: right;\">    pxl_6</th><th style=\"text-align: right;\">    pxl_7</th><th style=\"text-align: right;\">    pxl_8</th><th style=\"text-align: right;\">    pxl_9</th><th style=\"text-align: right;\">   pxl_10</th><th style=\"text-align: right;\">   pxl_11</th><th style=\"text-align: right;\">   pxl_12</th><th style=\"text-align: right;\">   pxl_13</th><th style=\"text-align: right;\">   pxl_14</th><th style=\"text-align: right;\">   pxl_15</th><th style=\"text-align: right;\">   pxl_16</th><th style=\"text-align: right;\">   pxl_17</th><th style=\"text-align: right;\">   pxl_18</th><th style=\"text-align: right;\">   pxl_19</th><th style=\"text-align: right;\">  North_prediction</th><th style=\"text-align: right;\">  East_prediction</th></tr>\n",
       "</thead>\n",
       "<tbody>\n",
       "<tr><td>00003e3b9e5336685200ae85d21b4f5e.jpg</td><td style=\"text-align: right;\">   178.83 </td><td style=\"text-align: right;\">-0.0652313</td><td style=\"text-align: right;\">-0.386045</td><td style=\"text-align: right;\"> 0.929772</td><td style=\"text-align: right;\">      0</td><td style=\"text-align: right;\">     -1.09818</td><td style=\"text-align: right;\">    2.82837 </td><td style=\"text-align: right;\">      -1.29619 </td><td style=\"text-align: right;\">      2.86893 </td><td style=\"text-align: right;\">          -1.22047 </td><td style=\"text-align: right;\">          2.82652 </td><td style=\"text-align: right;\">       -1.09818</td><td style=\"text-align: right;\">      2.82837 </td><td style=\"text-align: right;\">          -1.23032 </td><td style=\"text-align: right;\">          2.83861 </td><td style=\"text-align: right;\">      -1.29619 </td><td style=\"text-align: right;\">      2.86893 </td><td style=\"text-align: right;\">          -1.22047 </td><td style=\"text-align: right;\">          2.82652 </td><td style=\"text-align: right;\">-2.90552 </td><td style=\"text-align: right;\">-1.29355 </td><td style=\"text-align: right;\">-2.90832 </td><td style=\"text-align: right;\">-1.24468 </td><td style=\"text-align: right;\">-3.59486</td><td style=\"text-align: right;\">-1.19225</td><td style=\"text-align: right;\">-2.85976 </td><td style=\"text-align: right;\">-1.20882 </td><td style=\"text-align: right;\">-2.86176 </td><td style=\"text-align: right;\">-1.2799  </td><td style=\"text-align: right;\">-2.88255 </td><td style=\"text-align: right;\">-1.25421 </td><td style=\"text-align: right;\">-3.42611 </td><td style=\"text-align: right;\">-1.64063 </td><td style=\"text-align: right;\">-2.82967 </td><td style=\"text-align: right;\">-1.18349 </td><td style=\"text-align: right;\">-2.99851 </td><td style=\"text-align: right;\">-1.22145 </td><td style=\"text-align: right;\">-2.97576 </td><td style=\"text-align: right;\">-1.22493 </td><td style=\"text-align: right;\">         -0.359616</td><td style=\"text-align: right;\">         0.916818</td></tr>\n",
       "<tr><td>0001261e2060303a06ba6c64d676d639.jpg</td><td style=\"text-align: right;\">   207.921</td><td style=\"text-align: right;\">-0.0806885</td><td style=\"text-align: right;\"> 0.635584</td><td style=\"text-align: right;\"> 0.152819</td><td style=\"text-align: right;\">      2</td><td style=\"text-align: right;\">      1.45245</td><td style=\"text-align: right;\">    0.207358</td><td style=\"text-align: right;\">       0.847966</td><td style=\"text-align: right;\">      0.356077</td><td style=\"text-align: right;\">           0.7925  </td><td style=\"text-align: right;\">          0.231472</td><td style=\"text-align: right;\">        1.45245</td><td style=\"text-align: right;\">      0.207358</td><td style=\"text-align: right;\">           0.753004</td><td style=\"text-align: right;\">          0.217258</td><td style=\"text-align: right;\">       0.847966</td><td style=\"text-align: right;\">      0.356077</td><td style=\"text-align: right;\">           0.7925  </td><td style=\"text-align: right;\">          0.231472</td><td style=\"text-align: right;\">-0.325096</td><td style=\"text-align: right;\"> 1.06665 </td><td style=\"text-align: right;\">-0.301397</td><td style=\"text-align: right;\"> 1.05742 </td><td style=\"text-align: right;\">-0.30209</td><td style=\"text-align: right;\"> 1.02171</td><td style=\"text-align: right;\">-0.251114</td><td style=\"text-align: right;\"> 0.208279</td><td style=\"text-align: right;\">-0.326046</td><td style=\"text-align: right;\"> 0.971859</td><td style=\"text-align: right;\">-0.268454</td><td style=\"text-align: right;\"> 0.959177</td><td style=\"text-align: right;\">-0.203712</td><td style=\"text-align: right;\"> 1.09447 </td><td style=\"text-align: right;\">-0.268454</td><td style=\"text-align: right;\"> 0.959177</td><td style=\"text-align: right;\">-0.252202</td><td style=\"text-align: right;\"> 1.06294 </td><td style=\"text-align: right;\">-0.326046</td><td style=\"text-align: right;\"> 0.971859</td><td style=\"text-align: right;\">          0.616096</td><td style=\"text-align: right;\">         0.173137</td></tr>\n",
       "<tr><td>0002ac0d783338cfeab0b2bdbd872cda.jpg</td><td style=\"text-align: right;\">   178.048</td><td style=\"text-align: right;\"> 0.0215759</td><td style=\"text-align: right;\">-1.22823 </td><td style=\"text-align: right;\">-0.499388</td><td style=\"text-align: right;\">      3</td><td style=\"text-align: right;\">     -3.54421</td><td style=\"text-align: right;\">   -1.49436 </td><td style=\"text-align: right;\">      -3.51745 </td><td style=\"text-align: right;\">     -1.59259 </td><td style=\"text-align: right;\">          -3.8237  </td><td style=\"text-align: right;\">         -1.65885 </td><td style=\"text-align: right;\">       -3.54421</td><td style=\"text-align: right;\">     -1.49436 </td><td style=\"text-align: right;\">          -3.81837 </td><td style=\"text-align: right;\">         -1.66816 </td><td style=\"text-align: right;\">      -3.51745 </td><td style=\"text-align: right;\">     -1.59259 </td><td style=\"text-align: right;\">          -3.8237  </td><td style=\"text-align: right;\">         -1.65885 </td><td style=\"text-align: right;\"> 1.68899 </td><td style=\"text-align: right;\">-3.81617 </td><td style=\"text-align: right;\"> 1.60363 </td><td style=\"text-align: right;\">-3.97114 </td><td style=\"text-align: right;\"> 1.63071</td><td style=\"text-align: right;\">-3.83078</td><td style=\"text-align: right;\"> 1.58744 </td><td style=\"text-align: right;\">-3.74135 </td><td style=\"text-align: right;\"> 1.53305 </td><td style=\"text-align: right;\">-3.82208 </td><td style=\"text-align: right;\"> 1.6011  </td><td style=\"text-align: right;\">-3.89684 </td><td style=\"text-align: right;\"> 1.57631 </td><td style=\"text-align: right;\">-3.8105  </td><td style=\"text-align: right;\"> 1.55455 </td><td style=\"text-align: right;\">-3.74171 </td><td style=\"text-align: right;\"> 1.583   </td><td style=\"text-align: right;\">-3.80651 </td><td style=\"text-align: right;\"> 1.57126 </td><td style=\"text-align: right;\">-3.76851 </td><td style=\"text-align: right;\">         -1.17559 </td><td style=\"text-align: right;\">        -0.479159</td></tr>\n",
       "<tr><td>0004289ee1c7b8b08c77e19878106ae3.jpg</td><td style=\"text-align: right;\">   201.085</td><td style=\"text-align: right;\"> 0.505981 </td><td style=\"text-align: right;\">-1.73971 </td><td style=\"text-align: right;\">-0.699928</td><td style=\"text-align: right;\">      1</td><td style=\"text-align: right;\">     -6.05406</td><td style=\"text-align: right;\">   -4.08215 </td><td style=\"text-align: right;\">      -6.09153 </td><td style=\"text-align: right;\">     -3.09927 </td><td style=\"text-align: right;\">          -6.06536 </td><td style=\"text-align: right;\">         -2.35415 </td><td style=\"text-align: right;\">       -6.05406</td><td style=\"text-align: right;\">     -4.08215 </td><td style=\"text-align: right;\">          -6.14532 </td><td style=\"text-align: right;\">         -2.30319 </td><td style=\"text-align: right;\">      -6.09153 </td><td style=\"text-align: right;\">     -3.09927 </td><td style=\"text-align: right;\">          -6.06536 </td><td style=\"text-align: right;\">         -2.35415 </td><td style=\"text-align: right;\"> 1.72328 </td><td style=\"text-align: right;\">-5.50631 </td><td style=\"text-align: right;\">-1.37089 </td><td style=\"text-align: right;\">-6.69685 </td><td style=\"text-align: right;\"> 2.1552 </td><td style=\"text-align: right;\">-5.6545 </td><td style=\"text-align: right;\"> 2.96579 </td><td style=\"text-align: right;\">-6.2966  </td><td style=\"text-align: right;\"> 2.36815 </td><td style=\"text-align: right;\">-6.12882 </td><td style=\"text-align: right;\"> 3.58508 </td><td style=\"text-align: right;\">-6.57981 </td><td style=\"text-align: right;\"> 1.65611 </td><td style=\"text-align: right;\">-5.52419 </td><td style=\"text-align: right;\"> 2.28132 </td><td style=\"text-align: right;\">-5.76071 </td><td style=\"text-align: right;\"> 1.84214 </td><td style=\"text-align: right;\">-5.5873  </td><td style=\"text-align: right;\"> 2.93332 </td><td style=\"text-align: right;\">-6.27589 </td><td style=\"text-align: right;\">         -1.82995 </td><td style=\"text-align: right;\">        -0.691998</td></tr>\n",
       "<tr><td>0004d0b59e19461ff126e3a08a814c33.jpg</td><td style=\"text-align: right;\">   187.55 </td><td style=\"text-align: right;\">-0.328156 </td><td style=\"text-align: right;\">-0.169798</td><td style=\"text-align: right;\"> 2.82875 </td><td style=\"text-align: right;\">      0</td><td style=\"text-align: right;\">     -0.69025</td><td style=\"text-align: right;\">    8.23287 </td><td style=\"text-align: right;\">      -0.449659</td><td style=\"text-align: right;\">      8.12569 </td><td style=\"text-align: right;\">          -0.564889</td><td style=\"text-align: right;\">          8.01241 </td><td style=\"text-align: right;\">       -0.69025</td><td style=\"text-align: right;\">      8.23287 </td><td style=\"text-align: right;\">          -0.555564</td><td style=\"text-align: right;\">          7.99966 </td><td style=\"text-align: right;\">      -0.449659</td><td style=\"text-align: right;\">      8.12569 </td><td style=\"text-align: right;\">          -0.564889</td><td style=\"text-align: right;\">          8.01241 </td><td style=\"text-align: right;\">-7.93387 </td><td style=\"text-align: right;\">-0.467377</td><td style=\"text-align: right;\">-7.94595 </td><td style=\"text-align: right;\">-0.667904</td><td style=\"text-align: right;\">-9.20364</td><td style=\"text-align: right;\">-0.8188 </td><td style=\"text-align: right;\">-7.78825 </td><td style=\"text-align: right;\">-0.459106</td><td style=\"text-align: right;\">-7.8754  </td><td style=\"text-align: right;\">-0.574451</td><td style=\"text-align: right;\">-7.95732 </td><td style=\"text-align: right;\">-0.792717</td><td style=\"text-align: right;\">-7.95586 </td><td style=\"text-align: right;\">-0.466026</td><td style=\"text-align: right;\">-7.91377 </td><td style=\"text-align: right;\">-0.495544</td><td style=\"text-align: right;\">-7.80536 </td><td style=\"text-align: right;\">-0.389091</td><td style=\"text-align: right;\">-7.68503 </td><td style=\"text-align: right;\">-0.443871</td><td style=\"text-align: right;\">         -0.153309</td><td style=\"text-align: right;\">         2.78272 </td></tr>\n",
       "</tbody>\n",
       "</table><pre style='font-size: smaller; margin-bottom: 1em;'>[5 rows x 42 columns]</pre>"
      ],
      "text/plain": [
       "Filename                                Altitude       Delta      North       East    kfold    North_pixel    East_pixel    North_pixel_a    East_pixel_a    North_pixel_a_est    East_pixel_a_est    North_pixel_h    East_pixel_h    North_pixel_h_est    East_pixel_h_est    North_pixel_p    East_pixel_p    North_pixel_p_est    East_pixel_p_est      pxl_0      pxl_1      pxl_2      pxl_3     pxl_4     pxl_5      pxl_6      pxl_7      pxl_8      pxl_9     pxl_10     pxl_11     pxl_12     pxl_13     pxl_14     pxl_15     pxl_16     pxl_17     pxl_18     pxl_19    North_prediction    East_prediction\n",
       "------------------------------------  ----------  ----------  ---------  ---------  -------  -------------  ------------  ---------------  --------------  -------------------  ------------------  ---------------  --------------  -------------------  ------------------  ---------------  --------------  -------------------  ------------------  ---------  ---------  ---------  ---------  --------  --------  ---------  ---------  ---------  ---------  ---------  ---------  ---------  ---------  ---------  ---------  ---------  ---------  ---------  ---------  ------------------  -----------------\n",
       "00003e3b9e5336685200ae85d21b4f5e.jpg     178.83   -0.0652313  -0.386045   0.929772        0       -1.09818      2.82837         -1.29619         2.86893             -1.22047             2.82652          -1.09818        2.82837             -1.23032             2.83861         -1.29619         2.86893             -1.22047             2.82652   -2.90552   -1.29355   -2.90832   -1.24468   -3.59486  -1.19225  -2.85976   -1.20882   -2.86176   -1.2799    -2.88255   -1.25421   -3.42611   -1.64063   -2.82967   -1.18349   -2.99851   -1.22145   -2.97576   -1.22493            -0.359616           0.916818\n",
       "0001261e2060303a06ba6c64d676d639.jpg     207.921  -0.0806885   0.635584   0.152819        2        1.45245      0.207358         0.847966        0.356077             0.7925              0.231472          1.45245        0.207358             0.753004            0.217258         0.847966        0.356077             0.7925              0.231472  -0.325096   1.06665   -0.301397   1.05742   -0.30209   1.02171  -0.251114   0.208279  -0.326046   0.971859  -0.268454   0.959177  -0.203712   1.09447   -0.268454   0.959177  -0.252202   1.06294   -0.326046   0.971859            0.616096           0.173137\n",
       "0002ac0d783338cfeab0b2bdbd872cda.jpg     178.048   0.0215759  -1.22823   -0.499388        3       -3.54421     -1.49436         -3.51745        -1.59259             -3.8237             -1.65885          -3.54421       -1.49436             -3.81837            -1.66816         -3.51745        -1.59259             -3.8237             -1.65885    1.68899   -3.81617    1.60363   -3.97114    1.63071  -3.83078   1.58744   -3.74135    1.53305   -3.82208    1.6011    -3.89684    1.57631   -3.8105     1.55455   -3.74171    1.583     -3.80651    1.57126   -3.76851            -1.17559           -0.479159\n",
       "0004289ee1c7b8b08c77e19878106ae3.jpg     201.085   0.505981   -1.73971   -0.699928        1       -6.05406     -4.08215         -6.09153        -3.09927             -6.06536            -2.35415          -6.05406       -4.08215             -6.14532            -2.30319         -6.09153        -3.09927             -6.06536            -2.35415    1.72328   -5.50631   -1.37089   -6.69685    2.1552   -5.6545    2.96579   -6.2966     2.36815   -6.12882    3.58508   -6.57981    1.65611   -5.52419    2.28132   -5.76071    1.84214   -5.5873     2.93332   -6.27589            -1.82995           -0.691998\n",
       "0004d0b59e19461ff126e3a08a814c33.jpg     187.55   -0.328156   -0.169798   2.82875         0       -0.69025      8.23287         -0.449659        8.12569             -0.564889            8.01241          -0.69025        8.23287             -0.555564            7.99966         -0.449659        8.12569             -0.564889            8.01241   -7.93387   -0.467377  -7.94595   -0.667904  -9.20364  -0.8188   -7.78825   -0.459106  -7.8754    -0.574451  -7.95732   -0.792717  -7.95586   -0.466026  -7.91377   -0.495544  -7.80536   -0.389091  -7.68503   -0.443871           -0.153309           2.78272\n",
       "[5 rows x 42 columns]\n"
      ]
     },
     "execution_count": 10,
     "metadata": {},
     "output_type": "execute_result"
    }
   ],
   "source": [
    "train_final = train.cbind(north_train_preds)\n",
    "train_final = train_final.cbind(east_train_preds)\n",
    "train_final.as_data_frame().to_csv('train_final.csv')\n",
    "\n",
    "train_final.head(5)"
   ]
  },
  {
   "cell_type": "code",
   "execution_count": 11,
   "metadata": {
    "execution": {
     "iopub.execute_input": "2022-11-01T02:52:59.229004Z",
     "iopub.status.busy": "2022-11-01T02:52:59.228927Z",
     "iopub.status.idle": "2022-11-01T02:53:01.424791Z",
     "shell.execute_reply": "2022-11-01T02:53:01.424194Z"
    }
   },
   "outputs": [
    {
     "data": {
      "text/html": [
       "<table class='dataframe'>\n",
       "<thead>\n",
       "<tr><th>Filename                            </th><th style=\"text-align: right;\">  Altitude</th><th style=\"text-align: right;\">     Delta</th><th style=\"text-align: right;\">  kfold</th><th style=\"text-align: right;\">  North_pixel</th><th style=\"text-align: right;\">  East_pixel</th><th style=\"text-align: right;\">  North_pixel_a</th><th style=\"text-align: right;\">  East_pixel_a</th><th style=\"text-align: right;\">  North_pixel_a_est</th><th style=\"text-align: right;\">  East_pixel_a_est</th><th style=\"text-align: right;\">  North_pixel_h</th><th style=\"text-align: right;\">  East_pixel_h</th><th style=\"text-align: right;\">  North_pixel_h_est</th><th style=\"text-align: right;\">  East_pixel_h_est</th><th style=\"text-align: right;\">  North_pixel_p</th><th style=\"text-align: right;\">  East_pixel_p</th><th style=\"text-align: right;\">  North_pixel_p_est</th><th style=\"text-align: right;\">  East_pixel_p_est</th><th style=\"text-align: right;\">    pxl_0</th><th style=\"text-align: right;\">      pxl_1</th><th style=\"text-align: right;\">    pxl_2</th><th style=\"text-align: right;\">     pxl_3</th><th style=\"text-align: right;\">      pxl_4</th><th style=\"text-align: right;\">     pxl_5</th><th style=\"text-align: right;\">    pxl_6</th><th style=\"text-align: right;\">      pxl_7</th><th style=\"text-align: right;\">      pxl_8</th><th style=\"text-align: right;\">     pxl_9</th><th style=\"text-align: right;\">     pxl_10</th><th style=\"text-align: right;\">    pxl_11</th><th style=\"text-align: right;\">    pxl_12</th><th style=\"text-align: right;\">    pxl_13</th><th style=\"text-align: right;\">      pxl_14</th><th style=\"text-align: right;\">    pxl_15</th><th style=\"text-align: right;\">    pxl_16</th><th style=\"text-align: right;\">    pxl_17</th><th style=\"text-align: right;\">   pxl_18</th><th style=\"text-align: right;\">    pxl_19</th><th style=\"text-align: right;\">  North_prediction</th><th style=\"text-align: right;\">  East_prediction</th></tr>\n",
       "</thead>\n",
       "<tbody>\n",
       "<tr><td>000053b1e684c9e7ea73727b2238ce18.jpg</td><td style=\"text-align: right;\">   167.943</td><td style=\"text-align: right;\"> 0.0102692</td><td style=\"text-align: right;\">      0</td><td style=\"text-align: right;\">     3.94642 </td><td style=\"text-align: right;\">   -3.81585 </td><td style=\"text-align: right;\">       0.356597</td><td style=\"text-align: right;\">      0.257315</td><td style=\"text-align: right;\">        -0.654044  </td><td style=\"text-align: right;\">        -1.04211  </td><td style=\"text-align: right;\">       3.94642 </td><td style=\"text-align: right;\">     -3.81585 </td><td style=\"text-align: right;\">         5.85679   </td><td style=\"text-align: right;\">         -8.51255 </td><td style=\"text-align: right;\">       0.356597</td><td style=\"text-align: right;\">      0.257315</td><td style=\"text-align: right;\">        -0.654044  </td><td style=\"text-align: right;\">        -1.04211  </td><td style=\"text-align: right;\"> 1.14858 </td><td style=\"text-align: right;\"> -3.34092  </td><td style=\"text-align: right;\">-18.8337 </td><td style=\"text-align: right;\"> 17.3706  </td><td style=\"text-align: right;\">  0.824883 </td><td style=\"text-align: right;\"> -3.93073 </td><td style=\"text-align: right;\">-0.355776</td><td style=\"text-align: right;\"> -1.16761  </td><td style=\"text-align: right;\">  1.00562  </td><td style=\"text-align: right;\"> -1.44288 </td><td style=\"text-align: right;\"> 1.14858   </td><td style=\"text-align: right;\"> -3.34092 </td><td style=\"text-align: right;\">  0.824883</td><td style=\"text-align: right;\"> -3.93073 </td><td style=\"text-align: right;\"> -8.14574   </td><td style=\"text-align: right;\"> 16.7543  </td><td style=\"text-align: right;\">-0.0748377</td><td style=\"text-align: right;\">  0.269563</td><td style=\"text-align: right;\">-0.299238</td><td style=\"text-align: right;\"> -1.83023 </td><td style=\"text-align: right;\">        -0.163717 </td><td style=\"text-align: right;\">        -0.187251</td></tr>\n",
       "<tr><td>00029153d12ae1c9abe59c17ff2e0895.jpg</td><td style=\"text-align: right;\">   195.853</td><td style=\"text-align: right;\"> 0.0892181</td><td style=\"text-align: right;\">      2</td><td style=\"text-align: right;\">     7.66823 </td><td style=\"text-align: right;\">   -4.03186 </td><td style=\"text-align: right;\">       9.36693 </td><td style=\"text-align: right;\">     -2.49368 </td><td style=\"text-align: right;\">         4.65447   </td><td style=\"text-align: right;\">        -5.10086  </td><td style=\"text-align: right;\">       7.66823 </td><td style=\"text-align: right;\">     -4.03186 </td><td style=\"text-align: right;\">         4.9369    </td><td style=\"text-align: right;\">         -4.14951 </td><td style=\"text-align: right;\">       9.36693 </td><td style=\"text-align: right;\">     -2.49368 </td><td style=\"text-align: right;\">         4.65447   </td><td style=\"text-align: right;\">        -5.10086  </td><td style=\"text-align: right;\"> 2.75261 </td><td style=\"text-align: right;\">  2.57346  </td><td style=\"text-align: right;\">  4.36668</td><td style=\"text-align: right;\">  4.15754 </td><td style=\"text-align: right;\">  4.68184  </td><td style=\"text-align: right;\">  3.9578  </td><td style=\"text-align: right;\"> 7.69817 </td><td style=\"text-align: right;\">  2.22164  </td><td style=\"text-align: right;\">  2.62536  </td><td style=\"text-align: right;\">  2.22768 </td><td style=\"text-align: right;\"> 4.38525   </td><td style=\"text-align: right;\">  3.60021 </td><td style=\"text-align: right;\">  3.63641 </td><td style=\"text-align: right;\">  2.60415 </td><td style=\"text-align: right;\">  4.08027   </td><td style=\"text-align: right;\">  3.41264 </td><td style=\"text-align: right;\"> 4.18214  </td><td style=\"text-align: right;\">  2.7522  </td><td style=\"text-align: right;\"> 2.42942 </td><td style=\"text-align: right;\">  1.85786 </td><td style=\"text-align: right;\">         0.851587 </td><td style=\"text-align: right;\">        -0.603938</td></tr>\n",
       "<tr><td>0006246bee639c7a7b11a08e34dd3cc6.jpg</td><td style=\"text-align: right;\">   146.943</td><td style=\"text-align: right;\">-0.0183258</td><td style=\"text-align: right;\">      1</td><td style=\"text-align: right;\">   -11.5494  </td><td style=\"text-align: right;\">   -0.880645</td><td style=\"text-align: right;\">     -12.5184  </td><td style=\"text-align: right;\">     -0.683746</td><td style=\"text-align: right;\">       -12.1243    </td><td style=\"text-align: right;\">        -0.0308469</td><td style=\"text-align: right;\">     -11.5494  </td><td style=\"text-align: right;\">     -0.880645</td><td style=\"text-align: right;\">       -12.1883    </td><td style=\"text-align: right;\">          0.273252</td><td style=\"text-align: right;\">     -12.5184  </td><td style=\"text-align: right;\">     -0.683746</td><td style=\"text-align: right;\">       -12.1243    </td><td style=\"text-align: right;\">        -0.0308469</td><td style=\"text-align: right;\">-0.169895</td><td style=\"text-align: right;\">-12.0481   </td><td style=\"text-align: right;\"> -0.13204</td><td style=\"text-align: right;\">-12.0987  </td><td style=\"text-align: right;\"> -0.0431442</td><td style=\"text-align: right;\">-11.7316  </td><td style=\"text-align: right;\"> 0.027256</td><td style=\"text-align: right;\">-12.1229   </td><td style=\"text-align: right;\"> -0.0410385</td><td style=\"text-align: right;\">-12.2621  </td><td style=\"text-align: right;\"> 0.00317955</td><td style=\"text-align: right;\">-15.9282  </td><td style=\"text-align: right;\">  0.132889</td><td style=\"text-align: right;\">-11.7137  </td><td style=\"text-align: right;\">  0.00201416</td><td style=\"text-align: right;\">-11.6496  </td><td style=\"text-align: right;\">-0.202403 </td><td style=\"text-align: right;\">-11.9361  </td><td style=\"text-align: right;\">-0.197823</td><td style=\"text-align: right;\">-11.7689  </td><td style=\"text-align: right;\">        -1.90288  </td><td style=\"text-align: right;\">         0.22419 </td></tr>\n",
       "<tr><td>00063cb5da1826febf178b669eea3250.jpg</td><td style=\"text-align: right;\">   213.184</td><td style=\"text-align: right;\">-0.108704 </td><td style=\"text-align: right;\">      1</td><td style=\"text-align: right;\">   -28.9916  </td><td style=\"text-align: right;\">    1.93089 </td><td style=\"text-align: right;\">     -25.9429  </td><td style=\"text-align: right;\">     -0.682081</td><td style=\"text-align: right;\">       -21.45      </td><td style=\"text-align: right;\">         4.21257  </td><td style=\"text-align: right;\">     -28.9916  </td><td style=\"text-align: right;\">      1.93089 </td><td style=\"text-align: right;\">       -21.2372    </td><td style=\"text-align: right;\">          4.1683  </td><td style=\"text-align: right;\">     -25.9429  </td><td style=\"text-align: right;\">     -0.682081</td><td style=\"text-align: right;\">       -21.45      </td><td style=\"text-align: right;\">         4.21257  </td><td style=\"text-align: right;\"> 5.89911 </td><td style=\"text-align: right;\"> -5.90437  </td><td style=\"text-align: right;\">  3.89936</td><td style=\"text-align: right;\"> -1.86708 </td><td style=\"text-align: right;\">-14.7143   </td><td style=\"text-align: right;\"> -4.84209 </td><td style=\"text-align: right;\">-1.69508 </td><td style=\"text-align: right;\">-24.1241   </td><td style=\"text-align: right;\">-16.3963   </td><td style=\"text-align: right;\"> 24.7725  </td><td style=\"text-align: right;\"> 9.19111   </td><td style=\"text-align: right;\">-32.7008  </td><td style=\"text-align: right;\">-16.8072  </td><td style=\"text-align: right;\"> -2.44435 </td><td style=\"text-align: right;\">-15.0715    </td><td style=\"text-align: right;\">  2.41672 </td><td style=\"text-align: right;\">-1.62871  </td><td style=\"text-align: right;\"> -5.10683 </td><td style=\"text-align: right;\">-4.40871 </td><td style=\"text-align: right;\">-24.7597  </td><td style=\"text-align: right;\">        -1.33959  </td><td style=\"text-align: right;\">        -0.170726</td></tr>\n",
       "<tr><td>00063ece2e68a8847f228e8fd922f851.jpg</td><td style=\"text-align: right;\">   184.758</td><td style=\"text-align: right;\"> 0.0177002</td><td style=\"text-align: right;\">      0</td><td style=\"text-align: right;\">     0.184479</td><td style=\"text-align: right;\">   -6.92578 </td><td style=\"text-align: right;\">      -0.165511</td><td style=\"text-align: right;\">     -6.8528  </td><td style=\"text-align: right;\">         0.00832452</td><td style=\"text-align: right;\">        -6.20988  </td><td style=\"text-align: right;\">       0.184479</td><td style=\"text-align: right;\">     -6.92578 </td><td style=\"text-align: right;\">         0.00381415</td><td style=\"text-align: right;\">         -6.17922 </td><td style=\"text-align: right;\">      -0.165511</td><td style=\"text-align: right;\">     -6.8528  </td><td style=\"text-align: right;\">         0.00832452</td><td style=\"text-align: right;\">        -6.20988  </td><td style=\"text-align: right;\"> 6.3149  </td><td style=\"text-align: right;\"> -0.0681152</td><td style=\"text-align: right;\">  6.29644</td><td style=\"text-align: right;\"> -0.425659</td><td style=\"text-align: right;\">  6.1424   </td><td style=\"text-align: right;\"> -0.198502</td><td style=\"text-align: right;\"> 6.49742 </td><td style=\"text-align: right;\">  0.0932236</td><td style=\"text-align: right;\">  6.58315  </td><td style=\"text-align: right;\">  0.140034</td><td style=\"text-align: right;\"> 5.97933   </td><td style=\"text-align: right;\"> -0.635529</td><td style=\"text-align: right;\">  5.92503 </td><td style=\"text-align: right;\"> -0.113266</td><td style=\"text-align: right;\">  6.41425   </td><td style=\"text-align: right;\"> -0.772942</td><td style=\"text-align: right;\"> 5.47101  </td><td style=\"text-align: right;\"> -0.318184</td><td style=\"text-align: right;\"> 6.60895 </td><td style=\"text-align: right;\"> -0.145115</td><td style=\"text-align: right;\">         0.0816595</td><td style=\"text-align: right;\">        -1.52923 </td></tr>\n",
       "<tr><td>000838c1249fec206b77360ff0adc110.jpg</td><td style=\"text-align: right;\">   209.136</td><td style=\"text-align: right;\">-0.544525 </td><td style=\"text-align: right;\">      1</td><td style=\"text-align: right;\">     2.54224 </td><td style=\"text-align: right;\">   -2.43533 </td><td style=\"text-align: right;\">       2.78873 </td><td style=\"text-align: right;\">     -2.46239 </td><td style=\"text-align: right;\">         3.46306   </td><td style=\"text-align: right;\">        -2.61436  </td><td style=\"text-align: right;\">       2.54224 </td><td style=\"text-align: right;\">     -2.43533 </td><td style=\"text-align: right;\">         3.48015   </td><td style=\"text-align: right;\">         -2.62869 </td><td style=\"text-align: right;\">       2.78873 </td><td style=\"text-align: right;\">     -2.46239 </td><td style=\"text-align: right;\">         3.46306   </td><td style=\"text-align: right;\">        -2.61436  </td><td style=\"text-align: right;\"> 2.38117 </td><td style=\"text-align: right;\">  3.89162  </td><td style=\"text-align: right;\">  2.36828</td><td style=\"text-align: right;\">  3.56954 </td><td style=\"text-align: right;\">  2.63266  </td><td style=\"text-align: right;\">  3.54911 </td><td style=\"text-align: right;\"> 2.45233 </td><td style=\"text-align: right;\">  3.56828  </td><td style=\"text-align: right;\">  2.45103  </td><td style=\"text-align: right;\">  3.64938 </td><td style=\"text-align: right;\"> 2.89822   </td><td style=\"text-align: right;\">  3.66876 </td><td style=\"text-align: right;\">  2.58473 </td><td style=\"text-align: right;\">  3.60395 </td><td style=\"text-align: right;\">  2.91451   </td><td style=\"text-align: right;\">  3.4528  </td><td style=\"text-align: right;\"> 2.63266  </td><td style=\"text-align: right;\">  3.54911 </td><td style=\"text-align: right;\"> 2.92265 </td><td style=\"text-align: right;\">  3.24918 </td><td style=\"text-align: right;\">         1.50496  </td><td style=\"text-align: right;\">        -1.51949 </td></tr>\n",
       "<tr><td>000a8e84b013655b832041a6f362e5c9.jpg</td><td style=\"text-align: right;\">   177.72 </td><td style=\"text-align: right;\">-0.23024  </td><td style=\"text-align: right;\">      4</td><td style=\"text-align: right;\">    -0.601386</td><td style=\"text-align: right;\">   -3.88556 </td><td style=\"text-align: right;\">      -0.061612</td><td style=\"text-align: right;\">     -4.1541  </td><td style=\"text-align: right;\">        -0.321557  </td><td style=\"text-align: right;\">        -4.38535  </td><td style=\"text-align: right;\">      -0.601386</td><td style=\"text-align: right;\">     -3.88556 </td><td style=\"text-align: right;\">        -0.280671  </td><td style=\"text-align: right;\">         -4.39763 </td><td style=\"text-align: right;\">      -0.061612</td><td style=\"text-align: right;\">     -4.1541  </td><td style=\"text-align: right;\">        -0.321557  </td><td style=\"text-align: right;\">        -4.38535  </td><td style=\"text-align: right;\"> 3.88873 </td><td style=\"text-align: right;\"> -0.492369 </td><td style=\"text-align: right;\">  4.42173</td><td style=\"text-align: right;\"> -0.520847</td><td style=\"text-align: right;\">  4.33254  </td><td style=\"text-align: right;\"> -0.263458</td><td style=\"text-align: right;\"> 4.40611 </td><td style=\"text-align: right;\"> -0.245636 </td><td style=\"text-align: right;\">  4.39208  </td><td style=\"text-align: right;\"> -0.493393</td><td style=\"text-align: right;\"> 4.26459   </td><td style=\"text-align: right;\"> -0.423016</td><td style=\"text-align: right;\">  4.37817 </td><td style=\"text-align: right;\"> -0.565887</td><td style=\"text-align: right;\">  4.41778   </td><td style=\"text-align: right;\"> -0.276993</td><td style=\"text-align: right;\"> 4.09095  </td><td style=\"text-align: right;\"> -0.462299</td><td style=\"text-align: right;\"> 4.17667 </td><td style=\"text-align: right;\"> -0.121765</td><td style=\"text-align: right;\">        -0.139893 </td><td style=\"text-align: right;\">        -1.32363 </td></tr>\n",
       "<tr><td>000d0c74074191add6f22e0004db8f76.jpg</td><td style=\"text-align: right;\">   200.488</td><td style=\"text-align: right;\"> 0.0812378</td><td style=\"text-align: right;\">      3</td><td style=\"text-align: right;\">     3.12172 </td><td style=\"text-align: right;\">   -6.69092 </td><td style=\"text-align: right;\">       2.78086 </td><td style=\"text-align: right;\">     -5.82139 </td><td style=\"text-align: right;\">         2.14271   </td><td style=\"text-align: right;\">        -5.28396  </td><td style=\"text-align: right;\">       3.12172 </td><td style=\"text-align: right;\">     -6.69092 </td><td style=\"text-align: right;\">         2.19983   </td><td style=\"text-align: right;\">         -5.08691 </td><td style=\"text-align: right;\">       2.78086 </td><td style=\"text-align: right;\">     -5.82139 </td><td style=\"text-align: right;\">         2.14271   </td><td style=\"text-align: right;\">        -5.28396  </td><td style=\"text-align: right;\"> 6.19389 </td><td style=\"text-align: right;\">  2.58061  </td><td style=\"text-align: right;\">  5.38988</td><td style=\"text-align: right;\">  2.19228 </td><td style=\"text-align: right;\">  4.69729  </td><td style=\"text-align: right;\">  2.00504 </td><td style=\"text-align: right;\"> 4.63818 </td><td style=\"text-align: right;\">  2.25755  </td><td style=\"text-align: right;\">  4.80048  </td><td style=\"text-align: right;\">  1.88295 </td><td style=\"text-align: right;\"> 4.52833   </td><td style=\"text-align: right;\">  1.88636 </td><td style=\"text-align: right;\">  4.76211 </td><td style=\"text-align: right;\">  1.88943 </td><td style=\"text-align: right;\">  6.22773   </td><td style=\"text-align: right;\">  2.53867 </td><td style=\"text-align: right;\"> 5.80002  </td><td style=\"text-align: right;\">  3.7495  </td><td style=\"text-align: right;\"> 6.10212 </td><td style=\"text-align: right;\">  2.94987 </td><td style=\"text-align: right;\">         0.755356 </td><td style=\"text-align: right;\">        -1.85945 </td></tr>\n",
       "<tr><td>000dd3543ac84d906eae52e7c779bb2a.jpg</td><td style=\"text-align: right;\">   155.313</td><td style=\"text-align: right;\"> 0.062027 </td><td style=\"text-align: right;\">      4</td><td style=\"text-align: right;\">    -0.954504</td><td style=\"text-align: right;\">   -9.59106 </td><td style=\"text-align: right;\">      -3.27656 </td><td style=\"text-align: right;\">     -8.70192 </td><td style=\"text-align: right;\">        -4.1014    </td><td style=\"text-align: right;\">        -8.30099  </td><td style=\"text-align: right;\">      -0.954504</td><td style=\"text-align: right;\">     -9.59106 </td><td style=\"text-align: right;\">        -4.38984   </td><td style=\"text-align: right;\">         -8.47304 </td><td style=\"text-align: right;\">      -3.27656 </td><td style=\"text-align: right;\">     -8.70192 </td><td style=\"text-align: right;\">        -4.1014    </td><td style=\"text-align: right;\">        -8.30099  </td><td style=\"text-align: right;\"> 9.49759 </td><td style=\"text-align: right;\"> -1.18337  </td><td style=\"text-align: right;\">  7.23822</td><td style=\"text-align: right;\"> -5.68969 </td><td style=\"text-align: right;\">  7.88213  </td><td style=\"text-align: right;\"> -3.91421 </td><td style=\"text-align: right;\">14.9235  </td><td style=\"text-align: right;\"> -6.43969  </td><td style=\"text-align: right;\">  8.47189  </td><td style=\"text-align: right;\"> -4.42818 </td><td style=\"text-align: right;\"> 8.47189   </td><td style=\"text-align: right;\"> -4.42818 </td><td style=\"text-align: right;\">  7.81363 </td><td style=\"text-align: right;\"> -3.73524 </td><td style=\"text-align: right;\">  8.22931   </td><td style=\"text-align: right;\"> -4.20756 </td><td style=\"text-align: right;\"> 7.84705  </td><td style=\"text-align: right;\"> -3.81264 </td><td style=\"text-align: right;\"> 7.23822 </td><td style=\"text-align: right;\"> -5.68969 </td><td style=\"text-align: right;\">        -0.48064  </td><td style=\"text-align: right;\">        -1.06801 </td></tr>\n",
       "<tr><td>00129b07887a18a7331909231c28816e.jpg</td><td style=\"text-align: right;\">   187.643</td><td style=\"text-align: right;\">-0.133362 </td><td style=\"text-align: right;\">      4</td><td style=\"text-align: right;\">     0.559739</td><td style=\"text-align: right;\">    4.16881 </td><td style=\"text-align: right;\">       0.2546  </td><td style=\"text-align: right;\">      4.49667 </td><td style=\"text-align: right;\">         0.456218  </td><td style=\"text-align: right;\">         4.28046  </td><td style=\"text-align: right;\">       0.559739</td><td style=\"text-align: right;\">      4.16881 </td><td style=\"text-align: right;\">         0.446538  </td><td style=\"text-align: right;\">          4.31604 </td><td style=\"text-align: right;\">       0.2546  </td><td style=\"text-align: right;\">      4.49667 </td><td style=\"text-align: right;\">         0.456218  </td><td style=\"text-align: right;\">         4.28046  </td><td style=\"text-align: right;\">-4.19293 </td><td style=\"text-align: right;\">  0.394976 </td><td style=\"text-align: right;\"> -4.23288</td><td style=\"text-align: right;\">  0.537773</td><td style=\"text-align: right;\"> -4.15697  </td><td style=\"text-align: right;\">  0.387848</td><td style=\"text-align: right;\">-4.19751 </td><td style=\"text-align: right;\">  0.569031 </td><td style=\"text-align: right;\"> -4.25222  </td><td style=\"text-align: right;\">  0.434129</td><td style=\"text-align: right;\">-4.11543   </td><td style=\"text-align: right;\">  0.453648</td><td style=\"text-align: right;\"> -4.33271 </td><td style=\"text-align: right;\">  0.644951</td><td style=\"text-align: right;\"> -4.19122   </td><td style=\"text-align: right;\">  0.497551</td><td style=\"text-align: right;\">-4.19726  </td><td style=\"text-align: right;\">  0.93837 </td><td style=\"text-align: right;\">-4.19633 </td><td style=\"text-align: right;\">  0.480124</td><td style=\"text-align: right;\">         0.176731 </td><td style=\"text-align: right;\">         1.86517 </td></tr>\n",
       "</tbody>\n",
       "</table><pre style='font-size: smaller; margin-bottom: 1em;'>[55031 rows x 40 columns]</pre>"
      ],
      "text/plain": [
       "Filename                                Altitude       Delta    kfold    North_pixel    East_pixel    North_pixel_a    East_pixel_a    North_pixel_a_est    East_pixel_a_est    North_pixel_h    East_pixel_h    North_pixel_h_est    East_pixel_h_est    North_pixel_p    East_pixel_p    North_pixel_p_est    East_pixel_p_est      pxl_0        pxl_1      pxl_2       pxl_3        pxl_4       pxl_5      pxl_6        pxl_7        pxl_8       pxl_9       pxl_10      pxl_11      pxl_12      pxl_13        pxl_14      pxl_15      pxl_16      pxl_17     pxl_18      pxl_19    North_prediction    East_prediction\n",
       "------------------------------------  ----------  ----------  -------  -------------  ------------  ---------------  --------------  -------------------  ------------------  ---------------  --------------  -------------------  ------------------  ---------------  --------------  -------------------  ------------------  ---------  -----------  ---------  ----------  -----------  ----------  ---------  -----------  -----------  ----------  -----------  ----------  ----------  ----------  ------------  ----------  ----------  ----------  ---------  ----------  ------------------  -----------------\n",
       "000053b1e684c9e7ea73727b2238ce18.jpg     167.943   0.0102692        0       3.94642      -3.81585          0.356597        0.257315          -0.654044            -1.04211           3.94642        -3.81585            5.85679              -8.51255          0.356597        0.257315          -0.654044            -1.04211     1.14858    -3.34092    -18.8337    17.3706      0.824883    -3.93073   -0.355776   -1.16761      1.00562     -1.44288    1.14858      -3.34092     0.824883   -3.93073    -8.14574      16.7543    -0.0748377    0.269563  -0.299238   -1.83023           -0.163717           -0.187251\n",
       "00029153d12ae1c9abe59c17ff2e0895.jpg     195.853   0.0892181        2       7.66823      -4.03186          9.36693        -2.49368            4.65447             -5.10086           7.66823        -4.03186            4.9369               -4.14951          9.36693        -2.49368            4.65447             -5.10086     2.75261     2.57346      4.36668    4.15754     4.68184      3.9578     7.69817     2.22164      2.62536      2.22768    4.38525       3.60021     3.63641     2.60415     4.08027       3.41264    4.18214      2.7522     2.42942     1.85786            0.851587           -0.603938\n",
       "0006246bee639c7a7b11a08e34dd3cc6.jpg     146.943  -0.0183258        1     -11.5494       -0.880645       -12.5184         -0.683746         -12.1243              -0.0308469       -11.5494         -0.880645         -12.1883                0.273252       -12.5184         -0.683746         -12.1243              -0.0308469  -0.169895  -12.0481      -0.13204  -12.0987     -0.0431442  -11.7316     0.027256  -12.1229      -0.0410385  -12.2621     0.00317955  -15.9282      0.132889  -11.7137      0.00201416  -11.6496    -0.202403   -11.9361    -0.197823  -11.7689            -1.90288             0.22419\n",
       "00063cb5da1826febf178b669eea3250.jpg     213.184  -0.108704         1     -28.9916        1.93089        -25.9429         -0.682081         -21.45                 4.21257         -28.9916          1.93089          -21.2372                4.1683         -25.9429         -0.682081         -21.45                 4.21257     5.89911    -5.90437      3.89936   -1.86708   -14.7143      -4.84209   -1.69508   -24.1241     -16.3963      24.7725     9.19111     -32.7008    -16.8072     -2.44435   -15.0715        2.41672   -1.62871     -5.10683   -4.40871   -24.7597            -1.33959            -0.170726\n",
       "00063ece2e68a8847f228e8fd922f851.jpg     184.758   0.0177002        0       0.184479     -6.92578         -0.165511       -6.8528             0.00832452          -6.20988           0.184479       -6.92578            0.00381415           -6.17922         -0.165511       -6.8528             0.00832452          -6.20988     6.3149     -0.0681152    6.29644   -0.425659    6.1424      -0.198502   6.49742     0.0932236    6.58315      0.140034   5.97933      -0.635529    5.92503    -0.113266    6.41425      -0.772942   5.47101     -0.318184   6.60895    -0.145115           0.0816595          -1.52923\n",
       "000838c1249fec206b77360ff0adc110.jpg     209.136  -0.544525         1       2.54224      -2.43533          2.78873        -2.46239            3.46306             -2.61436           2.54224        -2.43533            3.48015              -2.62869          2.78873        -2.46239            3.46306             -2.61436     2.38117     3.89162      2.36828    3.56954     2.63266      3.54911    2.45233     3.56828      2.45103      3.64938    2.89822       3.66876     2.58473     3.60395     2.91451       3.4528     2.63266      3.54911    2.92265     3.24918            1.50496            -1.51949\n",
       "000a8e84b013655b832041a6f362e5c9.jpg     177.72   -0.23024          4      -0.601386     -3.88556         -0.061612       -4.1541            -0.321557            -4.38535          -0.601386       -3.88556           -0.280671             -4.39763         -0.061612       -4.1541            -0.321557            -4.38535     3.88873    -0.492369     4.42173   -0.520847    4.33254     -0.263458   4.40611    -0.245636     4.39208     -0.493393   4.26459      -0.423016    4.37817    -0.565887    4.41778      -0.276993   4.09095     -0.462299   4.17667    -0.121765          -0.139893           -1.32363\n",
       "000d0c74074191add6f22e0004db8f76.jpg     200.488   0.0812378        3       3.12172      -6.69092          2.78086        -5.82139            2.14271             -5.28396           3.12172        -6.69092            2.19983              -5.08691          2.78086        -5.82139            2.14271             -5.28396     6.19389     2.58061      5.38988    2.19228     4.69729      2.00504    4.63818     2.25755      4.80048      1.88295    4.52833       1.88636     4.76211     1.88943     6.22773       2.53867    5.80002      3.7495     6.10212     2.94987            0.755356           -1.85945\n",
       "000dd3543ac84d906eae52e7c779bb2a.jpg     155.313   0.062027         4      -0.954504     -9.59106         -3.27656        -8.70192           -4.1014              -8.30099          -0.954504       -9.59106           -4.38984              -8.47304         -3.27656        -8.70192           -4.1014              -8.30099     9.49759    -1.18337      7.23822   -5.68969     7.88213     -3.91421   14.9235     -6.43969      8.47189     -4.42818    8.47189      -4.42818     7.81363    -3.73524     8.22931      -4.20756    7.84705     -3.81264    7.23822    -5.68969           -0.48064            -1.06801\n",
       "00129b07887a18a7331909231c28816e.jpg     187.643  -0.133362         4       0.559739      4.16881          0.2546          4.49667            0.456218             4.28046           0.559739        4.16881            0.446538              4.31604          0.2546          4.49667            0.456218             4.28046    -4.19293     0.394976    -4.23288    0.537773   -4.15697      0.387848  -4.19751     0.569031    -4.25222      0.434129  -4.11543       0.453648   -4.33271     0.644951   -4.19122       0.497551  -4.19726      0.93837   -4.19633     0.480124           0.176731            1.86517\n",
       "[55031 rows x 40 columns]\n"
      ]
     },
     "execution_count": 11,
     "metadata": {},
     "output_type": "execute_result"
    }
   ],
   "source": [
    "test_final = test.cbind(north_test_preds)\n",
    "test_final = test_final.cbind(east_test_preds)\n",
    "test_final.as_data_frame().to_csv('test_final.csv')\n",
    "\n",
    "test_final"
   ]
  },
  {
   "cell_type": "markdown",
   "metadata": {},
   "source": [
    "# Submission"
   ]
  },
  {
   "cell_type": "code",
   "execution_count": 12,
   "metadata": {
    "execution": {
     "iopub.execute_input": "2022-11-01T02:53:01.427685Z",
     "iopub.status.busy": "2022-11-01T02:53:01.427513Z",
     "iopub.status.idle": "2022-11-01T02:53:02.199135Z",
     "shell.execute_reply": "2022-11-01T02:53:02.198842Z"
    }
   },
   "outputs": [
    {
     "data": {
      "text/html": [
       "<div>\n",
       "<style scoped>\n",
       "    .dataframe tbody tr th:only-of-type {\n",
       "        vertical-align: middle;\n",
       "    }\n",
       "\n",
       "    .dataframe tbody tr th {\n",
       "        vertical-align: top;\n",
       "    }\n",
       "\n",
       "    .dataframe thead th {\n",
       "        text-align: right;\n",
       "    }\n",
       "</style>\n",
       "<table border=\"1\" class=\"dataframe\">\n",
       "  <thead>\n",
       "    <tr style=\"text-align: right;\">\n",
       "      <th></th>\n",
       "      <th>Id</th>\n",
       "      <th>Predicted</th>\n",
       "    </tr>\n",
       "  </thead>\n",
       "  <tbody>\n",
       "    <tr>\n",
       "      <th>0</th>\n",
       "      <td>000053b1e684c9e7ea73727b2238ce18.jpg:North</td>\n",
       "      <td>-0.163717</td>\n",
       "    </tr>\n",
       "    <tr>\n",
       "      <th>1</th>\n",
       "      <td>00029153d12ae1c9abe59c17ff2e0895.jpg:North</td>\n",
       "      <td>0.851587</td>\n",
       "    </tr>\n",
       "    <tr>\n",
       "      <th>2</th>\n",
       "      <td>0006246bee639c7a7b11a08e34dd3cc6.jpg:North</td>\n",
       "      <td>-1.902878</td>\n",
       "    </tr>\n",
       "    <tr>\n",
       "      <th>3</th>\n",
       "      <td>00063cb5da1826febf178b669eea3250.jpg:North</td>\n",
       "      <td>-1.339589</td>\n",
       "    </tr>\n",
       "    <tr>\n",
       "      <th>4</th>\n",
       "      <td>00063ece2e68a8847f228e8fd922f851.jpg:North</td>\n",
       "      <td>0.081659</td>\n",
       "    </tr>\n",
       "  </tbody>\n",
       "</table>\n",
       "</div>"
      ],
      "text/plain": [
       "                                           Id  Predicted\n",
       "0  000053b1e684c9e7ea73727b2238ce18.jpg:North  -0.163717\n",
       "1  00029153d12ae1c9abe59c17ff2e0895.jpg:North   0.851587\n",
       "2  0006246bee639c7a7b11a08e34dd3cc6.jpg:North  -1.902878\n",
       "3  00063cb5da1826febf178b669eea3250.jpg:North  -1.339589\n",
       "4  00063ece2e68a8847f228e8fd922f851.jpg:North   0.081659"
      ]
     },
     "execution_count": 12,
     "metadata": {},
     "output_type": "execute_result"
    }
   ],
   "source": [
    "submission = test_final.as_data_frame()[['Filename', 'North_prediction', 'East_prediction']]\n",
    "submission.rename({'North_prediction':'North', 'East_prediction':'East'}, axis=1, inplace=True)\n",
    "submission = submission.melt(id_vars='Filename', value_name='Predicted')\n",
    "submission['Id'] = submission.Filename + ':' + submission.variable\n",
    "submission = submission[['Id', 'Predicted']]\n",
    "submission.head()"
   ]
  },
  {
   "cell_type": "code",
   "execution_count": 13,
   "metadata": {
    "execution": {
     "iopub.execute_input": "2022-11-01T02:53:02.200729Z",
     "iopub.status.busy": "2022-11-01T02:53:02.200630Z",
     "iopub.status.idle": "2022-11-01T02:53:02.358995Z",
     "shell.execute_reply": "2022-11-01T02:53:02.358661Z"
    }
   },
   "outputs": [],
   "source": [
    "submission.to_csv('submission_h2o_rco_full.csv', index=False)"
   ]
  },
  {
   "cell_type": "markdown",
   "metadata": {},
   "source": [
    "# North Explanation"
   ]
  },
  {
   "cell_type": "code",
   "execution_count": 14,
   "metadata": {
    "execution": {
     "iopub.execute_input": "2022-11-01T02:53:02.360787Z",
     "iopub.status.busy": "2022-11-01T02:53:02.360680Z",
     "iopub.status.idle": "2022-11-01T02:53:02.362684Z",
     "shell.execute_reply": "2022-11-01T02:53:02.362406Z"
    }
   },
   "outputs": [],
   "source": [
    "# north_aml.explain(train)"
   ]
  },
  {
   "cell_type": "markdown",
   "metadata": {},
   "source": [
    "# East Explanation"
   ]
  },
  {
   "cell_type": "code",
   "execution_count": 15,
   "metadata": {
    "execution": {
     "iopub.execute_input": "2022-11-01T02:53:02.363995Z",
     "iopub.status.busy": "2022-11-01T02:53:02.363917Z",
     "iopub.status.idle": "2022-11-01T02:53:02.365544Z",
     "shell.execute_reply": "2022-11-01T02:53:02.365276Z"
    }
   },
   "outputs": [],
   "source": [
    "# east_aml.explain(train)"
   ]
  },
  {
   "cell_type": "code",
   "execution_count": 16,
   "metadata": {
    "execution": {
     "iopub.execute_input": "2022-11-01T02:53:02.366826Z",
     "iopub.status.busy": "2022-11-01T02:53:02.366729Z",
     "iopub.status.idle": "2022-11-01T02:53:02.382199Z",
     "shell.execute_reply": "2022-11-01T02:53:02.381913Z"
    }
   },
   "outputs": [
    {
     "name": "stdout",
     "output_type": "stream",
     "text": [
      "H2O session _sid_9587 closed.\n"
     ]
    },
    {
     "name": "stderr",
     "output_type": "stream",
     "text": [
      "/tmp/ipykernel_226593/2900054706.py:1: H2ODeprecationWarning: Deprecated, use ``h2o.cluster().shutdown()``.\n",
      "  h2o.shutdown()\n"
     ]
    }
   ],
   "source": [
    "h2o.shutdown()"
   ]
  },
  {
   "cell_type": "code",
   "execution_count": 17,
   "metadata": {
    "execution": {
     "iopub.execute_input": "2022-11-01T02:53:02.383540Z",
     "iopub.status.busy": "2022-11-01T02:53:02.383432Z",
     "iopub.status.idle": "2022-11-01T02:53:02.550407Z",
     "shell.execute_reply": "2022-11-01T02:53:02.550088Z"
    }
   },
   "outputs": [
    {
     "name": "stdout",
     "output_type": "stream",
     "text": [
      "/bin/bash: line 1: kaggle: command not found\r\n"
     ]
    }
   ],
   "source": [
    "!kaggle competitions submit -c kddbr-2022 -f submission_h2o_rco_full.csv -m \"RCO Lab 5 Odometria Full\""
   ]
  },
  {
   "cell_type": "code",
   "execution_count": null,
   "metadata": {},
   "outputs": [],
   "source": []
  }
 ],
 "metadata": {
  "kernelspec": {
   "display_name": "Python 3.9.12 ('kdd22')",
   "language": "python",
   "name": "python3"
  },
  "language_info": {
   "codemirror_mode": {
    "name": "ipython",
    "version": 3
   },
   "file_extension": ".py",
   "mimetype": "text/x-python",
   "name": "python",
   "nbconvert_exporter": "python",
   "pygments_lexer": "ipython3",
   "version": "3.9.12"
  },
  "vscode": {
   "interpreter": {
    "hash": "9c77c43746d93b9a067aadc04b2ec90c79cf589b8baab80a26b65072ec10c027"
   }
  }
 },
 "nbformat": 4,
 "nbformat_minor": 4
}
