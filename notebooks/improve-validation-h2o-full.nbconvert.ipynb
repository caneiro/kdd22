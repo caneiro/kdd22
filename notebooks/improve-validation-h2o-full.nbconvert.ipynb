{
 "cells": [
  {
   "cell_type": "markdown",
   "metadata": {},
   "source": [
    "# Single Output Regression"
   ]
  },
  {
   "cell_type": "code",
   "execution_count": 1,
   "metadata": {
    "_cell_guid": "b1076dfc-b9ad-4769-8c92-a6c4dae69d19",
    "_uuid": "8f2839f25d086af736a60e9eeb907d3b93b6e0e5",
    "execution": {
     "iopub.execute_input": "2022-11-21T15:39:39.988585Z",
     "iopub.status.busy": "2022-11-21T15:39:39.988373Z",
     "iopub.status.idle": "2022-11-21T15:39:41.120531Z",
     "shell.execute_reply": "2022-11-21T15:39:41.120242Z"
    }
   },
   "outputs": [
    {
     "name": "stdout",
     "output_type": "stream",
     "text": [
      "/home/rco/DS/kdd22/data/raw\n"
     ]
    }
   ],
   "source": [
    "import os\n",
    "import sys\n",
    "import numpy as np\n",
    "import pandas as pd\n",
    "from tqdm.auto import tqdm\n",
    "import matplotlib.pyplot as plt\n",
    "from pathlib import Path\n",
    "\n",
    "SEED = 42\n",
    "HOME = Path.cwd().parent\n",
    "RAW_PATH = HOME / 'data/raw'\n",
    "print(RAW_PATH)\n",
    "MAX_TIME = 360"
   ]
  },
  {
   "cell_type": "code",
   "execution_count": 2,
   "metadata": {
    "execution": {
     "iopub.execute_input": "2022-11-21T15:39:41.149665Z",
     "iopub.status.busy": "2022-11-21T15:39:41.149554Z",
     "iopub.status.idle": "2022-11-21T15:39:41.330147Z",
     "shell.execute_reply": "2022-11-21T15:39:41.329888Z"
    }
   },
   "outputs": [
    {
     "name": "stdout",
     "output_type": "stream",
     "text": [
      "(146262, 6)\n"
     ]
    },
    {
     "data": {
      "text/html": [
       "<div>\n",
       "<style scoped>\n",
       "    .dataframe tbody tr th:only-of-type {\n",
       "        vertical-align: middle;\n",
       "    }\n",
       "\n",
       "    .dataframe tbody tr th {\n",
       "        vertical-align: top;\n",
       "    }\n",
       "\n",
       "    .dataframe thead th {\n",
       "        text-align: right;\n",
       "    }\n",
       "</style>\n",
       "<table border=\"1\" class=\"dataframe\">\n",
       "  <thead>\n",
       "    <tr style=\"text-align: right;\">\n",
       "      <th></th>\n",
       "      <th>Filename</th>\n",
       "      <th>Altitude</th>\n",
       "      <th>Delta</th>\n",
       "      <th>North</th>\n",
       "      <th>East</th>\n",
       "      <th>kfold</th>\n",
       "    </tr>\n",
       "  </thead>\n",
       "  <tbody>\n",
       "    <tr>\n",
       "      <th>0</th>\n",
       "      <td>00003e3b9e5336685200ae85d21b4f5e.jpg</td>\n",
       "      <td>178.829834</td>\n",
       "      <td>-0.065231</td>\n",
       "      <td>-0.386045</td>\n",
       "      <td>0.929772</td>\n",
       "      <td>0</td>\n",
       "    </tr>\n",
       "    <tr>\n",
       "      <th>1</th>\n",
       "      <td>0001261e2060303a06ba6c64d676d639.jpg</td>\n",
       "      <td>207.921478</td>\n",
       "      <td>-0.080688</td>\n",
       "      <td>0.635584</td>\n",
       "      <td>0.152819</td>\n",
       "      <td>2</td>\n",
       "    </tr>\n",
       "    <tr>\n",
       "      <th>2</th>\n",
       "      <td>0002ac0d783338cfeab0b2bdbd872cda.jpg</td>\n",
       "      <td>178.048431</td>\n",
       "      <td>0.021576</td>\n",
       "      <td>-1.228229</td>\n",
       "      <td>-0.499388</td>\n",
       "      <td>3</td>\n",
       "    </tr>\n",
       "    <tr>\n",
       "      <th>3</th>\n",
       "      <td>0004289ee1c7b8b08c77e19878106ae3.jpg</td>\n",
       "      <td>201.084625</td>\n",
       "      <td>0.505981</td>\n",
       "      <td>-1.739709</td>\n",
       "      <td>-0.699928</td>\n",
       "      <td>1</td>\n",
       "    </tr>\n",
       "    <tr>\n",
       "      <th>4</th>\n",
       "      <td>0004d0b59e19461ff126e3a08a814c33.jpg</td>\n",
       "      <td>187.550201</td>\n",
       "      <td>-0.328156</td>\n",
       "      <td>-0.169798</td>\n",
       "      <td>2.828752</td>\n",
       "      <td>0</td>\n",
       "    </tr>\n",
       "  </tbody>\n",
       "</table>\n",
       "</div>"
      ],
      "text/plain": [
       "                               Filename    Altitude     Delta     North  \\\n",
       "0  00003e3b9e5336685200ae85d21b4f5e.jpg  178.829834 -0.065231 -0.386045   \n",
       "1  0001261e2060303a06ba6c64d676d639.jpg  207.921478 -0.080688  0.635584   \n",
       "2  0002ac0d783338cfeab0b2bdbd872cda.jpg  178.048431  0.021576 -1.228229   \n",
       "3  0004289ee1c7b8b08c77e19878106ae3.jpg  201.084625  0.505981 -1.739709   \n",
       "4  0004d0b59e19461ff126e3a08a814c33.jpg  187.550201 -0.328156 -0.169798   \n",
       "\n",
       "       East  kfold  \n",
       "0  0.929772      0  \n",
       "1  0.152819      2  \n",
       "2 -0.499388      3  \n",
       "3 -0.699928      1  \n",
       "4  2.828752      0  "
      ]
     },
     "execution_count": 2,
     "metadata": {},
     "output_type": "execute_result"
    }
   ],
   "source": [
    "pub = pd.read_csv(RAW_PATH / 'public.csv')\n",
    "print(pub.shape)\n",
    "pub.head()"
   ]
  },
  {
   "cell_type": "code",
   "execution_count": 3,
   "metadata": {
    "execution": {
     "iopub.execute_input": "2022-11-21T15:39:41.331601Z",
     "iopub.status.busy": "2022-11-21T15:39:41.331521Z",
     "iopub.status.idle": "2022-11-21T15:39:43.131034Z",
     "shell.execute_reply": "2022-11-21T15:39:43.130706Z"
    }
   },
   "outputs": [
    {
     "name": "stdout",
     "output_type": "stream",
     "text": [
      "(91231, 8)\n",
      "(91231, 10)\n",
      "(91231, 12)\n",
      "(91231, 14)\n",
      "(91231, 16)\n",
      "(91231, 18)\n",
      "(91231, 20)\n",
      "(91231, 22)\n",
      "(91231, 24)\n",
      "(91231, 26)\n",
      "(91231, 28)\n",
      "(91231, 30)\n",
      "(91231, 32)\n",
      "(91231, 34)\n",
      "(91231, 36)\n",
      "(91231, 38)\n",
      "(91231, 40)\n",
      "(91231, 42)\n",
      "(91231, 44)\n",
      "(91231, 46)\n",
      "(91231, 48)\n",
      "(91231, 50)\n",
      "(91231, 52)\n"
     ]
    },
    {
     "data": {
      "text/html": [
       "<div>\n",
       "<style scoped>\n",
       "    .dataframe tbody tr th:only-of-type {\n",
       "        vertical-align: middle;\n",
       "    }\n",
       "\n",
       "    .dataframe tbody tr th {\n",
       "        vertical-align: top;\n",
       "    }\n",
       "\n",
       "    .dataframe thead th {\n",
       "        text-align: right;\n",
       "    }\n",
       "</style>\n",
       "<table border=\"1\" class=\"dataframe\">\n",
       "  <thead>\n",
       "    <tr style=\"text-align: right;\">\n",
       "      <th></th>\n",
       "      <th>Filename</th>\n",
       "      <th>Altitude</th>\n",
       "      <th>Delta</th>\n",
       "      <th>North</th>\n",
       "      <th>East</th>\n",
       "      <th>kfold</th>\n",
       "      <th>North_pixel</th>\n",
       "      <th>East_pixel</th>\n",
       "      <th>North_pixel_a</th>\n",
       "      <th>East_pixel_a</th>\n",
       "      <th>...</th>\n",
       "      <th>North_pixel_SIFT_BRUTE_RHO</th>\n",
       "      <th>East_pixel_SIFT_BRUTE_RHO</th>\n",
       "      <th>North_pixel_SIFT_FLANN_LMEDS</th>\n",
       "      <th>East_pixel_SIFT_FLANN_LMEDS</th>\n",
       "      <th>North_pixel_SIFT_FLANN_NAIVE</th>\n",
       "      <th>East_pixel_SIFT_FLANN_NAIVE</th>\n",
       "      <th>North_pixel_SIFT_FLANN_RANSAC</th>\n",
       "      <th>East_pixel_SIFT_FLANN_RANSAC</th>\n",
       "      <th>North_pixel_SIFT_FLANN_RHO</th>\n",
       "      <th>East_pixel_SIFT_FLANN_RHO</th>\n",
       "    </tr>\n",
       "  </thead>\n",
       "  <tbody>\n",
       "    <tr>\n",
       "      <th>0</th>\n",
       "      <td>00003e3b9e5336685200ae85d21b4f5e.jpg</td>\n",
       "      <td>178.829834</td>\n",
       "      <td>-0.065231</td>\n",
       "      <td>-0.386045</td>\n",
       "      <td>0.929772</td>\n",
       "      <td>0</td>\n",
       "      <td>-1.098183</td>\n",
       "      <td>2.828369</td>\n",
       "      <td>-1.296189</td>\n",
       "      <td>2.868935</td>\n",
       "      <td>...</td>\n",
       "      <td>NaN</td>\n",
       "      <td>NaN</td>\n",
       "      <td>NaN</td>\n",
       "      <td>NaN</td>\n",
       "      <td>NaN</td>\n",
       "      <td>NaN</td>\n",
       "      <td>NaN</td>\n",
       "      <td>NaN</td>\n",
       "      <td>NaN</td>\n",
       "      <td>NaN</td>\n",
       "    </tr>\n",
       "    <tr>\n",
       "      <th>1</th>\n",
       "      <td>0001261e2060303a06ba6c64d676d639.jpg</td>\n",
       "      <td>207.921478</td>\n",
       "      <td>-0.080688</td>\n",
       "      <td>0.635584</td>\n",
       "      <td>0.152819</td>\n",
       "      <td>2</td>\n",
       "      <td>1.452448</td>\n",
       "      <td>0.207358</td>\n",
       "      <td>0.847966</td>\n",
       "      <td>0.356077</td>\n",
       "      <td>...</td>\n",
       "      <td>NaN</td>\n",
       "      <td>NaN</td>\n",
       "      <td>NaN</td>\n",
       "      <td>NaN</td>\n",
       "      <td>23.903748</td>\n",
       "      <td>-18.196305</td>\n",
       "      <td>NaN</td>\n",
       "      <td>NaN</td>\n",
       "      <td>NaN</td>\n",
       "      <td>NaN</td>\n",
       "    </tr>\n",
       "    <tr>\n",
       "      <th>2</th>\n",
       "      <td>0002ac0d783338cfeab0b2bdbd872cda.jpg</td>\n",
       "      <td>178.048431</td>\n",
       "      <td>0.021576</td>\n",
       "      <td>-1.228229</td>\n",
       "      <td>-0.499388</td>\n",
       "      <td>3</td>\n",
       "      <td>-3.544215</td>\n",
       "      <td>-1.494362</td>\n",
       "      <td>-3.517452</td>\n",
       "      <td>-1.592591</td>\n",
       "      <td>...</td>\n",
       "      <td>NaN</td>\n",
       "      <td>NaN</td>\n",
       "      <td>NaN</td>\n",
       "      <td>NaN</td>\n",
       "      <td>NaN</td>\n",
       "      <td>NaN</td>\n",
       "      <td>NaN</td>\n",
       "      <td>NaN</td>\n",
       "      <td>NaN</td>\n",
       "      <td>NaN</td>\n",
       "    </tr>\n",
       "    <tr>\n",
       "      <th>3</th>\n",
       "      <td>0004289ee1c7b8b08c77e19878106ae3.jpg</td>\n",
       "      <td>201.084625</td>\n",
       "      <td>0.505981</td>\n",
       "      <td>-1.739709</td>\n",
       "      <td>-0.699928</td>\n",
       "      <td>1</td>\n",
       "      <td>-6.054061</td>\n",
       "      <td>-4.082150</td>\n",
       "      <td>-6.091535</td>\n",
       "      <td>-3.099275</td>\n",
       "      <td>...</td>\n",
       "      <td>-6.663898</td>\n",
       "      <td>-3.789955</td>\n",
       "      <td>-6.607596</td>\n",
       "      <td>-3.825182</td>\n",
       "      <td>-6.040889</td>\n",
       "      <td>-3.597447</td>\n",
       "      <td>-6.656188</td>\n",
       "      <td>-3.796844</td>\n",
       "      <td>-6.663898</td>\n",
       "      <td>-3.789955</td>\n",
       "    </tr>\n",
       "    <tr>\n",
       "      <th>4</th>\n",
       "      <td>0004d0b59e19461ff126e3a08a814c33.jpg</td>\n",
       "      <td>187.550201</td>\n",
       "      <td>-0.328156</td>\n",
       "      <td>-0.169798</td>\n",
       "      <td>2.828752</td>\n",
       "      <td>0</td>\n",
       "      <td>-0.690250</td>\n",
       "      <td>8.232869</td>\n",
       "      <td>-0.449659</td>\n",
       "      <td>8.125691</td>\n",
       "      <td>...</td>\n",
       "      <td>-6.196263</td>\n",
       "      <td>7.616971</td>\n",
       "      <td>7.517969</td>\n",
       "      <td>-3.088306</td>\n",
       "      <td>-6.196800</td>\n",
       "      <td>7.616973</td>\n",
       "      <td>-170.353988</td>\n",
       "      <td>134.741365</td>\n",
       "      <td>-6.196263</td>\n",
       "      <td>7.616971</td>\n",
       "    </tr>\n",
       "  </tbody>\n",
       "</table>\n",
       "<p>5 rows × 52 columns</p>\n",
       "</div>"
      ],
      "text/plain": [
       "                               Filename    Altitude     Delta     North  \\\n",
       "0  00003e3b9e5336685200ae85d21b4f5e.jpg  178.829834 -0.065231 -0.386045   \n",
       "1  0001261e2060303a06ba6c64d676d639.jpg  207.921478 -0.080688  0.635584   \n",
       "2  0002ac0d783338cfeab0b2bdbd872cda.jpg  178.048431  0.021576 -1.228229   \n",
       "3  0004289ee1c7b8b08c77e19878106ae3.jpg  201.084625  0.505981 -1.739709   \n",
       "4  0004d0b59e19461ff126e3a08a814c33.jpg  187.550201 -0.328156 -0.169798   \n",
       "\n",
       "       East  kfold  North_pixel  East_pixel  North_pixel_a  East_pixel_a  ...  \\\n",
       "0  0.929772      0    -1.098183    2.828369      -1.296189      2.868935  ...   \n",
       "1  0.152819      2     1.452448    0.207358       0.847966      0.356077  ...   \n",
       "2 -0.499388      3    -3.544215   -1.494362      -3.517452     -1.592591  ...   \n",
       "3 -0.699928      1    -6.054061   -4.082150      -6.091535     -3.099275  ...   \n",
       "4  2.828752      0    -0.690250    8.232869      -0.449659      8.125691  ...   \n",
       "\n",
       "   North_pixel_SIFT_BRUTE_RHO  East_pixel_SIFT_BRUTE_RHO  \\\n",
       "0                         NaN                        NaN   \n",
       "1                         NaN                        NaN   \n",
       "2                         NaN                        NaN   \n",
       "3                   -6.663898                  -3.789955   \n",
       "4                   -6.196263                   7.616971   \n",
       "\n",
       "   North_pixel_SIFT_FLANN_LMEDS  East_pixel_SIFT_FLANN_LMEDS  \\\n",
       "0                           NaN                          NaN   \n",
       "1                           NaN                          NaN   \n",
       "2                           NaN                          NaN   \n",
       "3                     -6.607596                    -3.825182   \n",
       "4                      7.517969                    -3.088306   \n",
       "\n",
       "   North_pixel_SIFT_FLANN_NAIVE  East_pixel_SIFT_FLANN_NAIVE  \\\n",
       "0                           NaN                          NaN   \n",
       "1                     23.903748                   -18.196305   \n",
       "2                           NaN                          NaN   \n",
       "3                     -6.040889                    -3.597447   \n",
       "4                     -6.196800                     7.616973   \n",
       "\n",
       "   North_pixel_SIFT_FLANN_RANSAC  East_pixel_SIFT_FLANN_RANSAC  \\\n",
       "0                            NaN                           NaN   \n",
       "1                            NaN                           NaN   \n",
       "2                            NaN                           NaN   \n",
       "3                      -6.656188                     -3.796844   \n",
       "4                    -170.353988                    134.741365   \n",
       "\n",
       "   North_pixel_SIFT_FLANN_RHO  East_pixel_SIFT_FLANN_RHO  \n",
       "0                         NaN                        NaN  \n",
       "1                         NaN                        NaN  \n",
       "2                         NaN                        NaN  \n",
       "3                   -6.663898                  -3.789955  \n",
       "4                   -6.196263                   7.616971  \n",
       "\n",
       "[5 rows x 52 columns]"
      ]
     },
     "execution_count": 3,
     "metadata": {},
     "output_type": "execute_result"
    }
   ],
   "source": [
    "suffixes = [\n",
    "    '', '_a', '_a_est', '_h', '_h_est', '_p', '_p_est',\n",
    "    '_AKAZE_BRUTE_LMEDS', '_AKAZE_BRUTE_NAIVE', '_AKAZE_BRUTE_RANSAC', '_AKAZE_BRUTE_RHO',\n",
    "    '_BRISK_BRUTE_LMEDS', '_BRISK_BRUTE_NAIVE', '_BRISK_BRUTE_RANSAC', '_BRISK_BRUTE_RHO',\n",
    "    '_SIFT_BRUTE_LMEDS', '_SIFT_BRUTE_NAIVE', '_SIFT_BRUTE_RANSAC', '_SIFT_BRUTE_RHO',\n",
    "    '_SIFT_FLANN_LMEDS', '_SIFT_FLANN_NAIVE', '_SIFT_FLANN_RANSAC', '_SIFT_FLANN_RHO',    \n",
    "]\n",
    "\n",
    "def merge_pixels_dist(dataset='train', suffixes=suffixes):\n",
    "    df_final = pub.copy()\n",
    "    for s in suffixes:\n",
    "        filename = 'pixels_dist_' + dataset + s + '.csv'\n",
    "        df_right = pd.read_csv(RAW_PATH / filename)\n",
    "        df_right.rename({'Images':'Filename'}, axis=1, inplace=True)\n",
    "        df_final = df_final.merge(df_right, on='Filename', how='inner', suffixes=(None, s))\n",
    "        print(df_final.shape)\n",
    "\n",
    "    return df_final\n",
    "\n",
    "train = merge_pixels_dist('train')\n",
    "train.head()"
   ]
  },
  {
   "cell_type": "code",
   "execution_count": 4,
   "metadata": {
    "execution": {
     "iopub.execute_input": "2022-11-21T15:39:43.132479Z",
     "iopub.status.busy": "2022-11-21T15:39:43.132401Z",
     "iopub.status.idle": "2022-11-21T15:39:43.145503Z",
     "shell.execute_reply": "2022-11-21T15:39:43.145271Z"
    }
   },
   "outputs": [
    {
     "data": {
      "text/plain": [
       "Filename                              0\n",
       "Altitude                              0\n",
       "Delta                                 0\n",
       "North                                 0\n",
       "East                                  0\n",
       "kfold                                 0\n",
       "North_pixel                           0\n",
       "East_pixel                            0\n",
       "North_pixel_a                         0\n",
       "East_pixel_a                          0\n",
       "North_pixel_a_est                     0\n",
       "East_pixel_a_est                      0\n",
       "North_pixel_h                         0\n",
       "East_pixel_h                          0\n",
       "North_pixel_h_est                     0\n",
       "East_pixel_h_est                      0\n",
       "North_pixel_p                         0\n",
       "East_pixel_p                          0\n",
       "North_pixel_p_est                     0\n",
       "East_pixel_p_est                      0\n",
       "North_pixel_AKAZE_BRUTE_LMEDS     71961\n",
       "East_pixel_AKAZE_BRUTE_LMEDS      71961\n",
       "North_pixel_AKAZE_BRUTE_NAIVE     71939\n",
       "East_pixel_AKAZE_BRUTE_NAIVE      71939\n",
       "North_pixel_AKAZE_BRUTE_RANSAC    71960\n",
       "East_pixel_AKAZE_BRUTE_RANSAC     71960\n",
       "North_pixel_AKAZE_BRUTE_RHO       72189\n",
       "East_pixel_AKAZE_BRUTE_RHO        72189\n",
       "North_pixel_BRISK_BRUTE_LMEDS     55964\n",
       "East_pixel_BRISK_BRUTE_LMEDS      55964\n",
       "North_pixel_BRISK_BRUTE_NAIVE     55667\n",
       "East_pixel_BRISK_BRUTE_NAIVE      55667\n",
       "North_pixel_BRISK_BRUTE_RANSAC    55963\n",
       "East_pixel_BRISK_BRUTE_RANSAC     55963\n",
       "North_pixel_BRISK_BRUTE_RHO       56758\n",
       "East_pixel_BRISK_BRUTE_RHO        56758\n",
       "North_pixel_SIFT_BRUTE_LMEDS      20829\n",
       "East_pixel_SIFT_BRUTE_LMEDS       20829\n",
       "North_pixel_SIFT_BRUTE_NAIVE      20047\n",
       "East_pixel_SIFT_BRUTE_NAIVE       20047\n",
       "North_pixel_SIFT_BRUTE_RANSAC     20827\n",
       "East_pixel_SIFT_BRUTE_RANSAC      20827\n",
       "North_pixel_SIFT_BRUTE_RHO        21747\n",
       "East_pixel_SIFT_BRUTE_RHO         21747\n",
       "North_pixel_SIFT_FLANN_LMEDS      20815\n",
       "East_pixel_SIFT_FLANN_LMEDS       20815\n",
       "North_pixel_SIFT_FLANN_NAIVE      20028\n",
       "East_pixel_SIFT_FLANN_NAIVE       20028\n",
       "North_pixel_SIFT_FLANN_RANSAC     20813\n",
       "East_pixel_SIFT_FLANN_RANSAC      20813\n",
       "North_pixel_SIFT_FLANN_RHO        21743\n",
       "East_pixel_SIFT_FLANN_RHO         21743\n",
       "dtype: int64"
      ]
     },
     "execution_count": 4,
     "metadata": {},
     "output_type": "execute_result"
    }
   ],
   "source": [
    "train.isna().sum()"
   ]
  },
  {
   "cell_type": "code",
   "execution_count": 5,
   "metadata": {
    "execution": {
     "iopub.execute_input": "2022-11-21T15:39:43.146931Z",
     "iopub.status.busy": "2022-11-21T15:39:43.146792Z",
     "iopub.status.idle": "2022-11-21T15:39:44.313835Z",
     "shell.execute_reply": "2022-11-21T15:39:44.313574Z"
    }
   },
   "outputs": [
    {
     "name": "stdout",
     "output_type": "stream",
     "text": [
      "(55031, 8)\n",
      "(55031, 10)\n",
      "(55031, 12)\n",
      "(55031, 14)\n",
      "(55031, 16)\n",
      "(55031, 18)\n",
      "(55031, 20)\n",
      "(55031, 22)\n",
      "(55031, 24)\n",
      "(55031, 26)\n",
      "(55031, 28)\n",
      "(55031, 30)\n",
      "(55031, 32)\n",
      "(55031, 34)\n",
      "(55031, 36)\n",
      "(55031, 38)\n",
      "(55031, 40)\n",
      "(55031, 42)\n",
      "(55031, 44)\n",
      "(55031, 46)\n",
      "(55031, 48)\n",
      "(55031, 50)\n",
      "(55031, 52)\n"
     ]
    },
    {
     "data": {
      "text/html": [
       "<div>\n",
       "<style scoped>\n",
       "    .dataframe tbody tr th:only-of-type {\n",
       "        vertical-align: middle;\n",
       "    }\n",
       "\n",
       "    .dataframe tbody tr th {\n",
       "        vertical-align: top;\n",
       "    }\n",
       "\n",
       "    .dataframe thead th {\n",
       "        text-align: right;\n",
       "    }\n",
       "</style>\n",
       "<table border=\"1\" class=\"dataframe\">\n",
       "  <thead>\n",
       "    <tr style=\"text-align: right;\">\n",
       "      <th></th>\n",
       "      <th>Filename</th>\n",
       "      <th>Altitude</th>\n",
       "      <th>Delta</th>\n",
       "      <th>kfold</th>\n",
       "      <th>North_pixel</th>\n",
       "      <th>East_pixel</th>\n",
       "      <th>North_pixel_a</th>\n",
       "      <th>East_pixel_a</th>\n",
       "      <th>North_pixel_a_est</th>\n",
       "      <th>East_pixel_a_est</th>\n",
       "      <th>...</th>\n",
       "      <th>North_pixel_SIFT_BRUTE_RHO</th>\n",
       "      <th>East_pixel_SIFT_BRUTE_RHO</th>\n",
       "      <th>North_pixel_SIFT_FLANN_LMEDS</th>\n",
       "      <th>East_pixel_SIFT_FLANN_LMEDS</th>\n",
       "      <th>North_pixel_SIFT_FLANN_NAIVE</th>\n",
       "      <th>East_pixel_SIFT_FLANN_NAIVE</th>\n",
       "      <th>North_pixel_SIFT_FLANN_RANSAC</th>\n",
       "      <th>East_pixel_SIFT_FLANN_RANSAC</th>\n",
       "      <th>North_pixel_SIFT_FLANN_RHO</th>\n",
       "      <th>East_pixel_SIFT_FLANN_RHO</th>\n",
       "    </tr>\n",
       "  </thead>\n",
       "  <tbody>\n",
       "    <tr>\n",
       "      <th>0</th>\n",
       "      <td>000053b1e684c9e7ea73727b2238ce18.jpg</td>\n",
       "      <td>167.943069</td>\n",
       "      <td>0.010269</td>\n",
       "      <td>0</td>\n",
       "      <td>3.946422</td>\n",
       "      <td>-3.815853</td>\n",
       "      <td>0.356597</td>\n",
       "      <td>0.257315</td>\n",
       "      <td>-0.654044</td>\n",
       "      <td>-1.042109</td>\n",
       "      <td>...</td>\n",
       "      <td>0.443088</td>\n",
       "      <td>-1.526153</td>\n",
       "      <td>-0.470444</td>\n",
       "      <td>-0.754269</td>\n",
       "      <td>10.995839</td>\n",
       "      <td>-0.358159</td>\n",
       "      <td>0.443423</td>\n",
       "      <td>-1.526497</td>\n",
       "      <td>0.443088</td>\n",
       "      <td>-1.526153</td>\n",
       "    </tr>\n",
       "    <tr>\n",
       "      <th>1</th>\n",
       "      <td>00029153d12ae1c9abe59c17ff2e0895.jpg</td>\n",
       "      <td>195.853088</td>\n",
       "      <td>0.089218</td>\n",
       "      <td>2</td>\n",
       "      <td>7.668228</td>\n",
       "      <td>-4.031865</td>\n",
       "      <td>9.366933</td>\n",
       "      <td>-2.493681</td>\n",
       "      <td>4.654472</td>\n",
       "      <td>-5.100857</td>\n",
       "      <td>...</td>\n",
       "      <td>4.415534</td>\n",
       "      <td>-4.538845</td>\n",
       "      <td>4.284171</td>\n",
       "      <td>-4.748016</td>\n",
       "      <td>7.236310</td>\n",
       "      <td>-4.976488</td>\n",
       "      <td>3.958514</td>\n",
       "      <td>-4.858515</td>\n",
       "      <td>4.525055</td>\n",
       "      <td>-4.982488</td>\n",
       "    </tr>\n",
       "    <tr>\n",
       "      <th>2</th>\n",
       "      <td>0006246bee639c7a7b11a08e34dd3cc6.jpg</td>\n",
       "      <td>146.943466</td>\n",
       "      <td>-0.018326</td>\n",
       "      <td>1</td>\n",
       "      <td>-11.549439</td>\n",
       "      <td>-0.880645</td>\n",
       "      <td>-12.518370</td>\n",
       "      <td>-0.683746</td>\n",
       "      <td>-12.124315</td>\n",
       "      <td>-0.030847</td>\n",
       "      <td>...</td>\n",
       "      <td>-9.074724</td>\n",
       "      <td>-2.169099</td>\n",
       "      <td>-14.500685</td>\n",
       "      <td>1.631856</td>\n",
       "      <td>-12.764941</td>\n",
       "      <td>0.355107</td>\n",
       "      <td>-12.964120</td>\n",
       "      <td>0.778776</td>\n",
       "      <td>-9.074724</td>\n",
       "      <td>-2.169099</td>\n",
       "    </tr>\n",
       "    <tr>\n",
       "      <th>3</th>\n",
       "      <td>00063cb5da1826febf178b669eea3250.jpg</td>\n",
       "      <td>213.184418</td>\n",
       "      <td>-0.108704</td>\n",
       "      <td>1</td>\n",
       "      <td>-28.991636</td>\n",
       "      <td>1.930891</td>\n",
       "      <td>-25.942930</td>\n",
       "      <td>-0.682081</td>\n",
       "      <td>-21.449981</td>\n",
       "      <td>4.212570</td>\n",
       "      <td>...</td>\n",
       "      <td>NaN</td>\n",
       "      <td>NaN</td>\n",
       "      <td>NaN</td>\n",
       "      <td>NaN</td>\n",
       "      <td>NaN</td>\n",
       "      <td>NaN</td>\n",
       "      <td>NaN</td>\n",
       "      <td>NaN</td>\n",
       "      <td>NaN</td>\n",
       "      <td>NaN</td>\n",
       "    </tr>\n",
       "    <tr>\n",
       "      <th>4</th>\n",
       "      <td>00063ece2e68a8847f228e8fd922f851.jpg</td>\n",
       "      <td>184.757767</td>\n",
       "      <td>0.017700</td>\n",
       "      <td>0</td>\n",
       "      <td>0.184479</td>\n",
       "      <td>-6.925782</td>\n",
       "      <td>-0.165511</td>\n",
       "      <td>-6.852798</td>\n",
       "      <td>0.008325</td>\n",
       "      <td>-6.209880</td>\n",
       "      <td>...</td>\n",
       "      <td>0.022668</td>\n",
       "      <td>-7.066797</td>\n",
       "      <td>0.042003</td>\n",
       "      <td>-7.247810</td>\n",
       "      <td>-6.396505</td>\n",
       "      <td>-4.188550</td>\n",
       "      <td>0.022715</td>\n",
       "      <td>-7.066961</td>\n",
       "      <td>0.022668</td>\n",
       "      <td>-7.066797</td>\n",
       "    </tr>\n",
       "  </tbody>\n",
       "</table>\n",
       "<p>5 rows × 50 columns</p>\n",
       "</div>"
      ],
      "text/plain": [
       "                               Filename    Altitude     Delta  kfold  \\\n",
       "0  000053b1e684c9e7ea73727b2238ce18.jpg  167.943069  0.010269      0   \n",
       "1  00029153d12ae1c9abe59c17ff2e0895.jpg  195.853088  0.089218      2   \n",
       "2  0006246bee639c7a7b11a08e34dd3cc6.jpg  146.943466 -0.018326      1   \n",
       "3  00063cb5da1826febf178b669eea3250.jpg  213.184418 -0.108704      1   \n",
       "4  00063ece2e68a8847f228e8fd922f851.jpg  184.757767  0.017700      0   \n",
       "\n",
       "   North_pixel  East_pixel  North_pixel_a  East_pixel_a  North_pixel_a_est  \\\n",
       "0     3.946422   -3.815853       0.356597      0.257315          -0.654044   \n",
       "1     7.668228   -4.031865       9.366933     -2.493681           4.654472   \n",
       "2   -11.549439   -0.880645     -12.518370     -0.683746         -12.124315   \n",
       "3   -28.991636    1.930891     -25.942930     -0.682081         -21.449981   \n",
       "4     0.184479   -6.925782      -0.165511     -6.852798           0.008325   \n",
       "\n",
       "   East_pixel_a_est  ...  North_pixel_SIFT_BRUTE_RHO  \\\n",
       "0         -1.042109  ...                    0.443088   \n",
       "1         -5.100857  ...                    4.415534   \n",
       "2         -0.030847  ...                   -9.074724   \n",
       "3          4.212570  ...                         NaN   \n",
       "4         -6.209880  ...                    0.022668   \n",
       "\n",
       "   East_pixel_SIFT_BRUTE_RHO  North_pixel_SIFT_FLANN_LMEDS  \\\n",
       "0                  -1.526153                     -0.470444   \n",
       "1                  -4.538845                      4.284171   \n",
       "2                  -2.169099                    -14.500685   \n",
       "3                        NaN                           NaN   \n",
       "4                  -7.066797                      0.042003   \n",
       "\n",
       "   East_pixel_SIFT_FLANN_LMEDS  North_pixel_SIFT_FLANN_NAIVE  \\\n",
       "0                    -0.754269                     10.995839   \n",
       "1                    -4.748016                      7.236310   \n",
       "2                     1.631856                    -12.764941   \n",
       "3                          NaN                           NaN   \n",
       "4                    -7.247810                     -6.396505   \n",
       "\n",
       "   East_pixel_SIFT_FLANN_NAIVE  North_pixel_SIFT_FLANN_RANSAC  \\\n",
       "0                    -0.358159                       0.443423   \n",
       "1                    -4.976488                       3.958514   \n",
       "2                     0.355107                     -12.964120   \n",
       "3                          NaN                            NaN   \n",
       "4                    -4.188550                       0.022715   \n",
       "\n",
       "   East_pixel_SIFT_FLANN_RANSAC  North_pixel_SIFT_FLANN_RHO  \\\n",
       "0                     -1.526497                    0.443088   \n",
       "1                     -4.858515                    4.525055   \n",
       "2                      0.778776                   -9.074724   \n",
       "3                           NaN                         NaN   \n",
       "4                     -7.066961                    0.022668   \n",
       "\n",
       "   East_pixel_SIFT_FLANN_RHO  \n",
       "0                  -1.526153  \n",
       "1                  -4.982488  \n",
       "2                  -2.169099  \n",
       "3                        NaN  \n",
       "4                  -7.066797  \n",
       "\n",
       "[5 rows x 50 columns]"
      ]
     },
     "execution_count": 5,
     "metadata": {},
     "output_type": "execute_result"
    }
   ],
   "source": [
    "test = merge_pixels_dist('test')\n",
    "test.drop(['North', 'East'], axis=1, inplace=True)\n",
    "test.head()"
   ]
  },
  {
   "cell_type": "code",
   "execution_count": 6,
   "metadata": {
    "execution": {
     "iopub.execute_input": "2022-11-21T15:39:44.315331Z",
     "iopub.status.busy": "2022-11-21T15:39:44.315249Z",
     "iopub.status.idle": "2022-11-21T15:39:48.116641Z",
     "shell.execute_reply": "2022-11-21T15:39:48.116269Z"
    }
   },
   "outputs": [
    {
     "name": "stdout",
     "output_type": "stream",
     "text": [
      "Checking whether there is an H2O instance running at http://localhost:54321 ..... not found.\n",
      "Attempting to start a local H2O server...\n",
      "  Java Version: openjdk version \"1.8.0_352\"; OpenJDK Runtime Environment (build 1.8.0_352-8u352-ga-1~22.04-b08); OpenJDK 64-Bit Server VM (build 25.352-b08, mixed mode)\n",
      "  Starting server from /home/rco/anaconda3/envs/kdd22/lib/python3.9/site-packages/h2o/backend/bin/h2o.jar\n",
      "  Ice root: /tmp/tmpp32y4pux\n",
      "  JVM stdout: /tmp/tmpp32y4pux/h2o_rco_started_from_python.out\n",
      "  JVM stderr: /tmp/tmpp32y4pux/h2o_rco_started_from_python.err\n",
      "  Server is running at http://127.0.0.1:54321\n",
      "Connecting to H2O server at http://127.0.0.1:54321 ... successful.\n"
     ]
    },
    {
     "data": {
      "text/html": [
       "\n",
       "<style>\n",
       "\n",
       "#h2o-table-1.h2o-container {\n",
       "  overflow-x: auto;\n",
       "}\n",
       "#h2o-table-1 .h2o-table {\n",
       "  /* width: 100%; */\n",
       "  margin-top: 1em;\n",
       "  margin-bottom: 1em;\n",
       "}\n",
       "#h2o-table-1 .h2o-table caption {\n",
       "  white-space: nowrap;\n",
       "  caption-side: top;\n",
       "  text-align: left;\n",
       "  /* margin-left: 1em; */\n",
       "  margin: 0;\n",
       "  font-size: larger;\n",
       "}\n",
       "#h2o-table-1 .h2o-table thead {\n",
       "  white-space: nowrap; \n",
       "  position: sticky;\n",
       "  top: 0;\n",
       "  box-shadow: 0 -1px inset;\n",
       "}\n",
       "#h2o-table-1 .h2o-table tbody {\n",
       "  overflow: auto;\n",
       "}\n",
       "#h2o-table-1 .h2o-table th,\n",
       "#h2o-table-1 .h2o-table td {\n",
       "  text-align: right;\n",
       "  /* border: 1px solid; */\n",
       "}\n",
       "#h2o-table-1 .h2o-table tr:nth-child(even) {\n",
       "  /* background: #F5F5F5 */\n",
       "}\n",
       "\n",
       "</style>      \n",
       "<div id=\"h2o-table-1\" class=\"h2o-container\">\n",
       "  <table class=\"h2o-table\">\n",
       "    <caption></caption>\n",
       "    <thead></thead>\n",
       "    <tbody><tr><td>H2O_cluster_uptime:</td>\n",
       "<td>01 secs</td></tr>\n",
       "<tr><td>H2O_cluster_timezone:</td>\n",
       "<td>America/Sao_Paulo</td></tr>\n",
       "<tr><td>H2O_data_parsing_timezone:</td>\n",
       "<td>UTC</td></tr>\n",
       "<tr><td>H2O_cluster_version:</td>\n",
       "<td>3.38.0.2</td></tr>\n",
       "<tr><td>H2O_cluster_version_age:</td>\n",
       "<td>29 days </td></tr>\n",
       "<tr><td>H2O_cluster_name:</td>\n",
       "<td>H2O_from_python_rco_q7v9or</td></tr>\n",
       "<tr><td>H2O_cluster_total_nodes:</td>\n",
       "<td>1</td></tr>\n",
       "<tr><td>H2O_cluster_free_memory:</td>\n",
       "<td>28.42 Gb</td></tr>\n",
       "<tr><td>H2O_cluster_total_cores:</td>\n",
       "<td>16</td></tr>\n",
       "<tr><td>H2O_cluster_allowed_cores:</td>\n",
       "<td>16</td></tr>\n",
       "<tr><td>H2O_cluster_status:</td>\n",
       "<td>locked, healthy</td></tr>\n",
       "<tr><td>H2O_connection_url:</td>\n",
       "<td>http://127.0.0.1:54321</td></tr>\n",
       "<tr><td>H2O_connection_proxy:</td>\n",
       "<td>{\"http\": null, \"https\": null}</td></tr>\n",
       "<tr><td>H2O_internal_security:</td>\n",
       "<td>False</td></tr>\n",
       "<tr><td>Python_version:</td>\n",
       "<td>3.9.12 final</td></tr></tbody>\n",
       "  </table>\n",
       "</div>\n"
      ],
      "text/plain": [
       "--------------------------  -----------------------------\n",
       "H2O_cluster_uptime:         01 secs\n",
       "H2O_cluster_timezone:       America/Sao_Paulo\n",
       "H2O_data_parsing_timezone:  UTC\n",
       "H2O_cluster_version:        3.38.0.2\n",
       "H2O_cluster_version_age:    29 days\n",
       "H2O_cluster_name:           H2O_from_python_rco_q7v9or\n",
       "H2O_cluster_total_nodes:    1\n",
       "H2O_cluster_free_memory:    28.42 Gb\n",
       "H2O_cluster_total_cores:    16\n",
       "H2O_cluster_allowed_cores:  16\n",
       "H2O_cluster_status:         locked, healthy\n",
       "H2O_connection_url:         http://127.0.0.1:54321\n",
       "H2O_connection_proxy:       {\"http\": null, \"https\": null}\n",
       "H2O_internal_security:      False\n",
       "Python_version:             3.9.12 final\n",
       "--------------------------  -----------------------------"
      ]
     },
     "metadata": {},
     "output_type": "display_data"
    }
   ],
   "source": [
    "import h2o\n",
    "from h2o.automl import H2OAutoML\n",
    "\n",
    "h2o.init(nthreads=16, max_mem_size='32G')"
   ]
  },
  {
   "cell_type": "code",
   "execution_count": 7,
   "metadata": {
    "execution": {
     "iopub.execute_input": "2022-11-21T15:39:48.118063Z",
     "iopub.status.busy": "2022-11-21T15:39:48.117930Z",
     "iopub.status.idle": "2022-11-21T15:39:54.950131Z",
     "shell.execute_reply": "2022-11-21T15:39:54.949837Z"
    }
   },
   "outputs": [
    {
     "name": "stdout",
     "output_type": "stream",
     "text": [
      "Parse progress: |████████████████████████████████████████████████████████████████| (done) 100%\n",
      "Parse progress: |████████████████████████████████████████████████████████████████| (done) 100%\n"
     ]
    }
   ],
   "source": [
    "train = h2o.H2OFrame(train)\n",
    "test = h2o.H2OFrame(test)"
   ]
  },
  {
   "cell_type": "code",
   "execution_count": 8,
   "metadata": {
    "execution": {
     "iopub.execute_input": "2022-11-21T15:39:54.951718Z",
     "iopub.status.busy": "2022-11-21T15:39:54.951502Z",
     "iopub.status.idle": "2022-11-21T15:39:54.954569Z",
     "shell.execute_reply": "2022-11-21T15:39:54.954317Z"
    }
   },
   "outputs": [],
   "source": [
    "features = [f for f in train.columns if f not in ['Filename', 'North', 'East', 'kfold']]\n",
    "\n",
    "def train_automl(train, test, target, max_runtime_secs=3600):\n",
    "    \n",
    "    aml = H2OAutoML(seed=SEED,\n",
    "                    nfolds=5,\n",
    "                    max_runtime_secs=max_runtime_secs,\n",
    "                    stopping_metric='RMSE',\n",
    "                    sort_metric='RMSE',\n",
    "                    exploitation_ratio=0.2)\n",
    "\n",
    "    aml.train(x=features, y=target, training_frame=train)  \n",
    "    \n",
    "    train_preds = aml.leader.predict(train)\n",
    "    train_preds.rename({'predict':target+'_prediction'})\n",
    "    \n",
    "    test_preds = aml.leader.predict(test)\n",
    "    test_preds.rename({'predict':target+'_prediction'})\n",
    "    \n",
    "    return aml, train_preds, test_preds\n",
    "    "
   ]
  },
  {
   "cell_type": "code",
   "execution_count": 9,
   "metadata": {
    "execution": {
     "iopub.execute_input": "2022-11-21T15:39:54.955842Z",
     "iopub.status.busy": "2022-11-21T15:39:54.955710Z",
     "iopub.status.idle": "2022-11-21T16:40:41.546854Z",
     "shell.execute_reply": "2022-11-21T16:40:41.546429Z"
    }
   },
   "outputs": [
    {
     "name": "stdout",
     "output_type": "stream",
     "text": [
      "AutoML progress: |██████████████████████████████████████████████████████ (cancelled)  86%\n",
      "\n",
      "21:20:52.559: Empty leaderboard.\n",
      "AutoML was not able to build any model within a max runtime constraint of 360 seconds, you may want to increase this value before retrying.\n",
      "\n"
     ]
    },
    {
     "ename": "H2OJobCancelled",
     "evalue": "Job<$03017f00000132d4ffffffff$_bdc763011ffe5aac2718614d7e4f49f0> was cancelled by the user.",
     "output_type": "error",
     "traceback": [
      "\u001b[0;31m---------------------------------------------------------------------------\u001b[0m",
      "\u001b[0;31mH2OJobCancelled\u001b[0m                           Traceback (most recent call last)",
      "\u001b[1;32m/home/rco/DS/kdd22/notebooks/improve-validation-h2o-full.nbconvert.ipynb Cell 10\u001b[0m in \u001b[0;36m<cell line: 1>\u001b[0;34m()\u001b[0m\n\u001b[0;32m----> <a href='vscode-notebook-cell://ssh-remote%2Bryzen7/home/rco/DS/kdd22/notebooks/improve-validation-h2o-full.nbconvert.ipynb#X12sdnNjb2RlLXJlbW90ZQ%3D%3D?line=0'>1</a>\u001b[0m north_aml, north_train_preds, north_test_preds \u001b[39m=\u001b[39m train_automl(train, test, \u001b[39m'\u001b[39;49m\u001b[39mNorth\u001b[39;49m\u001b[39m'\u001b[39;49m, MAX_TIME)\n\u001b[1;32m      <a href='vscode-notebook-cell://ssh-remote%2Bryzen7/home/rco/DS/kdd22/notebooks/improve-validation-h2o-full.nbconvert.ipynb#X12sdnNjb2RlLXJlbW90ZQ%3D%3D?line=1'>2</a>\u001b[0m north_aml\u001b[39m.\u001b[39mleaderboard\u001b[39m.\u001b[39mhead(\u001b[39m20\u001b[39m)\n",
      "\u001b[1;32m/home/rco/DS/kdd22/notebooks/improve-validation-h2o-full.nbconvert.ipynb Cell 10\u001b[0m in \u001b[0;36mtrain_automl\u001b[0;34m(train, test, target, max_runtime_secs)\u001b[0m\n\u001b[1;32m      <a href='vscode-notebook-cell://ssh-remote%2Bryzen7/home/rco/DS/kdd22/notebooks/improve-validation-h2o-full.nbconvert.ipynb#X12sdnNjb2RlLXJlbW90ZQ%3D%3D?line=2'>3</a>\u001b[0m \u001b[39mdef\u001b[39;00m \u001b[39mtrain_automl\u001b[39m(train, test, target, max_runtime_secs\u001b[39m=\u001b[39m\u001b[39m3600\u001b[39m):\n\u001b[1;32m      <a href='vscode-notebook-cell://ssh-remote%2Bryzen7/home/rco/DS/kdd22/notebooks/improve-validation-h2o-full.nbconvert.ipynb#X12sdnNjb2RlLXJlbW90ZQ%3D%3D?line=4'>5</a>\u001b[0m     aml \u001b[39m=\u001b[39m H2OAutoML(seed\u001b[39m=\u001b[39mSEED,\n\u001b[1;32m      <a href='vscode-notebook-cell://ssh-remote%2Bryzen7/home/rco/DS/kdd22/notebooks/improve-validation-h2o-full.nbconvert.ipynb#X12sdnNjb2RlLXJlbW90ZQ%3D%3D?line=5'>6</a>\u001b[0m                     nfolds\u001b[39m=\u001b[39m\u001b[39m5\u001b[39m,\n\u001b[1;32m      <a href='vscode-notebook-cell://ssh-remote%2Bryzen7/home/rco/DS/kdd22/notebooks/improve-validation-h2o-full.nbconvert.ipynb#X12sdnNjb2RlLXJlbW90ZQ%3D%3D?line=6'>7</a>\u001b[0m                     max_runtime_secs\u001b[39m=\u001b[39mmax_runtime_secs,\n\u001b[1;32m      <a href='vscode-notebook-cell://ssh-remote%2Bryzen7/home/rco/DS/kdd22/notebooks/improve-validation-h2o-full.nbconvert.ipynb#X12sdnNjb2RlLXJlbW90ZQ%3D%3D?line=7'>8</a>\u001b[0m                     stopping_metric\u001b[39m=\u001b[39m\u001b[39m'\u001b[39m\u001b[39mRMSE\u001b[39m\u001b[39m'\u001b[39m,\n\u001b[1;32m      <a href='vscode-notebook-cell://ssh-remote%2Bryzen7/home/rco/DS/kdd22/notebooks/improve-validation-h2o-full.nbconvert.ipynb#X12sdnNjb2RlLXJlbW90ZQ%3D%3D?line=8'>9</a>\u001b[0m                     sort_metric\u001b[39m=\u001b[39m\u001b[39m'\u001b[39m\u001b[39mRMSE\u001b[39m\u001b[39m'\u001b[39m,\n\u001b[1;32m     <a href='vscode-notebook-cell://ssh-remote%2Bryzen7/home/rco/DS/kdd22/notebooks/improve-validation-h2o-full.nbconvert.ipynb#X12sdnNjb2RlLXJlbW90ZQ%3D%3D?line=9'>10</a>\u001b[0m                     exploitation_ratio\u001b[39m=\u001b[39m\u001b[39m0.2\u001b[39m)\n\u001b[0;32m---> <a href='vscode-notebook-cell://ssh-remote%2Bryzen7/home/rco/DS/kdd22/notebooks/improve-validation-h2o-full.nbconvert.ipynb#X12sdnNjb2RlLXJlbW90ZQ%3D%3D?line=11'>12</a>\u001b[0m     aml\u001b[39m.\u001b[39;49mtrain(x\u001b[39m=\u001b[39;49mfeatures, y\u001b[39m=\u001b[39;49mtarget, training_frame\u001b[39m=\u001b[39;49mtrain)  \n\u001b[1;32m     <a href='vscode-notebook-cell://ssh-remote%2Bryzen7/home/rco/DS/kdd22/notebooks/improve-validation-h2o-full.nbconvert.ipynb#X12sdnNjb2RlLXJlbW90ZQ%3D%3D?line=13'>14</a>\u001b[0m     train_preds \u001b[39m=\u001b[39m aml\u001b[39m.\u001b[39mleader\u001b[39m.\u001b[39mpredict(train)\n\u001b[1;32m     <a href='vscode-notebook-cell://ssh-remote%2Bryzen7/home/rco/DS/kdd22/notebooks/improve-validation-h2o-full.nbconvert.ipynb#X12sdnNjb2RlLXJlbW90ZQ%3D%3D?line=14'>15</a>\u001b[0m     train_preds\u001b[39m.\u001b[39mrename({\u001b[39m'\u001b[39m\u001b[39mpredict\u001b[39m\u001b[39m'\u001b[39m:target\u001b[39m+\u001b[39m\u001b[39m'\u001b[39m\u001b[39m_prediction\u001b[39m\u001b[39m'\u001b[39m})\n",
      "File \u001b[0;32m~/anaconda3/envs/kdd22/lib/python3.9/site-packages/h2o/automl/_estimator.py:679\u001b[0m, in \u001b[0;36mH2OAutoML.train\u001b[0;34m(self, x, y, training_frame, fold_column, weights_column, validation_frame, leaderboard_frame, blending_frame)\u001b[0m\n\u001b[1;32m    677\u001b[0m poll_updates \u001b[39m=\u001b[39m ft\u001b[39m.\u001b[39mpartial(\u001b[39mself\u001b[39m\u001b[39m.\u001b[39m_poll_training_updates, verbosity\u001b[39m=\u001b[39m\u001b[39mself\u001b[39m\u001b[39m.\u001b[39m_verbosity, state\u001b[39m=\u001b[39m{})\n\u001b[1;32m    678\u001b[0m \u001b[39mtry\u001b[39;00m:\n\u001b[0;32m--> 679\u001b[0m     \u001b[39mself\u001b[39;49m\u001b[39m.\u001b[39;49m_job\u001b[39m.\u001b[39;49mpoll(poll_updates\u001b[39m=\u001b[39;49mpoll_updates)\n\u001b[1;32m    680\u001b[0m \u001b[39mfinally\u001b[39;00m:\n\u001b[1;32m    681\u001b[0m     poll_updates(\u001b[39mself\u001b[39m\u001b[39m.\u001b[39m_job, \u001b[39m1\u001b[39m)\n",
      "File \u001b[0;32m~/anaconda3/envs/kdd22/lib/python3.9/site-packages/h2o/job.py:87\u001b[0m, in \u001b[0;36mH2OJob.poll\u001b[0;34m(self, poll_updates)\u001b[0m\n\u001b[1;32m     85\u001b[0m \u001b[39m# check if failed... and politely print relevant message\u001b[39;00m\n\u001b[1;32m     86\u001b[0m \u001b[39mif\u001b[39;00m \u001b[39mself\u001b[39m\u001b[39m.\u001b[39mstatus \u001b[39m==\u001b[39m \u001b[39m\"\u001b[39m\u001b[39mCANCELLED\u001b[39m\u001b[39m\"\u001b[39m:\n\u001b[0;32m---> 87\u001b[0m     \u001b[39mraise\u001b[39;00m H2OJobCancelled(\u001b[39m\"\u001b[39m\u001b[39mJob<\u001b[39m\u001b[39m%s\u001b[39;00m\u001b[39m> was cancelled by the user.\u001b[39m\u001b[39m\"\u001b[39m \u001b[39m%\u001b[39m \u001b[39mself\u001b[39m\u001b[39m.\u001b[39mjob_key)\n\u001b[1;32m     88\u001b[0m \u001b[39mif\u001b[39;00m \u001b[39mself\u001b[39m\u001b[39m.\u001b[39mstatus \u001b[39m==\u001b[39m \u001b[39m\"\u001b[39m\u001b[39mFAILED\u001b[39m\u001b[39m\"\u001b[39m:\n\u001b[1;32m     89\u001b[0m     \u001b[39mif\u001b[39;00m (\u001b[39misinstance\u001b[39m(\u001b[39mself\u001b[39m\u001b[39m.\u001b[39mjob, \u001b[39mdict\u001b[39m)) \u001b[39mand\u001b[39;00m (\u001b[39m\"\u001b[39m\u001b[39mstacktrace\u001b[39m\u001b[39m\"\u001b[39m \u001b[39min\u001b[39;00m \u001b[39mlist\u001b[39m(\u001b[39mself\u001b[39m\u001b[39m.\u001b[39mjob)):\n",
      "\u001b[0;31mH2OJobCancelled\u001b[0m: Job<$03017f00000132d4ffffffff$_bdc763011ffe5aac2718614d7e4f49f0> was cancelled by the user."
     ]
    }
   ],
   "source": [
    "north_aml, north_train_preds, north_test_preds = train_automl(train, test, 'North', MAX_TIME)\n",
    "north_aml.leaderboard.head(20)"
   ]
  },
  {
   "cell_type": "code",
   "execution_count": null,
   "metadata": {
    "execution": {
     "iopub.execute_input": "2022-11-21T16:40:41.551278Z",
     "iopub.status.busy": "2022-11-21T16:40:41.551103Z",
     "iopub.status.idle": "2022-11-21T17:41:44.120033Z",
     "shell.execute_reply": "2022-11-21T17:41:44.119772Z"
    }
   },
   "outputs": [
    {
     "name": "stdout",
     "output_type": "stream",
     "text": [
      "AutoML progress: |███████████████████████████████████████████████████████████████| (done) 100%\n",
      "stackedensemble prediction progress: |███████████████████████████████████████████| (done) 100%\n",
      "stackedensemble prediction progress: |███████████████████████████████████████████| (done) 100%\n"
     ]
    },
    {
     "data": {
      "text/html": [
       "<table class='dataframe'>\n",
       "<thead>\n",
       "<tr><th>model_id                                               </th><th style=\"text-align: right;\">    rmse</th><th style=\"text-align: right;\">      mse</th><th style=\"text-align: right;\">     mae</th><th style=\"text-align: right;\">  rmsle</th><th style=\"text-align: right;\">  mean_residual_deviance</th></tr>\n",
       "</thead>\n",
       "<tbody>\n",
       "<tr><td>StackedEnsemble_AllModels_2_AutoML_2_20221121_134041   </td><td style=\"text-align: right;\">0.31317 </td><td style=\"text-align: right;\">0.0980755</td><td style=\"text-align: right;\">0.129854</td><td style=\"text-align: right;\">    nan</td><td style=\"text-align: right;\">               0.0980755</td></tr>\n",
       "<tr><td>StackedEnsemble_BestOfFamily_3_AutoML_2_20221121_134041</td><td style=\"text-align: right;\">0.313205</td><td style=\"text-align: right;\">0.0980971</td><td style=\"text-align: right;\">0.12976 </td><td style=\"text-align: right;\">    nan</td><td style=\"text-align: right;\">               0.0980971</td></tr>\n",
       "<tr><td>StackedEnsemble_BestOfFamily_2_AutoML_2_20221121_134041</td><td style=\"text-align: right;\">0.314176</td><td style=\"text-align: right;\">0.0987065</td><td style=\"text-align: right;\">0.130934</td><td style=\"text-align: right;\">    nan</td><td style=\"text-align: right;\">               0.0987065</td></tr>\n",
       "<tr><td>StackedEnsemble_AllModels_1_AutoML_2_20221121_134041   </td><td style=\"text-align: right;\">0.314196</td><td style=\"text-align: right;\">0.098719 </td><td style=\"text-align: right;\">0.131181</td><td style=\"text-align: right;\">    nan</td><td style=\"text-align: right;\">               0.098719 </td></tr>\n",
       "<tr><td>DRF_1_AutoML_2_20221121_134041                         </td><td style=\"text-align: right;\">0.314292</td><td style=\"text-align: right;\">0.0987797</td><td style=\"text-align: right;\">0.130743</td><td style=\"text-align: right;\">    nan</td><td style=\"text-align: right;\">               0.0987797</td></tr>\n",
       "<tr><td>XRT_1_AutoML_2_20221121_134041                         </td><td style=\"text-align: right;\">0.319307</td><td style=\"text-align: right;\">0.101957 </td><td style=\"text-align: right;\">0.135846</td><td style=\"text-align: right;\">    nan</td><td style=\"text-align: right;\">               0.101957 </td></tr>\n",
       "<tr><td>GBM_4_AutoML_2_20221121_134041                         </td><td style=\"text-align: right;\">0.333701</td><td style=\"text-align: right;\">0.111356 </td><td style=\"text-align: right;\">0.161997</td><td style=\"text-align: right;\">    nan</td><td style=\"text-align: right;\">               0.111356 </td></tr>\n",
       "<tr><td>StackedEnsemble_BestOfFamily_1_AutoML_2_20221121_134041</td><td style=\"text-align: right;\">0.335663</td><td style=\"text-align: right;\">0.112669 </td><td style=\"text-align: right;\">0.156271</td><td style=\"text-align: right;\">    nan</td><td style=\"text-align: right;\">               0.112669 </td></tr>\n",
       "<tr><td>GBM_1_AutoML_2_20221121_134041                         </td><td style=\"text-align: right;\">0.336474</td><td style=\"text-align: right;\">0.113215 </td><td style=\"text-align: right;\">0.157791</td><td style=\"text-align: right;\">    nan</td><td style=\"text-align: right;\">               0.113215 </td></tr>\n",
       "<tr><td>GBM_3_AutoML_2_20221121_134041                         </td><td style=\"text-align: right;\">0.340696</td><td style=\"text-align: right;\">0.116074 </td><td style=\"text-align: right;\">0.172419</td><td style=\"text-align: right;\">    nan</td><td style=\"text-align: right;\">               0.116074 </td></tr>\n",
       "<tr><td>GBM_2_AutoML_2_20221121_134041                         </td><td style=\"text-align: right;\">0.35232 </td><td style=\"text-align: right;\">0.12413  </td><td style=\"text-align: right;\">0.183639</td><td style=\"text-align: right;\">    nan</td><td style=\"text-align: right;\">               0.12413  </td></tr>\n",
       "<tr><td>GBM_5_AutoML_2_20221121_134041                         </td><td style=\"text-align: right;\">0.353653</td><td style=\"text-align: right;\">0.12507  </td><td style=\"text-align: right;\">0.186553</td><td style=\"text-align: right;\">    nan</td><td style=\"text-align: right;\">               0.12507  </td></tr>\n",
       "<tr><td>XGBoost_3_AutoML_2_20221121_134041                     </td><td style=\"text-align: right;\">0.378624</td><td style=\"text-align: right;\">0.143356 </td><td style=\"text-align: right;\">0.208966</td><td style=\"text-align: right;\">    nan</td><td style=\"text-align: right;\">               0.143356 </td></tr>\n",
       "<tr><td>XGBoost_2_AutoML_2_20221121_134041                     </td><td style=\"text-align: right;\">0.655907</td><td style=\"text-align: right;\">0.430214 </td><td style=\"text-align: right;\">0.488252</td><td style=\"text-align: right;\">    nan</td><td style=\"text-align: right;\">               0.430214 </td></tr>\n",
       "<tr><td>XGBoost_1_AutoML_2_20221121_134041                     </td><td style=\"text-align: right;\">0.705475</td><td style=\"text-align: right;\">0.497695 </td><td style=\"text-align: right;\">0.538648</td><td style=\"text-align: right;\">    nan</td><td style=\"text-align: right;\">               0.497695 </td></tr>\n",
       "<tr><td>XGBoost_grid_1_AutoML_2_20221121_134041_model_1        </td><td style=\"text-align: right;\">0.9269  </td><td style=\"text-align: right;\">0.859143 </td><td style=\"text-align: right;\">0.723812</td><td style=\"text-align: right;\">    nan</td><td style=\"text-align: right;\">               0.859143 </td></tr>\n",
       "<tr><td>GLM_1_AutoML_2_20221121_134041                         </td><td style=\"text-align: right;\">1.11019 </td><td style=\"text-align: right;\">1.23253  </td><td style=\"text-align: right;\">0.822024</td><td style=\"text-align: right;\">    nan</td><td style=\"text-align: right;\">               1.23253  </td></tr>\n",
       "<tr><td>DeepLearning_1_AutoML_2_20221121_134041                </td><td style=\"text-align: right;\">1.13287 </td><td style=\"text-align: right;\">1.28339  </td><td style=\"text-align: right;\">0.283401</td><td style=\"text-align: right;\">    nan</td><td style=\"text-align: right;\">               1.28339  </td></tr>\n",
       "</tbody>\n",
       "</table><pre style='font-size: smaller; margin-bottom: 1em;'>[18 rows x 6 columns]</pre>"
      ],
      "text/plain": [
       "model_id                                                     rmse        mse       mae    rmsle    mean_residual_deviance\n",
       "-------------------------------------------------------  --------  ---------  --------  -------  ------------------------\n",
       "StackedEnsemble_AllModels_2_AutoML_2_20221121_134041     0.31317   0.0980755  0.129854      nan                 0.0980755\n",
       "StackedEnsemble_BestOfFamily_3_AutoML_2_20221121_134041  0.313205  0.0980971  0.12976       nan                 0.0980971\n",
       "StackedEnsemble_BestOfFamily_2_AutoML_2_20221121_134041  0.314176  0.0987065  0.130934      nan                 0.0987065\n",
       "StackedEnsemble_AllModels_1_AutoML_2_20221121_134041     0.314196  0.098719   0.131181      nan                 0.098719\n",
       "DRF_1_AutoML_2_20221121_134041                           0.314292  0.0987797  0.130743      nan                 0.0987797\n",
       "XRT_1_AutoML_2_20221121_134041                           0.319307  0.101957   0.135846      nan                 0.101957\n",
       "GBM_4_AutoML_2_20221121_134041                           0.333701  0.111356   0.161997      nan                 0.111356\n",
       "StackedEnsemble_BestOfFamily_1_AutoML_2_20221121_134041  0.335663  0.112669   0.156271      nan                 0.112669\n",
       "GBM_1_AutoML_2_20221121_134041                           0.336474  0.113215   0.157791      nan                 0.113215\n",
       "GBM_3_AutoML_2_20221121_134041                           0.340696  0.116074   0.172419      nan                 0.116074\n",
       "GBM_2_AutoML_2_20221121_134041                           0.35232   0.12413    0.183639      nan                 0.12413\n",
       "GBM_5_AutoML_2_20221121_134041                           0.353653  0.12507    0.186553      nan                 0.12507\n",
       "XGBoost_3_AutoML_2_20221121_134041                       0.378624  0.143356   0.208966      nan                 0.143356\n",
       "XGBoost_2_AutoML_2_20221121_134041                       0.655907  0.430214   0.488252      nan                 0.430214\n",
       "XGBoost_1_AutoML_2_20221121_134041                       0.705475  0.497695   0.538648      nan                 0.497695\n",
       "XGBoost_grid_1_AutoML_2_20221121_134041_model_1          0.9269    0.859143   0.723812      nan                 0.859143\n",
       "GLM_1_AutoML_2_20221121_134041                           1.11019   1.23253    0.822024      nan                 1.23253\n",
       "DeepLearning_1_AutoML_2_20221121_134041                  1.13287   1.28339    0.283401      nan                 1.28339\n",
       "[18 rows x 6 columns]\n"
      ]
     },
     "execution_count": 10,
     "metadata": {},
     "output_type": "execute_result"
    }
   ],
   "source": [
    "east_aml, east_train_preds, east_test_preds = train_automl(train, test, 'East', MAX_TIME)\n",
    "east_aml.leaderboard.head(20)"
   ]
  },
  {
   "cell_type": "code",
   "execution_count": null,
   "metadata": {
    "execution": {
     "iopub.execute_input": "2022-11-21T17:41:44.121596Z",
     "iopub.status.busy": "2022-11-21T17:41:44.121380Z",
     "iopub.status.idle": "2022-11-21T17:41:48.425189Z",
     "shell.execute_reply": "2022-11-21T17:41:48.424926Z"
    }
   },
   "outputs": [
    {
     "data": {
      "text/html": [
       "<table class='dataframe'>\n",
       "<thead>\n",
       "<tr><th>Filename                            </th><th style=\"text-align: right;\">  Altitude</th><th style=\"text-align: right;\">     Delta</th><th style=\"text-align: right;\">    North</th><th style=\"text-align: right;\">     East</th><th style=\"text-align: right;\">  kfold</th><th style=\"text-align: right;\">  North_pixel</th><th style=\"text-align: right;\">  East_pixel</th><th style=\"text-align: right;\">  North_pixel_a</th><th style=\"text-align: right;\">  East_pixel_a</th><th style=\"text-align: right;\">  North_pixel_a_est</th><th style=\"text-align: right;\">  East_pixel_a_est</th><th style=\"text-align: right;\">  North_pixel_h</th><th style=\"text-align: right;\">  East_pixel_h</th><th style=\"text-align: right;\">  North_pixel_h_est</th><th style=\"text-align: right;\">  East_pixel_h_est</th><th style=\"text-align: right;\">  North_pixel_p</th><th style=\"text-align: right;\">  East_pixel_p</th><th style=\"text-align: right;\">  North_pixel_p_est</th><th style=\"text-align: right;\">  East_pixel_p_est</th><th style=\"text-align: right;\">  North_pixel_AKAZE_BRUTE_LMEDS</th><th style=\"text-align: right;\">  East_pixel_AKAZE_BRUTE_LMEDS</th><th style=\"text-align: right;\">  North_pixel_AKAZE_BRUTE_NAIVE</th><th style=\"text-align: right;\">  East_pixel_AKAZE_BRUTE_NAIVE</th><th style=\"text-align: right;\">  North_pixel_AKAZE_BRUTE_RANSAC</th><th style=\"text-align: right;\">  East_pixel_AKAZE_BRUTE_RANSAC</th><th style=\"text-align: right;\">  North_pixel_AKAZE_BRUTE_RHO</th><th style=\"text-align: right;\">  East_pixel_AKAZE_BRUTE_RHO</th><th style=\"text-align: right;\">  North_pixel_BRISK_BRUTE_LMEDS</th><th style=\"text-align: right;\">  East_pixel_BRISK_BRUTE_LMEDS</th><th style=\"text-align: right;\">  North_pixel_BRISK_BRUTE_NAIVE</th><th style=\"text-align: right;\">  East_pixel_BRISK_BRUTE_NAIVE</th><th style=\"text-align: right;\">  North_pixel_BRISK_BRUTE_RANSAC</th><th style=\"text-align: right;\">  East_pixel_BRISK_BRUTE_RANSAC</th><th style=\"text-align: right;\">  North_pixel_BRISK_BRUTE_RHO</th><th style=\"text-align: right;\">  East_pixel_BRISK_BRUTE_RHO</th><th style=\"text-align: right;\">  North_pixel_SIFT_BRUTE_LMEDS</th><th style=\"text-align: right;\">  East_pixel_SIFT_BRUTE_LMEDS</th><th style=\"text-align: right;\">  North_pixel_SIFT_BRUTE_NAIVE</th><th style=\"text-align: right;\">  East_pixel_SIFT_BRUTE_NAIVE</th><th style=\"text-align: right;\">  North_pixel_SIFT_BRUTE_RANSAC</th><th style=\"text-align: right;\">  East_pixel_SIFT_BRUTE_RANSAC</th><th style=\"text-align: right;\">  North_pixel_SIFT_BRUTE_RHO</th><th style=\"text-align: right;\">  East_pixel_SIFT_BRUTE_RHO</th><th style=\"text-align: right;\">  North_pixel_SIFT_FLANN_LMEDS</th><th style=\"text-align: right;\">  East_pixel_SIFT_FLANN_LMEDS</th><th style=\"text-align: right;\">  North_pixel_SIFT_FLANN_NAIVE</th><th style=\"text-align: right;\">  East_pixel_SIFT_FLANN_NAIVE</th><th style=\"text-align: right;\">  North_pixel_SIFT_FLANN_RANSAC</th><th style=\"text-align: right;\">  East_pixel_SIFT_FLANN_RANSAC</th><th style=\"text-align: right;\">  North_pixel_SIFT_FLANN_RHO</th><th style=\"text-align: right;\">  East_pixel_SIFT_FLANN_RHO</th><th style=\"text-align: right;\">  North_prediction</th><th style=\"text-align: right;\">  East_prediction</th></tr>\n",
       "</thead>\n",
       "<tbody>\n",
       "<tr><td>00003e3b9e5336685200ae85d21b4f5e.jpg</td><td style=\"text-align: right;\">   178.83 </td><td style=\"text-align: right;\">-0.0652313</td><td style=\"text-align: right;\">-0.386045</td><td style=\"text-align: right;\"> 0.929772</td><td style=\"text-align: right;\">      0</td><td style=\"text-align: right;\">     -1.09818</td><td style=\"text-align: right;\">    2.82837 </td><td style=\"text-align: right;\">      -1.29619 </td><td style=\"text-align: right;\">      2.86893 </td><td style=\"text-align: right;\">          -1.22047 </td><td style=\"text-align: right;\">          2.82652 </td><td style=\"text-align: right;\">       -1.09818</td><td style=\"text-align: right;\">      2.82837 </td><td style=\"text-align: right;\">          -1.23032 </td><td style=\"text-align: right;\">          2.83861 </td><td style=\"text-align: right;\">      -1.29619 </td><td style=\"text-align: right;\">      2.86893 </td><td style=\"text-align: right;\">          -1.22047 </td><td style=\"text-align: right;\">          2.82652 </td><td style=\"text-align: right;\">                      nan      </td><td style=\"text-align: right;\">                     nan      </td><td style=\"text-align: right;\">                      nan      </td><td style=\"text-align: right;\">                     nan      </td><td style=\"text-align: right;\">                       nan      </td><td style=\"text-align: right;\">                      nan      </td><td style=\"text-align: right;\">                    nan      </td><td style=\"text-align: right;\">                   nan      </td><td style=\"text-align: right;\">                      nan      </td><td style=\"text-align: right;\">                     nan      </td><td style=\"text-align: right;\">                      nan      </td><td style=\"text-align: right;\">                     nan      </td><td style=\"text-align: right;\">                       nan      </td><td style=\"text-align: right;\">                      nan      </td><td style=\"text-align: right;\">                    nan      </td><td style=\"text-align: right;\">                   nan      </td><td style=\"text-align: right;\">                     nan      </td><td style=\"text-align: right;\">                    nan      </td><td style=\"text-align: right;\">                     nan      </td><td style=\"text-align: right;\">                    nan      </td><td style=\"text-align: right;\">                      nan      </td><td style=\"text-align: right;\">                     nan      </td><td style=\"text-align: right;\">                   nan      </td><td style=\"text-align: right;\">                  nan      </td><td style=\"text-align: right;\">                     nan      </td><td style=\"text-align: right;\">                    nan      </td><td style=\"text-align: right;\">                     nan      </td><td style=\"text-align: right;\">                    nan      </td><td style=\"text-align: right;\">                      nan      </td><td style=\"text-align: right;\">                     nan      </td><td style=\"text-align: right;\">                   nan      </td><td style=\"text-align: right;\">                  nan      </td><td style=\"text-align: right;\">         -0.388357</td><td style=\"text-align: right;\">         0.925735</td></tr>\n",
       "<tr><td>0001261e2060303a06ba6c64d676d639.jpg</td><td style=\"text-align: right;\">   207.921</td><td style=\"text-align: right;\">-0.0806885</td><td style=\"text-align: right;\"> 0.635584</td><td style=\"text-align: right;\"> 0.152819</td><td style=\"text-align: right;\">      2</td><td style=\"text-align: right;\">      1.45245</td><td style=\"text-align: right;\">    0.207358</td><td style=\"text-align: right;\">       0.847966</td><td style=\"text-align: right;\">      0.356077</td><td style=\"text-align: right;\">           0.7925  </td><td style=\"text-align: right;\">          0.231472</td><td style=\"text-align: right;\">        1.45245</td><td style=\"text-align: right;\">      0.207358</td><td style=\"text-align: right;\">           0.753004</td><td style=\"text-align: right;\">          0.217258</td><td style=\"text-align: right;\">       0.847966</td><td style=\"text-align: right;\">      0.356077</td><td style=\"text-align: right;\">           0.7925  </td><td style=\"text-align: right;\">          0.231472</td><td style=\"text-align: right;\">                      nan      </td><td style=\"text-align: right;\">                     nan      </td><td style=\"text-align: right;\">                      nan      </td><td style=\"text-align: right;\">                     nan      </td><td style=\"text-align: right;\">                       nan      </td><td style=\"text-align: right;\">                      nan      </td><td style=\"text-align: right;\">                    nan      </td><td style=\"text-align: right;\">                   nan      </td><td style=\"text-align: right;\">                      nan      </td><td style=\"text-align: right;\">                     nan      </td><td style=\"text-align: right;\">                      nan      </td><td style=\"text-align: right;\">                     nan      </td><td style=\"text-align: right;\">                       nan      </td><td style=\"text-align: right;\">                      nan      </td><td style=\"text-align: right;\">                    nan      </td><td style=\"text-align: right;\">                   nan      </td><td style=\"text-align: right;\">                     nan      </td><td style=\"text-align: right;\">                    nan      </td><td style=\"text-align: right;\">                      23.9037 </td><td style=\"text-align: right;\">                    -18.1963 </td><td style=\"text-align: right;\">                      nan      </td><td style=\"text-align: right;\">                     nan      </td><td style=\"text-align: right;\">                   nan      </td><td style=\"text-align: right;\">                  nan      </td><td style=\"text-align: right;\">                     nan      </td><td style=\"text-align: right;\">                    nan      </td><td style=\"text-align: right;\">                      23.9037 </td><td style=\"text-align: right;\">                    -18.1963 </td><td style=\"text-align: right;\">                      nan      </td><td style=\"text-align: right;\">                     nan      </td><td style=\"text-align: right;\">                   nan      </td><td style=\"text-align: right;\">                  nan      </td><td style=\"text-align: right;\">          0.63962 </td><td style=\"text-align: right;\">         0.156398</td></tr>\n",
       "<tr><td>0002ac0d783338cfeab0b2bdbd872cda.jpg</td><td style=\"text-align: right;\">   178.048</td><td style=\"text-align: right;\"> 0.0215759</td><td style=\"text-align: right;\">-1.22823 </td><td style=\"text-align: right;\">-0.499388</td><td style=\"text-align: right;\">      3</td><td style=\"text-align: right;\">     -3.54421</td><td style=\"text-align: right;\">   -1.49436 </td><td style=\"text-align: right;\">      -3.51745 </td><td style=\"text-align: right;\">     -1.59259 </td><td style=\"text-align: right;\">          -3.8237  </td><td style=\"text-align: right;\">         -1.65885 </td><td style=\"text-align: right;\">       -3.54421</td><td style=\"text-align: right;\">     -1.49436 </td><td style=\"text-align: right;\">          -3.81837 </td><td style=\"text-align: right;\">         -1.66816 </td><td style=\"text-align: right;\">      -3.51745 </td><td style=\"text-align: right;\">     -1.59259 </td><td style=\"text-align: right;\">          -3.8237  </td><td style=\"text-align: right;\">         -1.65885 </td><td style=\"text-align: right;\">                      nan      </td><td style=\"text-align: right;\">                     nan      </td><td style=\"text-align: right;\">                      nan      </td><td style=\"text-align: right;\">                     nan      </td><td style=\"text-align: right;\">                       nan      </td><td style=\"text-align: right;\">                      nan      </td><td style=\"text-align: right;\">                    nan      </td><td style=\"text-align: right;\">                   nan      </td><td style=\"text-align: right;\">                      nan      </td><td style=\"text-align: right;\">                     nan      </td><td style=\"text-align: right;\">                      nan      </td><td style=\"text-align: right;\">                     nan      </td><td style=\"text-align: right;\">                       nan      </td><td style=\"text-align: right;\">                      nan      </td><td style=\"text-align: right;\">                    nan      </td><td style=\"text-align: right;\">                   nan      </td><td style=\"text-align: right;\">                     nan      </td><td style=\"text-align: right;\">                    nan      </td><td style=\"text-align: right;\">                     nan      </td><td style=\"text-align: right;\">                    nan      </td><td style=\"text-align: right;\">                      nan      </td><td style=\"text-align: right;\">                     nan      </td><td style=\"text-align: right;\">                   nan      </td><td style=\"text-align: right;\">                  nan      </td><td style=\"text-align: right;\">                     nan      </td><td style=\"text-align: right;\">                    nan      </td><td style=\"text-align: right;\">                     nan      </td><td style=\"text-align: right;\">                    nan      </td><td style=\"text-align: right;\">                      nan      </td><td style=\"text-align: right;\">                     nan      </td><td style=\"text-align: right;\">                   nan      </td><td style=\"text-align: right;\">                  nan      </td><td style=\"text-align: right;\">         -1.19176 </td><td style=\"text-align: right;\">        -0.495593</td></tr>\n",
       "<tr><td>0004289ee1c7b8b08c77e19878106ae3.jpg</td><td style=\"text-align: right;\">   201.085</td><td style=\"text-align: right;\"> 0.505981 </td><td style=\"text-align: right;\">-1.73971 </td><td style=\"text-align: right;\">-0.699928</td><td style=\"text-align: right;\">      1</td><td style=\"text-align: right;\">     -6.05406</td><td style=\"text-align: right;\">   -4.08215 </td><td style=\"text-align: right;\">      -6.09153 </td><td style=\"text-align: right;\">     -3.09927 </td><td style=\"text-align: right;\">          -6.06536 </td><td style=\"text-align: right;\">         -2.35415 </td><td style=\"text-align: right;\">       -6.05406</td><td style=\"text-align: right;\">     -4.08215 </td><td style=\"text-align: right;\">          -6.14532 </td><td style=\"text-align: right;\">         -2.30319 </td><td style=\"text-align: right;\">      -6.09153 </td><td style=\"text-align: right;\">     -3.09927 </td><td style=\"text-align: right;\">          -6.06536 </td><td style=\"text-align: right;\">         -2.35415 </td><td style=\"text-align: right;\">                       -6.29952</td><td style=\"text-align: right;\">                      -4.03663</td><td style=\"text-align: right;\">                       -6.29952</td><td style=\"text-align: right;\">                      -4.03663</td><td style=\"text-align: right;\">                        -6.29952</td><td style=\"text-align: right;\">                       -4.03663</td><td style=\"text-align: right;\">                     -6.29951</td><td style=\"text-align: right;\">                    -4.03664</td><td style=\"text-align: right;\">                       -6.18375</td><td style=\"text-align: right;\">                      -4.14679</td><td style=\"text-align: right;\">                       -6.56574</td><td style=\"text-align: right;\">                      -4.06601</td><td style=\"text-align: right;\">                        -6.56574</td><td style=\"text-align: right;\">                       -4.06601</td><td style=\"text-align: right;\">                     -6.56435</td><td style=\"text-align: right;\">                    -4.06721</td><td style=\"text-align: right;\">                      -6.62036</td><td style=\"text-align: right;\">                     -3.75604</td><td style=\"text-align: right;\">                      -6.04089</td><td style=\"text-align: right;\">                     -3.59745</td><td style=\"text-align: right;\">                       -6.60567</td><td style=\"text-align: right;\">                      -3.79928</td><td style=\"text-align: right;\">                    -6.6639 </td><td style=\"text-align: right;\">                   -3.78996</td><td style=\"text-align: right;\">                      -6.6076 </td><td style=\"text-align: right;\">                     -3.82518</td><td style=\"text-align: right;\">                      -6.04089</td><td style=\"text-align: right;\">                     -3.59745</td><td style=\"text-align: right;\">                       -6.65619</td><td style=\"text-align: right;\">                      -3.79684</td><td style=\"text-align: right;\">                    -6.6639 </td><td style=\"text-align: right;\">                   -3.78996</td><td style=\"text-align: right;\">         -1.78356 </td><td style=\"text-align: right;\">        -0.744745</td></tr>\n",
       "<tr><td>0004d0b59e19461ff126e3a08a814c33.jpg</td><td style=\"text-align: right;\">   187.55 </td><td style=\"text-align: right;\">-0.328156 </td><td style=\"text-align: right;\">-0.169798</td><td style=\"text-align: right;\"> 2.82875 </td><td style=\"text-align: right;\">      0</td><td style=\"text-align: right;\">     -0.69025</td><td style=\"text-align: right;\">    8.23287 </td><td style=\"text-align: right;\">      -0.449659</td><td style=\"text-align: right;\">      8.12569 </td><td style=\"text-align: right;\">          -0.564889</td><td style=\"text-align: right;\">          8.01241 </td><td style=\"text-align: right;\">       -0.69025</td><td style=\"text-align: right;\">      8.23287 </td><td style=\"text-align: right;\">          -0.555564</td><td style=\"text-align: right;\">          7.99966 </td><td style=\"text-align: right;\">      -0.449659</td><td style=\"text-align: right;\">      8.12569 </td><td style=\"text-align: right;\">          -0.564889</td><td style=\"text-align: right;\">          8.01241 </td><td style=\"text-align: right;\">                      nan      </td><td style=\"text-align: right;\">                     nan      </td><td style=\"text-align: right;\">                      nan      </td><td style=\"text-align: right;\">                     nan      </td><td style=\"text-align: right;\">                       nan      </td><td style=\"text-align: right;\">                      nan      </td><td style=\"text-align: right;\">                    nan      </td><td style=\"text-align: right;\">                   nan      </td><td style=\"text-align: right;\">                      nan      </td><td style=\"text-align: right;\">                     nan      </td><td style=\"text-align: right;\">                      nan      </td><td style=\"text-align: right;\">                     nan      </td><td style=\"text-align: right;\">                       nan      </td><td style=\"text-align: right;\">                      nan      </td><td style=\"text-align: right;\">                    nan      </td><td style=\"text-align: right;\">                   nan      </td><td style=\"text-align: right;\">                       7.51797</td><td style=\"text-align: right;\">                     -3.08831</td><td style=\"text-align: right;\">                      -6.1968 </td><td style=\"text-align: right;\">                      7.61697</td><td style=\"text-align: right;\">                     -170.354  </td><td style=\"text-align: right;\">                     134.741  </td><td style=\"text-align: right;\">                    -6.19626</td><td style=\"text-align: right;\">                    7.61697</td><td style=\"text-align: right;\">                       7.51797</td><td style=\"text-align: right;\">                     -3.08831</td><td style=\"text-align: right;\">                      -6.1968 </td><td style=\"text-align: right;\">                      7.61697</td><td style=\"text-align: right;\">                     -170.354  </td><td style=\"text-align: right;\">                     134.741  </td><td style=\"text-align: right;\">                    -6.19626</td><td style=\"text-align: right;\">                    7.61697</td><td style=\"text-align: right;\">         -0.1967  </td><td style=\"text-align: right;\">         2.67085 </td></tr>\n",
       "</tbody>\n",
       "</table><pre style='font-size: smaller; margin-bottom: 1em;'>[5 rows x 54 columns]</pre>"
      ],
      "text/plain": [
       "Filename                                Altitude       Delta      North       East    kfold    North_pixel    East_pixel    North_pixel_a    East_pixel_a    North_pixel_a_est    East_pixel_a_est    North_pixel_h    East_pixel_h    North_pixel_h_est    East_pixel_h_est    North_pixel_p    East_pixel_p    North_pixel_p_est    East_pixel_p_est    North_pixel_AKAZE_BRUTE_LMEDS    East_pixel_AKAZE_BRUTE_LMEDS    North_pixel_AKAZE_BRUTE_NAIVE    East_pixel_AKAZE_BRUTE_NAIVE    North_pixel_AKAZE_BRUTE_RANSAC    East_pixel_AKAZE_BRUTE_RANSAC    North_pixel_AKAZE_BRUTE_RHO    East_pixel_AKAZE_BRUTE_RHO    North_pixel_BRISK_BRUTE_LMEDS    East_pixel_BRISK_BRUTE_LMEDS    North_pixel_BRISK_BRUTE_NAIVE    East_pixel_BRISK_BRUTE_NAIVE    North_pixel_BRISK_BRUTE_RANSAC    East_pixel_BRISK_BRUTE_RANSAC    North_pixel_BRISK_BRUTE_RHO    East_pixel_BRISK_BRUTE_RHO    North_pixel_SIFT_BRUTE_LMEDS    East_pixel_SIFT_BRUTE_LMEDS    North_pixel_SIFT_BRUTE_NAIVE    East_pixel_SIFT_BRUTE_NAIVE    North_pixel_SIFT_BRUTE_RANSAC    East_pixel_SIFT_BRUTE_RANSAC    North_pixel_SIFT_BRUTE_RHO    East_pixel_SIFT_BRUTE_RHO    North_pixel_SIFT_FLANN_LMEDS    East_pixel_SIFT_FLANN_LMEDS    North_pixel_SIFT_FLANN_NAIVE    East_pixel_SIFT_FLANN_NAIVE    North_pixel_SIFT_FLANN_RANSAC    East_pixel_SIFT_FLANN_RANSAC    North_pixel_SIFT_FLANN_RHO    East_pixel_SIFT_FLANN_RHO    North_prediction    East_prediction\n",
       "------------------------------------  ----------  ----------  ---------  ---------  -------  -------------  ------------  ---------------  --------------  -------------------  ------------------  ---------------  --------------  -------------------  ------------------  ---------------  --------------  -------------------  ------------------  -------------------------------  ------------------------------  -------------------------------  ------------------------------  --------------------------------  -------------------------------  -----------------------------  ----------------------------  -------------------------------  ------------------------------  -------------------------------  ------------------------------  --------------------------------  -------------------------------  -----------------------------  ----------------------------  ------------------------------  -----------------------------  ------------------------------  -----------------------------  -------------------------------  ------------------------------  ----------------------------  ---------------------------  ------------------------------  -----------------------------  ------------------------------  -----------------------------  -------------------------------  ------------------------------  ----------------------------  ---------------------------  ------------------  -----------------\n",
       "00003e3b9e5336685200ae85d21b4f5e.jpg     178.83   -0.0652313  -0.386045   0.929772        0       -1.09818      2.82837         -1.29619         2.86893             -1.22047             2.82652          -1.09818        2.82837             -1.23032             2.83861         -1.29619         2.86893             -1.22047             2.82652                         nan                             nan                              nan                             nan                               nan                              nan                            nan                           nan                              nan                             nan                              nan                             nan                               nan                              nan                            nan                           nan                             nan                            nan                             nan                            nan                              nan                             nan                           nan                          nan                             nan                            nan                             nan                            nan                              nan                             nan                           nan                          nan                 -0.388357           0.925735\n",
       "0001261e2060303a06ba6c64d676d639.jpg     207.921  -0.0806885   0.635584   0.152819        2        1.45245      0.207358         0.847966        0.356077             0.7925              0.231472          1.45245        0.207358             0.753004            0.217258         0.847966        0.356077             0.7925              0.231472                        nan                             nan                              nan                             nan                               nan                              nan                            nan                           nan                              nan                             nan                              nan                             nan                               nan                              nan                            nan                           nan                             nan                            nan                              23.9037                       -18.1963                         nan                             nan                           nan                          nan                             nan                            nan                              23.9037                       -18.1963                         nan                             nan                           nan                          nan                  0.63962            0.156398\n",
       "0002ac0d783338cfeab0b2bdbd872cda.jpg     178.048   0.0215759  -1.22823   -0.499388        3       -3.54421     -1.49436         -3.51745        -1.59259             -3.8237             -1.65885          -3.54421       -1.49436             -3.81837            -1.66816         -3.51745        -1.59259             -3.8237             -1.65885                         nan                             nan                              nan                             nan                               nan                              nan                            nan                           nan                              nan                             nan                              nan                             nan                               nan                              nan                            nan                           nan                             nan                            nan                             nan                            nan                              nan                             nan                           nan                          nan                             nan                            nan                             nan                            nan                              nan                             nan                           nan                          nan                 -1.19176           -0.495593\n",
       "0004289ee1c7b8b08c77e19878106ae3.jpg     201.085   0.505981   -1.73971   -0.699928        1       -6.05406     -4.08215         -6.09153        -3.09927             -6.06536            -2.35415          -6.05406       -4.08215             -6.14532            -2.30319         -6.09153        -3.09927             -6.06536            -2.35415                          -6.29952                        -4.03663                         -6.29952                        -4.03663                          -6.29952                         -4.03663                       -6.29951                      -4.03664                         -6.18375                        -4.14679                         -6.56574                        -4.06601                          -6.56574                         -4.06601                       -6.56435                      -4.06721                        -6.62036                       -3.75604                        -6.04089                       -3.59745                         -6.60567                        -3.79928                      -6.6639                      -3.78996                        -6.6076                        -3.82518                        -6.04089                       -3.59745                         -6.65619                        -3.79684                      -6.6639                      -3.78996           -1.78356           -0.744745\n",
       "0004d0b59e19461ff126e3a08a814c33.jpg     187.55   -0.328156   -0.169798   2.82875         0       -0.69025      8.23287         -0.449659        8.12569             -0.564889            8.01241          -0.69025        8.23287             -0.555564            7.99966         -0.449659        8.12569             -0.564889            8.01241                         nan                             nan                              nan                             nan                               nan                              nan                            nan                           nan                              nan                             nan                              nan                             nan                               nan                              nan                            nan                           nan                               7.51797                       -3.08831                        -6.1968                         7.61697                       -170.354                         134.741                        -6.19626                      7.61697                         7.51797                       -3.08831                        -6.1968                         7.61697                       -170.354                         134.741                        -6.19626                      7.61697           -0.1967             2.67085\n",
       "[5 rows x 54 columns]\n"
      ]
     },
     "execution_count": 11,
     "metadata": {},
     "output_type": "execute_result"
    }
   ],
   "source": [
    "train_final = train.cbind(north_train_preds)\n",
    "train_final = train_final.cbind(east_train_preds)\n",
    "train_final.as_data_frame().to_csv('train_final.csv')\n",
    "\n",
    "train_final.head(5)"
   ]
  },
  {
   "cell_type": "code",
   "execution_count": null,
   "metadata": {
    "execution": {
     "iopub.execute_input": "2022-11-21T17:41:48.426490Z",
     "iopub.status.busy": "2022-11-21T17:41:48.426374Z",
     "iopub.status.idle": "2022-11-21T17:41:50.472510Z",
     "shell.execute_reply": "2022-11-21T17:41:50.472006Z"
    }
   },
   "outputs": [
    {
     "data": {
      "text/html": [
       "<table class='dataframe'>\n",
       "<thead>\n",
       "<tr><th>Filename                            </th><th style=\"text-align: right;\">  Altitude</th><th style=\"text-align: right;\">     Delta</th><th style=\"text-align: right;\">  kfold</th><th style=\"text-align: right;\">  North_pixel</th><th style=\"text-align: right;\">  East_pixel</th><th style=\"text-align: right;\">  North_pixel_a</th><th style=\"text-align: right;\">  East_pixel_a</th><th style=\"text-align: right;\">  North_pixel_a_est</th><th style=\"text-align: right;\">  East_pixel_a_est</th><th style=\"text-align: right;\">  North_pixel_h</th><th style=\"text-align: right;\">  East_pixel_h</th><th style=\"text-align: right;\">  North_pixel_h_est</th><th style=\"text-align: right;\">  East_pixel_h_est</th><th style=\"text-align: right;\">  North_pixel_p</th><th style=\"text-align: right;\">  East_pixel_p</th><th style=\"text-align: right;\">  North_pixel_p_est</th><th style=\"text-align: right;\">  East_pixel_p_est</th><th style=\"text-align: right;\">  North_pixel_AKAZE_BRUTE_LMEDS</th><th style=\"text-align: right;\">  East_pixel_AKAZE_BRUTE_LMEDS</th><th style=\"text-align: right;\">  North_pixel_AKAZE_BRUTE_NAIVE</th><th style=\"text-align: right;\">  East_pixel_AKAZE_BRUTE_NAIVE</th><th style=\"text-align: right;\">  North_pixel_AKAZE_BRUTE_RANSAC</th><th style=\"text-align: right;\">  East_pixel_AKAZE_BRUTE_RANSAC</th><th style=\"text-align: right;\">  North_pixel_AKAZE_BRUTE_RHO</th><th style=\"text-align: right;\">  East_pixel_AKAZE_BRUTE_RHO</th><th style=\"text-align: right;\">  North_pixel_BRISK_BRUTE_LMEDS</th><th style=\"text-align: right;\">  East_pixel_BRISK_BRUTE_LMEDS</th><th style=\"text-align: right;\">  North_pixel_BRISK_BRUTE_NAIVE</th><th style=\"text-align: right;\">  East_pixel_BRISK_BRUTE_NAIVE</th><th style=\"text-align: right;\">  North_pixel_BRISK_BRUTE_RANSAC</th><th style=\"text-align: right;\">  East_pixel_BRISK_BRUTE_RANSAC</th><th style=\"text-align: right;\">  North_pixel_BRISK_BRUTE_RHO</th><th style=\"text-align: right;\">  East_pixel_BRISK_BRUTE_RHO</th><th style=\"text-align: right;\">  North_pixel_SIFT_BRUTE_LMEDS</th><th style=\"text-align: right;\">  East_pixel_SIFT_BRUTE_LMEDS</th><th style=\"text-align: right;\">  North_pixel_SIFT_BRUTE_NAIVE</th><th style=\"text-align: right;\">  East_pixel_SIFT_BRUTE_NAIVE</th><th style=\"text-align: right;\">  North_pixel_SIFT_BRUTE_RANSAC</th><th style=\"text-align: right;\">  East_pixel_SIFT_BRUTE_RANSAC</th><th style=\"text-align: right;\">  North_pixel_SIFT_BRUTE_RHO</th><th style=\"text-align: right;\">  East_pixel_SIFT_BRUTE_RHO</th><th style=\"text-align: right;\">  North_pixel_SIFT_FLANN_LMEDS</th><th style=\"text-align: right;\">  East_pixel_SIFT_FLANN_LMEDS</th><th style=\"text-align: right;\">  North_pixel_SIFT_FLANN_NAIVE</th><th style=\"text-align: right;\">  East_pixel_SIFT_FLANN_NAIVE</th><th style=\"text-align: right;\">  North_pixel_SIFT_FLANN_RANSAC</th><th style=\"text-align: right;\">  East_pixel_SIFT_FLANN_RANSAC</th><th style=\"text-align: right;\">  North_pixel_SIFT_FLANN_RHO</th><th style=\"text-align: right;\">  East_pixel_SIFT_FLANN_RHO</th><th style=\"text-align: right;\">  North_prediction</th><th style=\"text-align: right;\">  East_prediction</th></tr>\n",
       "</thead>\n",
       "<tbody>\n",
       "<tr><td>000053b1e684c9e7ea73727b2238ce18.jpg</td><td style=\"text-align: right;\">   167.943</td><td style=\"text-align: right;\"> 0.0102692</td><td style=\"text-align: right;\">      0</td><td style=\"text-align: right;\">     3.94642 </td><td style=\"text-align: right;\">   -3.81585 </td><td style=\"text-align: right;\">       0.356597</td><td style=\"text-align: right;\">      0.257315</td><td style=\"text-align: right;\">        -0.654044  </td><td style=\"text-align: right;\">        -1.04211  </td><td style=\"text-align: right;\">       3.94642 </td><td style=\"text-align: right;\">     -3.81585 </td><td style=\"text-align: right;\">         5.85679   </td><td style=\"text-align: right;\">         -8.51255 </td><td style=\"text-align: right;\">       0.356597</td><td style=\"text-align: right;\">      0.257315</td><td style=\"text-align: right;\">        -0.654044  </td><td style=\"text-align: right;\">        -1.04211  </td><td style=\"text-align: right;\">                       nan     </td><td style=\"text-align: right;\">                     nan      </td><td style=\"text-align: right;\">                      nan      </td><td style=\"text-align: right;\">                      nan     </td><td style=\"text-align: right;\">                       nan      </td><td style=\"text-align: right;\">                       nan     </td><td style=\"text-align: right;\">                    nan      </td><td style=\"text-align: right;\">                    nan     </td><td style=\"text-align: right;\">                     nan       </td><td style=\"text-align: right;\">                    nan       </td><td style=\"text-align: right;\">                     nan       </td><td style=\"text-align: right;\">                    nan       </td><td style=\"text-align: right;\">                      nan       </td><td style=\"text-align: right;\">                     nan       </td><td style=\"text-align: right;\">                   nan       </td><td style=\"text-align: right;\">                   nan      </td><td style=\"text-align: right;\">                     -0.470444</td><td style=\"text-align: right;\">                    -0.754269</td><td style=\"text-align: right;\">                     10.9958  </td><td style=\"text-align: right;\">                    -0.358159</td><td style=\"text-align: right;\">                      0.443423 </td><td style=\"text-align: right;\">                     -1.5265  </td><td style=\"text-align: right;\">                   0.443088 </td><td style=\"text-align: right;\">                   -1.52615</td><td style=\"text-align: right;\">                     -0.470444</td><td style=\"text-align: right;\">                    -0.754269</td><td style=\"text-align: right;\">                     10.9958  </td><td style=\"text-align: right;\">                    -0.358159</td><td style=\"text-align: right;\">                      0.443423 </td><td style=\"text-align: right;\">                     -1.5265  </td><td style=\"text-align: right;\">                   0.443088 </td><td style=\"text-align: right;\">                   -1.52615</td><td style=\"text-align: right;\">         -0.136387</td><td style=\"text-align: right;\">       -0.317714 </td></tr>\n",
       "<tr><td>00029153d12ae1c9abe59c17ff2e0895.jpg</td><td style=\"text-align: right;\">   195.853</td><td style=\"text-align: right;\"> 0.0892181</td><td style=\"text-align: right;\">      2</td><td style=\"text-align: right;\">     7.66823 </td><td style=\"text-align: right;\">   -4.03186 </td><td style=\"text-align: right;\">       9.36693 </td><td style=\"text-align: right;\">     -2.49368 </td><td style=\"text-align: right;\">         4.65447   </td><td style=\"text-align: right;\">        -5.10086  </td><td style=\"text-align: right;\">       7.66823 </td><td style=\"text-align: right;\">     -4.03186 </td><td style=\"text-align: right;\">         4.9369    </td><td style=\"text-align: right;\">         -4.14951 </td><td style=\"text-align: right;\">       9.36693 </td><td style=\"text-align: right;\">     -2.49368 </td><td style=\"text-align: right;\">         4.65447   </td><td style=\"text-align: right;\">        -5.10086  </td><td style=\"text-align: right;\">                        10.7301</td><td style=\"text-align: right;\">                      -7.92775</td><td style=\"text-align: right;\">                       -3.40846</td><td style=\"text-align: right;\">                       11.2514</td><td style=\"text-align: right;\">                        -3.40846</td><td style=\"text-align: right;\">                        11.2514</td><td style=\"text-align: right;\">                     -3.40793</td><td style=\"text-align: right;\">                     11.2508</td><td style=\"text-align: right;\">                      12.853   </td><td style=\"text-align: right;\">                     -7.5555  </td><td style=\"text-align: right;\">                      14.1763  </td><td style=\"text-align: right;\">                     -9.00475 </td><td style=\"text-align: right;\">                       11.5228  </td><td style=\"text-align: right;\">                      -6.40892 </td><td style=\"text-align: right;\">                    12.853   </td><td style=\"text-align: right;\">                    -7.5555 </td><td style=\"text-align: right;\">                      4.31249 </td><td style=\"text-align: right;\">                    -4.80697 </td><td style=\"text-align: right;\">                      7.27502 </td><td style=\"text-align: right;\">                    -5.02102 </td><td style=\"text-align: right;\">                      3.97384  </td><td style=\"text-align: right;\">                     -4.87868 </td><td style=\"text-align: right;\">                   4.41553  </td><td style=\"text-align: right;\">                   -4.53885</td><td style=\"text-align: right;\">                      4.28417 </td><td style=\"text-align: right;\">                    -4.74802 </td><td style=\"text-align: right;\">                      7.23631 </td><td style=\"text-align: right;\">                    -4.97649 </td><td style=\"text-align: right;\">                      3.95851  </td><td style=\"text-align: right;\">                     -4.85852 </td><td style=\"text-align: right;\">                   4.52505  </td><td style=\"text-align: right;\">                   -4.98249</td><td style=\"text-align: right;\">          1.17649 </td><td style=\"text-align: right;\">       -0.359299 </td></tr>\n",
       "<tr><td>0006246bee639c7a7b11a08e34dd3cc6.jpg</td><td style=\"text-align: right;\">   146.943</td><td style=\"text-align: right;\">-0.0183258</td><td style=\"text-align: right;\">      1</td><td style=\"text-align: right;\">   -11.5494  </td><td style=\"text-align: right;\">   -0.880645</td><td style=\"text-align: right;\">     -12.5184  </td><td style=\"text-align: right;\">     -0.683746</td><td style=\"text-align: right;\">       -12.1243    </td><td style=\"text-align: right;\">        -0.0308469</td><td style=\"text-align: right;\">     -11.5494  </td><td style=\"text-align: right;\">     -0.880645</td><td style=\"text-align: right;\">       -12.1883    </td><td style=\"text-align: right;\">          0.273252</td><td style=\"text-align: right;\">     -12.5184  </td><td style=\"text-align: right;\">     -0.683746</td><td style=\"text-align: right;\">       -12.1243    </td><td style=\"text-align: right;\">        -0.0308469</td><td style=\"text-align: right;\">                       nan     </td><td style=\"text-align: right;\">                     nan      </td><td style=\"text-align: right;\">                      nan      </td><td style=\"text-align: right;\">                      nan     </td><td style=\"text-align: right;\">                       nan      </td><td style=\"text-align: right;\">                       nan     </td><td style=\"text-align: right;\">                    nan      </td><td style=\"text-align: right;\">                    nan     </td><td style=\"text-align: right;\">                     -11.0807  </td><td style=\"text-align: right;\">                      0.958358</td><td style=\"text-align: right;\">                     -11.0807  </td><td style=\"text-align: right;\">                      0.958358</td><td style=\"text-align: right;\">                      -11.6827  </td><td style=\"text-align: right;\">                       0.804326</td><td style=\"text-align: right;\">                   -13.4604  </td><td style=\"text-align: right;\">                     2.48306</td><td style=\"text-align: right;\">                    -14.5007  </td><td style=\"text-align: right;\">                     1.63186 </td><td style=\"text-align: right;\">                    -12.7649  </td><td style=\"text-align: right;\">                     0.355107</td><td style=\"text-align: right;\">                    -12.9641   </td><td style=\"text-align: right;\">                      0.778776</td><td style=\"text-align: right;\">                  -9.07472  </td><td style=\"text-align: right;\">                   -2.1691 </td><td style=\"text-align: right;\">                    -14.5007  </td><td style=\"text-align: right;\">                     1.63186 </td><td style=\"text-align: right;\">                    -12.7649  </td><td style=\"text-align: right;\">                     0.355107</td><td style=\"text-align: right;\">                    -12.9641   </td><td style=\"text-align: right;\">                      0.778776</td><td style=\"text-align: right;\">                  -9.07472  </td><td style=\"text-align: right;\">                   -2.1691 </td><td style=\"text-align: right;\">         -1.53298 </td><td style=\"text-align: right;\">        0.0906048</td></tr>\n",
       "<tr><td>00063cb5da1826febf178b669eea3250.jpg</td><td style=\"text-align: right;\">   213.184</td><td style=\"text-align: right;\">-0.108704 </td><td style=\"text-align: right;\">      1</td><td style=\"text-align: right;\">   -28.9916  </td><td style=\"text-align: right;\">    1.93089 </td><td style=\"text-align: right;\">     -25.9429  </td><td style=\"text-align: right;\">     -0.682081</td><td style=\"text-align: right;\">       -21.45      </td><td style=\"text-align: right;\">         4.21257  </td><td style=\"text-align: right;\">     -28.9916  </td><td style=\"text-align: right;\">      1.93089 </td><td style=\"text-align: right;\">       -21.2372    </td><td style=\"text-align: right;\">          4.1683  </td><td style=\"text-align: right;\">     -25.9429  </td><td style=\"text-align: right;\">     -0.682081</td><td style=\"text-align: right;\">       -21.45      </td><td style=\"text-align: right;\">         4.21257  </td><td style=\"text-align: right;\">                       nan     </td><td style=\"text-align: right;\">                     nan      </td><td style=\"text-align: right;\">                      nan      </td><td style=\"text-align: right;\">                      nan     </td><td style=\"text-align: right;\">                       nan      </td><td style=\"text-align: right;\">                       nan     </td><td style=\"text-align: right;\">                    nan      </td><td style=\"text-align: right;\">                    nan     </td><td style=\"text-align: right;\">                     nan       </td><td style=\"text-align: right;\">                    nan       </td><td style=\"text-align: right;\">                     nan       </td><td style=\"text-align: right;\">                    nan       </td><td style=\"text-align: right;\">                      nan       </td><td style=\"text-align: right;\">                     nan       </td><td style=\"text-align: right;\">                   nan       </td><td style=\"text-align: right;\">                   nan      </td><td style=\"text-align: right;\">                    nan       </td><td style=\"text-align: right;\">                   nan       </td><td style=\"text-align: right;\">                    nan       </td><td style=\"text-align: right;\">                   nan       </td><td style=\"text-align: right;\">                    nan        </td><td style=\"text-align: right;\">                    nan       </td><td style=\"text-align: right;\">                 nan        </td><td style=\"text-align: right;\">                  nan      </td><td style=\"text-align: right;\">                    nan       </td><td style=\"text-align: right;\">                   nan       </td><td style=\"text-align: right;\">                    nan       </td><td style=\"text-align: right;\">                   nan       </td><td style=\"text-align: right;\">                    nan        </td><td style=\"text-align: right;\">                    nan       </td><td style=\"text-align: right;\">                 nan        </td><td style=\"text-align: right;\">                  nan      </td><td style=\"text-align: right;\">         -1.56399 </td><td style=\"text-align: right;\">        0.549385 </td></tr>\n",
       "<tr><td>00063ece2e68a8847f228e8fd922f851.jpg</td><td style=\"text-align: right;\">   184.758</td><td style=\"text-align: right;\"> 0.0177002</td><td style=\"text-align: right;\">      0</td><td style=\"text-align: right;\">     0.184479</td><td style=\"text-align: right;\">   -6.92578 </td><td style=\"text-align: right;\">      -0.165511</td><td style=\"text-align: right;\">     -6.8528  </td><td style=\"text-align: right;\">         0.00832452</td><td style=\"text-align: right;\">        -6.20988  </td><td style=\"text-align: right;\">       0.184479</td><td style=\"text-align: right;\">     -6.92578 </td><td style=\"text-align: right;\">         0.00381415</td><td style=\"text-align: right;\">         -6.17922 </td><td style=\"text-align: right;\">      -0.165511</td><td style=\"text-align: right;\">     -6.8528  </td><td style=\"text-align: right;\">         0.00832452</td><td style=\"text-align: right;\">        -6.20988  </td><td style=\"text-align: right;\">                       nan     </td><td style=\"text-align: right;\">                     nan      </td><td style=\"text-align: right;\">                      nan      </td><td style=\"text-align: right;\">                      nan     </td><td style=\"text-align: right;\">                       nan      </td><td style=\"text-align: right;\">                       nan     </td><td style=\"text-align: right;\">                    nan      </td><td style=\"text-align: right;\">                    nan     </td><td style=\"text-align: right;\">                     nan       </td><td style=\"text-align: right;\">                    nan       </td><td style=\"text-align: right;\">                     nan       </td><td style=\"text-align: right;\">                    nan       </td><td style=\"text-align: right;\">                      nan       </td><td style=\"text-align: right;\">                     nan       </td><td style=\"text-align: right;\">                   nan       </td><td style=\"text-align: right;\">                   nan      </td><td style=\"text-align: right;\">                      0.042003</td><td style=\"text-align: right;\">                    -7.24781 </td><td style=\"text-align: right;\">                     -6.39651 </td><td style=\"text-align: right;\">                    -4.18855 </td><td style=\"text-align: right;\">                      0.022715 </td><td style=\"text-align: right;\">                     -7.06696 </td><td style=\"text-align: right;\">                   0.0226678</td><td style=\"text-align: right;\">                   -7.0668 </td><td style=\"text-align: right;\">                      0.042003</td><td style=\"text-align: right;\">                    -7.24781 </td><td style=\"text-align: right;\">                     -6.39651 </td><td style=\"text-align: right;\">                    -4.18855 </td><td style=\"text-align: right;\">                      0.022715 </td><td style=\"text-align: right;\">                     -7.06696 </td><td style=\"text-align: right;\">                   0.0226678</td><td style=\"text-align: right;\">                   -7.0668 </td><td style=\"text-align: right;\">          0.103014</td><td style=\"text-align: right;\">       -1.89746  </td></tr>\n",
       "<tr><td>000838c1249fec206b77360ff0adc110.jpg</td><td style=\"text-align: right;\">   209.136</td><td style=\"text-align: right;\">-0.544525 </td><td style=\"text-align: right;\">      1</td><td style=\"text-align: right;\">     2.54224 </td><td style=\"text-align: right;\">   -2.43533 </td><td style=\"text-align: right;\">       2.78873 </td><td style=\"text-align: right;\">     -2.46239 </td><td style=\"text-align: right;\">         3.46306   </td><td style=\"text-align: right;\">        -2.61436  </td><td style=\"text-align: right;\">       2.54224 </td><td style=\"text-align: right;\">     -2.43533 </td><td style=\"text-align: right;\">         3.48015   </td><td style=\"text-align: right;\">         -2.62869 </td><td style=\"text-align: right;\">       2.78873 </td><td style=\"text-align: right;\">     -2.46239 </td><td style=\"text-align: right;\">         3.46306   </td><td style=\"text-align: right;\">        -2.61436  </td><td style=\"text-align: right;\">                       nan     </td><td style=\"text-align: right;\">                     nan      </td><td style=\"text-align: right;\">                      nan      </td><td style=\"text-align: right;\">                      nan     </td><td style=\"text-align: right;\">                       nan      </td><td style=\"text-align: right;\">                       nan     </td><td style=\"text-align: right;\">                    nan      </td><td style=\"text-align: right;\">                    nan     </td><td style=\"text-align: right;\">                     nan       </td><td style=\"text-align: right;\">                    nan       </td><td style=\"text-align: right;\">                     nan       </td><td style=\"text-align: right;\">                    nan       </td><td style=\"text-align: right;\">                      nan       </td><td style=\"text-align: right;\">                     nan       </td><td style=\"text-align: right;\">                   nan       </td><td style=\"text-align: right;\">                   nan      </td><td style=\"text-align: right;\">                    nan       </td><td style=\"text-align: right;\">                   nan       </td><td style=\"text-align: right;\">                    nan       </td><td style=\"text-align: right;\">                   nan       </td><td style=\"text-align: right;\">                    nan        </td><td style=\"text-align: right;\">                    nan       </td><td style=\"text-align: right;\">                 nan        </td><td style=\"text-align: right;\">                  nan      </td><td style=\"text-align: right;\">                    nan       </td><td style=\"text-align: right;\">                   nan       </td><td style=\"text-align: right;\">                    nan       </td><td style=\"text-align: right;\">                   nan       </td><td style=\"text-align: right;\">                    nan        </td><td style=\"text-align: right;\">                    nan       </td><td style=\"text-align: right;\">                 nan        </td><td style=\"text-align: right;\">                  nan      </td><td style=\"text-align: right;\">          1.36245 </td><td style=\"text-align: right;\">       -1.31346  </td></tr>\n",
       "<tr><td>000a8e84b013655b832041a6f362e5c9.jpg</td><td style=\"text-align: right;\">   177.72 </td><td style=\"text-align: right;\">-0.23024  </td><td style=\"text-align: right;\">      4</td><td style=\"text-align: right;\">    -0.601386</td><td style=\"text-align: right;\">   -3.88556 </td><td style=\"text-align: right;\">      -0.061612</td><td style=\"text-align: right;\">     -4.1541  </td><td style=\"text-align: right;\">        -0.321557  </td><td style=\"text-align: right;\">        -4.38535  </td><td style=\"text-align: right;\">      -0.601386</td><td style=\"text-align: right;\">     -3.88556 </td><td style=\"text-align: right;\">        -0.280671  </td><td style=\"text-align: right;\">         -4.39763 </td><td style=\"text-align: right;\">      -0.061612</td><td style=\"text-align: right;\">     -4.1541  </td><td style=\"text-align: right;\">        -0.321557  </td><td style=\"text-align: right;\">        -4.38535  </td><td style=\"text-align: right;\">                       nan     </td><td style=\"text-align: right;\">                     nan      </td><td style=\"text-align: right;\">                      nan      </td><td style=\"text-align: right;\">                      nan     </td><td style=\"text-align: right;\">                       nan      </td><td style=\"text-align: right;\">                       nan     </td><td style=\"text-align: right;\">                    nan      </td><td style=\"text-align: right;\">                    nan     </td><td style=\"text-align: right;\">                     nan       </td><td style=\"text-align: right;\">                    nan       </td><td style=\"text-align: right;\">                     nan       </td><td style=\"text-align: right;\">                    nan       </td><td style=\"text-align: right;\">                      nan       </td><td style=\"text-align: right;\">                     nan       </td><td style=\"text-align: right;\">                   nan       </td><td style=\"text-align: right;\">                   nan      </td><td style=\"text-align: right;\">                     -0.34324 </td><td style=\"text-align: right;\">                    -3.71581 </td><td style=\"text-align: right;\">                     -0.200637</td><td style=\"text-align: right;\">                    -4.37392 </td><td style=\"text-align: right;\">                      0.0639072</td><td style=\"text-align: right;\">                     -4.62063 </td><td style=\"text-align: right;\">                  -0.200633 </td><td style=\"text-align: right;\">                   -4.37392</td><td style=\"text-align: right;\">                     -0.34324 </td><td style=\"text-align: right;\">                    -3.71581 </td><td style=\"text-align: right;\">                     -0.200637</td><td style=\"text-align: right;\">                    -4.37392 </td><td style=\"text-align: right;\">                      0.0639072</td><td style=\"text-align: right;\">                     -4.62063 </td><td style=\"text-align: right;\">                  -0.200633 </td><td style=\"text-align: right;\">                   -4.37392</td><td style=\"text-align: right;\">         -0.10359 </td><td style=\"text-align: right;\">       -1.13695  </td></tr>\n",
       "<tr><td>000d0c74074191add6f22e0004db8f76.jpg</td><td style=\"text-align: right;\">   200.488</td><td style=\"text-align: right;\"> 0.0812378</td><td style=\"text-align: right;\">      3</td><td style=\"text-align: right;\">     3.12172 </td><td style=\"text-align: right;\">   -6.69092 </td><td style=\"text-align: right;\">       2.78086 </td><td style=\"text-align: right;\">     -5.82139 </td><td style=\"text-align: right;\">         2.14271   </td><td style=\"text-align: right;\">        -5.28396  </td><td style=\"text-align: right;\">       3.12172 </td><td style=\"text-align: right;\">     -6.69092 </td><td style=\"text-align: right;\">         2.19983   </td><td style=\"text-align: right;\">         -5.08691 </td><td style=\"text-align: right;\">       2.78086 </td><td style=\"text-align: right;\">     -5.82139 </td><td style=\"text-align: right;\">         2.14271   </td><td style=\"text-align: right;\">        -5.28396  </td><td style=\"text-align: right;\">                       nan     </td><td style=\"text-align: right;\">                     nan      </td><td style=\"text-align: right;\">                      nan      </td><td style=\"text-align: right;\">                      nan     </td><td style=\"text-align: right;\">                       nan      </td><td style=\"text-align: right;\">                       nan     </td><td style=\"text-align: right;\">                    nan      </td><td style=\"text-align: right;\">                    nan     </td><td style=\"text-align: right;\">                     nan       </td><td style=\"text-align: right;\">                    nan       </td><td style=\"text-align: right;\">                     nan       </td><td style=\"text-align: right;\">                    nan       </td><td style=\"text-align: right;\">                      nan       </td><td style=\"text-align: right;\">                     nan       </td><td style=\"text-align: right;\">                   nan       </td><td style=\"text-align: right;\">                   nan      </td><td style=\"text-align: right;\">                      2.80402 </td><td style=\"text-align: right;\">                    -6.66798 </td><td style=\"text-align: right;\">                      4.21937 </td><td style=\"text-align: right;\">                    -7.31429 </td><td style=\"text-align: right;\">                      4.21937  </td><td style=\"text-align: right;\">                     -7.31429 </td><td style=\"text-align: right;\">                   4.22822  </td><td style=\"text-align: right;\">                   -7.32086</td><td style=\"text-align: right;\">                      2.80402 </td><td style=\"text-align: right;\">                    -6.66798 </td><td style=\"text-align: right;\">                      4.21937 </td><td style=\"text-align: right;\">                    -7.31429 </td><td style=\"text-align: right;\">                      4.21937  </td><td style=\"text-align: right;\">                     -7.31429 </td><td style=\"text-align: right;\">                   4.22822  </td><td style=\"text-align: right;\">                   -7.32086</td><td style=\"text-align: right;\">          0.767378</td><td style=\"text-align: right;\">       -1.72441  </td></tr>\n",
       "<tr><td>000dd3543ac84d906eae52e7c779bb2a.jpg</td><td style=\"text-align: right;\">   155.313</td><td style=\"text-align: right;\"> 0.062027 </td><td style=\"text-align: right;\">      4</td><td style=\"text-align: right;\">    -0.954504</td><td style=\"text-align: right;\">   -9.59106 </td><td style=\"text-align: right;\">      -3.27656 </td><td style=\"text-align: right;\">     -8.70192 </td><td style=\"text-align: right;\">        -4.1014    </td><td style=\"text-align: right;\">        -8.30099  </td><td style=\"text-align: right;\">      -0.954504</td><td style=\"text-align: right;\">     -9.59106 </td><td style=\"text-align: right;\">        -4.38984   </td><td style=\"text-align: right;\">         -8.47304 </td><td style=\"text-align: right;\">      -3.27656 </td><td style=\"text-align: right;\">     -8.70192 </td><td style=\"text-align: right;\">        -4.1014    </td><td style=\"text-align: right;\">        -8.30099  </td><td style=\"text-align: right;\">                       nan     </td><td style=\"text-align: right;\">                     nan      </td><td style=\"text-align: right;\">                      nan      </td><td style=\"text-align: right;\">                      nan     </td><td style=\"text-align: right;\">                       nan      </td><td style=\"text-align: right;\">                       nan     </td><td style=\"text-align: right;\">                    nan      </td><td style=\"text-align: right;\">                    nan     </td><td style=\"text-align: right;\">                      21.1761  </td><td style=\"text-align: right;\">                     -9.01628 </td><td style=\"text-align: right;\">                      22.3221  </td><td style=\"text-align: right;\">                    -20.4279  </td><td style=\"text-align: right;\">                       30.0377  </td><td style=\"text-align: right;\">                     -21.7879  </td><td style=\"text-align: right;\">                  1913.12    </td><td style=\"text-align: right;\">                 -1061.34   </td><td style=\"text-align: right;\">                      1.9999  </td><td style=\"text-align: right;\">                    -7.38377 </td><td style=\"text-align: right;\">                      2.23806 </td><td style=\"text-align: right;\">                    36.0222  </td><td style=\"text-align: right;\">                      1.37923  </td><td style=\"text-align: right;\">                     -9.76782 </td><td style=\"text-align: right;\">                 -10.8186   </td><td style=\"text-align: right;\">                   -5.03167</td><td style=\"text-align: right;\">                      1.9999  </td><td style=\"text-align: right;\">                    -7.38377 </td><td style=\"text-align: right;\">                      2.23806 </td><td style=\"text-align: right;\">                    36.0222  </td><td style=\"text-align: right;\">                      1.37923  </td><td style=\"text-align: right;\">                     -9.76782 </td><td style=\"text-align: right;\">                 -10.8186   </td><td style=\"text-align: right;\">                   -5.03167</td><td style=\"text-align: right;\">         -0.633756</td><td style=\"text-align: right;\">       -1.19833  </td></tr>\n",
       "<tr><td>00129b07887a18a7331909231c28816e.jpg</td><td style=\"text-align: right;\">   187.643</td><td style=\"text-align: right;\">-0.133362 </td><td style=\"text-align: right;\">      4</td><td style=\"text-align: right;\">     0.559739</td><td style=\"text-align: right;\">    4.16881 </td><td style=\"text-align: right;\">       0.2546  </td><td style=\"text-align: right;\">      4.49667 </td><td style=\"text-align: right;\">         0.456218  </td><td style=\"text-align: right;\">         4.28046  </td><td style=\"text-align: right;\">       0.559739</td><td style=\"text-align: right;\">      4.16881 </td><td style=\"text-align: right;\">         0.446538  </td><td style=\"text-align: right;\">          4.31604 </td><td style=\"text-align: right;\">       0.2546  </td><td style=\"text-align: right;\">      4.49667 </td><td style=\"text-align: right;\">         0.456218  </td><td style=\"text-align: right;\">         4.28046  </td><td style=\"text-align: right;\">                       nan     </td><td style=\"text-align: right;\">                     nan      </td><td style=\"text-align: right;\">                      nan      </td><td style=\"text-align: right;\">                      nan     </td><td style=\"text-align: right;\">                       nan      </td><td style=\"text-align: right;\">                       nan     </td><td style=\"text-align: right;\">                    nan      </td><td style=\"text-align: right;\">                    nan     </td><td style=\"text-align: right;\">                       0.384737</td><td style=\"text-align: right;\">                      4.36171 </td><td style=\"text-align: right;\">                       0.384737</td><td style=\"text-align: right;\">                      4.36171 </td><td style=\"text-align: right;\">                        0.384737</td><td style=\"text-align: right;\">                       4.36171 </td><td style=\"text-align: right;\">                     0.385121</td><td style=\"text-align: right;\">                     4.36148</td><td style=\"text-align: right;\">                      0.269944</td><td style=\"text-align: right;\">                     4.55611 </td><td style=\"text-align: right;\">                      0.291684</td><td style=\"text-align: right;\">                     4.52283 </td><td style=\"text-align: right;\">                      0.291684 </td><td style=\"text-align: right;\">                      4.52283 </td><td style=\"text-align: right;\">                   0.291687 </td><td style=\"text-align: right;\">                    4.52282</td><td style=\"text-align: right;\">                      0.269944</td><td style=\"text-align: right;\">                     4.55611 </td><td style=\"text-align: right;\">                      0.291684</td><td style=\"text-align: right;\">                     4.52283 </td><td style=\"text-align: right;\">                      0.291684 </td><td style=\"text-align: right;\">                      4.52283 </td><td style=\"text-align: right;\">                   0.291687 </td><td style=\"text-align: right;\">                    4.52282</td><td style=\"text-align: right;\">          0.132695</td><td style=\"text-align: right;\">        2.03512  </td></tr>\n",
       "</tbody>\n",
       "</table><pre style='font-size: smaller; margin-bottom: 1em;'>[55031 rows x 52 columns]</pre>"
      ],
      "text/plain": [
       "Filename                                Altitude       Delta    kfold    North_pixel    East_pixel    North_pixel_a    East_pixel_a    North_pixel_a_est    East_pixel_a_est    North_pixel_h    East_pixel_h    North_pixel_h_est    East_pixel_h_est    North_pixel_p    East_pixel_p    North_pixel_p_est    East_pixel_p_est    North_pixel_AKAZE_BRUTE_LMEDS    East_pixel_AKAZE_BRUTE_LMEDS    North_pixel_AKAZE_BRUTE_NAIVE    East_pixel_AKAZE_BRUTE_NAIVE    North_pixel_AKAZE_BRUTE_RANSAC    East_pixel_AKAZE_BRUTE_RANSAC    North_pixel_AKAZE_BRUTE_RHO    East_pixel_AKAZE_BRUTE_RHO    North_pixel_BRISK_BRUTE_LMEDS    East_pixel_BRISK_BRUTE_LMEDS    North_pixel_BRISK_BRUTE_NAIVE    East_pixel_BRISK_BRUTE_NAIVE    North_pixel_BRISK_BRUTE_RANSAC    East_pixel_BRISK_BRUTE_RANSAC    North_pixel_BRISK_BRUTE_RHO    East_pixel_BRISK_BRUTE_RHO    North_pixel_SIFT_BRUTE_LMEDS    East_pixel_SIFT_BRUTE_LMEDS    North_pixel_SIFT_BRUTE_NAIVE    East_pixel_SIFT_BRUTE_NAIVE    North_pixel_SIFT_BRUTE_RANSAC    East_pixel_SIFT_BRUTE_RANSAC    North_pixel_SIFT_BRUTE_RHO    East_pixel_SIFT_BRUTE_RHO    North_pixel_SIFT_FLANN_LMEDS    East_pixel_SIFT_FLANN_LMEDS    North_pixel_SIFT_FLANN_NAIVE    East_pixel_SIFT_FLANN_NAIVE    North_pixel_SIFT_FLANN_RANSAC    East_pixel_SIFT_FLANN_RANSAC    North_pixel_SIFT_FLANN_RHO    East_pixel_SIFT_FLANN_RHO    North_prediction    East_prediction\n",
       "------------------------------------  ----------  ----------  -------  -------------  ------------  ---------------  --------------  -------------------  ------------------  ---------------  --------------  -------------------  ------------------  ---------------  --------------  -------------------  ------------------  -------------------------------  ------------------------------  -------------------------------  ------------------------------  --------------------------------  -------------------------------  -----------------------------  ----------------------------  -------------------------------  ------------------------------  -------------------------------  ------------------------------  --------------------------------  -------------------------------  -----------------------------  ----------------------------  ------------------------------  -----------------------------  ------------------------------  -----------------------------  -------------------------------  ------------------------------  ----------------------------  ---------------------------  ------------------------------  -----------------------------  ------------------------------  -----------------------------  -------------------------------  ------------------------------  ----------------------------  ---------------------------  ------------------  -----------------\n",
       "000053b1e684c9e7ea73727b2238ce18.jpg     167.943   0.0102692        0       3.94642      -3.81585          0.356597        0.257315          -0.654044            -1.04211           3.94642        -3.81585            5.85679              -8.51255          0.356597        0.257315          -0.654044            -1.04211                           nan                            nan                              nan                              nan                              nan                               nan                           nan                            nan                            nan                             nan                              nan                             nan                               nan                              nan                            nan                            nan                             -0.470444                      -0.754269                       10.9958                        -0.358159                        0.443423                        -1.5265                       0.443088                      -1.52615                       -0.470444                      -0.754269                       10.9958                        -0.358159                        0.443423                        -1.5265                       0.443088                      -1.52615           -0.136387         -0.317714\n",
       "00029153d12ae1c9abe59c17ff2e0895.jpg     195.853   0.0892181        2       7.66823      -4.03186          9.36693        -2.49368            4.65447             -5.10086           7.66823        -4.03186            4.9369               -4.14951          9.36693        -2.49368            4.65447             -5.10086                            10.7301                        -7.92775                         -3.40846                         11.2514                          -3.40846                          11.2514                       -3.40793                       11.2508                        12.853                          -7.5555                          14.1763                         -9.00475                          11.5228                          -6.40892                       12.853                         -7.5555                         4.31249                       -4.80697                         7.27502                       -5.02102                         3.97384                         -4.87868                      4.41553                       -4.53885                        4.28417                       -4.74802                         7.23631                       -4.97649                         3.95851                         -4.85852                      4.52505                       -4.98249            1.17649          -0.359299\n",
       "0006246bee639c7a7b11a08e34dd3cc6.jpg     146.943  -0.0183258        1     -11.5494       -0.880645       -12.5184         -0.683746         -12.1243              -0.0308469       -11.5494         -0.880645         -12.1883                0.273252       -12.5184         -0.683746         -12.1243              -0.0308469                         nan                            nan                              nan                              nan                              nan                               nan                           nan                            nan                            -11.0807                          0.958358                       -11.0807                          0.958358                        -11.6827                           0.804326                     -13.4604                         2.48306                      -14.5007                         1.63186                       -12.7649                         0.355107                      -12.9641                           0.778776                    -9.07472                       -2.1691                       -14.5007                         1.63186                       -12.7649                         0.355107                      -12.9641                           0.778776                    -9.07472                       -2.1691            -1.53298           0.0906048\n",
       "00063cb5da1826febf178b669eea3250.jpg     213.184  -0.108704         1     -28.9916        1.93089        -25.9429         -0.682081         -21.45                 4.21257         -28.9916          1.93089          -21.2372                4.1683         -25.9429         -0.682081         -21.45                 4.21257                           nan                            nan                              nan                              nan                              nan                               nan                           nan                            nan                            nan                             nan                              nan                             nan                               nan                              nan                            nan                            nan                            nan                            nan                             nan                            nan                             nan                              nan                          nan                            nan                            nan                            nan                             nan                            nan                             nan                              nan                          nan                            nan                 -1.56399           0.549385\n",
       "00063ece2e68a8847f228e8fd922f851.jpg     184.758   0.0177002        0       0.184479     -6.92578         -0.165511       -6.8528             0.00832452          -6.20988           0.184479       -6.92578            0.00381415           -6.17922         -0.165511       -6.8528             0.00832452          -6.20988                           nan                            nan                              nan                              nan                              nan                               nan                           nan                            nan                            nan                             nan                              nan                             nan                               nan                              nan                            nan                            nan                              0.042003                      -7.24781                        -6.39651                       -4.18855                         0.022715                        -7.06696                      0.0226678                     -7.0668                         0.042003                      -7.24781                        -6.39651                       -4.18855                         0.022715                        -7.06696                      0.0226678                     -7.0668             0.103014         -1.89746\n",
       "000838c1249fec206b77360ff0adc110.jpg     209.136  -0.544525         1       2.54224      -2.43533          2.78873        -2.46239            3.46306             -2.61436           2.54224        -2.43533            3.48015              -2.62869          2.78873        -2.46239            3.46306             -2.61436                           nan                            nan                              nan                              nan                              nan                               nan                           nan                            nan                            nan                             nan                              nan                             nan                               nan                              nan                            nan                            nan                            nan                            nan                             nan                            nan                             nan                              nan                          nan                            nan                            nan                            nan                             nan                            nan                             nan                              nan                          nan                            nan                  1.36245          -1.31346\n",
       "000a8e84b013655b832041a6f362e5c9.jpg     177.72   -0.23024          4      -0.601386     -3.88556         -0.061612       -4.1541            -0.321557            -4.38535          -0.601386       -3.88556           -0.280671             -4.39763         -0.061612       -4.1541            -0.321557            -4.38535                           nan                            nan                              nan                              nan                              nan                               nan                           nan                            nan                            nan                             nan                              nan                             nan                               nan                              nan                            nan                            nan                             -0.34324                       -3.71581                        -0.200637                      -4.37392                         0.0639072                       -4.62063                     -0.200633                      -4.37392                       -0.34324                       -3.71581                        -0.200637                      -4.37392                         0.0639072                       -4.62063                     -0.200633                      -4.37392           -0.10359          -1.13695\n",
       "000d0c74074191add6f22e0004db8f76.jpg     200.488   0.0812378        3       3.12172      -6.69092          2.78086        -5.82139            2.14271             -5.28396           3.12172        -6.69092            2.19983              -5.08691          2.78086        -5.82139            2.14271             -5.28396                           nan                            nan                              nan                              nan                              nan                               nan                           nan                            nan                            nan                             nan                              nan                             nan                               nan                              nan                            nan                            nan                              2.80402                       -6.66798                         4.21937                       -7.31429                         4.21937                         -7.31429                      4.22822                       -7.32086                        2.80402                       -6.66798                         4.21937                       -7.31429                         4.21937                         -7.31429                      4.22822                       -7.32086            0.767378         -1.72441\n",
       "000dd3543ac84d906eae52e7c779bb2a.jpg     155.313   0.062027         4      -0.954504     -9.59106         -3.27656        -8.70192           -4.1014              -8.30099          -0.954504       -9.59106           -4.38984              -8.47304         -3.27656        -8.70192           -4.1014              -8.30099                           nan                            nan                              nan                              nan                              nan                               nan                           nan                            nan                             21.1761                         -9.01628                         22.3221                        -20.4279                           30.0377                         -21.7879                      1913.12                       -1061.34                           1.9999                        -7.38377                         2.23806                       36.0222                          1.37923                         -9.76782                    -10.8186                        -5.03167                        1.9999                        -7.38377                         2.23806                       36.0222                          1.37923                         -9.76782                    -10.8186                        -5.03167           -0.633756         -1.19833\n",
       "00129b07887a18a7331909231c28816e.jpg     187.643  -0.133362         4       0.559739      4.16881          0.2546          4.49667            0.456218             4.28046           0.559739        4.16881            0.446538              4.31604          0.2546          4.49667            0.456218             4.28046                           nan                            nan                              nan                              nan                              nan                               nan                           nan                            nan                              0.384737                        4.36171                          0.384737                        4.36171                           0.384737                         4.36171                        0.385121                       4.36148                        0.269944                       4.55611                         0.291684                       4.52283                         0.291684                         4.52283                      0.291687                       4.52282                        0.269944                       4.55611                         0.291684                       4.52283                         0.291684                         4.52283                      0.291687                       4.52282            0.132695          2.03512\n",
       "[55031 rows x 52 columns]\n"
      ]
     },
     "execution_count": 12,
     "metadata": {},
     "output_type": "execute_result"
    }
   ],
   "source": [
    "test_final = test.cbind(north_test_preds)\n",
    "test_final = test_final.cbind(east_test_preds)\n",
    "test_final.as_data_frame().to_csv('test_final.csv')\n",
    "\n",
    "test_final"
   ]
  },
  {
   "cell_type": "markdown",
   "metadata": {},
   "source": [
    "# Submission"
   ]
  },
  {
   "cell_type": "code",
   "execution_count": null,
   "metadata": {
    "execution": {
     "iopub.execute_input": "2022-11-21T17:41:50.475097Z",
     "iopub.status.busy": "2022-11-21T17:41:50.474822Z",
     "iopub.status.idle": "2022-11-21T17:41:51.157753Z",
     "shell.execute_reply": "2022-11-21T17:41:51.157435Z"
    }
   },
   "outputs": [
    {
     "data": {
      "text/html": [
       "<div>\n",
       "<style scoped>\n",
       "    .dataframe tbody tr th:only-of-type {\n",
       "        vertical-align: middle;\n",
       "    }\n",
       "\n",
       "    .dataframe tbody tr th {\n",
       "        vertical-align: top;\n",
       "    }\n",
       "\n",
       "    .dataframe thead th {\n",
       "        text-align: right;\n",
       "    }\n",
       "</style>\n",
       "<table border=\"1\" class=\"dataframe\">\n",
       "  <thead>\n",
       "    <tr style=\"text-align: right;\">\n",
       "      <th></th>\n",
       "      <th>Id</th>\n",
       "      <th>Predicted</th>\n",
       "    </tr>\n",
       "  </thead>\n",
       "  <tbody>\n",
       "    <tr>\n",
       "      <th>0</th>\n",
       "      <td>000053b1e684c9e7ea73727b2238ce18.jpg:North</td>\n",
       "      <td>-0.136387</td>\n",
       "    </tr>\n",
       "    <tr>\n",
       "      <th>1</th>\n",
       "      <td>00029153d12ae1c9abe59c17ff2e0895.jpg:North</td>\n",
       "      <td>1.176492</td>\n",
       "    </tr>\n",
       "    <tr>\n",
       "      <th>2</th>\n",
       "      <td>0006246bee639c7a7b11a08e34dd3cc6.jpg:North</td>\n",
       "      <td>-1.532980</td>\n",
       "    </tr>\n",
       "    <tr>\n",
       "      <th>3</th>\n",
       "      <td>00063cb5da1826febf178b669eea3250.jpg:North</td>\n",
       "      <td>-1.563989</td>\n",
       "    </tr>\n",
       "    <tr>\n",
       "      <th>4</th>\n",
       "      <td>00063ece2e68a8847f228e8fd922f851.jpg:North</td>\n",
       "      <td>0.103014</td>\n",
       "    </tr>\n",
       "  </tbody>\n",
       "</table>\n",
       "</div>"
      ],
      "text/plain": [
       "                                           Id  Predicted\n",
       "0  000053b1e684c9e7ea73727b2238ce18.jpg:North  -0.136387\n",
       "1  00029153d12ae1c9abe59c17ff2e0895.jpg:North   1.176492\n",
       "2  0006246bee639c7a7b11a08e34dd3cc6.jpg:North  -1.532980\n",
       "3  00063cb5da1826febf178b669eea3250.jpg:North  -1.563989\n",
       "4  00063ece2e68a8847f228e8fd922f851.jpg:North   0.103014"
      ]
     },
     "execution_count": 13,
     "metadata": {},
     "output_type": "execute_result"
    }
   ],
   "source": [
    "submission = test_final.as_data_frame()[['Filename', 'North_prediction', 'East_prediction']]\n",
    "submission.rename({'North_prediction':'North', 'East_prediction':'East'}, axis=1, inplace=True)\n",
    "submission = submission.melt(id_vars='Filename', value_name='Predicted')\n",
    "submission['Id'] = submission.Filename + ':' + submission.variable\n",
    "submission = submission[['Id', 'Predicted']]\n",
    "submission.head()"
   ]
  },
  {
   "cell_type": "code",
   "execution_count": null,
   "metadata": {
    "execution": {
     "iopub.execute_input": "2022-11-21T17:41:51.159073Z",
     "iopub.status.busy": "2022-11-21T17:41:51.158998Z",
     "iopub.status.idle": "2022-11-21T17:41:51.319525Z",
     "shell.execute_reply": "2022-11-21T17:41:51.319231Z"
    }
   },
   "outputs": [],
   "source": [
    "submission.to_csv('submission_h2o_full_classic.csv', index=False)"
   ]
  },
  {
   "cell_type": "markdown",
   "metadata": {},
   "source": [
    "# North Explanation"
   ]
  },
  {
   "cell_type": "code",
   "execution_count": null,
   "metadata": {
    "execution": {
     "iopub.execute_input": "2022-11-21T17:41:51.321217Z",
     "iopub.status.busy": "2022-11-21T17:41:51.321139Z",
     "iopub.status.idle": "2022-11-21T17:41:51.322846Z",
     "shell.execute_reply": "2022-11-21T17:41:51.322619Z"
    }
   },
   "outputs": [],
   "source": [
    "north_aml.explain(train)"
   ]
  },
  {
   "cell_type": "markdown",
   "metadata": {},
   "source": [
    "# East Explanation"
   ]
  },
  {
   "cell_type": "code",
   "execution_count": null,
   "metadata": {
    "execution": {
     "iopub.execute_input": "2022-11-21T17:41:51.324212Z",
     "iopub.status.busy": "2022-11-21T17:41:51.324023Z",
     "iopub.status.idle": "2022-11-21T17:41:51.325552Z",
     "shell.execute_reply": "2022-11-21T17:41:51.325328Z"
    }
   },
   "outputs": [],
   "source": [
    "east_aml.explain(train)"
   ]
  },
  {
   "cell_type": "code",
   "execution_count": null,
   "metadata": {
    "execution": {
     "iopub.execute_input": "2022-11-21T17:41:51.326729Z",
     "iopub.status.busy": "2022-11-21T17:41:51.326660Z",
     "iopub.status.idle": "2022-11-21T17:41:51.339566Z",
     "shell.execute_reply": "2022-11-21T17:41:51.339285Z"
    }
   },
   "outputs": [
    {
     "name": "stdout",
     "output_type": "stream",
     "text": [
      "H2O session _sid_a9d0 closed.\n"
     ]
    },
    {
     "name": "stderr",
     "output_type": "stream",
     "text": [
      "/tmp/ipykernel_3455/2900054706.py:1: H2ODeprecationWarning: Deprecated, use ``h2o.cluster().shutdown()``.\n",
      "  h2o.shutdown()\n"
     ]
    }
   ],
   "source": [
    "h2o.shutdown()"
   ]
  },
  {
   "cell_type": "code",
   "execution_count": null,
   "metadata": {},
   "outputs": [],
   "source": []
  },
  {
   "cell_type": "code",
   "execution_count": null,
   "metadata": {},
   "outputs": [],
   "source": []
  }
 ],
 "metadata": {
  "kernelspec": {
   "display_name": "Python 3.9.12 ('kdd22')",
   "language": "python",
   "name": "python3"
  },
  "language_info": {
   "codemirror_mode": {
    "name": "ipython",
    "version": 3
   },
   "file_extension": ".py",
   "mimetype": "text/x-python",
   "name": "python",
   "nbconvert_exporter": "python",
   "pygments_lexer": "ipython3",
   "version": "3.9.12"
  },
  "vscode": {
   "interpreter": {
    "hash": "9c77c43746d93b9a067aadc04b2ec90c79cf589b8baab80a26b65072ec10c027"
   }
  }
 },
 "nbformat": 4,
 "nbformat_minor": 4
}
