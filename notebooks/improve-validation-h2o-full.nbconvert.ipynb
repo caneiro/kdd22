{
 "cells": [
  {
   "cell_type": "markdown",
   "metadata": {},
   "source": [
    "# Single Output Regression"
   ]
  },
  {
   "cell_type": "code",
   "execution_count": 1,
   "metadata": {
    "_cell_guid": "b1076dfc-b9ad-4769-8c92-a6c4dae69d19",
    "_uuid": "8f2839f25d086af736a60e9eeb907d3b93b6e0e5",
    "execution": {
     "iopub.execute_input": "2022-10-31T21:32:50.785698Z",
     "iopub.status.busy": "2022-10-31T21:32:50.785580Z",
     "iopub.status.idle": "2022-10-31T21:32:51.295246Z",
     "shell.execute_reply": "2022-10-31T21:32:51.294955Z"
    }
   },
   "outputs": [
    {
     "name": "stdout",
     "output_type": "stream",
     "text": [
      "/home/rco/DS/kdd22/data/raw\n"
     ]
    }
   ],
   "source": [
    "import os\n",
    "import sys\n",
    "import numpy as np\n",
    "import pandas as pd\n",
    "from tqdm.auto import tqdm\n",
    "import matplotlib.pyplot as plt\n",
    "from pathlib import Path\n",
    "\n",
    "SEED = 42\n",
    "HOME = Path.cwd().parent\n",
    "RAW_PATH = HOME / 'data/raw'\n",
    "print(RAW_PATH)\n",
    "MAX_TIME = 3600"
   ]
  },
  {
   "cell_type": "code",
   "execution_count": 2,
   "metadata": {
    "execution": {
     "iopub.execute_input": "2022-10-31T21:32:51.324212Z",
     "iopub.status.busy": "2022-10-31T21:32:51.324106Z",
     "iopub.status.idle": "2022-10-31T21:32:51.428870Z",
     "shell.execute_reply": "2022-10-31T21:32:51.428582Z"
    }
   },
   "outputs": [
    {
     "name": "stdout",
     "output_type": "stream",
     "text": [
      "(146262, 6)\n"
     ]
    },
    {
     "data": {
      "text/html": [
       "<div>\n",
       "<style scoped>\n",
       "    .dataframe tbody tr th:only-of-type {\n",
       "        vertical-align: middle;\n",
       "    }\n",
       "\n",
       "    .dataframe tbody tr th {\n",
       "        vertical-align: top;\n",
       "    }\n",
       "\n",
       "    .dataframe thead th {\n",
       "        text-align: right;\n",
       "    }\n",
       "</style>\n",
       "<table border=\"1\" class=\"dataframe\">\n",
       "  <thead>\n",
       "    <tr style=\"text-align: right;\">\n",
       "      <th></th>\n",
       "      <th>Filename</th>\n",
       "      <th>Altitude</th>\n",
       "      <th>Delta</th>\n",
       "      <th>North</th>\n",
       "      <th>East</th>\n",
       "      <th>kfold</th>\n",
       "    </tr>\n",
       "  </thead>\n",
       "  <tbody>\n",
       "    <tr>\n",
       "      <th>0</th>\n",
       "      <td>00003e3b9e5336685200ae85d21b4f5e.jpg</td>\n",
       "      <td>178.829834</td>\n",
       "      <td>-0.065231</td>\n",
       "      <td>-0.386045</td>\n",
       "      <td>0.929772</td>\n",
       "      <td>0</td>\n",
       "    </tr>\n",
       "    <tr>\n",
       "      <th>1</th>\n",
       "      <td>0001261e2060303a06ba6c64d676d639.jpg</td>\n",
       "      <td>207.921478</td>\n",
       "      <td>-0.080688</td>\n",
       "      <td>0.635584</td>\n",
       "      <td>0.152819</td>\n",
       "      <td>2</td>\n",
       "    </tr>\n",
       "    <tr>\n",
       "      <th>2</th>\n",
       "      <td>0002ac0d783338cfeab0b2bdbd872cda.jpg</td>\n",
       "      <td>178.048431</td>\n",
       "      <td>0.021576</td>\n",
       "      <td>-1.228229</td>\n",
       "      <td>-0.499388</td>\n",
       "      <td>3</td>\n",
       "    </tr>\n",
       "    <tr>\n",
       "      <th>3</th>\n",
       "      <td>0004289ee1c7b8b08c77e19878106ae3.jpg</td>\n",
       "      <td>201.084625</td>\n",
       "      <td>0.505981</td>\n",
       "      <td>-1.739709</td>\n",
       "      <td>-0.699928</td>\n",
       "      <td>1</td>\n",
       "    </tr>\n",
       "    <tr>\n",
       "      <th>4</th>\n",
       "      <td>0004d0b59e19461ff126e3a08a814c33.jpg</td>\n",
       "      <td>187.550201</td>\n",
       "      <td>-0.328156</td>\n",
       "      <td>-0.169798</td>\n",
       "      <td>2.828752</td>\n",
       "      <td>0</td>\n",
       "    </tr>\n",
       "  </tbody>\n",
       "</table>\n",
       "</div>"
      ],
      "text/plain": [
       "                               Filename    Altitude     Delta     North  \\\n",
       "0  00003e3b9e5336685200ae85d21b4f5e.jpg  178.829834 -0.065231 -0.386045   \n",
       "1  0001261e2060303a06ba6c64d676d639.jpg  207.921478 -0.080688  0.635584   \n",
       "2  0002ac0d783338cfeab0b2bdbd872cda.jpg  178.048431  0.021576 -1.228229   \n",
       "3  0004289ee1c7b8b08c77e19878106ae3.jpg  201.084625  0.505981 -1.739709   \n",
       "4  0004d0b59e19461ff126e3a08a814c33.jpg  187.550201 -0.328156 -0.169798   \n",
       "\n",
       "       East  kfold  \n",
       "0  0.929772      0  \n",
       "1  0.152819      2  \n",
       "2 -0.499388      3  \n",
       "3 -0.699928      1  \n",
       "4  2.828752      0  "
      ]
     },
     "execution_count": 2,
     "metadata": {},
     "output_type": "execute_result"
    }
   ],
   "source": [
    "pub = pd.read_csv(RAW_PATH / 'public.csv')\n",
    "print(pub.shape)\n",
    "pub.head()"
   ]
  },
  {
   "cell_type": "code",
   "execution_count": 3,
   "metadata": {
    "execution": {
     "iopub.execute_input": "2022-10-31T21:32:51.430290Z",
     "iopub.status.busy": "2022-10-31T21:32:51.430210Z",
     "iopub.status.idle": "2022-10-31T21:32:51.925225Z",
     "shell.execute_reply": "2022-10-31T21:32:51.924931Z"
    }
   },
   "outputs": [
    {
     "name": "stdout",
     "output_type": "stream",
     "text": [
      "(91231, 8)\n",
      "(91231, 10)\n",
      "(91231, 12)\n",
      "(91231, 14)\n",
      "(91231, 16)\n",
      "(91231, 18)\n",
      "(91231, 20)\n"
     ]
    },
    {
     "data": {
      "text/html": [
       "<div>\n",
       "<style scoped>\n",
       "    .dataframe tbody tr th:only-of-type {\n",
       "        vertical-align: middle;\n",
       "    }\n",
       "\n",
       "    .dataframe tbody tr th {\n",
       "        vertical-align: top;\n",
       "    }\n",
       "\n",
       "    .dataframe thead th {\n",
       "        text-align: right;\n",
       "    }\n",
       "</style>\n",
       "<table border=\"1\" class=\"dataframe\">\n",
       "  <thead>\n",
       "    <tr style=\"text-align: right;\">\n",
       "      <th></th>\n",
       "      <th>Filename</th>\n",
       "      <th>Altitude</th>\n",
       "      <th>Delta</th>\n",
       "      <th>North</th>\n",
       "      <th>East</th>\n",
       "      <th>kfold</th>\n",
       "      <th>North_pixel</th>\n",
       "      <th>East_pixel</th>\n",
       "      <th>North_pixel_a</th>\n",
       "      <th>East_pixel_a</th>\n",
       "      <th>North_pixel_a_est</th>\n",
       "      <th>East_pixel_a_est</th>\n",
       "      <th>North_pixel_h</th>\n",
       "      <th>East_pixel_h</th>\n",
       "      <th>North_pixel_h_est</th>\n",
       "      <th>East_pixel_h_est</th>\n",
       "      <th>North_pixel_p</th>\n",
       "      <th>East_pixel_p</th>\n",
       "      <th>North_pixel_p_est</th>\n",
       "      <th>East_pixel_p_est</th>\n",
       "    </tr>\n",
       "  </thead>\n",
       "  <tbody>\n",
       "    <tr>\n",
       "      <th>0</th>\n",
       "      <td>00003e3b9e5336685200ae85d21b4f5e.jpg</td>\n",
       "      <td>178.829834</td>\n",
       "      <td>-0.065231</td>\n",
       "      <td>-0.386045</td>\n",
       "      <td>0.929772</td>\n",
       "      <td>0</td>\n",
       "      <td>-1.098183</td>\n",
       "      <td>2.828369</td>\n",
       "      <td>-1.296189</td>\n",
       "      <td>2.868935</td>\n",
       "      <td>-1.220466</td>\n",
       "      <td>2.826518</td>\n",
       "      <td>-1.098183</td>\n",
       "      <td>2.828369</td>\n",
       "      <td>-1.230324</td>\n",
       "      <td>2.838610</td>\n",
       "      <td>-1.296189</td>\n",
       "      <td>2.868935</td>\n",
       "      <td>-1.220466</td>\n",
       "      <td>2.826518</td>\n",
       "    </tr>\n",
       "    <tr>\n",
       "      <th>1</th>\n",
       "      <td>0001261e2060303a06ba6c64d676d639.jpg</td>\n",
       "      <td>207.921478</td>\n",
       "      <td>-0.080688</td>\n",
       "      <td>0.635584</td>\n",
       "      <td>0.152819</td>\n",
       "      <td>2</td>\n",
       "      <td>1.452448</td>\n",
       "      <td>0.207358</td>\n",
       "      <td>0.847966</td>\n",
       "      <td>0.356077</td>\n",
       "      <td>0.792500</td>\n",
       "      <td>0.231472</td>\n",
       "      <td>1.452448</td>\n",
       "      <td>0.207358</td>\n",
       "      <td>0.753004</td>\n",
       "      <td>0.217258</td>\n",
       "      <td>0.847966</td>\n",
       "      <td>0.356077</td>\n",
       "      <td>0.792500</td>\n",
       "      <td>0.231472</td>\n",
       "    </tr>\n",
       "    <tr>\n",
       "      <th>2</th>\n",
       "      <td>0002ac0d783338cfeab0b2bdbd872cda.jpg</td>\n",
       "      <td>178.048431</td>\n",
       "      <td>0.021576</td>\n",
       "      <td>-1.228229</td>\n",
       "      <td>-0.499388</td>\n",
       "      <td>3</td>\n",
       "      <td>-3.544215</td>\n",
       "      <td>-1.494362</td>\n",
       "      <td>-3.517452</td>\n",
       "      <td>-1.592591</td>\n",
       "      <td>-3.823705</td>\n",
       "      <td>-1.658855</td>\n",
       "      <td>-3.544215</td>\n",
       "      <td>-1.494362</td>\n",
       "      <td>-3.818374</td>\n",
       "      <td>-1.668158</td>\n",
       "      <td>-3.517452</td>\n",
       "      <td>-1.592591</td>\n",
       "      <td>-3.823705</td>\n",
       "      <td>-1.658855</td>\n",
       "    </tr>\n",
       "    <tr>\n",
       "      <th>3</th>\n",
       "      <td>0004289ee1c7b8b08c77e19878106ae3.jpg</td>\n",
       "      <td>201.084625</td>\n",
       "      <td>0.505981</td>\n",
       "      <td>-1.739709</td>\n",
       "      <td>-0.699928</td>\n",
       "      <td>1</td>\n",
       "      <td>-6.054061</td>\n",
       "      <td>-4.082150</td>\n",
       "      <td>-6.091535</td>\n",
       "      <td>-3.099275</td>\n",
       "      <td>-6.065357</td>\n",
       "      <td>-2.354155</td>\n",
       "      <td>-6.054061</td>\n",
       "      <td>-4.082150</td>\n",
       "      <td>-6.145322</td>\n",
       "      <td>-2.303187</td>\n",
       "      <td>-6.091535</td>\n",
       "      <td>-3.099275</td>\n",
       "      <td>-6.065357</td>\n",
       "      <td>-2.354155</td>\n",
       "    </tr>\n",
       "    <tr>\n",
       "      <th>4</th>\n",
       "      <td>0004d0b59e19461ff126e3a08a814c33.jpg</td>\n",
       "      <td>187.550201</td>\n",
       "      <td>-0.328156</td>\n",
       "      <td>-0.169798</td>\n",
       "      <td>2.828752</td>\n",
       "      <td>0</td>\n",
       "      <td>-0.690250</td>\n",
       "      <td>8.232869</td>\n",
       "      <td>-0.449659</td>\n",
       "      <td>8.125691</td>\n",
       "      <td>-0.564889</td>\n",
       "      <td>8.012415</td>\n",
       "      <td>-0.690250</td>\n",
       "      <td>8.232869</td>\n",
       "      <td>-0.555564</td>\n",
       "      <td>7.999658</td>\n",
       "      <td>-0.449659</td>\n",
       "      <td>8.125691</td>\n",
       "      <td>-0.564889</td>\n",
       "      <td>8.012415</td>\n",
       "    </tr>\n",
       "  </tbody>\n",
       "</table>\n",
       "</div>"
      ],
      "text/plain": [
       "                               Filename    Altitude     Delta     North  \\\n",
       "0  00003e3b9e5336685200ae85d21b4f5e.jpg  178.829834 -0.065231 -0.386045   \n",
       "1  0001261e2060303a06ba6c64d676d639.jpg  207.921478 -0.080688  0.635584   \n",
       "2  0002ac0d783338cfeab0b2bdbd872cda.jpg  178.048431  0.021576 -1.228229   \n",
       "3  0004289ee1c7b8b08c77e19878106ae3.jpg  201.084625  0.505981 -1.739709   \n",
       "4  0004d0b59e19461ff126e3a08a814c33.jpg  187.550201 -0.328156 -0.169798   \n",
       "\n",
       "       East  kfold  North_pixel  East_pixel  North_pixel_a  East_pixel_a  \\\n",
       "0  0.929772      0    -1.098183    2.828369      -1.296189      2.868935   \n",
       "1  0.152819      2     1.452448    0.207358       0.847966      0.356077   \n",
       "2 -0.499388      3    -3.544215   -1.494362      -3.517452     -1.592591   \n",
       "3 -0.699928      1    -6.054061   -4.082150      -6.091535     -3.099275   \n",
       "4  2.828752      0    -0.690250    8.232869      -0.449659      8.125691   \n",
       "\n",
       "   North_pixel_a_est  East_pixel_a_est  North_pixel_h  East_pixel_h  \\\n",
       "0          -1.220466          2.826518      -1.098183      2.828369   \n",
       "1           0.792500          0.231472       1.452448      0.207358   \n",
       "2          -3.823705         -1.658855      -3.544215     -1.494362   \n",
       "3          -6.065357         -2.354155      -6.054061     -4.082150   \n",
       "4          -0.564889          8.012415      -0.690250      8.232869   \n",
       "\n",
       "   North_pixel_h_est  East_pixel_h_est  North_pixel_p  East_pixel_p  \\\n",
       "0          -1.230324          2.838610      -1.296189      2.868935   \n",
       "1           0.753004          0.217258       0.847966      0.356077   \n",
       "2          -3.818374         -1.668158      -3.517452     -1.592591   \n",
       "3          -6.145322         -2.303187      -6.091535     -3.099275   \n",
       "4          -0.555564          7.999658      -0.449659      8.125691   \n",
       "\n",
       "   North_pixel_p_est  East_pixel_p_est  \n",
       "0          -1.220466          2.826518  \n",
       "1           0.792500          0.231472  \n",
       "2          -3.823705         -1.658855  \n",
       "3          -6.065357         -2.354155  \n",
       "4          -0.564889          8.012415  "
      ]
     },
     "execution_count": 3,
     "metadata": {},
     "output_type": "execute_result"
    }
   ],
   "source": [
    "def merge_pixels_dist(dataset='train', suffixes=['', '_a', '_a_est', '_h', '_h_est', '_p', '_p_est']):\n",
    "    df_final = pub.copy()\n",
    "    for s in suffixes:\n",
    "        filename = 'pixels_dist_' + dataset + s + '.csv'\n",
    "        df_right = pd.read_csv(RAW_PATH / filename)\n",
    "        df_right.rename({'Images':'Filename'}, axis=1, inplace=True)\n",
    "        df_final = df_final.merge(df_right, on='Filename', how='inner', suffixes=(None, s))\n",
    "        print(df_final.shape)\n",
    "\n",
    "    return df_final\n",
    "\n",
    "train = merge_pixels_dist('train')\n",
    "train.head()"
   ]
  },
  {
   "cell_type": "code",
   "execution_count": 4,
   "metadata": {
    "execution": {
     "iopub.execute_input": "2022-10-31T21:32:51.926572Z",
     "iopub.status.busy": "2022-10-31T21:32:51.926492Z",
     "iopub.status.idle": "2022-10-31T21:32:52.254694Z",
     "shell.execute_reply": "2022-10-31T21:32:52.254394Z"
    }
   },
   "outputs": [
    {
     "name": "stdout",
     "output_type": "stream",
     "text": [
      "(55031, 8)\n",
      "(55031, 10)\n",
      "(55031, 12)\n",
      "(55031, 14)\n",
      "(55031, 16)\n",
      "(55031, 18)\n",
      "(55031, 20)\n"
     ]
    },
    {
     "data": {
      "text/html": [
       "<div>\n",
       "<style scoped>\n",
       "    .dataframe tbody tr th:only-of-type {\n",
       "        vertical-align: middle;\n",
       "    }\n",
       "\n",
       "    .dataframe tbody tr th {\n",
       "        vertical-align: top;\n",
       "    }\n",
       "\n",
       "    .dataframe thead th {\n",
       "        text-align: right;\n",
       "    }\n",
       "</style>\n",
       "<table border=\"1\" class=\"dataframe\">\n",
       "  <thead>\n",
       "    <tr style=\"text-align: right;\">\n",
       "      <th></th>\n",
       "      <th>Filename</th>\n",
       "      <th>Altitude</th>\n",
       "      <th>Delta</th>\n",
       "      <th>kfold</th>\n",
       "      <th>North_pixel</th>\n",
       "      <th>East_pixel</th>\n",
       "      <th>North_pixel_a</th>\n",
       "      <th>East_pixel_a</th>\n",
       "      <th>North_pixel_a_est</th>\n",
       "      <th>East_pixel_a_est</th>\n",
       "      <th>North_pixel_h</th>\n",
       "      <th>East_pixel_h</th>\n",
       "      <th>North_pixel_h_est</th>\n",
       "      <th>East_pixel_h_est</th>\n",
       "      <th>North_pixel_p</th>\n",
       "      <th>East_pixel_p</th>\n",
       "      <th>North_pixel_p_est</th>\n",
       "      <th>East_pixel_p_est</th>\n",
       "    </tr>\n",
       "  </thead>\n",
       "  <tbody>\n",
       "    <tr>\n",
       "      <th>0</th>\n",
       "      <td>000053b1e684c9e7ea73727b2238ce18.jpg</td>\n",
       "      <td>167.943069</td>\n",
       "      <td>0.010269</td>\n",
       "      <td>0</td>\n",
       "      <td>3.946422</td>\n",
       "      <td>-3.815853</td>\n",
       "      <td>0.356597</td>\n",
       "      <td>0.257315</td>\n",
       "      <td>-0.654044</td>\n",
       "      <td>-1.042109</td>\n",
       "      <td>3.946422</td>\n",
       "      <td>-3.815853</td>\n",
       "      <td>5.856787</td>\n",
       "      <td>-8.512549</td>\n",
       "      <td>0.356597</td>\n",
       "      <td>0.257315</td>\n",
       "      <td>-0.654044</td>\n",
       "      <td>-1.042109</td>\n",
       "    </tr>\n",
       "    <tr>\n",
       "      <th>1</th>\n",
       "      <td>00029153d12ae1c9abe59c17ff2e0895.jpg</td>\n",
       "      <td>195.853088</td>\n",
       "      <td>0.089218</td>\n",
       "      <td>2</td>\n",
       "      <td>7.668228</td>\n",
       "      <td>-4.031865</td>\n",
       "      <td>9.366933</td>\n",
       "      <td>-2.493681</td>\n",
       "      <td>4.654472</td>\n",
       "      <td>-5.100857</td>\n",
       "      <td>7.668228</td>\n",
       "      <td>-4.031865</td>\n",
       "      <td>4.936895</td>\n",
       "      <td>-4.149510</td>\n",
       "      <td>9.366933</td>\n",
       "      <td>-2.493681</td>\n",
       "      <td>4.654472</td>\n",
       "      <td>-5.100857</td>\n",
       "    </tr>\n",
       "    <tr>\n",
       "      <th>2</th>\n",
       "      <td>0006246bee639c7a7b11a08e34dd3cc6.jpg</td>\n",
       "      <td>146.943466</td>\n",
       "      <td>-0.018326</td>\n",
       "      <td>1</td>\n",
       "      <td>-11.549439</td>\n",
       "      <td>-0.880645</td>\n",
       "      <td>-12.518370</td>\n",
       "      <td>-0.683746</td>\n",
       "      <td>-12.124315</td>\n",
       "      <td>-0.030847</td>\n",
       "      <td>-11.549439</td>\n",
       "      <td>-0.880645</td>\n",
       "      <td>-12.188266</td>\n",
       "      <td>0.273252</td>\n",
       "      <td>-12.518370</td>\n",
       "      <td>-0.683746</td>\n",
       "      <td>-12.124315</td>\n",
       "      <td>-0.030847</td>\n",
       "    </tr>\n",
       "    <tr>\n",
       "      <th>3</th>\n",
       "      <td>00063cb5da1826febf178b669eea3250.jpg</td>\n",
       "      <td>213.184418</td>\n",
       "      <td>-0.108704</td>\n",
       "      <td>1</td>\n",
       "      <td>-28.991636</td>\n",
       "      <td>1.930891</td>\n",
       "      <td>-25.942930</td>\n",
       "      <td>-0.682081</td>\n",
       "      <td>-21.449981</td>\n",
       "      <td>4.212570</td>\n",
       "      <td>-28.991636</td>\n",
       "      <td>1.930891</td>\n",
       "      <td>-21.237231</td>\n",
       "      <td>4.168302</td>\n",
       "      <td>-25.942930</td>\n",
       "      <td>-0.682081</td>\n",
       "      <td>-21.449981</td>\n",
       "      <td>4.212570</td>\n",
       "    </tr>\n",
       "    <tr>\n",
       "      <th>4</th>\n",
       "      <td>00063ece2e68a8847f228e8fd922f851.jpg</td>\n",
       "      <td>184.757767</td>\n",
       "      <td>0.017700</td>\n",
       "      <td>0</td>\n",
       "      <td>0.184479</td>\n",
       "      <td>-6.925782</td>\n",
       "      <td>-0.165511</td>\n",
       "      <td>-6.852798</td>\n",
       "      <td>0.008325</td>\n",
       "      <td>-6.209880</td>\n",
       "      <td>0.184479</td>\n",
       "      <td>-6.925782</td>\n",
       "      <td>0.003814</td>\n",
       "      <td>-6.179220</td>\n",
       "      <td>-0.165511</td>\n",
       "      <td>-6.852798</td>\n",
       "      <td>0.008325</td>\n",
       "      <td>-6.209880</td>\n",
       "    </tr>\n",
       "  </tbody>\n",
       "</table>\n",
       "</div>"
      ],
      "text/plain": [
       "                               Filename    Altitude     Delta  kfold  \\\n",
       "0  000053b1e684c9e7ea73727b2238ce18.jpg  167.943069  0.010269      0   \n",
       "1  00029153d12ae1c9abe59c17ff2e0895.jpg  195.853088  0.089218      2   \n",
       "2  0006246bee639c7a7b11a08e34dd3cc6.jpg  146.943466 -0.018326      1   \n",
       "3  00063cb5da1826febf178b669eea3250.jpg  213.184418 -0.108704      1   \n",
       "4  00063ece2e68a8847f228e8fd922f851.jpg  184.757767  0.017700      0   \n",
       "\n",
       "   North_pixel  East_pixel  North_pixel_a  East_pixel_a  North_pixel_a_est  \\\n",
       "0     3.946422   -3.815853       0.356597      0.257315          -0.654044   \n",
       "1     7.668228   -4.031865       9.366933     -2.493681           4.654472   \n",
       "2   -11.549439   -0.880645     -12.518370     -0.683746         -12.124315   \n",
       "3   -28.991636    1.930891     -25.942930     -0.682081         -21.449981   \n",
       "4     0.184479   -6.925782      -0.165511     -6.852798           0.008325   \n",
       "\n",
       "   East_pixel_a_est  North_pixel_h  East_pixel_h  North_pixel_h_est  \\\n",
       "0         -1.042109       3.946422     -3.815853           5.856787   \n",
       "1         -5.100857       7.668228     -4.031865           4.936895   \n",
       "2         -0.030847     -11.549439     -0.880645         -12.188266   \n",
       "3          4.212570     -28.991636      1.930891         -21.237231   \n",
       "4         -6.209880       0.184479     -6.925782           0.003814   \n",
       "\n",
       "   East_pixel_h_est  North_pixel_p  East_pixel_p  North_pixel_p_est  \\\n",
       "0         -8.512549       0.356597      0.257315          -0.654044   \n",
       "1         -4.149510       9.366933     -2.493681           4.654472   \n",
       "2          0.273252     -12.518370     -0.683746         -12.124315   \n",
       "3          4.168302     -25.942930     -0.682081         -21.449981   \n",
       "4         -6.179220      -0.165511     -6.852798           0.008325   \n",
       "\n",
       "   East_pixel_p_est  \n",
       "0         -1.042109  \n",
       "1         -5.100857  \n",
       "2         -0.030847  \n",
       "3          4.212570  \n",
       "4         -6.209880  "
      ]
     },
     "execution_count": 4,
     "metadata": {},
     "output_type": "execute_result"
    }
   ],
   "source": [
    "test = merge_pixels_dist('test')\n",
    "test.drop(['North', 'East'], axis=1, inplace=True)\n",
    "test.head()"
   ]
  },
  {
   "cell_type": "code",
   "execution_count": 5,
   "metadata": {
    "execution": {
     "iopub.execute_input": "2022-10-31T21:32:52.256227Z",
     "iopub.status.busy": "2022-10-31T21:32:52.256147Z",
     "iopub.status.idle": "2022-10-31T21:32:55.427137Z",
     "shell.execute_reply": "2022-10-31T21:32:55.426827Z"
    }
   },
   "outputs": [
    {
     "name": "stdout",
     "output_type": "stream",
     "text": [
      "Checking whether there is an H2O instance running at http://localhost:54321 ..... not found.\n",
      "Attempting to start a local H2O server...\n",
      "  Java Version: openjdk version \"1.8.0_342\"; OpenJDK Runtime Environment (build 1.8.0_342-8u342-b07-0ubuntu1~22.04-b07); OpenJDK 64-Bit Server VM (build 25.342-b07, mixed mode)\n",
      "  Starting server from /home/rco/anaconda3/envs/kdd22/lib/python3.9/site-packages/h2o/backend/bin/h2o.jar\n",
      "  Ice root: /tmp/tmp910em2al\n",
      "  JVM stdout: /tmp/tmp910em2al/h2o_rco_started_from_python.out\n",
      "  JVM stderr: /tmp/tmp910em2al/h2o_rco_started_from_python.err\n",
      "  Server is running at http://127.0.0.1:54321\n",
      "Connecting to H2O server at http://127.0.0.1:54321 ... successful.\n"
     ]
    },
    {
     "data": {
      "text/html": [
       "\n",
       "<style>\n",
       "\n",
       "#h2o-table-1.h2o-container {\n",
       "  overflow-x: auto;\n",
       "}\n",
       "#h2o-table-1 .h2o-table {\n",
       "  /* width: 100%; */\n",
       "  margin-top: 1em;\n",
       "  margin-bottom: 1em;\n",
       "}\n",
       "#h2o-table-1 .h2o-table caption {\n",
       "  white-space: nowrap;\n",
       "  caption-side: top;\n",
       "  text-align: left;\n",
       "  /* margin-left: 1em; */\n",
       "  margin: 0;\n",
       "  font-size: larger;\n",
       "}\n",
       "#h2o-table-1 .h2o-table thead {\n",
       "  white-space: nowrap; \n",
       "  position: sticky;\n",
       "  top: 0;\n",
       "  box-shadow: 0 -1px inset;\n",
       "}\n",
       "#h2o-table-1 .h2o-table tbody {\n",
       "  overflow: auto;\n",
       "}\n",
       "#h2o-table-1 .h2o-table th,\n",
       "#h2o-table-1 .h2o-table td {\n",
       "  text-align: right;\n",
       "  /* border: 1px solid; */\n",
       "}\n",
       "#h2o-table-1 .h2o-table tr:nth-child(even) {\n",
       "  /* background: #F5F5F5 */\n",
       "}\n",
       "\n",
       "</style>      \n",
       "<div id=\"h2o-table-1\" class=\"h2o-container\">\n",
       "  <table class=\"h2o-table\">\n",
       "    <caption></caption>\n",
       "    <thead></thead>\n",
       "    <tbody><tr><td>H2O_cluster_uptime:</td>\n",
       "<td>00 secs</td></tr>\n",
       "<tr><td>H2O_cluster_timezone:</td>\n",
       "<td>America/Sao_Paulo</td></tr>\n",
       "<tr><td>H2O_data_parsing_timezone:</td>\n",
       "<td>UTC</td></tr>\n",
       "<tr><td>H2O_cluster_version:</td>\n",
       "<td>3.38.0.2</td></tr>\n",
       "<tr><td>H2O_cluster_version_age:</td>\n",
       "<td>4 days </td></tr>\n",
       "<tr><td>H2O_cluster_name:</td>\n",
       "<td>H2O_from_python_rco_6ifmru</td></tr>\n",
       "<tr><td>H2O_cluster_total_nodes:</td>\n",
       "<td>1</td></tr>\n",
       "<tr><td>H2O_cluster_free_memory:</td>\n",
       "<td>28.42 Gb</td></tr>\n",
       "<tr><td>H2O_cluster_total_cores:</td>\n",
       "<td>16</td></tr>\n",
       "<tr><td>H2O_cluster_allowed_cores:</td>\n",
       "<td>16</td></tr>\n",
       "<tr><td>H2O_cluster_status:</td>\n",
       "<td>locked, healthy</td></tr>\n",
       "<tr><td>H2O_connection_url:</td>\n",
       "<td>http://127.0.0.1:54321</td></tr>\n",
       "<tr><td>H2O_connection_proxy:</td>\n",
       "<td>{\"http\": null, \"https\": null}</td></tr>\n",
       "<tr><td>H2O_internal_security:</td>\n",
       "<td>False</td></tr>\n",
       "<tr><td>Python_version:</td>\n",
       "<td>3.9.12 final</td></tr></tbody>\n",
       "  </table>\n",
       "</div>\n"
      ],
      "text/plain": [
       "--------------------------  -----------------------------\n",
       "H2O_cluster_uptime:         00 secs\n",
       "H2O_cluster_timezone:       America/Sao_Paulo\n",
       "H2O_data_parsing_timezone:  UTC\n",
       "H2O_cluster_version:        3.38.0.2\n",
       "H2O_cluster_version_age:    4 days\n",
       "H2O_cluster_name:           H2O_from_python_rco_6ifmru\n",
       "H2O_cluster_total_nodes:    1\n",
       "H2O_cluster_free_memory:    28.42 Gb\n",
       "H2O_cluster_total_cores:    16\n",
       "H2O_cluster_allowed_cores:  16\n",
       "H2O_cluster_status:         locked, healthy\n",
       "H2O_connection_url:         http://127.0.0.1:54321\n",
       "H2O_connection_proxy:       {\"http\": null, \"https\": null}\n",
       "H2O_internal_security:      False\n",
       "Python_version:             3.9.12 final\n",
       "--------------------------  -----------------------------"
      ]
     },
     "metadata": {},
     "output_type": "display_data"
    }
   ],
   "source": [
    "import h2o\n",
    "from h2o.automl import H2OAutoML\n",
    "\n",
    "h2o.init(nthreads=16, max_mem_size='32G')"
   ]
  },
  {
   "cell_type": "code",
   "execution_count": 6,
   "metadata": {
    "execution": {
     "iopub.execute_input": "2022-10-31T21:32:55.428784Z",
     "iopub.status.busy": "2022-10-31T21:32:55.428542Z",
     "iopub.status.idle": "2022-10-31T21:32:58.372742Z",
     "shell.execute_reply": "2022-10-31T21:32:58.372159Z"
    }
   },
   "outputs": [
    {
     "name": "stdout",
     "output_type": "stream",
     "text": [
      "Parse progress: |████████████████████████████████████████████████████████████████| (done) 100%\n",
      "Parse progress: |████████████████████████████████████████████████████████████████| (done) 100%\n"
     ]
    }
   ],
   "source": [
    "train = h2o.H2OFrame(train)\n",
    "test = h2o.H2OFrame(test)"
   ]
  },
  {
   "cell_type": "code",
   "execution_count": 7,
   "metadata": {
    "execution": {
     "iopub.execute_input": "2022-10-31T21:32:58.375269Z",
     "iopub.status.busy": "2022-10-31T21:32:58.375046Z",
     "iopub.status.idle": "2022-10-31T21:32:58.380481Z",
     "shell.execute_reply": "2022-10-31T21:32:58.379982Z"
    }
   },
   "outputs": [],
   "source": [
    "features = [f for f in train.columns if f not in ['Filename', 'North', 'East', 'kfold']]\n",
    "\n",
    "def train_automl(train, test, target, max_runtime_secs=3600):\n",
    "    \n",
    "    aml = H2OAutoML(seed=SEED,\n",
    "                    nfolds=3,\n",
    "                    max_runtime_secs=max_runtime_secs,\n",
    "                    stopping_metric='RMSE',\n",
    "                    sort_metric='RMSE',\n",
    "                    exploitation_ratio=0.2)\n",
    "\n",
    "    aml.train(x=features, y=target, training_frame=train)  \n",
    "    \n",
    "    train_preds = aml.leader.predict(train)\n",
    "    train_preds.rename({'predict':target+'_prediction'})\n",
    "    \n",
    "    test_preds = aml.leader.predict(test)\n",
    "    test_preds.rename({'predict':target+'_prediction'})\n",
    "    \n",
    "    return aml, train_preds, test_preds\n",
    "    "
   ]
  },
  {
   "cell_type": "code",
   "execution_count": 8,
   "metadata": {
    "execution": {
     "iopub.execute_input": "2022-10-31T21:32:58.382880Z",
     "iopub.status.busy": "2022-10-31T21:32:58.382518Z",
     "iopub.status.idle": "2022-10-31T22:33:03.351579Z",
     "shell.execute_reply": "2022-10-31T22:33:03.351298Z"
    }
   },
   "outputs": [
    {
     "name": "stdout",
     "output_type": "stream",
     "text": [
      "AutoML progress: |███████████████████████████████████████████████████████████████| (done) 100%\n",
      "stackedensemble prediction progress: |███████████████████████████████████████████| (done) 100%\n",
      "stackedensemble prediction progress: |███████████████████████████████████████████| (done) 100%\n"
     ]
    },
    {
     "data": {
      "text/html": [
       "<table class='dataframe'>\n",
       "<thead>\n",
       "<tr><th>model_id                                               </th><th style=\"text-align: right;\">    rmse</th><th style=\"text-align: right;\">      mse</th><th style=\"text-align: right;\">     mae</th><th style=\"text-align: right;\">  rmsle</th><th style=\"text-align: right;\">  mean_residual_deviance</th></tr>\n",
       "</thead>\n",
       "<tbody>\n",
       "<tr><td>StackedEnsemble_BestOfFamily_4_AutoML_1_20221031_183258</td><td style=\"text-align: right;\">0.30797 </td><td style=\"text-align: right;\">0.0948456</td><td style=\"text-align: right;\">0.119173</td><td style=\"text-align: right;\">    nan</td><td style=\"text-align: right;\">               0.0948456</td></tr>\n",
       "<tr><td>GBM_grid_1_AutoML_1_20221031_183258_model_81           </td><td style=\"text-align: right;\">0.308203</td><td style=\"text-align: right;\">0.0949889</td><td style=\"text-align: right;\">0.122092</td><td style=\"text-align: right;\">    nan</td><td style=\"text-align: right;\">               0.0949889</td></tr>\n",
       "<tr><td>StackedEnsemble_AllModels_3_AutoML_1_20221031_183258   </td><td style=\"text-align: right;\">0.310578</td><td style=\"text-align: right;\">0.0964584</td><td style=\"text-align: right;\">0.113147</td><td style=\"text-align: right;\">    nan</td><td style=\"text-align: right;\">               0.0964584</td></tr>\n",
       "<tr><td>StackedEnsemble_AllModels_4_AutoML_1_20221031_183258   </td><td style=\"text-align: right;\">0.312181</td><td style=\"text-align: right;\">0.0974573</td><td style=\"text-align: right;\">0.113363</td><td style=\"text-align: right;\">    nan</td><td style=\"text-align: right;\">               0.0974573</td></tr>\n",
       "<tr><td>GBM_grid_1_AutoML_1_20221031_183258_model_64           </td><td style=\"text-align: right;\">0.320926</td><td style=\"text-align: right;\">0.102994 </td><td style=\"text-align: right;\">0.126314</td><td style=\"text-align: right;\">    nan</td><td style=\"text-align: right;\">               0.102994 </td></tr>\n",
       "<tr><td>StackedEnsemble_BestOfFamily_5_AutoML_1_20221031_183258</td><td style=\"text-align: right;\">0.321424</td><td style=\"text-align: right;\">0.103314 </td><td style=\"text-align: right;\">0.120206</td><td style=\"text-align: right;\">    nan</td><td style=\"text-align: right;\">               0.103314 </td></tr>\n",
       "<tr><td>GBM_grid_1_AutoML_1_20221031_183258_model_96           </td><td style=\"text-align: right;\">0.32329 </td><td style=\"text-align: right;\">0.104517 </td><td style=\"text-align: right;\">0.112961</td><td style=\"text-align: right;\">    nan</td><td style=\"text-align: right;\">               0.104517 </td></tr>\n",
       "<tr><td>GBM_grid_1_AutoML_1_20221031_183258_model_53           </td><td style=\"text-align: right;\">0.324   </td><td style=\"text-align: right;\">0.104976 </td><td style=\"text-align: right;\">0.124874</td><td style=\"text-align: right;\">    nan</td><td style=\"text-align: right;\">               0.104976 </td></tr>\n",
       "<tr><td>StackedEnsemble_AllModels_5_AutoML_1_20221031_183258   </td><td style=\"text-align: right;\">0.324415</td><td style=\"text-align: right;\">0.105245 </td><td style=\"text-align: right;\">0.137787</td><td style=\"text-align: right;\">    nan</td><td style=\"text-align: right;\">               0.105245 </td></tr>\n",
       "<tr><td>GBM_grid_1_AutoML_1_20221031_183258_model_85           </td><td style=\"text-align: right;\">0.325418</td><td style=\"text-align: right;\">0.105897 </td><td style=\"text-align: right;\">0.123647</td><td style=\"text-align: right;\">    nan</td><td style=\"text-align: right;\">               0.105897 </td></tr>\n",
       "<tr><td>GBM_grid_1_AutoML_1_20221031_183258_model_34           </td><td style=\"text-align: right;\">0.326721</td><td style=\"text-align: right;\">0.106746 </td><td style=\"text-align: right;\">0.131505</td><td style=\"text-align: right;\">    nan</td><td style=\"text-align: right;\">               0.106746 </td></tr>\n",
       "<tr><td>GBM_grid_1_AutoML_1_20221031_183258_model_97           </td><td style=\"text-align: right;\">0.329678</td><td style=\"text-align: right;\">0.108688 </td><td style=\"text-align: right;\">0.13329 </td><td style=\"text-align: right;\">    nan</td><td style=\"text-align: right;\">               0.108688 </td></tr>\n",
       "<tr><td>GBM_grid_1_AutoML_1_20221031_183258_model_105          </td><td style=\"text-align: right;\">0.329939</td><td style=\"text-align: right;\">0.10886  </td><td style=\"text-align: right;\">0.126378</td><td style=\"text-align: right;\">    nan</td><td style=\"text-align: right;\">               0.10886  </td></tr>\n",
       "<tr><td>GBM_grid_1_AutoML_1_20221031_183258_model_66           </td><td style=\"text-align: right;\">0.331114</td><td style=\"text-align: right;\">0.109637 </td><td style=\"text-align: right;\">0.138205</td><td style=\"text-align: right;\">    nan</td><td style=\"text-align: right;\">               0.109637 </td></tr>\n",
       "<tr><td>GBM_grid_1_AutoML_1_20221031_183258_model_24           </td><td style=\"text-align: right;\">0.331505</td><td style=\"text-align: right;\">0.109895 </td><td style=\"text-align: right;\">0.125586</td><td style=\"text-align: right;\">    nan</td><td style=\"text-align: right;\">               0.109895 </td></tr>\n",
       "<tr><td>XGBoost_grid_1_AutoML_1_20221031_183258_model_14       </td><td style=\"text-align: right;\">0.332413</td><td style=\"text-align: right;\">0.110499 </td><td style=\"text-align: right;\">0.129901</td><td style=\"text-align: right;\">    nan</td><td style=\"text-align: right;\">               0.110499 </td></tr>\n",
       "<tr><td>StackedEnsemble_AllModels_1_AutoML_1_20221031_183258   </td><td style=\"text-align: right;\">0.334342</td><td style=\"text-align: right;\">0.111785 </td><td style=\"text-align: right;\">0.128398</td><td style=\"text-align: right;\">    nan</td><td style=\"text-align: right;\">               0.111785 </td></tr>\n",
       "<tr><td>GBM_grid_1_AutoML_1_20221031_183258_model_80           </td><td style=\"text-align: right;\">0.334905</td><td style=\"text-align: right;\">0.112162 </td><td style=\"text-align: right;\">0.147522</td><td style=\"text-align: right;\">    nan</td><td style=\"text-align: right;\">               0.112162 </td></tr>\n",
       "<tr><td>StackedEnsemble_BestOfFamily_2_AutoML_1_20221031_183258</td><td style=\"text-align: right;\">0.335208</td><td style=\"text-align: right;\">0.112364 </td><td style=\"text-align: right;\">0.127131</td><td style=\"text-align: right;\">    nan</td><td style=\"text-align: right;\">               0.112364 </td></tr>\n",
       "<tr><td>StackedEnsemble_AllModels_2_AutoML_1_20221031_183258   </td><td style=\"text-align: right;\">0.335696</td><td style=\"text-align: right;\">0.112692 </td><td style=\"text-align: right;\">0.131938</td><td style=\"text-align: right;\">    nan</td><td style=\"text-align: right;\">               0.112692 </td></tr>\n",
       "</tbody>\n",
       "</table><pre style='font-size: smaller; margin-bottom: 1em;'>[20 rows x 6 columns]</pre>"
      ],
      "text/plain": [
       "model_id                                                     rmse        mse       mae    rmsle    mean_residual_deviance\n",
       "-------------------------------------------------------  --------  ---------  --------  -------  ------------------------\n",
       "StackedEnsemble_BestOfFamily_4_AutoML_1_20221031_183258  0.30797   0.0948456  0.119173      nan                 0.0948456\n",
       "GBM_grid_1_AutoML_1_20221031_183258_model_81             0.308203  0.0949889  0.122092      nan                 0.0949889\n",
       "StackedEnsemble_AllModels_3_AutoML_1_20221031_183258     0.310578  0.0964584  0.113147      nan                 0.0964584\n",
       "StackedEnsemble_AllModels_4_AutoML_1_20221031_183258     0.312181  0.0974573  0.113363      nan                 0.0974573\n",
       "GBM_grid_1_AutoML_1_20221031_183258_model_64             0.320926  0.102994   0.126314      nan                 0.102994\n",
       "StackedEnsemble_BestOfFamily_5_AutoML_1_20221031_183258  0.321424  0.103314   0.120206      nan                 0.103314\n",
       "GBM_grid_1_AutoML_1_20221031_183258_model_96             0.32329   0.104517   0.112961      nan                 0.104517\n",
       "GBM_grid_1_AutoML_1_20221031_183258_model_53             0.324     0.104976   0.124874      nan                 0.104976\n",
       "StackedEnsemble_AllModels_5_AutoML_1_20221031_183258     0.324415  0.105245   0.137787      nan                 0.105245\n",
       "GBM_grid_1_AutoML_1_20221031_183258_model_85             0.325418  0.105897   0.123647      nan                 0.105897\n",
       "GBM_grid_1_AutoML_1_20221031_183258_model_34             0.326721  0.106746   0.131505      nan                 0.106746\n",
       "GBM_grid_1_AutoML_1_20221031_183258_model_97             0.329678  0.108688   0.13329       nan                 0.108688\n",
       "GBM_grid_1_AutoML_1_20221031_183258_model_105            0.329939  0.10886    0.126378      nan                 0.10886\n",
       "GBM_grid_1_AutoML_1_20221031_183258_model_66             0.331114  0.109637   0.138205      nan                 0.109637\n",
       "GBM_grid_1_AutoML_1_20221031_183258_model_24             0.331505  0.109895   0.125586      nan                 0.109895\n",
       "XGBoost_grid_1_AutoML_1_20221031_183258_model_14         0.332413  0.110499   0.129901      nan                 0.110499\n",
       "StackedEnsemble_AllModels_1_AutoML_1_20221031_183258     0.334342  0.111785   0.128398      nan                 0.111785\n",
       "GBM_grid_1_AutoML_1_20221031_183258_model_80             0.334905  0.112162   0.147522      nan                 0.112162\n",
       "StackedEnsemble_BestOfFamily_2_AutoML_1_20221031_183258  0.335208  0.112364   0.127131      nan                 0.112364\n",
       "StackedEnsemble_AllModels_2_AutoML_1_20221031_183258     0.335696  0.112692   0.131938      nan                 0.112692\n",
       "[20 rows x 6 columns]\n"
      ]
     },
     "execution_count": 8,
     "metadata": {},
     "output_type": "execute_result"
    }
   ],
   "source": [
    "north_aml, north_train_preds, north_test_preds = train_automl(train, test, 'North', MAX_TIME)\n",
    "north_aml.leaderboard.head(20)"
   ]
  },
  {
   "cell_type": "code",
   "execution_count": 9,
   "metadata": {
    "execution": {
     "iopub.execute_input": "2022-10-31T22:33:03.353232Z",
     "iopub.status.busy": "2022-10-31T22:33:03.353106Z",
     "iopub.status.idle": "2022-10-31T23:33:09.068718Z",
     "shell.execute_reply": "2022-10-31T23:33:09.068462Z"
    }
   },
   "outputs": [
    {
     "name": "stdout",
     "output_type": "stream",
     "text": [
      "AutoML progress: |███████████████████████████████████████████████████████████████| (done) 100%\n",
      "stackedensemble prediction progress: |███████████████████████████████████████████| (done) 100%\n",
      "stackedensemble prediction progress: |███████████████████████████████████████████| (done) 100%\n"
     ]
    },
    {
     "data": {
      "text/html": [
       "<table class='dataframe'>\n",
       "<thead>\n",
       "<tr><th>model_id                                               </th><th style=\"text-align: right;\">    rmse</th><th style=\"text-align: right;\">      mse</th><th style=\"text-align: right;\">     mae</th><th style=\"text-align: right;\">  rmsle</th><th style=\"text-align: right;\">  mean_residual_deviance</th></tr>\n",
       "</thead>\n",
       "<tbody>\n",
       "<tr><td>StackedEnsemble_AllModels_3_AutoML_2_20221031_193303   </td><td style=\"text-align: right;\">0.287592</td><td style=\"text-align: right;\">0.0827092</td><td style=\"text-align: right;\">0.110933</td><td style=\"text-align: right;\">    nan</td><td style=\"text-align: right;\">               0.0827092</td></tr>\n",
       "<tr><td>StackedEnsemble_AllModels_4_AutoML_2_20221031_193303   </td><td style=\"text-align: right;\">0.287638</td><td style=\"text-align: right;\">0.0827355</td><td style=\"text-align: right;\">0.110937</td><td style=\"text-align: right;\">    nan</td><td style=\"text-align: right;\">               0.0827355</td></tr>\n",
       "<tr><td>StackedEnsemble_BestOfFamily_6_AutoML_2_20221031_193303</td><td style=\"text-align: right;\">0.288704</td><td style=\"text-align: right;\">0.0833502</td><td style=\"text-align: right;\">0.116993</td><td style=\"text-align: right;\">    nan</td><td style=\"text-align: right;\">               0.0833502</td></tr>\n",
       "<tr><td>StackedEnsemble_BestOfFamily_5_AutoML_2_20221031_193303</td><td style=\"text-align: right;\">0.289722</td><td style=\"text-align: right;\">0.083939 </td><td style=\"text-align: right;\">0.116351</td><td style=\"text-align: right;\">    nan</td><td style=\"text-align: right;\">               0.083939 </td></tr>\n",
       "<tr><td>StackedEnsemble_BestOfFamily_4_AutoML_2_20221031_193303</td><td style=\"text-align: right;\">0.289765</td><td style=\"text-align: right;\">0.0839637</td><td style=\"text-align: right;\">0.116365</td><td style=\"text-align: right;\">    nan</td><td style=\"text-align: right;\">               0.0839637</td></tr>\n",
       "<tr><td>StackedEnsemble_AllModels_5_AutoML_2_20221031_193303   </td><td style=\"text-align: right;\">0.29126 </td><td style=\"text-align: right;\">0.0848322</td><td style=\"text-align: right;\">0.12822 </td><td style=\"text-align: right;\">    nan</td><td style=\"text-align: right;\">               0.0848322</td></tr>\n",
       "<tr><td>XGBoost_grid_1_AutoML_2_20221031_193303_model_14       </td><td style=\"text-align: right;\">0.297324</td><td style=\"text-align: right;\">0.0884015</td><td style=\"text-align: right;\">0.12563 </td><td style=\"text-align: right;\">    nan</td><td style=\"text-align: right;\">               0.0884015</td></tr>\n",
       "<tr><td>GBM_grid_1_AutoML_2_20221031_193303_model_81           </td><td style=\"text-align: right;\">0.299414</td><td style=\"text-align: right;\">0.0896487</td><td style=\"text-align: right;\">0.120267</td><td style=\"text-align: right;\">    nan</td><td style=\"text-align: right;\">               0.0896487</td></tr>\n",
       "<tr><td>XGBoost_grid_1_AutoML_2_20221031_193303_model_76       </td><td style=\"text-align: right;\">0.302837</td><td style=\"text-align: right;\">0.0917104</td><td style=\"text-align: right;\">0.123987</td><td style=\"text-align: right;\">    nan</td><td style=\"text-align: right;\">               0.0917104</td></tr>\n",
       "<tr><td>GBM_grid_1_AutoML_2_20221031_193303_model_34           </td><td style=\"text-align: right;\">0.303237</td><td style=\"text-align: right;\">0.0919526</td><td style=\"text-align: right;\">0.125875</td><td style=\"text-align: right;\">    nan</td><td style=\"text-align: right;\">               0.0919526</td></tr>\n",
       "<tr><td>GBM_grid_1_AutoML_2_20221031_193303_model_53           </td><td style=\"text-align: right;\">0.303863</td><td style=\"text-align: right;\">0.0923329</td><td style=\"text-align: right;\">0.122416</td><td style=\"text-align: right;\">    nan</td><td style=\"text-align: right;\">               0.0923329</td></tr>\n",
       "<tr><td>GBM_grid_1_AutoML_2_20221031_193303_model_85           </td><td style=\"text-align: right;\">0.305093</td><td style=\"text-align: right;\">0.093082 </td><td style=\"text-align: right;\">0.120331</td><td style=\"text-align: right;\">    nan</td><td style=\"text-align: right;\">               0.093082 </td></tr>\n",
       "<tr><td>StackedEnsemble_AllModels_2_AutoML_2_20221031_193303   </td><td style=\"text-align: right;\">0.305224</td><td style=\"text-align: right;\">0.0931615</td><td style=\"text-align: right;\">0.125155</td><td style=\"text-align: right;\">    nan</td><td style=\"text-align: right;\">               0.0931615</td></tr>\n",
       "<tr><td>XGBoost_grid_1_AutoML_2_20221031_193303_model_40       </td><td style=\"text-align: right;\">0.305239</td><td style=\"text-align: right;\">0.0931706</td><td style=\"text-align: right;\">0.128314</td><td style=\"text-align: right;\">    nan</td><td style=\"text-align: right;\">               0.0931706</td></tr>\n",
       "<tr><td>XGBoost_grid_1_AutoML_2_20221031_193303_model_22       </td><td style=\"text-align: right;\">0.305457</td><td style=\"text-align: right;\">0.0933041</td><td style=\"text-align: right;\">0.134328</td><td style=\"text-align: right;\">    nan</td><td style=\"text-align: right;\">               0.0933041</td></tr>\n",
       "<tr><td>StackedEnsemble_AllModels_1_AutoML_2_20221031_193303   </td><td style=\"text-align: right;\">0.305602</td><td style=\"text-align: right;\">0.0933925</td><td style=\"text-align: right;\">0.12549 </td><td style=\"text-align: right;\">    nan</td><td style=\"text-align: right;\">               0.0933925</td></tr>\n",
       "<tr><td>StackedEnsemble_BestOfFamily_3_AutoML_2_20221031_193303</td><td style=\"text-align: right;\">0.306894</td><td style=\"text-align: right;\">0.0941842</td><td style=\"text-align: right;\">0.124633</td><td style=\"text-align: right;\">    nan</td><td style=\"text-align: right;\">               0.0941842</td></tr>\n",
       "<tr><td>StackedEnsemble_BestOfFamily_2_AutoML_2_20221031_193303</td><td style=\"text-align: right;\">0.307486</td><td style=\"text-align: right;\">0.0945475</td><td style=\"text-align: right;\">0.125054</td><td style=\"text-align: right;\">    nan</td><td style=\"text-align: right;\">               0.0945475</td></tr>\n",
       "<tr><td>GBM_grid_1_AutoML_2_20221031_193303_model_66           </td><td style=\"text-align: right;\">0.308807</td><td style=\"text-align: right;\">0.0953618</td><td style=\"text-align: right;\">0.131624</td><td style=\"text-align: right;\">    nan</td><td style=\"text-align: right;\">               0.0953618</td></tr>\n",
       "<tr><td>GBM_grid_1_AutoML_2_20221031_193303_model_64           </td><td style=\"text-align: right;\">0.309483</td><td style=\"text-align: right;\">0.0957798</td><td style=\"text-align: right;\">0.123946</td><td style=\"text-align: right;\">    nan</td><td style=\"text-align: right;\">               0.0957798</td></tr>\n",
       "</tbody>\n",
       "</table><pre style='font-size: smaller; margin-bottom: 1em;'>[20 rows x 6 columns]</pre>"
      ],
      "text/plain": [
       "model_id                                                     rmse        mse       mae    rmsle    mean_residual_deviance\n",
       "-------------------------------------------------------  --------  ---------  --------  -------  ------------------------\n",
       "StackedEnsemble_AllModels_3_AutoML_2_20221031_193303     0.287592  0.0827092  0.110933      nan                 0.0827092\n",
       "StackedEnsemble_AllModels_4_AutoML_2_20221031_193303     0.287638  0.0827355  0.110937      nan                 0.0827355\n",
       "StackedEnsemble_BestOfFamily_6_AutoML_2_20221031_193303  0.288704  0.0833502  0.116993      nan                 0.0833502\n",
       "StackedEnsemble_BestOfFamily_5_AutoML_2_20221031_193303  0.289722  0.083939   0.116351      nan                 0.083939\n",
       "StackedEnsemble_BestOfFamily_4_AutoML_2_20221031_193303  0.289765  0.0839637  0.116365      nan                 0.0839637\n",
       "StackedEnsemble_AllModels_5_AutoML_2_20221031_193303     0.29126   0.0848322  0.12822       nan                 0.0848322\n",
       "XGBoost_grid_1_AutoML_2_20221031_193303_model_14         0.297324  0.0884015  0.12563       nan                 0.0884015\n",
       "GBM_grid_1_AutoML_2_20221031_193303_model_81             0.299414  0.0896487  0.120267      nan                 0.0896487\n",
       "XGBoost_grid_1_AutoML_2_20221031_193303_model_76         0.302837  0.0917104  0.123987      nan                 0.0917104\n",
       "GBM_grid_1_AutoML_2_20221031_193303_model_34             0.303237  0.0919526  0.125875      nan                 0.0919526\n",
       "GBM_grid_1_AutoML_2_20221031_193303_model_53             0.303863  0.0923329  0.122416      nan                 0.0923329\n",
       "GBM_grid_1_AutoML_2_20221031_193303_model_85             0.305093  0.093082   0.120331      nan                 0.093082\n",
       "StackedEnsemble_AllModels_2_AutoML_2_20221031_193303     0.305224  0.0931615  0.125155      nan                 0.0931615\n",
       "XGBoost_grid_1_AutoML_2_20221031_193303_model_40         0.305239  0.0931706  0.128314      nan                 0.0931706\n",
       "XGBoost_grid_1_AutoML_2_20221031_193303_model_22         0.305457  0.0933041  0.134328      nan                 0.0933041\n",
       "StackedEnsemble_AllModels_1_AutoML_2_20221031_193303     0.305602  0.0933925  0.12549       nan                 0.0933925\n",
       "StackedEnsemble_BestOfFamily_3_AutoML_2_20221031_193303  0.306894  0.0941842  0.124633      nan                 0.0941842\n",
       "StackedEnsemble_BestOfFamily_2_AutoML_2_20221031_193303  0.307486  0.0945475  0.125054      nan                 0.0945475\n",
       "GBM_grid_1_AutoML_2_20221031_193303_model_66             0.308807  0.0953618  0.131624      nan                 0.0953618\n",
       "GBM_grid_1_AutoML_2_20221031_193303_model_64             0.309483  0.0957798  0.123946      nan                 0.0957798\n",
       "[20 rows x 6 columns]\n"
      ]
     },
     "execution_count": 9,
     "metadata": {},
     "output_type": "execute_result"
    }
   ],
   "source": [
    "east_aml, east_train_preds, east_test_preds = train_automl(train, test, 'East', MAX_TIME)\n",
    "east_aml.leaderboard.head(20)"
   ]
  },
  {
   "cell_type": "code",
   "execution_count": 10,
   "metadata": {
    "execution": {
     "iopub.execute_input": "2022-10-31T23:33:09.070087Z",
     "iopub.status.busy": "2022-10-31T23:33:09.070011Z",
     "iopub.status.idle": "2022-10-31T23:33:11.127096Z",
     "shell.execute_reply": "2022-10-31T23:33:11.126851Z"
    }
   },
   "outputs": [
    {
     "data": {
      "text/html": [
       "<table class='dataframe'>\n",
       "<thead>\n",
       "<tr><th>Filename                            </th><th style=\"text-align: right;\">  Altitude</th><th style=\"text-align: right;\">     Delta</th><th style=\"text-align: right;\">    North</th><th style=\"text-align: right;\">     East</th><th style=\"text-align: right;\">  kfold</th><th style=\"text-align: right;\">  North_pixel</th><th style=\"text-align: right;\">  East_pixel</th><th style=\"text-align: right;\">  North_pixel_a</th><th style=\"text-align: right;\">  East_pixel_a</th><th style=\"text-align: right;\">  North_pixel_a_est</th><th style=\"text-align: right;\">  East_pixel_a_est</th><th style=\"text-align: right;\">  North_pixel_h</th><th style=\"text-align: right;\">  East_pixel_h</th><th style=\"text-align: right;\">  North_pixel_h_est</th><th style=\"text-align: right;\">  East_pixel_h_est</th><th style=\"text-align: right;\">  North_pixel_p</th><th style=\"text-align: right;\">  East_pixel_p</th><th style=\"text-align: right;\">  North_pixel_p_est</th><th style=\"text-align: right;\">  East_pixel_p_est</th><th style=\"text-align: right;\">  North_prediction</th><th style=\"text-align: right;\">  East_prediction</th></tr>\n",
       "</thead>\n",
       "<tbody>\n",
       "<tr><td>00003e3b9e5336685200ae85d21b4f5e.jpg</td><td style=\"text-align: right;\">   178.83 </td><td style=\"text-align: right;\">-0.0652313</td><td style=\"text-align: right;\">-0.386045</td><td style=\"text-align: right;\"> 0.929772</td><td style=\"text-align: right;\">      0</td><td style=\"text-align: right;\">     -1.09818</td><td style=\"text-align: right;\">    2.82837 </td><td style=\"text-align: right;\">      -1.29619 </td><td style=\"text-align: right;\">      2.86893 </td><td style=\"text-align: right;\">          -1.22047 </td><td style=\"text-align: right;\">          2.82652 </td><td style=\"text-align: right;\">       -1.09818</td><td style=\"text-align: right;\">      2.82837 </td><td style=\"text-align: right;\">          -1.23032 </td><td style=\"text-align: right;\">          2.83861 </td><td style=\"text-align: right;\">      -1.29619 </td><td style=\"text-align: right;\">      2.86893 </td><td style=\"text-align: right;\">          -1.22047 </td><td style=\"text-align: right;\">          2.82652 </td><td style=\"text-align: right;\">         -0.357426</td><td style=\"text-align: right;\">         0.917255</td></tr>\n",
       "<tr><td>0001261e2060303a06ba6c64d676d639.jpg</td><td style=\"text-align: right;\">   207.921</td><td style=\"text-align: right;\">-0.0806885</td><td style=\"text-align: right;\"> 0.635584</td><td style=\"text-align: right;\"> 0.152819</td><td style=\"text-align: right;\">      2</td><td style=\"text-align: right;\">      1.45245</td><td style=\"text-align: right;\">    0.207358</td><td style=\"text-align: right;\">       0.847966</td><td style=\"text-align: right;\">      0.356077</td><td style=\"text-align: right;\">           0.7925  </td><td style=\"text-align: right;\">          0.231472</td><td style=\"text-align: right;\">        1.45245</td><td style=\"text-align: right;\">      0.207358</td><td style=\"text-align: right;\">           0.753004</td><td style=\"text-align: right;\">          0.217258</td><td style=\"text-align: right;\">       0.847966</td><td style=\"text-align: right;\">      0.356077</td><td style=\"text-align: right;\">           0.7925  </td><td style=\"text-align: right;\">          0.231472</td><td style=\"text-align: right;\">          0.65503 </td><td style=\"text-align: right;\">         0.167577</td></tr>\n",
       "<tr><td>0002ac0d783338cfeab0b2bdbd872cda.jpg</td><td style=\"text-align: right;\">   178.048</td><td style=\"text-align: right;\"> 0.0215759</td><td style=\"text-align: right;\">-1.22823 </td><td style=\"text-align: right;\">-0.499388</td><td style=\"text-align: right;\">      3</td><td style=\"text-align: right;\">     -3.54421</td><td style=\"text-align: right;\">   -1.49436 </td><td style=\"text-align: right;\">      -3.51745 </td><td style=\"text-align: right;\">     -1.59259 </td><td style=\"text-align: right;\">          -3.8237  </td><td style=\"text-align: right;\">         -1.65885 </td><td style=\"text-align: right;\">       -3.54421</td><td style=\"text-align: right;\">     -1.49436 </td><td style=\"text-align: right;\">          -3.81837 </td><td style=\"text-align: right;\">         -1.66816 </td><td style=\"text-align: right;\">      -3.51745 </td><td style=\"text-align: right;\">     -1.59259 </td><td style=\"text-align: right;\">          -3.8237  </td><td style=\"text-align: right;\">         -1.65885 </td><td style=\"text-align: right;\">         -1.12339 </td><td style=\"text-align: right;\">        -0.477507</td></tr>\n",
       "<tr><td>0004289ee1c7b8b08c77e19878106ae3.jpg</td><td style=\"text-align: right;\">   201.085</td><td style=\"text-align: right;\"> 0.505981 </td><td style=\"text-align: right;\">-1.73971 </td><td style=\"text-align: right;\">-0.699928</td><td style=\"text-align: right;\">      1</td><td style=\"text-align: right;\">     -6.05406</td><td style=\"text-align: right;\">   -4.08215 </td><td style=\"text-align: right;\">      -6.09153 </td><td style=\"text-align: right;\">     -3.09927 </td><td style=\"text-align: right;\">          -6.06536 </td><td style=\"text-align: right;\">         -2.35415 </td><td style=\"text-align: right;\">       -6.05406</td><td style=\"text-align: right;\">     -4.08215 </td><td style=\"text-align: right;\">          -6.14532 </td><td style=\"text-align: right;\">         -2.30319 </td><td style=\"text-align: right;\">      -6.09153 </td><td style=\"text-align: right;\">     -3.09927 </td><td style=\"text-align: right;\">          -6.06536 </td><td style=\"text-align: right;\">         -2.35415 </td><td style=\"text-align: right;\">         -1.83954 </td><td style=\"text-align: right;\">        -0.706314</td></tr>\n",
       "<tr><td>0004d0b59e19461ff126e3a08a814c33.jpg</td><td style=\"text-align: right;\">   187.55 </td><td style=\"text-align: right;\">-0.328156 </td><td style=\"text-align: right;\">-0.169798</td><td style=\"text-align: right;\"> 2.82875 </td><td style=\"text-align: right;\">      0</td><td style=\"text-align: right;\">     -0.69025</td><td style=\"text-align: right;\">    8.23287 </td><td style=\"text-align: right;\">      -0.449659</td><td style=\"text-align: right;\">      8.12569 </td><td style=\"text-align: right;\">          -0.564889</td><td style=\"text-align: right;\">          8.01241 </td><td style=\"text-align: right;\">       -0.69025</td><td style=\"text-align: right;\">      8.23287 </td><td style=\"text-align: right;\">          -0.555564</td><td style=\"text-align: right;\">          7.99966 </td><td style=\"text-align: right;\">      -0.449659</td><td style=\"text-align: right;\">      8.12569 </td><td style=\"text-align: right;\">          -0.564889</td><td style=\"text-align: right;\">          8.01241 </td><td style=\"text-align: right;\">         -0.18145 </td><td style=\"text-align: right;\">         2.79819 </td></tr>\n",
       "</tbody>\n",
       "</table><pre style='font-size: smaller; margin-bottom: 1em;'>[5 rows x 22 columns]</pre>"
      ],
      "text/plain": [
       "Filename                                Altitude       Delta      North       East    kfold    North_pixel    East_pixel    North_pixel_a    East_pixel_a    North_pixel_a_est    East_pixel_a_est    North_pixel_h    East_pixel_h    North_pixel_h_est    East_pixel_h_est    North_pixel_p    East_pixel_p    North_pixel_p_est    East_pixel_p_est    North_prediction    East_prediction\n",
       "------------------------------------  ----------  ----------  ---------  ---------  -------  -------------  ------------  ---------------  --------------  -------------------  ------------------  ---------------  --------------  -------------------  ------------------  ---------------  --------------  -------------------  ------------------  ------------------  -----------------\n",
       "00003e3b9e5336685200ae85d21b4f5e.jpg     178.83   -0.0652313  -0.386045   0.929772        0       -1.09818      2.82837         -1.29619         2.86893             -1.22047             2.82652          -1.09818        2.82837             -1.23032             2.83861         -1.29619         2.86893             -1.22047             2.82652            -0.357426           0.917255\n",
       "0001261e2060303a06ba6c64d676d639.jpg     207.921  -0.0806885   0.635584   0.152819        2        1.45245      0.207358         0.847966        0.356077             0.7925              0.231472          1.45245        0.207358             0.753004            0.217258         0.847966        0.356077             0.7925              0.231472            0.65503            0.167577\n",
       "0002ac0d783338cfeab0b2bdbd872cda.jpg     178.048   0.0215759  -1.22823   -0.499388        3       -3.54421     -1.49436         -3.51745        -1.59259             -3.8237             -1.65885          -3.54421       -1.49436             -3.81837            -1.66816         -3.51745        -1.59259             -3.8237             -1.65885            -1.12339           -0.477507\n",
       "0004289ee1c7b8b08c77e19878106ae3.jpg     201.085   0.505981   -1.73971   -0.699928        1       -6.05406     -4.08215         -6.09153        -3.09927             -6.06536            -2.35415          -6.05406       -4.08215             -6.14532            -2.30319         -6.09153        -3.09927             -6.06536            -2.35415            -1.83954           -0.706314\n",
       "0004d0b59e19461ff126e3a08a814c33.jpg     187.55   -0.328156   -0.169798   2.82875         0       -0.69025      8.23287         -0.449659        8.12569             -0.564889            8.01241          -0.69025        8.23287             -0.555564            7.99966         -0.449659        8.12569             -0.564889            8.01241            -0.18145            2.79819\n",
       "[5 rows x 22 columns]\n"
      ]
     },
     "execution_count": 10,
     "metadata": {},
     "output_type": "execute_result"
    }
   ],
   "source": [
    "train_final = train.cbind(north_train_preds)\n",
    "train_final = train_final.cbind(east_train_preds)\n",
    "train_final.as_data_frame().to_csv('train_final.csv')\n",
    "\n",
    "train_final.head(5)"
   ]
  },
  {
   "cell_type": "code",
   "execution_count": 11,
   "metadata": {
    "execution": {
     "iopub.execute_input": "2022-10-31T23:33:11.128348Z",
     "iopub.status.busy": "2022-10-31T23:33:11.128270Z",
     "iopub.status.idle": "2022-10-31T23:33:12.238057Z",
     "shell.execute_reply": "2022-10-31T23:33:12.237734Z"
    }
   },
   "outputs": [
    {
     "data": {
      "text/html": [
       "<table class='dataframe'>\n",
       "<thead>\n",
       "<tr><th>Filename                            </th><th style=\"text-align: right;\">  Altitude</th><th style=\"text-align: right;\">     Delta</th><th style=\"text-align: right;\">  kfold</th><th style=\"text-align: right;\">  North_pixel</th><th style=\"text-align: right;\">  East_pixel</th><th style=\"text-align: right;\">  North_pixel_a</th><th style=\"text-align: right;\">  East_pixel_a</th><th style=\"text-align: right;\">  North_pixel_a_est</th><th style=\"text-align: right;\">  East_pixel_a_est</th><th style=\"text-align: right;\">  North_pixel_h</th><th style=\"text-align: right;\">  East_pixel_h</th><th style=\"text-align: right;\">  North_pixel_h_est</th><th style=\"text-align: right;\">  East_pixel_h_est</th><th style=\"text-align: right;\">  North_pixel_p</th><th style=\"text-align: right;\">  East_pixel_p</th><th style=\"text-align: right;\">  North_pixel_p_est</th><th style=\"text-align: right;\">  East_pixel_p_est</th><th style=\"text-align: right;\">  North_prediction</th><th style=\"text-align: right;\">  East_prediction</th></tr>\n",
       "</thead>\n",
       "<tbody>\n",
       "<tr><td>000053b1e684c9e7ea73727b2238ce18.jpg</td><td style=\"text-align: right;\">   167.943</td><td style=\"text-align: right;\"> 0.0102692</td><td style=\"text-align: right;\">      0</td><td style=\"text-align: right;\">     3.94642 </td><td style=\"text-align: right;\">   -3.81585 </td><td style=\"text-align: right;\">       0.356597</td><td style=\"text-align: right;\">      0.257315</td><td style=\"text-align: right;\">        -0.654044  </td><td style=\"text-align: right;\">        -1.04211  </td><td style=\"text-align: right;\">       3.94642 </td><td style=\"text-align: right;\">     -3.81585 </td><td style=\"text-align: right;\">         5.85679   </td><td style=\"text-align: right;\">         -8.51255 </td><td style=\"text-align: right;\">       0.356597</td><td style=\"text-align: right;\">      0.257315</td><td style=\"text-align: right;\">        -0.654044  </td><td style=\"text-align: right;\">        -1.04211  </td><td style=\"text-align: right;\">         -0.166079</td><td style=\"text-align: right;\">       -0.0690687</td></tr>\n",
       "<tr><td>00029153d12ae1c9abe59c17ff2e0895.jpg</td><td style=\"text-align: right;\">   195.853</td><td style=\"text-align: right;\"> 0.0892181</td><td style=\"text-align: right;\">      2</td><td style=\"text-align: right;\">     7.66823 </td><td style=\"text-align: right;\">   -4.03186 </td><td style=\"text-align: right;\">       9.36693 </td><td style=\"text-align: right;\">     -2.49368 </td><td style=\"text-align: right;\">         4.65447   </td><td style=\"text-align: right;\">        -5.10086  </td><td style=\"text-align: right;\">       7.66823 </td><td style=\"text-align: right;\">     -4.03186 </td><td style=\"text-align: right;\">         4.9369    </td><td style=\"text-align: right;\">         -4.14951 </td><td style=\"text-align: right;\">       9.36693 </td><td style=\"text-align: right;\">     -2.49368 </td><td style=\"text-align: right;\">         4.65447   </td><td style=\"text-align: right;\">        -5.10086  </td><td style=\"text-align: right;\">          0.846418</td><td style=\"text-align: right;\">       -0.498222 </td></tr>\n",
       "<tr><td>0006246bee639c7a7b11a08e34dd3cc6.jpg</td><td style=\"text-align: right;\">   146.943</td><td style=\"text-align: right;\">-0.0183258</td><td style=\"text-align: right;\">      1</td><td style=\"text-align: right;\">   -11.5494  </td><td style=\"text-align: right;\">   -0.880645</td><td style=\"text-align: right;\">     -12.5184  </td><td style=\"text-align: right;\">     -0.683746</td><td style=\"text-align: right;\">       -12.1243    </td><td style=\"text-align: right;\">        -0.0308469</td><td style=\"text-align: right;\">     -11.5494  </td><td style=\"text-align: right;\">     -0.880645</td><td style=\"text-align: right;\">       -12.1883    </td><td style=\"text-align: right;\">          0.273252</td><td style=\"text-align: right;\">     -12.5184  </td><td style=\"text-align: right;\">     -0.683746</td><td style=\"text-align: right;\">       -12.1243    </td><td style=\"text-align: right;\">        -0.0308469</td><td style=\"text-align: right;\">         -1.48711 </td><td style=\"text-align: right;\">        0.14403  </td></tr>\n",
       "<tr><td>00063cb5da1826febf178b669eea3250.jpg</td><td style=\"text-align: right;\">   213.184</td><td style=\"text-align: right;\">-0.108704 </td><td style=\"text-align: right;\">      1</td><td style=\"text-align: right;\">   -28.9916  </td><td style=\"text-align: right;\">    1.93089 </td><td style=\"text-align: right;\">     -25.9429  </td><td style=\"text-align: right;\">     -0.682081</td><td style=\"text-align: right;\">       -21.45      </td><td style=\"text-align: right;\">         4.21257  </td><td style=\"text-align: right;\">     -28.9916  </td><td style=\"text-align: right;\">      1.93089 </td><td style=\"text-align: right;\">       -21.2372    </td><td style=\"text-align: right;\">          4.1683  </td><td style=\"text-align: right;\">     -25.9429  </td><td style=\"text-align: right;\">     -0.682081</td><td style=\"text-align: right;\">       -21.45      </td><td style=\"text-align: right;\">         4.21257  </td><td style=\"text-align: right;\">         -0.653027</td><td style=\"text-align: right;\">        0.0814924</td></tr>\n",
       "<tr><td>00063ece2e68a8847f228e8fd922f851.jpg</td><td style=\"text-align: right;\">   184.758</td><td style=\"text-align: right;\"> 0.0177002</td><td style=\"text-align: right;\">      0</td><td style=\"text-align: right;\">     0.184479</td><td style=\"text-align: right;\">   -6.92578 </td><td style=\"text-align: right;\">      -0.165511</td><td style=\"text-align: right;\">     -6.8528  </td><td style=\"text-align: right;\">         0.00832452</td><td style=\"text-align: right;\">        -6.20988  </td><td style=\"text-align: right;\">       0.184479</td><td style=\"text-align: right;\">     -6.92578 </td><td style=\"text-align: right;\">         0.00381415</td><td style=\"text-align: right;\">         -6.17922 </td><td style=\"text-align: right;\">      -0.165511</td><td style=\"text-align: right;\">     -6.8528  </td><td style=\"text-align: right;\">         0.00832452</td><td style=\"text-align: right;\">        -6.20988  </td><td style=\"text-align: right;\">          0.249206</td><td style=\"text-align: right;\">       -1.28846  </td></tr>\n",
       "<tr><td>000838c1249fec206b77360ff0adc110.jpg</td><td style=\"text-align: right;\">   209.136</td><td style=\"text-align: right;\">-0.544525 </td><td style=\"text-align: right;\">      1</td><td style=\"text-align: right;\">     2.54224 </td><td style=\"text-align: right;\">   -2.43533 </td><td style=\"text-align: right;\">       2.78873 </td><td style=\"text-align: right;\">     -2.46239 </td><td style=\"text-align: right;\">         3.46306   </td><td style=\"text-align: right;\">        -2.61436  </td><td style=\"text-align: right;\">       2.54224 </td><td style=\"text-align: right;\">     -2.43533 </td><td style=\"text-align: right;\">         3.48015   </td><td style=\"text-align: right;\">         -2.62869 </td><td style=\"text-align: right;\">       2.78873 </td><td style=\"text-align: right;\">     -2.46239 </td><td style=\"text-align: right;\">         3.46306   </td><td style=\"text-align: right;\">        -2.61436  </td><td style=\"text-align: right;\">          1.27153 </td><td style=\"text-align: right;\">       -1.6465   </td></tr>\n",
       "<tr><td>000a8e84b013655b832041a6f362e5c9.jpg</td><td style=\"text-align: right;\">   177.72 </td><td style=\"text-align: right;\">-0.23024  </td><td style=\"text-align: right;\">      4</td><td style=\"text-align: right;\">    -0.601386</td><td style=\"text-align: right;\">   -3.88556 </td><td style=\"text-align: right;\">      -0.061612</td><td style=\"text-align: right;\">     -4.1541  </td><td style=\"text-align: right;\">        -0.321557  </td><td style=\"text-align: right;\">        -4.38535  </td><td style=\"text-align: right;\">      -0.601386</td><td style=\"text-align: right;\">     -3.88556 </td><td style=\"text-align: right;\">        -0.280671  </td><td style=\"text-align: right;\">         -4.39763 </td><td style=\"text-align: right;\">      -0.061612</td><td style=\"text-align: right;\">     -4.1541  </td><td style=\"text-align: right;\">        -0.321557  </td><td style=\"text-align: right;\">        -4.38535  </td><td style=\"text-align: right;\">         -0.125752</td><td style=\"text-align: right;\">       -1.15953  </td></tr>\n",
       "<tr><td>000d0c74074191add6f22e0004db8f76.jpg</td><td style=\"text-align: right;\">   200.488</td><td style=\"text-align: right;\"> 0.0812378</td><td style=\"text-align: right;\">      3</td><td style=\"text-align: right;\">     3.12172 </td><td style=\"text-align: right;\">   -6.69092 </td><td style=\"text-align: right;\">       2.78086 </td><td style=\"text-align: right;\">     -5.82139 </td><td style=\"text-align: right;\">         2.14271   </td><td style=\"text-align: right;\">        -5.28396  </td><td style=\"text-align: right;\">       3.12172 </td><td style=\"text-align: right;\">     -6.69092 </td><td style=\"text-align: right;\">         2.19983   </td><td style=\"text-align: right;\">         -5.08691 </td><td style=\"text-align: right;\">       2.78086 </td><td style=\"text-align: right;\">     -5.82139 </td><td style=\"text-align: right;\">         2.14271   </td><td style=\"text-align: right;\">        -5.28396  </td><td style=\"text-align: right;\">          0.893981</td><td style=\"text-align: right;\">       -2.06524  </td></tr>\n",
       "<tr><td>000dd3543ac84d906eae52e7c779bb2a.jpg</td><td style=\"text-align: right;\">   155.313</td><td style=\"text-align: right;\"> 0.062027 </td><td style=\"text-align: right;\">      4</td><td style=\"text-align: right;\">    -0.954504</td><td style=\"text-align: right;\">   -9.59106 </td><td style=\"text-align: right;\">      -3.27656 </td><td style=\"text-align: right;\">     -8.70192 </td><td style=\"text-align: right;\">        -4.1014    </td><td style=\"text-align: right;\">        -8.30099  </td><td style=\"text-align: right;\">      -0.954504</td><td style=\"text-align: right;\">     -9.59106 </td><td style=\"text-align: right;\">        -4.38984   </td><td style=\"text-align: right;\">         -8.47304 </td><td style=\"text-align: right;\">      -3.27656 </td><td style=\"text-align: right;\">     -8.70192 </td><td style=\"text-align: right;\">        -4.1014    </td><td style=\"text-align: right;\">        -8.30099  </td><td style=\"text-align: right;\">         -0.316569</td><td style=\"text-align: right;\">       -1.00463  </td></tr>\n",
       "<tr><td>00129b07887a18a7331909231c28816e.jpg</td><td style=\"text-align: right;\">   187.643</td><td style=\"text-align: right;\">-0.133362 </td><td style=\"text-align: right;\">      4</td><td style=\"text-align: right;\">     0.559739</td><td style=\"text-align: right;\">    4.16881 </td><td style=\"text-align: right;\">       0.2546  </td><td style=\"text-align: right;\">      4.49667 </td><td style=\"text-align: right;\">         0.456218  </td><td style=\"text-align: right;\">         4.28046  </td><td style=\"text-align: right;\">       0.559739</td><td style=\"text-align: right;\">      4.16881 </td><td style=\"text-align: right;\">         0.446538  </td><td style=\"text-align: right;\">          4.31604 </td><td style=\"text-align: right;\">       0.2546  </td><td style=\"text-align: right;\">      4.49667 </td><td style=\"text-align: right;\">         0.456218  </td><td style=\"text-align: right;\">         4.28046  </td><td style=\"text-align: right;\">          0.152168</td><td style=\"text-align: right;\">        1.71592  </td></tr>\n",
       "</tbody>\n",
       "</table><pre style='font-size: smaller; margin-bottom: 1em;'>[55031 rows x 20 columns]</pre>"
      ],
      "text/plain": [
       "Filename                                Altitude       Delta    kfold    North_pixel    East_pixel    North_pixel_a    East_pixel_a    North_pixel_a_est    East_pixel_a_est    North_pixel_h    East_pixel_h    North_pixel_h_est    East_pixel_h_est    North_pixel_p    East_pixel_p    North_pixel_p_est    East_pixel_p_est    North_prediction    East_prediction\n",
       "------------------------------------  ----------  ----------  -------  -------------  ------------  ---------------  --------------  -------------------  ------------------  ---------------  --------------  -------------------  ------------------  ---------------  --------------  -------------------  ------------------  ------------------  -----------------\n",
       "000053b1e684c9e7ea73727b2238ce18.jpg     167.943   0.0102692        0       3.94642      -3.81585          0.356597        0.257315          -0.654044            -1.04211           3.94642        -3.81585            5.85679              -8.51255          0.356597        0.257315          -0.654044            -1.04211             -0.166079         -0.0690687\n",
       "00029153d12ae1c9abe59c17ff2e0895.jpg     195.853   0.0892181        2       7.66823      -4.03186          9.36693        -2.49368            4.65447             -5.10086           7.66823        -4.03186            4.9369               -4.14951          9.36693        -2.49368            4.65447             -5.10086              0.846418         -0.498222\n",
       "0006246bee639c7a7b11a08e34dd3cc6.jpg     146.943  -0.0183258        1     -11.5494       -0.880645       -12.5184         -0.683746         -12.1243              -0.0308469       -11.5494         -0.880645         -12.1883                0.273252       -12.5184         -0.683746         -12.1243              -0.0308469           -1.48711           0.14403\n",
       "00063cb5da1826febf178b669eea3250.jpg     213.184  -0.108704         1     -28.9916        1.93089        -25.9429         -0.682081         -21.45                 4.21257         -28.9916          1.93089          -21.2372                4.1683         -25.9429         -0.682081         -21.45                 4.21257             -0.653027          0.0814924\n",
       "00063ece2e68a8847f228e8fd922f851.jpg     184.758   0.0177002        0       0.184479     -6.92578         -0.165511       -6.8528             0.00832452          -6.20988           0.184479       -6.92578            0.00381415           -6.17922         -0.165511       -6.8528             0.00832452          -6.20988              0.249206         -1.28846\n",
       "000838c1249fec206b77360ff0adc110.jpg     209.136  -0.544525         1       2.54224      -2.43533          2.78873        -2.46239            3.46306             -2.61436           2.54224        -2.43533            3.48015              -2.62869          2.78873        -2.46239            3.46306             -2.61436              1.27153          -1.6465\n",
       "000a8e84b013655b832041a6f362e5c9.jpg     177.72   -0.23024          4      -0.601386     -3.88556         -0.061612       -4.1541            -0.321557            -4.38535          -0.601386       -3.88556           -0.280671             -4.39763         -0.061612       -4.1541            -0.321557            -4.38535             -0.125752         -1.15953\n",
       "000d0c74074191add6f22e0004db8f76.jpg     200.488   0.0812378        3       3.12172      -6.69092          2.78086        -5.82139            2.14271             -5.28396           3.12172        -6.69092            2.19983              -5.08691          2.78086        -5.82139            2.14271             -5.28396              0.893981         -2.06524\n",
       "000dd3543ac84d906eae52e7c779bb2a.jpg     155.313   0.062027         4      -0.954504     -9.59106         -3.27656        -8.70192           -4.1014              -8.30099          -0.954504       -9.59106           -4.38984              -8.47304         -3.27656        -8.70192           -4.1014              -8.30099             -0.316569         -1.00463\n",
       "00129b07887a18a7331909231c28816e.jpg     187.643  -0.133362         4       0.559739      4.16881          0.2546          4.49667            0.456218             4.28046           0.559739        4.16881            0.446538              4.31604          0.2546          4.49667            0.456218             4.28046              0.152168          1.71592\n",
       "[55031 rows x 20 columns]\n"
      ]
     },
     "execution_count": 11,
     "metadata": {},
     "output_type": "execute_result"
    }
   ],
   "source": [
    "test_final = test.cbind(north_test_preds)\n",
    "test_final = test_final.cbind(east_test_preds)\n",
    "test_final.as_data_frame().to_csv('test_final.csv')\n",
    "\n",
    "test_final"
   ]
  },
  {
   "cell_type": "markdown",
   "metadata": {},
   "source": [
    "# Submission"
   ]
  },
  {
   "cell_type": "code",
   "execution_count": 12,
   "metadata": {
    "execution": {
     "iopub.execute_input": "2022-10-31T23:33:12.239556Z",
     "iopub.status.busy": "2022-10-31T23:33:12.239477Z",
     "iopub.status.idle": "2022-10-31T23:33:12.632109Z",
     "shell.execute_reply": "2022-10-31T23:33:12.631824Z"
    }
   },
   "outputs": [
    {
     "data": {
      "text/html": [
       "<div>\n",
       "<style scoped>\n",
       "    .dataframe tbody tr th:only-of-type {\n",
       "        vertical-align: middle;\n",
       "    }\n",
       "\n",
       "    .dataframe tbody tr th {\n",
       "        vertical-align: top;\n",
       "    }\n",
       "\n",
       "    .dataframe thead th {\n",
       "        text-align: right;\n",
       "    }\n",
       "</style>\n",
       "<table border=\"1\" class=\"dataframe\">\n",
       "  <thead>\n",
       "    <tr style=\"text-align: right;\">\n",
       "      <th></th>\n",
       "      <th>Id</th>\n",
       "      <th>Predicted</th>\n",
       "    </tr>\n",
       "  </thead>\n",
       "  <tbody>\n",
       "    <tr>\n",
       "      <th>0</th>\n",
       "      <td>000053b1e684c9e7ea73727b2238ce18.jpg:North</td>\n",
       "      <td>-0.166079</td>\n",
       "    </tr>\n",
       "    <tr>\n",
       "      <th>1</th>\n",
       "      <td>00029153d12ae1c9abe59c17ff2e0895.jpg:North</td>\n",
       "      <td>0.846418</td>\n",
       "    </tr>\n",
       "    <tr>\n",
       "      <th>2</th>\n",
       "      <td>0006246bee639c7a7b11a08e34dd3cc6.jpg:North</td>\n",
       "      <td>-1.487105</td>\n",
       "    </tr>\n",
       "    <tr>\n",
       "      <th>3</th>\n",
       "      <td>00063cb5da1826febf178b669eea3250.jpg:North</td>\n",
       "      <td>-0.653027</td>\n",
       "    </tr>\n",
       "    <tr>\n",
       "      <th>4</th>\n",
       "      <td>00063ece2e68a8847f228e8fd922f851.jpg:North</td>\n",
       "      <td>0.249206</td>\n",
       "    </tr>\n",
       "  </tbody>\n",
       "</table>\n",
       "</div>"
      ],
      "text/plain": [
       "                                           Id  Predicted\n",
       "0  000053b1e684c9e7ea73727b2238ce18.jpg:North  -0.166079\n",
       "1  00029153d12ae1c9abe59c17ff2e0895.jpg:North   0.846418\n",
       "2  0006246bee639c7a7b11a08e34dd3cc6.jpg:North  -1.487105\n",
       "3  00063cb5da1826febf178b669eea3250.jpg:North  -0.653027\n",
       "4  00063ece2e68a8847f228e8fd922f851.jpg:North   0.249206"
      ]
     },
     "execution_count": 12,
     "metadata": {},
     "output_type": "execute_result"
    }
   ],
   "source": [
    "submission = test_final.as_data_frame()[['Filename', 'North_prediction', 'East_prediction']]\n",
    "submission.rename({'North_prediction':'North', 'East_prediction':'East'}, axis=1, inplace=True)\n",
    "submission = submission.melt(id_vars='Filename', value_name='Predicted')\n",
    "submission['Id'] = submission.Filename + ':' + submission.variable\n",
    "submission = submission[['Id', 'Predicted']]\n",
    "submission.head()"
   ]
  },
  {
   "cell_type": "code",
   "execution_count": 13,
   "metadata": {
    "execution": {
     "iopub.execute_input": "2022-10-31T23:33:12.633565Z",
     "iopub.status.busy": "2022-10-31T23:33:12.633455Z",
     "iopub.status.idle": "2022-10-31T23:33:12.791938Z",
     "shell.execute_reply": "2022-10-31T23:33:12.791647Z"
    }
   },
   "outputs": [],
   "source": [
    "submission.to_csv('submission_h2o_full.csv', index=False)"
   ]
  },
  {
   "cell_type": "markdown",
   "metadata": {},
   "source": [
    "# North Explanation"
   ]
  },
  {
   "cell_type": "code",
   "execution_count": 14,
   "metadata": {
    "execution": {
     "iopub.execute_input": "2022-10-31T23:33:12.793521Z",
     "iopub.status.busy": "2022-10-31T23:33:12.793440Z",
     "iopub.status.idle": "2022-10-31T23:33:12.795153Z",
     "shell.execute_reply": "2022-10-31T23:33:12.794913Z"
    }
   },
   "outputs": [],
   "source": [
    "north_aml.explain(train)"
   ]
  },
  {
   "cell_type": "markdown",
   "metadata": {},
   "source": [
    "# East Explanation"
   ]
  },
  {
   "cell_type": "code",
   "execution_count": 15,
   "metadata": {
    "execution": {
     "iopub.execute_input": "2022-10-31T23:33:12.796473Z",
     "iopub.status.busy": "2022-10-31T23:33:12.796319Z",
     "iopub.status.idle": "2022-10-31T23:33:12.797858Z",
     "shell.execute_reply": "2022-10-31T23:33:12.797627Z"
    }
   },
   "outputs": [],
   "source": [
    "east_aml.explain(train)"
   ]
  },
  {
   "cell_type": "code",
   "execution_count": 16,
   "metadata": {
    "execution": {
     "iopub.execute_input": "2022-10-31T23:33:12.799031Z",
     "iopub.status.busy": "2022-10-31T23:33:12.798960Z",
     "iopub.status.idle": "2022-10-31T23:33:12.810915Z",
     "shell.execute_reply": "2022-10-31T23:33:12.810654Z"
    }
   },
   "outputs": [
    {
     "name": "stdout",
     "output_type": "stream",
     "text": [
      "H2O session _sid_aa05 closed.\n"
     ]
    },
    {
     "name": "stderr",
     "output_type": "stream",
     "text": [
      "/tmp/ipykernel_94577/2900054706.py:1: H2ODeprecationWarning: Deprecated, use ``h2o.cluster().shutdown()``.\n",
      "  h2o.shutdown()\n"
     ]
    }
   ],
   "source": [
    "h2o.shutdown()"
   ]
  },
  {
   "cell_type": "code",
   "execution_count": null,
   "metadata": {},
   "outputs": [],
   "source": []
  },
  {
   "cell_type": "code",
   "execution_count": null,
   "metadata": {},
   "outputs": [],
   "source": []
  }
 ],
 "metadata": {
  "kernelspec": {
   "display_name": "Python 3.9.12 ('kdd22')",
   "language": "python",
   "name": "python3"
  },
  "language_info": {
   "codemirror_mode": {
    "name": "ipython",
    "version": 3
   },
   "file_extension": ".py",
   "mimetype": "text/x-python",
   "name": "python",
   "nbconvert_exporter": "python",
   "pygments_lexer": "ipython3",
   "version": "3.9.12"
  },
  "vscode": {
   "interpreter": {
    "hash": "9c77c43746d93b9a067aadc04b2ec90c79cf589b8baab80a26b65072ec10c027"
   }
  }
 },
 "nbformat": 4,
 "nbformat_minor": 4
}
