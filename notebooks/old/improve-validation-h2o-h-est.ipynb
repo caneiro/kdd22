{
 "cells": [
  {
   "cell_type": "markdown",
   "id": "bd9e7e94",
   "metadata": {
    "papermill": {
     "duration": 0.00561,
     "end_time": "2022-10-30T22:00:46.745544",
     "exception": false,
     "start_time": "2022-10-30T22:00:46.739934",
     "status": "completed"
    },
    "tags": []
   },
   "source": [
    "# Single Output Regression"
   ]
  },
  {
   "cell_type": "code",
   "execution_count": 1,
   "id": "1dff3b1a",
   "metadata": {
    "_cell_guid": "b1076dfc-b9ad-4769-8c92-a6c4dae69d19",
    "_uuid": "8f2839f25d086af736a60e9eeb907d3b93b6e0e5",
    "execution": {
     "iopub.execute_input": "2022-10-30T22:00:46.757439Z",
     "iopub.status.busy": "2022-10-30T22:00:46.756855Z",
     "iopub.status.idle": "2022-10-30T22:00:46.879812Z",
     "shell.execute_reply": "2022-10-30T22:00:46.878723Z"
    },
    "papermill": {
     "duration": 0.132539,
     "end_time": "2022-10-30T22:00:46.882689",
     "exception": false,
     "start_time": "2022-10-30T22:00:46.750150",
     "status": "completed"
    },
    "tags": []
   },
   "outputs": [],
   "source": [
    "import os\n",
    "import sys\n",
    "import numpy as np\n",
    "import pandas as pd\n",
    "from tqdm.auto import tqdm\n",
    "import matplotlib.pyplot as plt\n",
    "from kaggle_secrets import UserSecretsClient\n",
    "from pathlib import Path\n",
    "\n",
    "\n",
    "# user_secrets = UserSecretsClient()\n",
    "# wandb_key = user_secrets.get_secret(\"wandb_key\")\n",
    "\n",
    "SEED = 42\n",
    "PATH = Path('../input/kdd-team/')\n",
    "PIX_FILES = ['pixels_dist_train_h_est.csv', 'pixels_dist_test_h_est.csv']\n",
    "MAX_TIME = 360"
   ]
  },
  {
   "cell_type": "code",
   "execution_count": 2,
   "id": "a128412e",
   "metadata": {
    "execution": {
     "iopub.execute_input": "2022-10-30T22:00:46.894029Z",
     "iopub.status.busy": "2022-10-30T22:00:46.893161Z",
     "iopub.status.idle": "2022-10-30T22:00:47.382435Z",
     "shell.execute_reply": "2022-10-30T22:00:47.381570Z"
    },
    "papermill": {
     "duration": 0.501968,
     "end_time": "2022-10-30T22:00:47.389375",
     "exception": false,
     "start_time": "2022-10-30T22:00:46.887407",
     "status": "completed"
    },
    "tags": []
   },
   "outputs": [
    {
     "name": "stdout",
     "output_type": "stream",
     "text": [
      "(146262, 6)\n"
     ]
    },
    {
     "data": {
      "text/html": [
       "<div>\n",
       "<style scoped>\n",
       "    .dataframe tbody tr th:only-of-type {\n",
       "        vertical-align: middle;\n",
       "    }\n",
       "\n",
       "    .dataframe tbody tr th {\n",
       "        vertical-align: top;\n",
       "    }\n",
       "\n",
       "    .dataframe thead th {\n",
       "        text-align: right;\n",
       "    }\n",
       "</style>\n",
       "<table border=\"1\" class=\"dataframe\">\n",
       "  <thead>\n",
       "    <tr style=\"text-align: right;\">\n",
       "      <th></th>\n",
       "      <th>Filename</th>\n",
       "      <th>Altitude</th>\n",
       "      <th>Delta</th>\n",
       "      <th>North</th>\n",
       "      <th>East</th>\n",
       "      <th>kfold</th>\n",
       "    </tr>\n",
       "  </thead>\n",
       "  <tbody>\n",
       "    <tr>\n",
       "      <th>0</th>\n",
       "      <td>00003e3b9e5336685200ae85d21b4f5e.jpg</td>\n",
       "      <td>178.829834</td>\n",
       "      <td>-0.065231</td>\n",
       "      <td>-0.386045</td>\n",
       "      <td>0.929772</td>\n",
       "      <td>0</td>\n",
       "    </tr>\n",
       "    <tr>\n",
       "      <th>1</th>\n",
       "      <td>0001261e2060303a06ba6c64d676d639.jpg</td>\n",
       "      <td>207.921478</td>\n",
       "      <td>-0.080688</td>\n",
       "      <td>0.635584</td>\n",
       "      <td>0.152819</td>\n",
       "      <td>2</td>\n",
       "    </tr>\n",
       "    <tr>\n",
       "      <th>2</th>\n",
       "      <td>0002ac0d783338cfeab0b2bdbd872cda.jpg</td>\n",
       "      <td>178.048431</td>\n",
       "      <td>0.021576</td>\n",
       "      <td>-1.228229</td>\n",
       "      <td>-0.499388</td>\n",
       "      <td>3</td>\n",
       "    </tr>\n",
       "    <tr>\n",
       "      <th>3</th>\n",
       "      <td>0004289ee1c7b8b08c77e19878106ae3.jpg</td>\n",
       "      <td>201.084625</td>\n",
       "      <td>0.505981</td>\n",
       "      <td>-1.739709</td>\n",
       "      <td>-0.699928</td>\n",
       "      <td>1</td>\n",
       "    </tr>\n",
       "    <tr>\n",
       "      <th>4</th>\n",
       "      <td>0004d0b59e19461ff126e3a08a814c33.jpg</td>\n",
       "      <td>187.550201</td>\n",
       "      <td>-0.328156</td>\n",
       "      <td>-0.169798</td>\n",
       "      <td>2.828752</td>\n",
       "      <td>0</td>\n",
       "    </tr>\n",
       "  </tbody>\n",
       "</table>\n",
       "</div>"
      ],
      "text/plain": [
       "                               Filename    Altitude     Delta     North  \\\n",
       "0  00003e3b9e5336685200ae85d21b4f5e.jpg  178.829834 -0.065231 -0.386045   \n",
       "1  0001261e2060303a06ba6c64d676d639.jpg  207.921478 -0.080688  0.635584   \n",
       "2  0002ac0d783338cfeab0b2bdbd872cda.jpg  178.048431  0.021576 -1.228229   \n",
       "3  0004289ee1c7b8b08c77e19878106ae3.jpg  201.084625  0.505981 -1.739709   \n",
       "4  0004d0b59e19461ff126e3a08a814c33.jpg  187.550201 -0.328156 -0.169798   \n",
       "\n",
       "       East  kfold  \n",
       "0  0.929772      0  \n",
       "1  0.152819      2  \n",
       "2 -0.499388      3  \n",
       "3 -0.699928      1  \n",
       "4  2.828752      0  "
      ]
     },
     "execution_count": 2,
     "metadata": {},
     "output_type": "execute_result"
    }
   ],
   "source": [
    "pub = pd.read_csv('../input/kdd-team/public.csv')\n",
    "print(pub.shape)\n",
    "pub.head()"
   ]
  },
  {
   "cell_type": "code",
   "execution_count": 3,
   "id": "238353ee",
   "metadata": {
    "execution": {
     "iopub.execute_input": "2022-10-30T22:00:47.406893Z",
     "iopub.status.busy": "2022-10-30T22:00:47.405701Z",
     "iopub.status.idle": "2022-10-30T22:00:47.439491Z",
     "shell.execute_reply": "2022-10-30T22:00:47.437954Z"
    },
    "papermill": {
     "duration": 0.046034,
     "end_time": "2022-10-30T22:00:47.442473",
     "exception": false,
     "start_time": "2022-10-30T22:00:47.396439",
     "status": "completed"
    },
    "tags": []
   },
   "outputs": [
    {
     "name": "stdout",
     "output_type": "stream",
     "text": [
      "<class 'pandas.core.frame.DataFrame'>\n",
      "RangeIndex: 146262 entries, 0 to 146261\n",
      "Data columns (total 6 columns):\n",
      " #   Column    Non-Null Count   Dtype  \n",
      "---  ------    --------------   -----  \n",
      " 0   Filename  146262 non-null  object \n",
      " 1   Altitude  146262 non-null  float64\n",
      " 2   Delta     146262 non-null  float64\n",
      " 3   North     91231 non-null   float64\n",
      " 4   East      91231 non-null   float64\n",
      " 5   kfold     146262 non-null  int64  \n",
      "dtypes: float64(4), int64(1), object(1)\n",
      "memory usage: 6.7+ MB\n"
     ]
    }
   ],
   "source": [
    "pub.info()"
   ]
  },
  {
   "cell_type": "code",
   "execution_count": 4,
   "id": "bc95e0e2",
   "metadata": {
    "execution": {
     "iopub.execute_input": "2022-10-30T22:00:47.454611Z",
     "iopub.status.busy": "2022-10-30T22:00:47.454189Z",
     "iopub.status.idle": "2022-10-30T22:00:47.464592Z",
     "shell.execute_reply": "2022-10-30T22:00:47.463235Z"
    },
    "papermill": {
     "duration": 0.019472,
     "end_time": "2022-10-30T22:00:47.467128",
     "exception": false,
     "start_time": "2022-10-30T22:00:47.447656",
     "status": "completed"
    },
    "tags": []
   },
   "outputs": [],
   "source": [
    "def make_train_test(train_pixels_file, test_pixels_file=None, H2O=False):\n",
    "    train = pd.read_csv(PATH / train_pixels_file, low_memory=False)\n",
    "    print('Train Shape:', train.shape)\n",
    "    train.rename({'Images':'Filename'}, axis=1, inplace=True)\n",
    "    train = train.merge(pub, on='Filename', how='inner').reset_index(drop=True)\n",
    "    train.reset_index(inplace=True, drop=True)\n",
    "    print('Train Merged Shape:', train.shape)\n",
    "    \n",
    "    if test_pixels_file is not None:\n",
    "        test = pd.read_csv(PATH / test_pixels_file, low_memory=False)\n",
    "        print('Test Shape:', test.shape)\n",
    "        test.rename({'Images':'Filename'}, axis=1, inplace=True)\n",
    "        test = test.merge(pub, on='Filename', how='inner')\n",
    "        test.drop(['North', 'East'], axis=1, inplace=True)\n",
    "        test.reset_index(inplace=True, drop=True)\n",
    "        print('Test Merged Shape:', test.shape)\n",
    "    else:\n",
    "        X_test = None\n",
    "        \n",
    "    if H2O:\n",
    "        train = h2o.H2OFrame(train)\n",
    "        test = h2o.H2OFrame(test)\n",
    "        \n",
    "    return train, test"
   ]
  },
  {
   "cell_type": "code",
   "execution_count": 5,
   "id": "ff8ca881",
   "metadata": {
    "execution": {
     "iopub.execute_input": "2022-10-30T22:00:47.478741Z",
     "iopub.status.busy": "2022-10-30T22:00:47.478312Z",
     "iopub.status.idle": "2022-10-30T22:00:55.636630Z",
     "shell.execute_reply": "2022-10-30T22:00:55.635437Z"
    },
    "papermill": {
     "duration": 8.167145,
     "end_time": "2022-10-30T22:00:55.639290",
     "exception": false,
     "start_time": "2022-10-30T22:00:47.472145",
     "status": "completed"
    },
    "tags": []
   },
   "outputs": [
    {
     "name": "stdout",
     "output_type": "stream",
     "text": [
      "Checking whether there is an H2O instance running at http://localhost:54321 ..... not found.\n",
      "Attempting to start a local H2O server...\n",
      "  Java Version: openjdk version \"11.0.16\" 2022-07-19; OpenJDK Runtime Environment (build 11.0.16+8-post-Ubuntu-0ubuntu120.04); OpenJDK 64-Bit Server VM (build 11.0.16+8-post-Ubuntu-0ubuntu120.04, mixed mode, sharing)\n",
      "  Starting server from /opt/conda/lib/python3.7/site-packages/h2o/backend/bin/h2o.jar\n",
      "  Ice root: /tmp/tmpvfqsqbkq\n",
      "  JVM stdout: /tmp/tmpvfqsqbkq/h2o_unknownUser_started_from_python.out\n",
      "  JVM stderr: /tmp/tmpvfqsqbkq/h2o_unknownUser_started_from_python.err\n",
      "  Server is running at http://127.0.0.1:54321\n",
      "Connecting to H2O server at http://127.0.0.1:54321 ... successful.\n"
     ]
    },
    {
     "data": {
      "text/html": [
       "\n",
       "<style>\n",
       "\n",
       "#h2o-table-1.h2o-container {\n",
       "  overflow-x: auto;\n",
       "}\n",
       "#h2o-table-1 .h2o-table {\n",
       "  /* width: 100%; */\n",
       "  margin-top: 1em;\n",
       "  margin-bottom: 1em;\n",
       "}\n",
       "#h2o-table-1 .h2o-table caption {\n",
       "  white-space: nowrap;\n",
       "  caption-side: top;\n",
       "  text-align: left;\n",
       "  /* margin-left: 1em; */\n",
       "  margin: 0;\n",
       "  font-size: larger;\n",
       "}\n",
       "#h2o-table-1 .h2o-table thead {\n",
       "  white-space: nowrap; \n",
       "  position: sticky;\n",
       "  top: 0;\n",
       "  box-shadow: 0 -1px inset;\n",
       "}\n",
       "#h2o-table-1 .h2o-table tbody {\n",
       "  overflow: auto;\n",
       "}\n",
       "#h2o-table-1 .h2o-table th,\n",
       "#h2o-table-1 .h2o-table td {\n",
       "  text-align: right;\n",
       "  /* border: 1px solid; */\n",
       "}\n",
       "#h2o-table-1 .h2o-table tr:nth-child(even) {\n",
       "  /* background: #F5F5F5 */\n",
       "}\n",
       "\n",
       "</style>      \n",
       "<div id=\"h2o-table-1\" class=\"h2o-container\">\n",
       "  <table class=\"h2o-table\">\n",
       "    <caption></caption>\n",
       "    <thead></thead>\n",
       "    <tbody><tr><td>H2O_cluster_uptime:</td>\n",
       "<td>02 secs</td></tr>\n",
       "<tr><td>H2O_cluster_timezone:</td>\n",
       "<td>Etc/UTC</td></tr>\n",
       "<tr><td>H2O_data_parsing_timezone:</td>\n",
       "<td>UTC</td></tr>\n",
       "<tr><td>H2O_cluster_version:</td>\n",
       "<td>3.38.0.1</td></tr>\n",
       "<tr><td>H2O_cluster_version_age:</td>\n",
       "<td>1 month and 11 days </td></tr>\n",
       "<tr><td>H2O_cluster_name:</td>\n",
       "<td>H2O_from_python_unknownUser_m13b42</td></tr>\n",
       "<tr><td>H2O_cluster_total_nodes:</td>\n",
       "<td>1</td></tr>\n",
       "<tr><td>H2O_cluster_free_memory:</td>\n",
       "<td>7.500 Gb</td></tr>\n",
       "<tr><td>H2O_cluster_total_cores:</td>\n",
       "<td>4</td></tr>\n",
       "<tr><td>H2O_cluster_allowed_cores:</td>\n",
       "<td>4</td></tr>\n",
       "<tr><td>H2O_cluster_status:</td>\n",
       "<td>locked, healthy</td></tr>\n",
       "<tr><td>H2O_connection_url:</td>\n",
       "<td>http://127.0.0.1:54321</td></tr>\n",
       "<tr><td>H2O_connection_proxy:</td>\n",
       "<td>{\"http\": null, \"https\": null}</td></tr>\n",
       "<tr><td>H2O_internal_security:</td>\n",
       "<td>False</td></tr>\n",
       "<tr><td>Python_version:</td>\n",
       "<td>3.7.12 final</td></tr></tbody>\n",
       "  </table>\n",
       "</div>\n"
      ],
      "text/plain": [
       "--------------------------  ----------------------------------\n",
       "H2O_cluster_uptime:         02 secs\n",
       "H2O_cluster_timezone:       Etc/UTC\n",
       "H2O_data_parsing_timezone:  UTC\n",
       "H2O_cluster_version:        3.38.0.1\n",
       "H2O_cluster_version_age:    1 month and 11 days\n",
       "H2O_cluster_name:           H2O_from_python_unknownUser_m13b42\n",
       "H2O_cluster_total_nodes:    1\n",
       "H2O_cluster_free_memory:    7.500 Gb\n",
       "H2O_cluster_total_cores:    4\n",
       "H2O_cluster_allowed_cores:  4\n",
       "H2O_cluster_status:         locked, healthy\n",
       "H2O_connection_url:         http://127.0.0.1:54321\n",
       "H2O_connection_proxy:       {\"http\": null, \"https\": null}\n",
       "H2O_internal_security:      False\n",
       "Python_version:             3.7.12 final\n",
       "--------------------------  ----------------------------------"
      ]
     },
     "metadata": {},
     "output_type": "display_data"
    }
   ],
   "source": [
    "import h2o\n",
    "from h2o.automl import H2OAutoML\n",
    "\n",
    "h2o.init()"
   ]
  },
  {
   "cell_type": "code",
   "execution_count": 6,
   "id": "0b5a885f",
   "metadata": {
    "execution": {
     "iopub.execute_input": "2022-10-30T22:00:55.652932Z",
     "iopub.status.busy": "2022-10-30T22:00:55.652542Z",
     "iopub.status.idle": "2022-10-30T22:01:02.230606Z",
     "shell.execute_reply": "2022-10-30T22:01:02.229445Z"
    },
    "papermill": {
     "duration": 6.590177,
     "end_time": "2022-10-30T22:01:02.235788",
     "exception": false,
     "start_time": "2022-10-30T22:00:55.645611",
     "status": "completed"
    },
    "tags": []
   },
   "outputs": [
    {
     "name": "stdout",
     "output_type": "stream",
     "text": [
      "Train Shape: (91231, 3)\n",
      "Train Merged Shape: (91231, 8)\n",
      "Test Shape: (55031, 3)\n",
      "Test Merged Shape: (55031, 6)\n",
      "Parse progress: |████████████████████████████████████████████████████████████████| (done) 100%\n",
      "Parse progress: |████████████████████████████████████████████████████████████████| (done) 100%\n"
     ]
    }
   ],
   "source": [
    "train, test = make_train_test(PIX_FILES[0],\n",
    "                              PIX_FILES[1],\n",
    "                              H2O=True)"
   ]
  },
  {
   "cell_type": "code",
   "execution_count": 7,
   "id": "3031d047",
   "metadata": {
    "execution": {
     "iopub.execute_input": "2022-10-30T22:01:02.257960Z",
     "iopub.status.busy": "2022-10-30T22:01:02.256968Z",
     "iopub.status.idle": "2022-10-30T22:01:02.266813Z",
     "shell.execute_reply": "2022-10-30T22:01:02.265544Z"
    },
    "papermill": {
     "duration": 0.024726,
     "end_time": "2022-10-30T22:01:02.270284",
     "exception": false,
     "start_time": "2022-10-30T22:01:02.245558",
     "status": "completed"
    },
    "tags": []
   },
   "outputs": [],
   "source": [
    "features = ['North_pixel', 'East_pixel', 'Altitude', 'Delta']\n",
    "\n",
    "def train_automl(train, test, target, max_runtime_secs=3600):\n",
    "    \n",
    "    aml = H2OAutoML(seed=SEED,\n",
    "                    max_runtime_secs=max_runtime_secs,\n",
    "                    stopping_metric='RMSE',\n",
    "                    sort_metric='RMSE',\n",
    "                    exploitation_ratio=0.1,\n",
    "                    verbosity='info')\n",
    "\n",
    "    aml.train(x=features, y=target, training_frame=train)  \n",
    "    \n",
    "    train_preds = aml.leader.predict(train)\n",
    "    train_preds.rename({'predict':target+'_prediction'})\n",
    "    \n",
    "    test_preds = aml.leader.predict(test)\n",
    "    test_preds.rename({'predict':target+'_prediction'})\n",
    "    \n",
    "    return aml, train_preds, test_preds\n",
    "    "
   ]
  },
  {
   "cell_type": "code",
   "execution_count": 8,
   "id": "ed91c165",
   "metadata": {
    "execution": {
     "iopub.execute_input": "2022-10-30T22:01:02.292128Z",
     "iopub.status.busy": "2022-10-30T22:01:02.291004Z",
     "iopub.status.idle": "2022-10-30T22:07:14.385701Z",
     "shell.execute_reply": "2022-10-30T22:07:14.383387Z"
    },
    "papermill": {
     "duration": 372.108647,
     "end_time": "2022-10-30T22:07:14.388374",
     "exception": false,
     "start_time": "2022-10-30T22:01:02.279727",
     "status": "completed"
    },
    "tags": []
   },
   "outputs": [
    {
     "name": "stdout",
     "output_type": "stream",
     "text": [
      "AutoML progress: |\n",
      "22:01:02.477: Project: AutoML_1_20221030_220102\n",
      "22:01:02.480: 5-fold cross-validation will be used.\n",
      "22:01:02.481: Setting stopping tolerance adaptively based on the training frame: 0.0033107682550761745\n",
      "22:01:02.481: Build control seed: 42\n",
      "22:01:02.482: training frame: Frame key: AutoML_1_20221030_220102_training_Key_Frame__upload_84ef20f44b272348b6732da73c4d44a7.hex    cols: 8    rows: 91231  chunks: 4    size: 8212986  checksum: 6001134368830586498\n",
      "22:01:02.483: validation frame: NULL\n",
      "22:01:02.483: leaderboard frame: NULL\n",
      "22:01:02.483: blending frame: NULL\n",
      "22:01:02.483: response column: North\n",
      "22:01:02.484: fold column: null\n",
      "22:01:02.484: weights column: null\n",
      "22:01:02.511: Loading execution steps: [{XGBoost : [def_2 (1g, 10w), def_1 (2g, 10w), def_3 (3g, 10w), grid_1 (4g, 90w), lr_search (6g, 30w)]}, {GLM : [def_1 (1g, 10w)]}, {DRF : [def_1 (2g, 10w), XRT (3g, 10w)]}, {GBM : [def_5 (1g, 10w), def_2 (2g, 10w), def_3 (2g, 10w), def_4 (2g, 10w), def_1 (3g, 10w), grid_1 (4g, 60w), lr_annealing (6g, 10w)]}, {DeepLearning : [def_1 (3g, 10w), grid_1 (4g, 30w), grid_2 (5g, 30w), grid_3 (5g, 30w)]}, {completion : [resume_best_grids (10g, 60w)]}, {StackedEnsemble : [best_of_family_1 (1g, 5w), best_of_family_2 (2g, 5w), best_of_family_3 (3g, 5w), best_of_family_4 (4g, 5w), best_of_family_5 (5g, 5w), all_2 (2g, 10w), all_3 (3g, 10w), all_4 (4g, 10w), all_5 (5g, 10w), monotonic (6g, 10w), best_of_family_gbm (6g, 10w), all_gbm (7g, 10w), best_of_family_xglm (8g, 10w), all_xglm (8g, 10w), best_of_family (10g, 10w), best_N (10g, 10w)]}]\n",
      "22:01:02.554: AutoML job created: 2022.10.30 22:01:02.413\n",
      "22:01:02.555: AutoML build started: 2022.10.30 22:01:02.555\n",
      "22:01:02.574: AutoML: starting XGBoost_1_AutoML_1_20221030_220102 model training\n",
      "\n",
      "█████████\n",
      "22:01:48.150: New leader: XGBoost_1_AutoML_1_20221030_220102, rmse: 0.41898343687709294\n",
      "22:01:48.156: AutoML: starting GLM_1_AutoML_1_20221030_220102 model training\n",
      "\n",
      "\n",
      "22:01:51.955: AutoML: starting GBM_1_AutoML_1_20221030_220102 model training\n",
      "\n",
      "█████████\n",
      "22:02:39.687: New leader: GBM_1_AutoML_1_20221030_220102, rmse: 0.37894267297465745\n",
      "22:02:39.703: AutoML: starting StackedEnsemble_BestOfFamily_1_AutoML_1_20221030_220102 model training\n",
      "\n",
      "\n",
      "22:02:41.145: New leader: StackedEnsemble_BestOfFamily_1_AutoML_1_20221030_220102, rmse: 0.3726819957031716\n",
      "22:02:41.148: AutoML: starting XGBoost_2_AutoML_1_20221030_220102 model training\n",
      "\n",
      "████\n",
      "22:03:03.533: AutoML: starting DRF_1_AutoML_1_20221030_220102 model training\n",
      "\n",
      "█████\n",
      "22:03:35.904: AutoML: starting GBM_2_AutoML_1_20221030_220102 model training\n",
      "\n",
      "█████\n",
      "22:04:04.413: AutoML: starting GBM_3_AutoML_1_20221030_220102 model training\n",
      "\n",
      "█████\n",
      "22:04:34.144: AutoML: starting GBM_4_AutoML_1_20221030_220102 model training\n",
      "\n",
      "█████\n",
      "22:05:00.985: AutoML: starting StackedEnsemble_BestOfFamily_2_AutoML_1_20221030_220102 model training\n",
      "22:05:01.930: AutoML: starting StackedEnsemble_AllModels_1_AutoML_1_20221030_220102 model training\n",
      "\n",
      "\n",
      "22:05:03.154: New leader: StackedEnsemble_AllModels_1_AutoML_1_20221030_220102, rmse: 0.36869032041882077\n",
      "22:05:03.155: AutoML: starting XGBoost_3_AutoML_1_20221030_220102 model training\n",
      "\n",
      "███\n",
      "22:05:22.355: AutoML: starting XRT_1_AutoML_1_20221030_220102 model training\n",
      "\n",
      "████\n",
      "22:05:44.303: AutoML: starting GBM_5_AutoML_1_20221030_220102 model training\n",
      "\n",
      "████\n",
      "22:06:05.246: AutoML: starting DeepLearning_1_AutoML_1_20221030_220102 model training\n",
      "\n",
      "███\n",
      "22:06:26.504: AutoML: starting StackedEnsemble_BestOfFamily_3_AutoML_1_20221030_220102 model training\n",
      "\n",
      "\n",
      "22:06:27.445: AutoML: starting StackedEnsemble_AllModels_2_AutoML_1_20221030_220102 model training\n",
      "\n",
      "█\n",
      "22:06:28.610: New leader: StackedEnsemble_AllModels_2_AutoML_1_20221030_220102, rmse: 0.36659895004704357\n",
      "22:06:28.613: AutoML: starting XGBoost_grid_1_AutoML_1_20221030_220102 hyperparameter search\n",
      "\n",
      "███\n",
      "22:06:46.29: AutoML: starting GBM_grid_1_AutoML_1_20221030_220102 hyperparameter search\n",
      "\n",
      "█\n",
      "22:06:56.14: AutoML: starting DeepLearning_grid_1_AutoML_1_20221030_220102 hyperparameter search\n",
      "\n",
      "██| (done) 100%\n",
      "\n",
      "22:07:00.934: AutoML: starting StackedEnsemble_AllModels_3_AutoML_1_20221030_220102 model training\n",
      "22:07:02.380: AutoML: starting DeepLearning_grid_2_AutoML_1_20221030_220102 hyperparameter search\n",
      "22:07:03.423: Actual modeling steps: [{XGBoost : [def_2 (1g, 10w)]}, {GLM : [def_1 (1g, 10w)]}, {GBM : [def_5 (1g, 10w)]}, {StackedEnsemble : [best_of_family_1 (1g, 5w)]}, {XGBoost : [def_1 (2g, 10w)]}, {DRF : [def_1 (2g, 10w)]}, {GBM : [def_2 (2g, 10w), def_3 (2g, 10w), def_4 (2g, 10w)]}, {StackedEnsemble : [best_of_family_2 (2g, 5w), all_2 (2g, 10w)]}, {XGBoost : [def_3 (3g, 10w)]}, {DRF : [XRT (3g, 10w)]}, {GBM : [def_1 (3g, 10w)]}, {DeepLearning : [def_1 (3g, 10w)]}, {StackedEnsemble : [best_of_family_3 (3g, 5w), all_3 (3g, 10w)]}, {XGBoost : [grid_1 (4g, 90w)]}, {GBM : [grid_1 (4g, 60w)]}, {DeepLearning : [grid_1 (4g, 30w)]}, {StackedEnsemble : [all_4 (4g, 10w)]}, {DeepLearning : [grid_2 (5g, 30w)]}]\n",
      "22:07:03.423: AutoML build stopped: 2022.10.30 22:07:03.423\n",
      "22:07:03.423: AutoML build done: built 16 models\n",
      "22:07:03.424: AutoML duration:  6 min  0.868 sec\n",
      "\n",
      "stackedensemble prediction progress: |███████████████████████████████████████████| (done) 100%\n",
      "stackedensemble prediction progress: |███████████████████████████████████████████| (done) 100%\n"
     ]
    },
    {
     "data": {
      "text/html": [
       "<table class='dataframe'>\n",
       "<thead>\n",
       "<tr><th>model_id                                               </th><th style=\"text-align: right;\">    rmse</th><th style=\"text-align: right;\">     mse</th><th style=\"text-align: right;\">     mae</th><th style=\"text-align: right;\">  rmsle</th><th style=\"text-align: right;\">  mean_residual_deviance</th></tr>\n",
       "</thead>\n",
       "<tbody>\n",
       "<tr><td>StackedEnsemble_AllModels_2_AutoML_1_20221030_220102   </td><td style=\"text-align: right;\">0.366599</td><td style=\"text-align: right;\">0.134395</td><td style=\"text-align: right;\">0.168135</td><td style=\"text-align: right;\">    nan</td><td style=\"text-align: right;\">                0.134395</td></tr>\n",
       "<tr><td>StackedEnsemble_AllModels_3_AutoML_1_20221030_220102   </td><td style=\"text-align: right;\">0.367353</td><td style=\"text-align: right;\">0.134948</td><td style=\"text-align: right;\">0.169199</td><td style=\"text-align: right;\">    nan</td><td style=\"text-align: right;\">                0.134948</td></tr>\n",
       "<tr><td>StackedEnsemble_AllModels_1_AutoML_1_20221030_220102   </td><td style=\"text-align: right;\">0.36869 </td><td style=\"text-align: right;\">0.135933</td><td style=\"text-align: right;\">0.168071</td><td style=\"text-align: right;\">    nan</td><td style=\"text-align: right;\">                0.135933</td></tr>\n",
       "<tr><td>StackedEnsemble_BestOfFamily_3_AutoML_1_20221030_220102</td><td style=\"text-align: right;\">0.370709</td><td style=\"text-align: right;\">0.137425</td><td style=\"text-align: right;\">0.172997</td><td style=\"text-align: right;\">    nan</td><td style=\"text-align: right;\">                0.137425</td></tr>\n",
       "<tr><td>StackedEnsemble_BestOfFamily_1_AutoML_1_20221030_220102</td><td style=\"text-align: right;\">0.372682</td><td style=\"text-align: right;\">0.138892</td><td style=\"text-align: right;\">0.172307</td><td style=\"text-align: right;\">    nan</td><td style=\"text-align: right;\">                0.138892</td></tr>\n",
       "</tbody>\n",
       "</table><pre style='font-size: smaller; margin-bottom: 1em;'>[5 rows x 6 columns]</pre>"
      ],
      "text/plain": [
       "model_id                                                     rmse       mse       mae    rmsle    mean_residual_deviance\n",
       "-------------------------------------------------------  --------  --------  --------  -------  ------------------------\n",
       "StackedEnsemble_AllModels_2_AutoML_1_20221030_220102     0.366599  0.134395  0.168135      nan                  0.134395\n",
       "StackedEnsemble_AllModels_3_AutoML_1_20221030_220102     0.367353  0.134948  0.169199      nan                  0.134948\n",
       "StackedEnsemble_AllModels_1_AutoML_1_20221030_220102     0.36869   0.135933  0.168071      nan                  0.135933\n",
       "StackedEnsemble_BestOfFamily_3_AutoML_1_20221030_220102  0.370709  0.137425  0.172997      nan                  0.137425\n",
       "StackedEnsemble_BestOfFamily_1_AutoML_1_20221030_220102  0.372682  0.138892  0.172307      nan                  0.138892\n",
       "[5 rows x 6 columns]\n"
      ]
     },
     "execution_count": 8,
     "metadata": {},
     "output_type": "execute_result"
    }
   ],
   "source": [
    "north_aml, north_train_preds, north_test_preds = train_automl(train, test, 'North', MAX_TIME)\n",
    "north_aml.leaderboard.head(5)"
   ]
  },
  {
   "cell_type": "code",
   "execution_count": 9,
   "id": "f81eb0f8",
   "metadata": {
    "execution": {
     "iopub.execute_input": "2022-10-30T22:07:14.413403Z",
     "iopub.status.busy": "2022-10-30T22:07:14.412290Z",
     "iopub.status.idle": "2022-10-30T22:13:24.384401Z",
     "shell.execute_reply": "2022-10-30T22:13:24.383174Z"
    },
    "papermill": {
     "duration": 369.987425,
     "end_time": "2022-10-30T22:13:24.387194",
     "exception": false,
     "start_time": "2022-10-30T22:07:14.399769",
     "status": "completed"
    },
    "tags": []
   },
   "outputs": [
    {
     "name": "stdout",
     "output_type": "stream",
     "text": [
      "AutoML progress: |\n",
      "22:07:14.425: Project: AutoML_2_20221030_220714\n",
      "22:07:14.426: 5-fold cross-validation will be used.\n",
      "22:07:14.426: Setting stopping tolerance adaptively based on the training frame: 0.0033107682550761745\n",
      "22:07:14.426: Build control seed: 42\n",
      "22:07:14.426: training frame: Frame key: AutoML_2_20221030_220714_training_Key_Frame__upload_84ef20f44b272348b6732da73c4d44a7.hex    cols: 8    rows: 91231  chunks: 4    size: 8212986  checksum: 6001134368830586498\n",
      "22:07:14.426: validation frame: NULL\n",
      "22:07:14.426: leaderboard frame: NULL\n",
      "22:07:14.426: blending frame: NULL\n",
      "22:07:14.426: response column: East\n",
      "22:07:14.426: fold column: null\n",
      "22:07:14.426: weights column: null\n",
      "22:07:14.427: Loading execution steps: [{XGBoost : [def_2 (1g, 10w), def_1 (2g, 10w), def_3 (3g, 10w), grid_1 (4g, 90w), lr_search (6g, 30w)]}, {GLM : [def_1 (1g, 10w)]}, {DRF : [def_1 (2g, 10w), XRT (3g, 10w)]}, {GBM : [def_5 (1g, 10w), def_2 (2g, 10w), def_3 (2g, 10w), def_4 (2g, 10w), def_1 (3g, 10w), grid_1 (4g, 60w), lr_annealing (6g, 10w)]}, {DeepLearning : [def_1 (3g, 10w), grid_1 (4g, 30w), grid_2 (5g, 30w), grid_3 (5g, 30w)]}, {completion : [resume_best_grids (10g, 60w)]}, {StackedEnsemble : [best_of_family_1 (1g, 5w), best_of_family_2 (2g, 5w), best_of_family_3 (3g, 5w), best_of_family_4 (4g, 5w), best_of_family_5 (5g, 5w), all_2 (2g, 10w), all_3 (3g, 10w), all_4 (4g, 10w), all_5 (5g, 10w), monotonic (6g, 10w), best_of_family_gbm (6g, 10w), all_gbm (7g, 10w), best_of_family_xglm (8g, 10w), all_xglm (8g, 10w), best_of_family (10g, 10w), best_N (10g, 10w)]}]\n",
      "22:07:14.428: AutoML job created: 2022.10.30 22:07:14.425\n",
      "22:07:14.429: AutoML build started: 2022.10.30 22:07:14.429\n",
      "22:07:14.429: AutoML: starting XGBoost_1_AutoML_2_20221030_220714 model training\n",
      "\n",
      "██████\n",
      "22:07:43.172: New leader: XGBoost_1_AutoML_2_20221030_220714, rmse: 0.3455404511068007\n",
      "22:07:43.173: AutoML: starting GLM_1_AutoML_2_20221030_220714 model training\n",
      "\n",
      "\n",
      "22:07:44.815: AutoML: starting GBM_1_AutoML_2_20221030_220714 model training\n",
      "\n",
      "███████\n",
      "22:08:26.312: AutoML: starting StackedEnsemble_BestOfFamily_1_AutoML_2_20221030_220714 model training\n",
      "\n",
      "\n",
      "22:08:27.145: New leader: StackedEnsemble_BestOfFamily_1_AutoML_2_20221030_220714, rmse: 0.33412294471977894\n",
      "22:08:27.146: AutoML: starting XGBoost_2_AutoML_2_20221030_220714 model training\n",
      "\n",
      "█████\n",
      "22:08:53.157: AutoML: starting DRF_1_AutoML_2_20221030_220714 model training\n",
      "\n",
      "██████\n",
      "22:09:27.710: AutoML: starting GBM_2_AutoML_2_20221030_220714 model training\n",
      "\n",
      "█████\n",
      "22:09:57.309: AutoML: starting GBM_3_AutoML_2_20221030_220714 model training\n",
      "\n",
      "█████\n",
      "22:10:26.612: AutoML: starting GBM_4_AutoML_2_20221030_220714 model training\n",
      "\n",
      "█████\n",
      "22:10:58.225: AutoML: starting StackedEnsemble_BestOfFamily_2_AutoML_2_20221030_220714 model training\n",
      "\n",
      "\n",
      "22:10:58.949: New leader: StackedEnsemble_BestOfFamily_2_AutoML_2_20221030_220714, rmse: 0.3322925160064617\n",
      "22:10:58.952: AutoML: starting StackedEnsemble_AllModels_1_AutoML_2_20221030_220714 model training\n",
      "\n",
      "█\n",
      "22:11:00.16: New leader: StackedEnsemble_AllModels_1_AutoML_2_20221030_220714, rmse: 0.3310890487050809\n",
      "22:11:00.17: AutoML: starting XGBoost_3_AutoML_2_20221030_220714 model training\n",
      "\n",
      "████\n",
      "22:11:24.311: AutoML: starting XRT_1_AutoML_2_20221030_220714 model training\n",
      "\n",
      "████\n",
      "22:11:48.392: AutoML: starting GBM_5_AutoML_2_20221030_220714 model training\n",
      "\n",
      "████\n",
      "22:12:12.439: AutoML: starting DeepLearning_1_AutoML_2_20221030_220714 model training\n",
      "\n",
      "███\n",
      "22:12:32.460: AutoML: starting StackedEnsemble_BestOfFamily_3_AutoML_2_20221030_220714 model training\n",
      "\n",
      "\n",
      "22:12:33.206: AutoML: starting StackedEnsemble_AllModels_2_AutoML_2_20221030_220714 model training\n",
      "\n",
      "█\n",
      "22:12:34.387: New leader: StackedEnsemble_AllModels_2_AutoML_2_20221030_220714, rmse: 0.3308270925554965\n",
      "22:12:34.389: AutoML: starting XGBoost_grid_1_AutoML_2_20221030_220714 hyperparameter search\n",
      "\n",
      "███\n",
      "22:12:54.225: AutoML: starting GBM_grid_1_AutoML_2_20221030_220714 hyperparameter search\n",
      "\n",
      "██\n",
      "22:13:06.426: AutoML: starting DeepLearning_grid_1_AutoML_2_20221030_220714 hyperparameter search\n",
      "\n",
      "██| (done) 100%\n",
      "\n",
      "22:13:11.954: AutoML: starting StackedEnsemble_AllModels_3_AutoML_2_20221030_220714 model training\n",
      "22:13:13.553: AutoML: starting DeepLearning_grid_2_AutoML_2_20221030_220714 hyperparameter search\n",
      "22:13:14.723: Actual modeling steps: [{XGBoost : [def_2 (1g, 10w)]}, {GLM : [def_1 (1g, 10w)]}, {GBM : [def_5 (1g, 10w)]}, {StackedEnsemble : [best_of_family_1 (1g, 5w)]}, {XGBoost : [def_1 (2g, 10w)]}, {DRF : [def_1 (2g, 10w)]}, {GBM : [def_2 (2g, 10w), def_3 (2g, 10w), def_4 (2g, 10w)]}, {StackedEnsemble : [best_of_family_2 (2g, 5w), all_2 (2g, 10w)]}, {XGBoost : [def_3 (3g, 10w)]}, {DRF : [XRT (3g, 10w)]}, {GBM : [def_1 (3g, 10w)]}, {DeepLearning : [def_1 (3g, 10w)]}, {StackedEnsemble : [best_of_family_3 (3g, 5w), all_3 (3g, 10w)]}, {XGBoost : [grid_1 (4g, 90w)]}, {GBM : [grid_1 (4g, 60w)]}, {DeepLearning : [grid_1 (4g, 30w)]}, {StackedEnsemble : [all_4 (4g, 10w)]}, {DeepLearning : [grid_2 (5g, 30w)]}]\n",
      "22:13:14.723: AutoML build stopped: 2022.10.30 22:13:14.723\n",
      "22:13:14.723: AutoML build done: built 16 models\n",
      "22:13:14.723: AutoML duration:  6 min  0.294 sec\n",
      "\n",
      "stackedensemble prediction progress: |███████████████████████████████████████████| (done) 100%\n",
      "stackedensemble prediction progress: |███████████████████████████████████████████| (done) 100%\n"
     ]
    },
    {
     "data": {
      "text/html": [
       "<table class='dataframe'>\n",
       "<thead>\n",
       "<tr><th>model_id                                               </th><th style=\"text-align: right;\">    rmse</th><th style=\"text-align: right;\">     mse</th><th style=\"text-align: right;\">     mae</th><th style=\"text-align: right;\">  rmsle</th><th style=\"text-align: right;\">  mean_residual_deviance</th></tr>\n",
       "</thead>\n",
       "<tbody>\n",
       "<tr><td>StackedEnsemble_AllModels_2_AutoML_2_20221030_220714   </td><td style=\"text-align: right;\">0.330827</td><td style=\"text-align: right;\">0.109447</td><td style=\"text-align: right;\">0.153354</td><td style=\"text-align: right;\">    nan</td><td style=\"text-align: right;\">                0.109447</td></tr>\n",
       "<tr><td>StackedEnsemble_AllModels_3_AutoML_2_20221030_220714   </td><td style=\"text-align: right;\">0.330918</td><td style=\"text-align: right;\">0.109507</td><td style=\"text-align: right;\">0.153405</td><td style=\"text-align: right;\">    nan</td><td style=\"text-align: right;\">                0.109507</td></tr>\n",
       "<tr><td>StackedEnsemble_AllModels_1_AutoML_2_20221030_220714   </td><td style=\"text-align: right;\">0.331089</td><td style=\"text-align: right;\">0.10962 </td><td style=\"text-align: right;\">0.153673</td><td style=\"text-align: right;\">    nan</td><td style=\"text-align: right;\">                0.10962 </td></tr>\n",
       "<tr><td>StackedEnsemble_BestOfFamily_3_AutoML_2_20221030_220714</td><td style=\"text-align: right;\">0.331862</td><td style=\"text-align: right;\">0.110132</td><td style=\"text-align: right;\">0.155809</td><td style=\"text-align: right;\">    nan</td><td style=\"text-align: right;\">                0.110132</td></tr>\n",
       "<tr><td>StackedEnsemble_BestOfFamily_2_AutoML_2_20221030_220714</td><td style=\"text-align: right;\">0.332293</td><td style=\"text-align: right;\">0.110418</td><td style=\"text-align: right;\">0.156263</td><td style=\"text-align: right;\">    nan</td><td style=\"text-align: right;\">                0.110418</td></tr>\n",
       "</tbody>\n",
       "</table><pre style='font-size: smaller; margin-bottom: 1em;'>[5 rows x 6 columns]</pre>"
      ],
      "text/plain": [
       "model_id                                                     rmse       mse       mae    rmsle    mean_residual_deviance\n",
       "-------------------------------------------------------  --------  --------  --------  -------  ------------------------\n",
       "StackedEnsemble_AllModels_2_AutoML_2_20221030_220714     0.330827  0.109447  0.153354      nan                  0.109447\n",
       "StackedEnsemble_AllModels_3_AutoML_2_20221030_220714     0.330918  0.109507  0.153405      nan                  0.109507\n",
       "StackedEnsemble_AllModels_1_AutoML_2_20221030_220714     0.331089  0.10962   0.153673      nan                  0.10962\n",
       "StackedEnsemble_BestOfFamily_3_AutoML_2_20221030_220714  0.331862  0.110132  0.155809      nan                  0.110132\n",
       "StackedEnsemble_BestOfFamily_2_AutoML_2_20221030_220714  0.332293  0.110418  0.156263      nan                  0.110418\n",
       "[5 rows x 6 columns]\n"
      ]
     },
     "execution_count": 9,
     "metadata": {},
     "output_type": "execute_result"
    }
   ],
   "source": [
    "east_aml, east_train_preds, east_test_preds = train_automl(train, test, 'East', MAX_TIME)\n",
    "east_aml.leaderboard.head(5)"
   ]
  },
  {
   "cell_type": "code",
   "execution_count": 10,
   "id": "8cb86a7b",
   "metadata": {
    "execution": {
     "iopub.execute_input": "2022-10-30T22:13:24.423408Z",
     "iopub.status.busy": "2022-10-30T22:13:24.422300Z",
     "iopub.status.idle": "2022-10-30T22:13:24.434309Z",
     "shell.execute_reply": "2022-10-30T22:13:24.433062Z"
    },
    "papermill": {
     "duration": 0.032819,
     "end_time": "2022-10-30T22:13:24.436818",
     "exception": false,
     "start_time": "2022-10-30T22:13:24.403999",
     "status": "completed"
    },
    "tags": []
   },
   "outputs": [
    {
     "data": {
      "text/html": [
       "<table class='dataframe'>\n",
       "<thead>\n",
       "<tr><th>Filename                            </th><th style=\"text-align: right;\">  North_pixel</th><th style=\"text-align: right;\">  East_pixel</th><th style=\"text-align: right;\">  Altitude</th><th style=\"text-align: right;\">     Delta</th><th style=\"text-align: right;\">    North</th><th style=\"text-align: right;\">      East</th><th style=\"text-align: right;\">  kfold</th></tr>\n",
       "</thead>\n",
       "<tbody>\n",
       "<tr><td>00003e3b9e5336685200ae85d21b4f5e.jpg</td><td style=\"text-align: right;\">    -1.23032 </td><td style=\"text-align: right;\">    2.83861 </td><td style=\"text-align: right;\">   178.83 </td><td style=\"text-align: right;\">-0.0652313</td><td style=\"text-align: right;\">-0.386045</td><td style=\"text-align: right;\"> 0.929772 </td><td style=\"text-align: right;\">      0</td></tr>\n",
       "<tr><td>0001261e2060303a06ba6c64d676d639.jpg</td><td style=\"text-align: right;\">     0.753004</td><td style=\"text-align: right;\">    0.217258</td><td style=\"text-align: right;\">   207.921</td><td style=\"text-align: right;\">-0.0806885</td><td style=\"text-align: right;\"> 0.635584</td><td style=\"text-align: right;\"> 0.152819 </td><td style=\"text-align: right;\">      2</td></tr>\n",
       "<tr><td>0002ac0d783338cfeab0b2bdbd872cda.jpg</td><td style=\"text-align: right;\">    -3.81837 </td><td style=\"text-align: right;\">   -1.66816 </td><td style=\"text-align: right;\">   178.048</td><td style=\"text-align: right;\"> 0.0215759</td><td style=\"text-align: right;\">-1.22823 </td><td style=\"text-align: right;\">-0.499388 </td><td style=\"text-align: right;\">      3</td></tr>\n",
       "<tr><td>0004289ee1c7b8b08c77e19878106ae3.jpg</td><td style=\"text-align: right;\">    -6.14532 </td><td style=\"text-align: right;\">   -2.30319 </td><td style=\"text-align: right;\">   201.085</td><td style=\"text-align: right;\"> 0.505981 </td><td style=\"text-align: right;\">-1.73971 </td><td style=\"text-align: right;\">-0.699928 </td><td style=\"text-align: right;\">      1</td></tr>\n",
       "<tr><td>0004d0b59e19461ff126e3a08a814c33.jpg</td><td style=\"text-align: right;\">    -0.555564</td><td style=\"text-align: right;\">    7.99966 </td><td style=\"text-align: right;\">   187.55 </td><td style=\"text-align: right;\">-0.328156 </td><td style=\"text-align: right;\">-0.169798</td><td style=\"text-align: right;\"> 2.82875  </td><td style=\"text-align: right;\">      0</td></tr>\n",
       "<tr><td>00053f5e11d1fe4e49a221165b39abc9.jpg</td><td style=\"text-align: right;\">    -1.21642 </td><td style=\"text-align: right;\">   -0.255502</td><td style=\"text-align: right;\">   168.996</td><td style=\"text-align: right;\">-0.0148621</td><td style=\"text-align: right;\">-0.321776</td><td style=\"text-align: right;\">-0.0755221</td><td style=\"text-align: right;\">      4</td></tr>\n",
       "<tr><td>00056c20eb5a029583db75506953f1d9.jpg</td><td style=\"text-align: right;\">     1.71434 </td><td style=\"text-align: right;\">   -4.79387 </td><td style=\"text-align: right;\">   179.963</td><td style=\"text-align: right;\"> 0.109741 </td><td style=\"text-align: right;\"> 0.646206</td><td style=\"text-align: right;\">-1.68678  </td><td style=\"text-align: right;\">      2</td></tr>\n",
       "<tr><td>0006aabe0ba47a35c0b0bf6596f85159.jpg</td><td style=\"text-align: right;\">    -6.26939 </td><td style=\"text-align: right;\">    0.237021</td><td style=\"text-align: right;\">   180.632</td><td style=\"text-align: right;\"> 0.212234 </td><td style=\"text-align: right;\">-0.178107</td><td style=\"text-align: right;\"> 0.132653 </td><td style=\"text-align: right;\">      2</td></tr>\n",
       "<tr><td>0006dd05ea1e999ddaa041a7091b7b36.jpg</td><td style=\"text-align: right;\">    -7.87782 </td><td style=\"text-align: right;\">    8.13182 </td><td style=\"text-align: right;\">   168.886</td><td style=\"text-align: right;\"> 0.0512695</td><td style=\"text-align: right;\">-1.82588 </td><td style=\"text-align: right;\"> 1.95608  </td><td style=\"text-align: right;\">      2</td></tr>\n",
       "<tr><td>0007789b118e4710fc0e7c8758a6532a.jpg</td><td style=\"text-align: right;\">     6.47585 </td><td style=\"text-align: right;\">   -2.12015 </td><td style=\"text-align: right;\">   194.349</td><td style=\"text-align: right;\"> 0.387817 </td><td style=\"text-align: right;\"> 2.46552 </td><td style=\"text-align: right;\">-0.88375  </td><td style=\"text-align: right;\">      3</td></tr>\n",
       "</tbody>\n",
       "</table><pre style='font-size: smaller; margin-bottom: 1em;'>[91231 rows x 8 columns]</pre>"
      ],
      "text/plain": [
       "Filename                                North_pixel    East_pixel    Altitude       Delta      North        East    kfold\n",
       "------------------------------------  -------------  ------------  ----------  ----------  ---------  ----------  -------\n",
       "00003e3b9e5336685200ae85d21b4f5e.jpg      -1.23032       2.83861      178.83   -0.0652313  -0.386045   0.929772         0\n",
       "0001261e2060303a06ba6c64d676d639.jpg       0.753004      0.217258     207.921  -0.0806885   0.635584   0.152819         2\n",
       "0002ac0d783338cfeab0b2bdbd872cda.jpg      -3.81837      -1.66816      178.048   0.0215759  -1.22823   -0.499388         3\n",
       "0004289ee1c7b8b08c77e19878106ae3.jpg      -6.14532      -2.30319      201.085   0.505981   -1.73971   -0.699928         1\n",
       "0004d0b59e19461ff126e3a08a814c33.jpg      -0.555564      7.99966      187.55   -0.328156   -0.169798   2.82875          0\n",
       "00053f5e11d1fe4e49a221165b39abc9.jpg      -1.21642      -0.255502     168.996  -0.0148621  -0.321776  -0.0755221        4\n",
       "00056c20eb5a029583db75506953f1d9.jpg       1.71434      -4.79387      179.963   0.109741    0.646206  -1.68678          2\n",
       "0006aabe0ba47a35c0b0bf6596f85159.jpg      -6.26939       0.237021     180.632   0.212234   -0.178107   0.132653         2\n",
       "0006dd05ea1e999ddaa041a7091b7b36.jpg      -7.87782       8.13182      168.886   0.0512695  -1.82588    1.95608          2\n",
       "0007789b118e4710fc0e7c8758a6532a.jpg       6.47585      -2.12015      194.349   0.387817    2.46552   -0.88375          3\n",
       "[91231 rows x 8 columns]\n"
      ]
     },
     "execution_count": 10,
     "metadata": {},
     "output_type": "execute_result"
    }
   ],
   "source": [
    "train"
   ]
  },
  {
   "cell_type": "code",
   "execution_count": 11,
   "id": "ec283706",
   "metadata": {
    "execution": {
     "iopub.execute_input": "2022-10-30T22:13:24.472870Z",
     "iopub.status.busy": "2022-10-30T22:13:24.472137Z",
     "iopub.status.idle": "2022-10-30T22:13:27.032676Z",
     "shell.execute_reply": "2022-10-30T22:13:27.031507Z"
    },
    "papermill": {
     "duration": 2.581306,
     "end_time": "2022-10-30T22:13:27.035084",
     "exception": false,
     "start_time": "2022-10-30T22:13:24.453778",
     "status": "completed"
    },
    "tags": []
   },
   "outputs": [
    {
     "data": {
      "text/html": [
       "<table class='dataframe'>\n",
       "<thead>\n",
       "<tr><th>Filename                            </th><th style=\"text-align: right;\">  North_pixel</th><th style=\"text-align: right;\">  East_pixel</th><th style=\"text-align: right;\">  Altitude</th><th style=\"text-align: right;\">     Delta</th><th style=\"text-align: right;\">    North</th><th style=\"text-align: right;\">     East</th><th style=\"text-align: right;\">  kfold</th><th style=\"text-align: right;\">  North_prediction</th><th style=\"text-align: right;\">  East_prediction</th></tr>\n",
       "</thead>\n",
       "<tbody>\n",
       "<tr><td>00003e3b9e5336685200ae85d21b4f5e.jpg</td><td style=\"text-align: right;\">    -1.23032 </td><td style=\"text-align: right;\">    2.83861 </td><td style=\"text-align: right;\">   178.83 </td><td style=\"text-align: right;\">-0.0652313</td><td style=\"text-align: right;\">-0.386045</td><td style=\"text-align: right;\"> 0.929772</td><td style=\"text-align: right;\">      0</td><td style=\"text-align: right;\">         -0.392192</td><td style=\"text-align: right;\">         0.879779</td></tr>\n",
       "<tr><td>0001261e2060303a06ba6c64d676d639.jpg</td><td style=\"text-align: right;\">     0.753004</td><td style=\"text-align: right;\">    0.217258</td><td style=\"text-align: right;\">   207.921</td><td style=\"text-align: right;\">-0.0806885</td><td style=\"text-align: right;\"> 0.635584</td><td style=\"text-align: right;\"> 0.152819</td><td style=\"text-align: right;\">      2</td><td style=\"text-align: right;\">          0.520628</td><td style=\"text-align: right;\">         0.210096</td></tr>\n",
       "<tr><td>0002ac0d783338cfeab0b2bdbd872cda.jpg</td><td style=\"text-align: right;\">    -3.81837 </td><td style=\"text-align: right;\">   -1.66816 </td><td style=\"text-align: right;\">   178.048</td><td style=\"text-align: right;\"> 0.0215759</td><td style=\"text-align: right;\">-1.22823 </td><td style=\"text-align: right;\">-0.499388</td><td style=\"text-align: right;\">      3</td><td style=\"text-align: right;\">         -1.0666  </td><td style=\"text-align: right;\">        -0.468994</td></tr>\n",
       "<tr><td>0004289ee1c7b8b08c77e19878106ae3.jpg</td><td style=\"text-align: right;\">    -6.14532 </td><td style=\"text-align: right;\">   -2.30319 </td><td style=\"text-align: right;\">   201.085</td><td style=\"text-align: right;\"> 0.505981 </td><td style=\"text-align: right;\">-1.73971 </td><td style=\"text-align: right;\">-0.699928</td><td style=\"text-align: right;\">      1</td><td style=\"text-align: right;\">         -1.72269 </td><td style=\"text-align: right;\">        -0.924216</td></tr>\n",
       "<tr><td>0004d0b59e19461ff126e3a08a814c33.jpg</td><td style=\"text-align: right;\">    -0.555564</td><td style=\"text-align: right;\">    7.99966 </td><td style=\"text-align: right;\">   187.55 </td><td style=\"text-align: right;\">-0.328156 </td><td style=\"text-align: right;\">-0.169798</td><td style=\"text-align: right;\"> 2.82875 </td><td style=\"text-align: right;\">      0</td><td style=\"text-align: right;\">         -0.27266 </td><td style=\"text-align: right;\">         2.56613 </td></tr>\n",
       "</tbody>\n",
       "</table><pre style='font-size: smaller; margin-bottom: 1em;'>[5 rows x 10 columns]</pre>"
      ],
      "text/plain": [
       "Filename                                North_pixel    East_pixel    Altitude       Delta      North       East    kfold    North_prediction    East_prediction\n",
       "------------------------------------  -------------  ------------  ----------  ----------  ---------  ---------  -------  ------------------  -----------------\n",
       "00003e3b9e5336685200ae85d21b4f5e.jpg      -1.23032       2.83861      178.83   -0.0652313  -0.386045   0.929772        0           -0.392192           0.879779\n",
       "0001261e2060303a06ba6c64d676d639.jpg       0.753004      0.217258     207.921  -0.0806885   0.635584   0.152819        2            0.520628           0.210096\n",
       "0002ac0d783338cfeab0b2bdbd872cda.jpg      -3.81837      -1.66816      178.048   0.0215759  -1.22823   -0.499388        3           -1.0666            -0.468994\n",
       "0004289ee1c7b8b08c77e19878106ae3.jpg      -6.14532      -2.30319      201.085   0.505981   -1.73971   -0.699928        1           -1.72269           -0.924216\n",
       "0004d0b59e19461ff126e3a08a814c33.jpg      -0.555564      7.99966      187.55   -0.328156   -0.169798   2.82875         0           -0.27266            2.56613\n",
       "[5 rows x 10 columns]\n"
      ]
     },
     "execution_count": 11,
     "metadata": {},
     "output_type": "execute_result"
    }
   ],
   "source": [
    "train_final = train.cbind(north_train_preds)\n",
    "train_final = train_final.cbind(east_train_preds)\n",
    "train_final.as_data_frame().to_csv('train_final.csv')\n",
    "\n",
    "train_final.head(5)"
   ]
  },
  {
   "cell_type": "code",
   "execution_count": 12,
   "id": "ac76d315",
   "metadata": {
    "execution": {
     "iopub.execute_input": "2022-10-30T22:13:27.071299Z",
     "iopub.status.busy": "2022-10-30T22:13:27.070682Z",
     "iopub.status.idle": "2022-10-30T22:13:28.110807Z",
     "shell.execute_reply": "2022-10-30T22:13:28.109564Z"
    },
    "papermill": {
     "duration": 1.061339,
     "end_time": "2022-10-30T22:13:28.113615",
     "exception": false,
     "start_time": "2022-10-30T22:13:27.052276",
     "status": "completed"
    },
    "tags": []
   },
   "outputs": [
    {
     "data": {
      "text/html": [
       "<table class='dataframe'>\n",
       "<thead>\n",
       "<tr><th>Filename                            </th><th style=\"text-align: right;\">  North_pixel</th><th style=\"text-align: right;\">  East_pixel</th><th style=\"text-align: right;\">  Altitude</th><th style=\"text-align: right;\">     Delta</th><th style=\"text-align: right;\">  kfold</th><th style=\"text-align: right;\">  North_prediction</th><th style=\"text-align: right;\">  East_prediction</th></tr>\n",
       "</thead>\n",
       "<tbody>\n",
       "<tr><td>000053b1e684c9e7ea73727b2238ce18.jpg</td><td style=\"text-align: right;\">   5.85679   </td><td style=\"text-align: right;\">   -8.51255 </td><td style=\"text-align: right;\">   167.943</td><td style=\"text-align: right;\"> 0.0102692</td><td style=\"text-align: right;\">      0</td><td style=\"text-align: right;\">          1.12014 </td><td style=\"text-align: right;\">        -1.77211 </td></tr>\n",
       "<tr><td>00029153d12ae1c9abe59c17ff2e0895.jpg</td><td style=\"text-align: right;\">   4.9369    </td><td style=\"text-align: right;\">   -4.14951 </td><td style=\"text-align: right;\">   195.853</td><td style=\"text-align: right;\"> 0.0892181</td><td style=\"text-align: right;\">      2</td><td style=\"text-align: right;\">          1.47687 </td><td style=\"text-align: right;\">        -1.30624 </td></tr>\n",
       "<tr><td>0006246bee639c7a7b11a08e34dd3cc6.jpg</td><td style=\"text-align: right;\"> -12.1883    </td><td style=\"text-align: right;\">    0.273252</td><td style=\"text-align: right;\">   146.943</td><td style=\"text-align: right;\">-0.0183258</td><td style=\"text-align: right;\">      1</td><td style=\"text-align: right;\">         -1.33686 </td><td style=\"text-align: right;\">         0.25332 </td></tr>\n",
       "<tr><td>00063cb5da1826febf178b669eea3250.jpg</td><td style=\"text-align: right;\"> -21.2372    </td><td style=\"text-align: right;\">    4.1683  </td><td style=\"text-align: right;\">   213.184</td><td style=\"text-align: right;\">-0.108704 </td><td style=\"text-align: right;\">      1</td><td style=\"text-align: right;\">         -1.1704  </td><td style=\"text-align: right;\">         0.728843</td></tr>\n",
       "<tr><td>00063ece2e68a8847f228e8fd922f851.jpg</td><td style=\"text-align: right;\">   0.00381415</td><td style=\"text-align: right;\">   -6.17922 </td><td style=\"text-align: right;\">   184.758</td><td style=\"text-align: right;\"> 0.0177002</td><td style=\"text-align: right;\">      0</td><td style=\"text-align: right;\">          0.080308</td><td style=\"text-align: right;\">        -1.15443 </td></tr>\n",
       "<tr><td>000838c1249fec206b77360ff0adc110.jpg</td><td style=\"text-align: right;\">   3.48015   </td><td style=\"text-align: right;\">   -2.62869 </td><td style=\"text-align: right;\">   209.136</td><td style=\"text-align: right;\">-0.544525 </td><td style=\"text-align: right;\">      1</td><td style=\"text-align: right;\">          1.20732 </td><td style=\"text-align: right;\">        -1.38383 </td></tr>\n",
       "<tr><td>000a8e84b013655b832041a6f362e5c9.jpg</td><td style=\"text-align: right;\">  -0.280671  </td><td style=\"text-align: right;\">   -4.39763 </td><td style=\"text-align: right;\">   177.72 </td><td style=\"text-align: right;\">-0.23024  </td><td style=\"text-align: right;\">      4</td><td style=\"text-align: right;\">         -0.108441</td><td style=\"text-align: right;\">        -1.10334 </td></tr>\n",
       "<tr><td>000d0c74074191add6f22e0004db8f76.jpg</td><td style=\"text-align: right;\">   2.19983   </td><td style=\"text-align: right;\">   -5.08691 </td><td style=\"text-align: right;\">   200.488</td><td style=\"text-align: right;\"> 0.0812378</td><td style=\"text-align: right;\">      3</td><td style=\"text-align: right;\">          0.705827</td><td style=\"text-align: right;\">        -1.63467 </td></tr>\n",
       "<tr><td>000dd3543ac84d906eae52e7c779bb2a.jpg</td><td style=\"text-align: right;\">  -4.38984   </td><td style=\"text-align: right;\">   -8.47304 </td><td style=\"text-align: right;\">   155.313</td><td style=\"text-align: right;\"> 0.062027 </td><td style=\"text-align: right;\">      4</td><td style=\"text-align: right;\">         -0.695656</td><td style=\"text-align: right;\">        -1.51538 </td></tr>\n",
       "<tr><td>00129b07887a18a7331909231c28816e.jpg</td><td style=\"text-align: right;\">   0.446538  </td><td style=\"text-align: right;\">    4.31604 </td><td style=\"text-align: right;\">   187.643</td><td style=\"text-align: right;\">-0.133362 </td><td style=\"text-align: right;\">      4</td><td style=\"text-align: right;\">          0.302382</td><td style=\"text-align: right;\">         1.40367 </td></tr>\n",
       "</tbody>\n",
       "</table><pre style='font-size: smaller; margin-bottom: 1em;'>[55031 rows x 8 columns]</pre>"
      ],
      "text/plain": [
       "Filename                                North_pixel    East_pixel    Altitude       Delta    kfold    North_prediction    East_prediction\n",
       "------------------------------------  -------------  ------------  ----------  ----------  -------  ------------------  -----------------\n",
       "000053b1e684c9e7ea73727b2238ce18.jpg     5.85679        -8.51255      167.943   0.0102692        0            1.12014           -1.77211\n",
       "00029153d12ae1c9abe59c17ff2e0895.jpg     4.9369         -4.14951      195.853   0.0892181        2            1.47687           -1.30624\n",
       "0006246bee639c7a7b11a08e34dd3cc6.jpg   -12.1883          0.273252     146.943  -0.0183258        1           -1.33686            0.25332\n",
       "00063cb5da1826febf178b669eea3250.jpg   -21.2372          4.1683       213.184  -0.108704         1           -1.1704             0.728843\n",
       "00063ece2e68a8847f228e8fd922f851.jpg     0.00381415     -6.17922      184.758   0.0177002        0            0.080308          -1.15443\n",
       "000838c1249fec206b77360ff0adc110.jpg     3.48015        -2.62869      209.136  -0.544525         1            1.20732           -1.38383\n",
       "000a8e84b013655b832041a6f362e5c9.jpg    -0.280671       -4.39763      177.72   -0.23024          4           -0.108441          -1.10334\n",
       "000d0c74074191add6f22e0004db8f76.jpg     2.19983        -5.08691      200.488   0.0812378        3            0.705827          -1.63467\n",
       "000dd3543ac84d906eae52e7c779bb2a.jpg    -4.38984        -8.47304      155.313   0.062027         4           -0.695656          -1.51538\n",
       "00129b07887a18a7331909231c28816e.jpg     0.446538        4.31604      187.643  -0.133362         4            0.302382           1.40367\n",
       "[55031 rows x 8 columns]\n"
      ]
     },
     "execution_count": 12,
     "metadata": {},
     "output_type": "execute_result"
    }
   ],
   "source": [
    "test_final = test.cbind(north_test_preds)\n",
    "test_final = test_final.cbind(east_test_preds)\n",
    "test_final.as_data_frame().to_csv('test_final.csv')\n",
    "\n",
    "test_final"
   ]
  },
  {
   "cell_type": "code",
   "execution_count": 13,
   "id": "a76179c8",
   "metadata": {
    "execution": {
     "iopub.execute_input": "2022-10-30T22:13:28.157934Z",
     "iopub.status.busy": "2022-10-30T22:13:28.156962Z",
     "iopub.status.idle": "2022-10-30T22:13:28.578870Z",
     "shell.execute_reply": "2022-10-30T22:13:28.577528Z"
    },
    "papermill": {
     "duration": 0.444607,
     "end_time": "2022-10-30T22:13:28.581471",
     "exception": false,
     "start_time": "2022-10-30T22:13:28.136864",
     "status": "completed"
    },
    "tags": []
   },
   "outputs": [
    {
     "data": {
      "text/html": [
       "<div>\n",
       "<style scoped>\n",
       "    .dataframe tbody tr th:only-of-type {\n",
       "        vertical-align: middle;\n",
       "    }\n",
       "\n",
       "    .dataframe tbody tr th {\n",
       "        vertical-align: top;\n",
       "    }\n",
       "\n",
       "    .dataframe thead th {\n",
       "        text-align: right;\n",
       "    }\n",
       "</style>\n",
       "<table border=\"1\" class=\"dataframe\">\n",
       "  <thead>\n",
       "    <tr style=\"text-align: right;\">\n",
       "      <th></th>\n",
       "      <th>Id</th>\n",
       "      <th>Predicted</th>\n",
       "    </tr>\n",
       "  </thead>\n",
       "  <tbody>\n",
       "    <tr>\n",
       "      <th>0</th>\n",
       "      <td>000053b1e684c9e7ea73727b2238ce18.jpg:North</td>\n",
       "      <td>1.120137</td>\n",
       "    </tr>\n",
       "    <tr>\n",
       "      <th>1</th>\n",
       "      <td>00029153d12ae1c9abe59c17ff2e0895.jpg:North</td>\n",
       "      <td>1.476865</td>\n",
       "    </tr>\n",
       "    <tr>\n",
       "      <th>2</th>\n",
       "      <td>0006246bee639c7a7b11a08e34dd3cc6.jpg:North</td>\n",
       "      <td>-1.336857</td>\n",
       "    </tr>\n",
       "    <tr>\n",
       "      <th>3</th>\n",
       "      <td>00063cb5da1826febf178b669eea3250.jpg:North</td>\n",
       "      <td>-1.170399</td>\n",
       "    </tr>\n",
       "    <tr>\n",
       "      <th>4</th>\n",
       "      <td>00063ece2e68a8847f228e8fd922f851.jpg:North</td>\n",
       "      <td>0.080308</td>\n",
       "    </tr>\n",
       "  </tbody>\n",
       "</table>\n",
       "</div>"
      ],
      "text/plain": [
       "                                           Id  Predicted\n",
       "0  000053b1e684c9e7ea73727b2238ce18.jpg:North   1.120137\n",
       "1  00029153d12ae1c9abe59c17ff2e0895.jpg:North   1.476865\n",
       "2  0006246bee639c7a7b11a08e34dd3cc6.jpg:North  -1.336857\n",
       "3  00063cb5da1826febf178b669eea3250.jpg:North  -1.170399\n",
       "4  00063ece2e68a8847f228e8fd922f851.jpg:North   0.080308"
      ]
     },
     "execution_count": 13,
     "metadata": {},
     "output_type": "execute_result"
    }
   ],
   "source": [
    "submission = test_final.as_data_frame()[['Filename', 'North_prediction', 'East_prediction']]\n",
    "submission.rename({'North_prediction':'North', 'East_prediction':'East'}, axis=1, inplace=True)\n",
    "submission = submission.melt(id_vars='Filename', value_name='Predicted')\n",
    "submission['Id'] = submission.Filename + ':' + submission.variable\n",
    "submission = submission[['Id', 'Predicted']]\n",
    "submission.head()"
   ]
  },
  {
   "cell_type": "code",
   "execution_count": 14,
   "id": "bcccdcd8",
   "metadata": {
    "execution": {
     "iopub.execute_input": "2022-10-30T22:13:28.618127Z",
     "iopub.status.busy": "2022-10-30T22:13:28.617731Z",
     "iopub.status.idle": "2022-10-30T22:13:28.945289Z",
     "shell.execute_reply": "2022-10-30T22:13:28.943910Z"
    },
    "papermill": {
     "duration": 0.349192,
     "end_time": "2022-10-30T22:13:28.948235",
     "exception": false,
     "start_time": "2022-10-30T22:13:28.599043",
     "status": "completed"
    },
    "tags": []
   },
   "outputs": [],
   "source": [
    "submission.to_csv('submission.csv', index=False)"
   ]
  },
  {
   "cell_type": "code",
   "execution_count": null,
   "id": "b0332821",
   "metadata": {
    "papermill": {
     "duration": 0.017195,
     "end_time": "2022-10-30T22:13:28.983298",
     "exception": false,
     "start_time": "2022-10-30T22:13:28.966103",
     "status": "completed"
    },
    "tags": []
   },
   "outputs": [],
   "source": []
  }
 ],
 "metadata": {
  "kernelspec": {
   "display_name": "Python 3",
   "language": "python",
   "name": "python3"
  },
  "language_info": {
   "codemirror_mode": {
    "name": "ipython",
    "version": 3
   },
   "file_extension": ".py",
   "mimetype": "text/x-python",
   "name": "python",
   "nbconvert_exporter": "python",
   "pygments_lexer": "ipython3",
   "version": "3.7.12"
  },
  "papermill": {
   "default_parameters": {},
   "duration": 772.323694,
   "end_time": "2022-10-30T22:13:30.326853",
   "environment_variables": {},
   "exception": null,
   "input_path": "__notebook__.ipynb",
   "output_path": "__notebook__.ipynb",
   "parameters": {},
   "start_time": "2022-10-30T22:00:38.003159",
   "version": "2.3.4"
  }
 },
 "nbformat": 4,
 "nbformat_minor": 5
}
