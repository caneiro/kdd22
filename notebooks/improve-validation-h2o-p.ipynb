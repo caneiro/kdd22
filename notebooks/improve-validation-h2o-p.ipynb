{
 "cells": [
  {
   "cell_type": "markdown",
   "id": "7f1aa624",
   "metadata": {
    "papermill": {
     "duration": 0.005531,
     "end_time": "2022-10-30T22:00:53.085995",
     "exception": false,
     "start_time": "2022-10-30T22:00:53.080464",
     "status": "completed"
    },
    "tags": []
   },
   "source": [
    "# Single Output Regression"
   ]
  },
  {
   "cell_type": "code",
   "execution_count": 1,
   "id": "94075e6b",
   "metadata": {
    "_cell_guid": "b1076dfc-b9ad-4769-8c92-a6c4dae69d19",
    "_uuid": "8f2839f25d086af736a60e9eeb907d3b93b6e0e5",
    "execution": {
     "iopub.execute_input": "2022-10-30T22:00:53.097520Z",
     "iopub.status.busy": "2022-10-30T22:00:53.096727Z",
     "iopub.status.idle": "2022-10-30T22:00:53.212646Z",
     "shell.execute_reply": "2022-10-30T22:00:53.211662Z"
    },
    "papermill": {
     "duration": 0.124843,
     "end_time": "2022-10-30T22:00:53.215368",
     "exception": false,
     "start_time": "2022-10-30T22:00:53.090525",
     "status": "completed"
    },
    "tags": []
   },
   "outputs": [],
   "source": [
    "import os\n",
    "import sys\n",
    "import numpy as np\n",
    "import pandas as pd\n",
    "from tqdm.auto import tqdm\n",
    "import matplotlib.pyplot as plt\n",
    "from kaggle_secrets import UserSecretsClient\n",
    "from pathlib import Path\n",
    "\n",
    "\n",
    "# user_secrets = UserSecretsClient()\n",
    "# wandb_key = user_secrets.get_secret(\"wandb_key\")\n",
    "\n",
    "SEED = 42\n",
    "PATH = Path('../input/kdd-team/')\n",
    "PIX_FILES = ['pixels_dist_train_p.csv', 'pixels_dist_test_p.csv']\n",
    "MAX_TIME = 360"
   ]
  },
  {
   "cell_type": "code",
   "execution_count": 2,
   "id": "fb679334",
   "metadata": {
    "execution": {
     "iopub.execute_input": "2022-10-30T22:00:53.226101Z",
     "iopub.status.busy": "2022-10-30T22:00:53.225413Z",
     "iopub.status.idle": "2022-10-30T22:00:53.664160Z",
     "shell.execute_reply": "2022-10-30T22:00:53.662454Z"
    },
    "papermill": {
     "duration": 0.446665,
     "end_time": "2022-10-30T22:00:53.666665",
     "exception": false,
     "start_time": "2022-10-30T22:00:53.220000",
     "status": "completed"
    },
    "tags": []
   },
   "outputs": [
    {
     "name": "stdout",
     "output_type": "stream",
     "text": [
      "(146262, 6)\n"
     ]
    },
    {
     "data": {
      "text/html": [
       "<div>\n",
       "<style scoped>\n",
       "    .dataframe tbody tr th:only-of-type {\n",
       "        vertical-align: middle;\n",
       "    }\n",
       "\n",
       "    .dataframe tbody tr th {\n",
       "        vertical-align: top;\n",
       "    }\n",
       "\n",
       "    .dataframe thead th {\n",
       "        text-align: right;\n",
       "    }\n",
       "</style>\n",
       "<table border=\"1\" class=\"dataframe\">\n",
       "  <thead>\n",
       "    <tr style=\"text-align: right;\">\n",
       "      <th></th>\n",
       "      <th>Filename</th>\n",
       "      <th>Altitude</th>\n",
       "      <th>Delta</th>\n",
       "      <th>North</th>\n",
       "      <th>East</th>\n",
       "      <th>kfold</th>\n",
       "    </tr>\n",
       "  </thead>\n",
       "  <tbody>\n",
       "    <tr>\n",
       "      <th>0</th>\n",
       "      <td>00003e3b9e5336685200ae85d21b4f5e.jpg</td>\n",
       "      <td>178.829834</td>\n",
       "      <td>-0.065231</td>\n",
       "      <td>-0.386045</td>\n",
       "      <td>0.929772</td>\n",
       "      <td>0</td>\n",
       "    </tr>\n",
       "    <tr>\n",
       "      <th>1</th>\n",
       "      <td>0001261e2060303a06ba6c64d676d639.jpg</td>\n",
       "      <td>207.921478</td>\n",
       "      <td>-0.080688</td>\n",
       "      <td>0.635584</td>\n",
       "      <td>0.152819</td>\n",
       "      <td>2</td>\n",
       "    </tr>\n",
       "    <tr>\n",
       "      <th>2</th>\n",
       "      <td>0002ac0d783338cfeab0b2bdbd872cda.jpg</td>\n",
       "      <td>178.048431</td>\n",
       "      <td>0.021576</td>\n",
       "      <td>-1.228229</td>\n",
       "      <td>-0.499388</td>\n",
       "      <td>3</td>\n",
       "    </tr>\n",
       "    <tr>\n",
       "      <th>3</th>\n",
       "      <td>0004289ee1c7b8b08c77e19878106ae3.jpg</td>\n",
       "      <td>201.084625</td>\n",
       "      <td>0.505981</td>\n",
       "      <td>-1.739709</td>\n",
       "      <td>-0.699928</td>\n",
       "      <td>1</td>\n",
       "    </tr>\n",
       "    <tr>\n",
       "      <th>4</th>\n",
       "      <td>0004d0b59e19461ff126e3a08a814c33.jpg</td>\n",
       "      <td>187.550201</td>\n",
       "      <td>-0.328156</td>\n",
       "      <td>-0.169798</td>\n",
       "      <td>2.828752</td>\n",
       "      <td>0</td>\n",
       "    </tr>\n",
       "  </tbody>\n",
       "</table>\n",
       "</div>"
      ],
      "text/plain": [
       "                               Filename    Altitude     Delta     North  \\\n",
       "0  00003e3b9e5336685200ae85d21b4f5e.jpg  178.829834 -0.065231 -0.386045   \n",
       "1  0001261e2060303a06ba6c64d676d639.jpg  207.921478 -0.080688  0.635584   \n",
       "2  0002ac0d783338cfeab0b2bdbd872cda.jpg  178.048431  0.021576 -1.228229   \n",
       "3  0004289ee1c7b8b08c77e19878106ae3.jpg  201.084625  0.505981 -1.739709   \n",
       "4  0004d0b59e19461ff126e3a08a814c33.jpg  187.550201 -0.328156 -0.169798   \n",
       "\n",
       "       East  kfold  \n",
       "0  0.929772      0  \n",
       "1  0.152819      2  \n",
       "2 -0.499388      3  \n",
       "3 -0.699928      1  \n",
       "4  2.828752      0  "
      ]
     },
     "execution_count": 2,
     "metadata": {},
     "output_type": "execute_result"
    }
   ],
   "source": [
    "pub = pd.read_csv('../input/kdd-team/public.csv')\n",
    "print(pub.shape)\n",
    "pub.head()"
   ]
  },
  {
   "cell_type": "code",
   "execution_count": 3,
   "id": "6b1626be",
   "metadata": {
    "execution": {
     "iopub.execute_input": "2022-10-30T22:00:53.677935Z",
     "iopub.status.busy": "2022-10-30T22:00:53.677506Z",
     "iopub.status.idle": "2022-10-30T22:00:53.709832Z",
     "shell.execute_reply": "2022-10-30T22:00:53.708469Z"
    },
    "papermill": {
     "duration": 0.041548,
     "end_time": "2022-10-30T22:00:53.713019",
     "exception": false,
     "start_time": "2022-10-30T22:00:53.671471",
     "status": "completed"
    },
    "tags": []
   },
   "outputs": [
    {
     "name": "stdout",
     "output_type": "stream",
     "text": [
      "<class 'pandas.core.frame.DataFrame'>\n",
      "RangeIndex: 146262 entries, 0 to 146261\n",
      "Data columns (total 6 columns):\n",
      " #   Column    Non-Null Count   Dtype  \n",
      "---  ------    --------------   -----  \n",
      " 0   Filename  146262 non-null  object \n",
      " 1   Altitude  146262 non-null  float64\n",
      " 2   Delta     146262 non-null  float64\n",
      " 3   North     91231 non-null   float64\n",
      " 4   East      91231 non-null   float64\n",
      " 5   kfold     146262 non-null  int64  \n",
      "dtypes: float64(4), int64(1), object(1)\n",
      "memory usage: 6.7+ MB\n"
     ]
    }
   ],
   "source": [
    "pub.info()"
   ]
  },
  {
   "cell_type": "code",
   "execution_count": 4,
   "id": "9aa97ee3",
   "metadata": {
    "execution": {
     "iopub.execute_input": "2022-10-30T22:00:53.726585Z",
     "iopub.status.busy": "2022-10-30T22:00:53.725896Z",
     "iopub.status.idle": "2022-10-30T22:00:53.735024Z",
     "shell.execute_reply": "2022-10-30T22:00:53.734140Z"
    },
    "papermill": {
     "duration": 0.017924,
     "end_time": "2022-10-30T22:00:53.737346",
     "exception": false,
     "start_time": "2022-10-30T22:00:53.719422",
     "status": "completed"
    },
    "tags": []
   },
   "outputs": [],
   "source": [
    "def make_train_test(train_pixels_file, test_pixels_file=None, H2O=False):\n",
    "    train = pd.read_csv(PATH / train_pixels_file, low_memory=False)\n",
    "    print('Train Shape:', train.shape)\n",
    "    train.rename({'Images':'Filename'}, axis=1, inplace=True)\n",
    "    train = train.merge(pub, on='Filename', how='inner').reset_index(drop=True)\n",
    "    train.reset_index(inplace=True, drop=True)\n",
    "    print('Train Merged Shape:', train.shape)\n",
    "    \n",
    "    if test_pixels_file is not None:\n",
    "        test = pd.read_csv(PATH / test_pixels_file, low_memory=False)\n",
    "        print('Test Shape:', test.shape)\n",
    "        test.rename({'Images':'Filename'}, axis=1, inplace=True)\n",
    "        test = test.merge(pub, on='Filename', how='inner')\n",
    "        test.drop(['North', 'East'], axis=1, inplace=True)\n",
    "        test.reset_index(inplace=True, drop=True)\n",
    "        print('Test Merged Shape:', test.shape)\n",
    "    else:\n",
    "        X_test = None\n",
    "        \n",
    "    if H2O:\n",
    "        train = h2o.H2OFrame(train)\n",
    "        test = h2o.H2OFrame(test)\n",
    "        \n",
    "    return train, test"
   ]
  },
  {
   "cell_type": "code",
   "execution_count": 5,
   "id": "f463424a",
   "metadata": {
    "execution": {
     "iopub.execute_input": "2022-10-30T22:00:53.748982Z",
     "iopub.status.busy": "2022-10-30T22:00:53.748318Z",
     "iopub.status.idle": "2022-10-30T22:01:01.860594Z",
     "shell.execute_reply": "2022-10-30T22:01:01.858596Z"
    },
    "papermill": {
     "duration": 8.121676,
     "end_time": "2022-10-30T22:01:01.863925",
     "exception": false,
     "start_time": "2022-10-30T22:00:53.742249",
     "status": "completed"
    },
    "tags": []
   },
   "outputs": [
    {
     "name": "stdout",
     "output_type": "stream",
     "text": [
      "Checking whether there is an H2O instance running at http://localhost:54321 ..... not found.\n",
      "Attempting to start a local H2O server...\n",
      "  Java Version: openjdk version \"11.0.16\" 2022-07-19; OpenJDK Runtime Environment (build 11.0.16+8-post-Ubuntu-0ubuntu120.04); OpenJDK 64-Bit Server VM (build 11.0.16+8-post-Ubuntu-0ubuntu120.04, mixed mode, sharing)\n",
      "  Starting server from /opt/conda/lib/python3.7/site-packages/h2o/backend/bin/h2o.jar\n",
      "  Ice root: /tmp/tmptnvce2yv\n",
      "  JVM stdout: /tmp/tmptnvce2yv/h2o_unknownUser_started_from_python.out\n",
      "  JVM stderr: /tmp/tmptnvce2yv/h2o_unknownUser_started_from_python.err\n",
      "  Server is running at http://127.0.0.1:54321\n",
      "Connecting to H2O server at http://127.0.0.1:54321 ... successful.\n"
     ]
    },
    {
     "data": {
      "text/html": [
       "\n",
       "<style>\n",
       "\n",
       "#h2o-table-1.h2o-container {\n",
       "  overflow-x: auto;\n",
       "}\n",
       "#h2o-table-1 .h2o-table {\n",
       "  /* width: 100%; */\n",
       "  margin-top: 1em;\n",
       "  margin-bottom: 1em;\n",
       "}\n",
       "#h2o-table-1 .h2o-table caption {\n",
       "  white-space: nowrap;\n",
       "  caption-side: top;\n",
       "  text-align: left;\n",
       "  /* margin-left: 1em; */\n",
       "  margin: 0;\n",
       "  font-size: larger;\n",
       "}\n",
       "#h2o-table-1 .h2o-table thead {\n",
       "  white-space: nowrap; \n",
       "  position: sticky;\n",
       "  top: 0;\n",
       "  box-shadow: 0 -1px inset;\n",
       "}\n",
       "#h2o-table-1 .h2o-table tbody {\n",
       "  overflow: auto;\n",
       "}\n",
       "#h2o-table-1 .h2o-table th,\n",
       "#h2o-table-1 .h2o-table td {\n",
       "  text-align: right;\n",
       "  /* border: 1px solid; */\n",
       "}\n",
       "#h2o-table-1 .h2o-table tr:nth-child(even) {\n",
       "  /* background: #F5F5F5 */\n",
       "}\n",
       "\n",
       "</style>      \n",
       "<div id=\"h2o-table-1\" class=\"h2o-container\">\n",
       "  <table class=\"h2o-table\">\n",
       "    <caption></caption>\n",
       "    <thead></thead>\n",
       "    <tbody><tr><td>H2O_cluster_uptime:</td>\n",
       "<td>02 secs</td></tr>\n",
       "<tr><td>H2O_cluster_timezone:</td>\n",
       "<td>Etc/UTC</td></tr>\n",
       "<tr><td>H2O_data_parsing_timezone:</td>\n",
       "<td>UTC</td></tr>\n",
       "<tr><td>H2O_cluster_version:</td>\n",
       "<td>3.38.0.1</td></tr>\n",
       "<tr><td>H2O_cluster_version_age:</td>\n",
       "<td>1 month and 11 days </td></tr>\n",
       "<tr><td>H2O_cluster_name:</td>\n",
       "<td>H2O_from_python_unknownUser_klukio</td></tr>\n",
       "<tr><td>H2O_cluster_total_nodes:</td>\n",
       "<td>1</td></tr>\n",
       "<tr><td>H2O_cluster_free_memory:</td>\n",
       "<td>7.500 Gb</td></tr>\n",
       "<tr><td>H2O_cluster_total_cores:</td>\n",
       "<td>4</td></tr>\n",
       "<tr><td>H2O_cluster_allowed_cores:</td>\n",
       "<td>4</td></tr>\n",
       "<tr><td>H2O_cluster_status:</td>\n",
       "<td>locked, healthy</td></tr>\n",
       "<tr><td>H2O_connection_url:</td>\n",
       "<td>http://127.0.0.1:54321</td></tr>\n",
       "<tr><td>H2O_connection_proxy:</td>\n",
       "<td>{\"http\": null, \"https\": null}</td></tr>\n",
       "<tr><td>H2O_internal_security:</td>\n",
       "<td>False</td></tr>\n",
       "<tr><td>Python_version:</td>\n",
       "<td>3.7.12 final</td></tr></tbody>\n",
       "  </table>\n",
       "</div>\n"
      ],
      "text/plain": [
       "--------------------------  ----------------------------------\n",
       "H2O_cluster_uptime:         02 secs\n",
       "H2O_cluster_timezone:       Etc/UTC\n",
       "H2O_data_parsing_timezone:  UTC\n",
       "H2O_cluster_version:        3.38.0.1\n",
       "H2O_cluster_version_age:    1 month and 11 days\n",
       "H2O_cluster_name:           H2O_from_python_unknownUser_klukio\n",
       "H2O_cluster_total_nodes:    1\n",
       "H2O_cluster_free_memory:    7.500 Gb\n",
       "H2O_cluster_total_cores:    4\n",
       "H2O_cluster_allowed_cores:  4\n",
       "H2O_cluster_status:         locked, healthy\n",
       "H2O_connection_url:         http://127.0.0.1:54321\n",
       "H2O_connection_proxy:       {\"http\": null, \"https\": null}\n",
       "H2O_internal_security:      False\n",
       "Python_version:             3.7.12 final\n",
       "--------------------------  ----------------------------------"
      ]
     },
     "metadata": {},
     "output_type": "display_data"
    }
   ],
   "source": [
    "import h2o\n",
    "from h2o.automl import H2OAutoML\n",
    "\n",
    "h2o.init()"
   ]
  },
  {
   "cell_type": "code",
   "execution_count": 6,
   "id": "2e0ca734",
   "metadata": {
    "execution": {
     "iopub.execute_input": "2022-10-30T22:01:01.880205Z",
     "iopub.status.busy": "2022-10-30T22:01:01.878722Z",
     "iopub.status.idle": "2022-10-30T22:01:08.494101Z",
     "shell.execute_reply": "2022-10-30T22:01:08.492113Z"
    },
    "papermill": {
     "duration": 6.627868,
     "end_time": "2022-10-30T22:01:08.498523",
     "exception": false,
     "start_time": "2022-10-30T22:01:01.870655",
     "status": "completed"
    },
    "tags": []
   },
   "outputs": [
    {
     "name": "stdout",
     "output_type": "stream",
     "text": [
      "Train Shape: (91231, 3)\n",
      "Train Merged Shape: (91231, 8)\n",
      "Test Shape: (55031, 3)\n",
      "Test Merged Shape: (55031, 6)\n",
      "Parse progress: |████████████████████████████████████████████████████████████████| (done) 100%\n",
      "Parse progress: |████████████████████████████████████████████████████████████████| (done) 100%\n"
     ]
    }
   ],
   "source": [
    "train, test = make_train_test(PIX_FILES[0],\n",
    "                              PIX_FILES[1],\n",
    "                              H2O=True)"
   ]
  },
  {
   "cell_type": "code",
   "execution_count": 7,
   "id": "0c85079d",
   "metadata": {
    "execution": {
     "iopub.execute_input": "2022-10-30T22:01:08.519843Z",
     "iopub.status.busy": "2022-10-30T22:01:08.518614Z",
     "iopub.status.idle": "2022-10-30T22:01:08.528683Z",
     "shell.execute_reply": "2022-10-30T22:01:08.527528Z"
    },
    "papermill": {
     "duration": 0.023861,
     "end_time": "2022-10-30T22:01:08.531689",
     "exception": false,
     "start_time": "2022-10-30T22:01:08.507828",
     "status": "completed"
    },
    "tags": []
   },
   "outputs": [],
   "source": [
    "features = ['North_pixel', 'East_pixel', 'Altitude', 'Delta']\n",
    "\n",
    "def train_automl(train, test, target, max_runtime_secs=3600):\n",
    "    \n",
    "    aml = H2OAutoML(seed=SEED,\n",
    "                    max_runtime_secs=max_runtime_secs,\n",
    "                    stopping_metric='RMSE',\n",
    "                    sort_metric='RMSE',\n",
    "                    exploitation_ratio=0.1,\n",
    "                    verbosity='info')\n",
    "\n",
    "    aml.train(x=features, y=target, training_frame=train)  \n",
    "    \n",
    "    train_preds = aml.leader.predict(train)\n",
    "    train_preds.rename({'predict':target+'_prediction'})\n",
    "    \n",
    "    test_preds = aml.leader.predict(test)\n",
    "    test_preds.rename({'predict':target+'_prediction'})\n",
    "    \n",
    "    return aml, train_preds, test_preds\n",
    "    "
   ]
  },
  {
   "cell_type": "code",
   "execution_count": 8,
   "id": "e153a34c",
   "metadata": {
    "execution": {
     "iopub.execute_input": "2022-10-30T22:01:08.551577Z",
     "iopub.status.busy": "2022-10-30T22:01:08.550640Z",
     "iopub.status.idle": "2022-10-30T22:07:12.852907Z",
     "shell.execute_reply": "2022-10-30T22:07:12.851574Z"
    },
    "papermill": {
     "duration": 364.315223,
     "end_time": "2022-10-30T22:07:12.855592",
     "exception": false,
     "start_time": "2022-10-30T22:01:08.540369",
     "status": "completed"
    },
    "tags": []
   },
   "outputs": [
    {
     "name": "stdout",
     "output_type": "stream",
     "text": [
      "AutoML progress: |\n",
      "22:01:08.665: Project: AutoML_1_20221030_220108\n",
      "22:01:08.668: 5-fold cross-validation will be used.\n",
      "22:01:08.669: Setting stopping tolerance adaptively based on the training frame: 0.0033107682550761745\n",
      "22:01:08.669: Build control seed: 42\n",
      "22:01:08.670: training frame: Frame key: AutoML_1_20221030_220108_training_Key_Frame__upload_89100e06f04413e3824fd0475b6040b5.hex    cols: 8    rows: 91231  chunks: 4    size: 8212986  checksum: 7243384574813962690\n",
      "22:01:08.670: validation frame: NULL\n",
      "22:01:08.670: leaderboard frame: NULL\n",
      "22:01:08.671: blending frame: NULL\n",
      "22:01:08.671: response column: North\n",
      "22:01:08.671: fold column: null\n",
      "22:01:08.671: weights column: null\n",
      "22:01:08.697: Loading execution steps: [{XGBoost : [def_2 (1g, 10w), def_1 (2g, 10w), def_3 (3g, 10w), grid_1 (4g, 90w), lr_search (6g, 30w)]}, {GLM : [def_1 (1g, 10w)]}, {DRF : [def_1 (2g, 10w), XRT (3g, 10w)]}, {GBM : [def_5 (1g, 10w), def_2 (2g, 10w), def_3 (2g, 10w), def_4 (2g, 10w), def_1 (3g, 10w), grid_1 (4g, 60w), lr_annealing (6g, 10w)]}, {DeepLearning : [def_1 (3g, 10w), grid_1 (4g, 30w), grid_2 (5g, 30w), grid_3 (5g, 30w)]}, {completion : [resume_best_grids (10g, 60w)]}, {StackedEnsemble : [best_of_family_1 (1g, 5w), best_of_family_2 (2g, 5w), best_of_family_3 (3g, 5w), best_of_family_4 (4g, 5w), best_of_family_5 (5g, 5w), all_2 (2g, 10w), all_3 (3g, 10w), all_4 (4g, 10w), all_5 (5g, 10w), monotonic (6g, 10w), best_of_family_gbm (6g, 10w), all_gbm (7g, 10w), best_of_family_xglm (8g, 10w), all_xglm (8g, 10w), best_of_family (10g, 10w), best_N (10g, 10w)]}]\n",
      "22:01:08.738: AutoML job created: 2022.10.30 22:01:08.626\n",
      "22:01:08.740: AutoML build started: 2022.10.30 22:01:08.739\n",
      "22:01:08.762: AutoML: starting XGBoost_1_AutoML_1_20221030_220108 model training\n",
      "\n",
      "████████\n",
      "22:01:48.966: New leader: XGBoost_1_AutoML_1_20221030_220108, rmse: 0.4234983660118507\n",
      "22:01:48.972: AutoML: starting GLM_1_AutoML_1_20221030_220108 model training\n",
      "\n",
      "\n",
      "22:01:52.337: AutoML: starting GBM_1_AutoML_1_20221030_220108 model training\n",
      "\n",
      "███████\n",
      "22:02:29.787: New leader: GBM_1_AutoML_1_20221030_220108, rmse: 0.3871986888870597\n",
      "22:02:29.800: AutoML: starting StackedEnsemble_BestOfFamily_1_AutoML_1_20221030_220108 model training\n",
      "22:02:30.846: New leader: StackedEnsemble_BestOfFamily_1_AutoML_1_20221030_220108, rmse: 0.37963916075716103\n",
      "22:02:30.848: AutoML: starting XGBoost_2_AutoML_1_20221030_220108 model training\n",
      "\n",
      "████\n",
      "22:02:51.739: AutoML: starting DRF_1_AutoML_1_20221030_220108 model training\n",
      "\n",
      "███████\n",
      "22:03:37.586: New leader: DRF_1_AutoML_1_20221030_220108, rmse: 0.3558814540776439\n",
      "22:03:37.586: AutoML: starting GBM_2_AutoML_1_20221030_220108 model training\n",
      "\n",
      "████\n",
      "22:03:58.600: AutoML: starting GBM_3_AutoML_1_20221030_220108 model training\n",
      "\n",
      "████\n",
      "22:04:20.141: AutoML: starting GBM_4_AutoML_1_20221030_220108 model training\n",
      "\n",
      "████\n",
      "22:04:42.943: AutoML: starting StackedEnsemble_BestOfFamily_2_AutoML_1_20221030_220108 model training\n",
      "22:04:43.626: New leader: StackedEnsemble_BestOfFamily_2_AutoML_1_20221030_220108, rmse: 0.35072806741991625\n",
      "22:04:43.629: AutoML: starting StackedEnsemble_AllModels_1_AutoML_1_20221030_220108 model training\n",
      "\n",
      "\n",
      "22:04:44.311: New leader: StackedEnsemble_AllModels_1_AutoML_1_20221030_220108, rmse: 0.3497153534207198\n",
      "22:04:44.314: AutoML: starting XGBoost_3_AutoML_1_20221030_220108 model training\n",
      "\n",
      "████\n",
      "22:05:10.83: AutoML: starting XRT_1_AutoML_1_20221030_220108 model training\n",
      "\n",
      "█████\n",
      "22:05:35.638: AutoML: starting GBM_5_AutoML_1_20221030_220108 model training\n",
      "\n",
      "████\n",
      "22:05:58.684: AutoML: starting DeepLearning_1_AutoML_1_20221030_220108 model training\n",
      "\n",
      "███\n",
      "22:06:19.926: AutoML: starting StackedEnsemble_BestOfFamily_3_AutoML_1_20221030_220108 model training\n",
      "\n",
      "\n",
      "22:06:20.537: New leader: StackedEnsemble_BestOfFamily_3_AutoML_1_20221030_220108, rmse: 0.34848611157561743\n",
      "22:06:20.539: AutoML: starting StackedEnsemble_AllModels_2_AutoML_1_20221030_220108 model training\n",
      "\n",
      "\n",
      "22:06:21.283: New leader: StackedEnsemble_AllModels_2_AutoML_1_20221030_220108, rmse: 0.3481448620743732\n",
      "22:06:21.287: AutoML: starting XGBoost_grid_1_AutoML_1_20221030_220108 hyperparameter search\n",
      "\n",
      "█████\n",
      "22:06:45.423: AutoML: starting GBM_grid_1_AutoML_1_20221030_220108 hyperparameter search\n",
      "\n",
      "██\n",
      "22:06:59.116: AutoML: starting DeepLearning_grid_1_AutoML_1_20221030_220108 hyperparameter search\n",
      "\n",
      "██| (done) 100%\n",
      "\n",
      "22:07:09.374: Actual modeling steps: [{XGBoost : [def_2 (1g, 10w)]}, {GLM : [def_1 (1g, 10w)]}, {GBM : [def_5 (1g, 10w)]}, {StackedEnsemble : [best_of_family_1 (1g, 5w)]}, {XGBoost : [def_1 (2g, 10w)]}, {DRF : [def_1 (2g, 10w)]}, {GBM : [def_2 (2g, 10w), def_3 (2g, 10w), def_4 (2g, 10w)]}, {StackedEnsemble : [best_of_family_2 (2g, 5w), all_2 (2g, 10w)]}, {XGBoost : [def_3 (3g, 10w)]}, {DRF : [XRT (3g, 10w)]}, {GBM : [def_1 (3g, 10w)]}, {DeepLearning : [def_1 (3g, 10w)]}, {StackedEnsemble : [best_of_family_3 (3g, 5w), all_3 (3g, 10w)]}, {XGBoost : [grid_1 (4g, 90w)]}, {GBM : [grid_1 (4g, 60w)]}, {DeepLearning : [grid_1 (4g, 30w)]}]\n",
      "22:07:09.375: AutoML build stopped: 2022.10.30 22:07:09.374\n",
      "22:07:09.375: AutoML build done: built 16 models\n",
      "22:07:09.375: AutoML duration:  6 min  0.635 sec\n",
      "\n",
      "stackedensemble prediction progress: |███████████████████████████████████████████| (done) 100%\n",
      "stackedensemble prediction progress: |███████████████████████████████████████████| (done) 100%\n"
     ]
    },
    {
     "data": {
      "text/html": [
       "<table class='dataframe'>\n",
       "<thead>\n",
       "<tr><th>model_id                                               </th><th style=\"text-align: right;\">    rmse</th><th style=\"text-align: right;\">     mse</th><th style=\"text-align: right;\">     mae</th><th style=\"text-align: right;\">  rmsle</th><th style=\"text-align: right;\">  mean_residual_deviance</th></tr>\n",
       "</thead>\n",
       "<tbody>\n",
       "<tr><td>StackedEnsemble_AllModels_2_AutoML_1_20221030_220108   </td><td style=\"text-align: right;\">0.348145</td><td style=\"text-align: right;\">0.121205</td><td style=\"text-align: right;\">0.148817</td><td style=\"text-align: right;\">    nan</td><td style=\"text-align: right;\">                0.121205</td></tr>\n",
       "<tr><td>StackedEnsemble_BestOfFamily_3_AutoML_1_20221030_220108</td><td style=\"text-align: right;\">0.348486</td><td style=\"text-align: right;\">0.121443</td><td style=\"text-align: right;\">0.148565</td><td style=\"text-align: right;\">    nan</td><td style=\"text-align: right;\">                0.121443</td></tr>\n",
       "<tr><td>StackedEnsemble_AllModels_1_AutoML_1_20221030_220108   </td><td style=\"text-align: right;\">0.349715</td><td style=\"text-align: right;\">0.122301</td><td style=\"text-align: right;\">0.149084</td><td style=\"text-align: right;\">    nan</td><td style=\"text-align: right;\">                0.122301</td></tr>\n",
       "<tr><td>StackedEnsemble_BestOfFamily_2_AutoML_1_20221030_220108</td><td style=\"text-align: right;\">0.350728</td><td style=\"text-align: right;\">0.12301 </td><td style=\"text-align: right;\">0.149091</td><td style=\"text-align: right;\">    nan</td><td style=\"text-align: right;\">                0.12301 </td></tr>\n",
       "<tr><td>DRF_1_AutoML_1_20221030_220108                         </td><td style=\"text-align: right;\">0.355881</td><td style=\"text-align: right;\">0.126652</td><td style=\"text-align: right;\">0.157852</td><td style=\"text-align: right;\">    nan</td><td style=\"text-align: right;\">                0.126652</td></tr>\n",
       "</tbody>\n",
       "</table><pre style='font-size: smaller; margin-bottom: 1em;'>[5 rows x 6 columns]</pre>"
      ],
      "text/plain": [
       "model_id                                                     rmse       mse       mae    rmsle    mean_residual_deviance\n",
       "-------------------------------------------------------  --------  --------  --------  -------  ------------------------\n",
       "StackedEnsemble_AllModels_2_AutoML_1_20221030_220108     0.348145  0.121205  0.148817      nan                  0.121205\n",
       "StackedEnsemble_BestOfFamily_3_AutoML_1_20221030_220108  0.348486  0.121443  0.148565      nan                  0.121443\n",
       "StackedEnsemble_AllModels_1_AutoML_1_20221030_220108     0.349715  0.122301  0.149084      nan                  0.122301\n",
       "StackedEnsemble_BestOfFamily_2_AutoML_1_20221030_220108  0.350728  0.12301   0.149091      nan                  0.12301\n",
       "DRF_1_AutoML_1_20221030_220108                           0.355881  0.126652  0.157852      nan                  0.126652\n",
       "[5 rows x 6 columns]\n"
      ]
     },
     "execution_count": 8,
     "metadata": {},
     "output_type": "execute_result"
    }
   ],
   "source": [
    "north_aml, north_train_preds, north_test_preds = train_automl(train, test, 'North', MAX_TIME)\n",
    "north_aml.leaderboard.head(5)"
   ]
  },
  {
   "cell_type": "code",
   "execution_count": 9,
   "id": "0fa0645b",
   "metadata": {
    "execution": {
     "iopub.execute_input": "2022-10-30T22:07:12.883730Z",
     "iopub.status.busy": "2022-10-30T22:07:12.881477Z",
     "iopub.status.idle": "2022-10-30T22:13:17.316830Z",
     "shell.execute_reply": "2022-10-30T22:13:17.315186Z"
    },
    "papermill": {
     "duration": 364.473363,
     "end_time": "2022-10-30T22:13:17.341375",
     "exception": false,
     "start_time": "2022-10-30T22:07:12.868012",
     "status": "completed"
    },
    "tags": []
   },
   "outputs": [
    {
     "name": "stdout",
     "output_type": "stream",
     "text": [
      "AutoML progress: |\n",
      "22:07:12.897: Project: AutoML_2_20221030_220712\n",
      "22:07:12.897: 5-fold cross-validation will be used.\n",
      "22:07:12.897: Setting stopping tolerance adaptively based on the training frame: 0.0033107682550761745\n",
      "22:07:12.898: Build control seed: 42\n",
      "22:07:12.898: training frame: Frame key: AutoML_2_20221030_220712_training_Key_Frame__upload_89100e06f04413e3824fd0475b6040b5.hex    cols: 8    rows: 91231  chunks: 4    size: 8212986  checksum: 7243384574813962690\n",
      "22:07:12.898: validation frame: NULL\n",
      "22:07:12.898: leaderboard frame: NULL\n",
      "22:07:12.898: blending frame: NULL\n",
      "22:07:12.898: response column: East\n",
      "22:07:12.898: fold column: null\n",
      "22:07:12.898: weights column: null\n",
      "22:07:12.898: Loading execution steps: [{XGBoost : [def_2 (1g, 10w), def_1 (2g, 10w), def_3 (3g, 10w), grid_1 (4g, 90w), lr_search (6g, 30w)]}, {GLM : [def_1 (1g, 10w)]}, {DRF : [def_1 (2g, 10w), XRT (3g, 10w)]}, {GBM : [def_5 (1g, 10w), def_2 (2g, 10w), def_3 (2g, 10w), def_4 (2g, 10w), def_1 (3g, 10w), grid_1 (4g, 60w), lr_annealing (6g, 10w)]}, {DeepLearning : [def_1 (3g, 10w), grid_1 (4g, 30w), grid_2 (5g, 30w), grid_3 (5g, 30w)]}, {completion : [resume_best_grids (10g, 60w)]}, {StackedEnsemble : [best_of_family_1 (1g, 5w), best_of_family_2 (2g, 5w), best_of_family_3 (3g, 5w), best_of_family_4 (4g, 5w), best_of_family_5 (5g, 5w), all_2 (2g, 10w), all_3 (3g, 10w), all_4 (4g, 10w), all_5 (5g, 10w), monotonic (6g, 10w), best_of_family_gbm (6g, 10w), all_gbm (7g, 10w), best_of_family_xglm (8g, 10w), all_xglm (8g, 10w), best_of_family (10g, 10w), best_N (10g, 10w)]}]\n",
      "22:07:12.899: AutoML job created: 2022.10.30 22:07:12.897\n",
      "22:07:12.900: AutoML build started: 2022.10.30 22:07:12.900\n",
      "22:07:12.901: AutoML: starting XGBoost_1_AutoML_2_20221030_220712 model training\n",
      "\n",
      "██████\n",
      "22:07:41.76: New leader: XGBoost_1_AutoML_2_20221030_220712, rmse: 0.35880544953070165\n",
      "22:07:41.77: AutoML: starting GLM_1_AutoML_2_20221030_220712 model training\n",
      "\n",
      "\n",
      "22:07:42.620: AutoML: starting GBM_1_AutoML_2_20221030_220712 model training\n",
      "\n",
      "██████\n",
      "22:08:16.579: New leader: GBM_1_AutoML_2_20221030_220712, rmse: 0.35520326459614165\n",
      "22:08:16.581: AutoML: starting StackedEnsemble_BestOfFamily_1_AutoML_2_20221030_220712 model training\n",
      "\n",
      "\n",
      "22:08:17.240: New leader: StackedEnsemble_BestOfFamily_1_AutoML_2_20221030_220712, rmse: 0.3457846439263114\n",
      "22:08:17.241: AutoML: starting XGBoost_2_AutoML_2_20221030_220712 model training\n",
      "\n",
      "████\n",
      "22:08:40.675: AutoML: starting DRF_1_AutoML_2_20221030_220712 model training\n",
      "\n",
      "████████\n",
      "22:09:28.627: New leader: DRF_1_AutoML_2_20221030_220712, rmse: 0.32522456238949166\n",
      "22:09:28.628: AutoML: starting GBM_2_AutoML_2_20221030_220712 model training\n",
      "\n",
      "████\n",
      "22:09:51.742: AutoML: starting GBM_3_AutoML_2_20221030_220712 model training\n",
      "\n",
      "████\n",
      "22:10:14.506: AutoML: starting GBM_4_AutoML_2_20221030_220712 model training\n",
      "\n",
      "████\n",
      "22:10:38.951: AutoML: starting StackedEnsemble_BestOfFamily_2_AutoML_2_20221030_220712 model training\n",
      "22:10:39.475: New leader: StackedEnsemble_BestOfFamily_2_AutoML_2_20221030_220712, rmse: 0.32107911923557503\n",
      "22:10:39.476: AutoML: starting StackedEnsemble_AllModels_1_AutoML_2_20221030_220712 model training\n",
      "\n",
      "\n",
      "22:10:40.98: New leader: StackedEnsemble_AllModels_1_AutoML_2_20221030_220712, rmse: 0.32106428863978137\n",
      "22:10:40.98: AutoML: starting XGBoost_3_AutoML_2_20221030_220712 model training\n",
      "\n",
      "█████\n",
      "22:11:07.616: AutoML: starting XRT_1_AutoML_2_20221030_220712 model training\n",
      "\n",
      "█████\n",
      "22:11:34.636: AutoML: starting GBM_5_AutoML_2_20221030_220712 model training\n",
      "\n",
      "████\n",
      "22:11:58.877: AutoML: starting DeepLearning_1_AutoML_2_20221030_220712 model training\n",
      "\n",
      "███\n",
      "22:12:19.936: AutoML: starting StackedEnsemble_BestOfFamily_3_AutoML_2_20221030_220712 model training\n",
      "\n",
      "█\n",
      "22:12:20.531: New leader: StackedEnsemble_BestOfFamily_3_AutoML_2_20221030_220712, rmse: 0.3197977696279954\n",
      "22:12:20.532: AutoML: starting StackedEnsemble_AllModels_2_AutoML_2_20221030_220712 model training\n",
      "\n",
      "\n",
      "22:12:21.303: AutoML: starting XGBoost_grid_1_AutoML_2_20221030_220712 hyperparameter search\n",
      "\n",
      "████\n",
      "22:12:46.106: AutoML: starting GBM_grid_1_AutoML_2_20221030_220712 hyperparameter search\n",
      "\n",
      "███\n",
      "22:13:01.659: AutoML: starting DeepLearning_grid_1_AutoML_2_20221030_220712 hyperparameter search\n",
      "\n",
      "█\n",
      "22:13:09.413: AutoML: starting StackedEnsemble_AllModels_3_AutoML_2_20221030_220712 model training\n",
      "\n",
      "█| (done) 100%\n",
      "\n",
      "22:13:10.278: New leader: StackedEnsemble_AllModels_3_AutoML_2_20221030_220712, rmse: 0.3197774320834611\n",
      "22:13:10.279: AutoML: starting DeepLearning_grid_2_AutoML_2_20221030_220712 hyperparameter search\n",
      "22:13:13.296: Actual modeling steps: [{XGBoost : [def_2 (1g, 10w)]}, {GLM : [def_1 (1g, 10w)]}, {GBM : [def_5 (1g, 10w)]}, {StackedEnsemble : [best_of_family_1 (1g, 5w)]}, {XGBoost : [def_1 (2g, 10w)]}, {DRF : [def_1 (2g, 10w)]}, {GBM : [def_2 (2g, 10w), def_3 (2g, 10w), def_4 (2g, 10w)]}, {StackedEnsemble : [best_of_family_2 (2g, 5w), all_2 (2g, 10w)]}, {XGBoost : [def_3 (3g, 10w)]}, {DRF : [XRT (3g, 10w)]}, {GBM : [def_1 (3g, 10w)]}, {DeepLearning : [def_1 (3g, 10w)]}, {StackedEnsemble : [best_of_family_3 (3g, 5w), all_3 (3g, 10w)]}, {XGBoost : [grid_1 (4g, 90w)]}, {GBM : [grid_1 (4g, 60w)]}, {DeepLearning : [grid_1 (4g, 30w)]}, {StackedEnsemble : [all_4 (4g, 10w)]}, {DeepLearning : [grid_2 (5g, 30w)]}]\n",
      "22:13:13.296: AutoML build stopped: 2022.10.30 22:13:13.296\n",
      "22:13:13.296: AutoML build done: built 16 models\n",
      "22:13:13.296: AutoML duration:  6 min  0.396 sec\n",
      "\n",
      "stackedensemble prediction progress: |███████████████████████████████████████████| (done) 100%\n",
      "stackedensemble prediction progress: |███████████████████████████████████████████| (done) 100%\n"
     ]
    },
    {
     "data": {
      "text/html": [
       "<table class='dataframe'>\n",
       "<thead>\n",
       "<tr><th>model_id                                               </th><th style=\"text-align: right;\">    rmse</th><th style=\"text-align: right;\">     mse</th><th style=\"text-align: right;\">     mae</th><th style=\"text-align: right;\">  rmsle</th><th style=\"text-align: right;\">  mean_residual_deviance</th></tr>\n",
       "</thead>\n",
       "<tbody>\n",
       "<tr><td>StackedEnsemble_AllModels_3_AutoML_2_20221030_220712   </td><td style=\"text-align: right;\">0.319777</td><td style=\"text-align: right;\">0.102258</td><td style=\"text-align: right;\">0.141881</td><td style=\"text-align: right;\">    nan</td><td style=\"text-align: right;\">                0.102258</td></tr>\n",
       "<tr><td>StackedEnsemble_BestOfFamily_3_AutoML_2_20221030_220712</td><td style=\"text-align: right;\">0.319798</td><td style=\"text-align: right;\">0.102271</td><td style=\"text-align: right;\">0.141888</td><td style=\"text-align: right;\">    nan</td><td style=\"text-align: right;\">                0.102271</td></tr>\n",
       "<tr><td>StackedEnsemble_AllModels_2_AutoML_2_20221030_220712   </td><td style=\"text-align: right;\">0.319832</td><td style=\"text-align: right;\">0.102293</td><td style=\"text-align: right;\">0.141903</td><td style=\"text-align: right;\">    nan</td><td style=\"text-align: right;\">                0.102293</td></tr>\n",
       "<tr><td>StackedEnsemble_AllModels_1_AutoML_2_20221030_220712   </td><td style=\"text-align: right;\">0.321064</td><td style=\"text-align: right;\">0.103082</td><td style=\"text-align: right;\">0.143143</td><td style=\"text-align: right;\">    nan</td><td style=\"text-align: right;\">                0.103082</td></tr>\n",
       "<tr><td>StackedEnsemble_BestOfFamily_2_AutoML_2_20221030_220712</td><td style=\"text-align: right;\">0.321079</td><td style=\"text-align: right;\">0.103092</td><td style=\"text-align: right;\">0.143148</td><td style=\"text-align: right;\">    nan</td><td style=\"text-align: right;\">                0.103092</td></tr>\n",
       "</tbody>\n",
       "</table><pre style='font-size: smaller; margin-bottom: 1em;'>[5 rows x 6 columns]</pre>"
      ],
      "text/plain": [
       "model_id                                                     rmse       mse       mae    rmsle    mean_residual_deviance\n",
       "-------------------------------------------------------  --------  --------  --------  -------  ------------------------\n",
       "StackedEnsemble_AllModels_3_AutoML_2_20221030_220712     0.319777  0.102258  0.141881      nan                  0.102258\n",
       "StackedEnsemble_BestOfFamily_3_AutoML_2_20221030_220712  0.319798  0.102271  0.141888      nan                  0.102271\n",
       "StackedEnsemble_AllModels_2_AutoML_2_20221030_220712     0.319832  0.102293  0.141903      nan                  0.102293\n",
       "StackedEnsemble_AllModels_1_AutoML_2_20221030_220712     0.321064  0.103082  0.143143      nan                  0.103082\n",
       "StackedEnsemble_BestOfFamily_2_AutoML_2_20221030_220712  0.321079  0.103092  0.143148      nan                  0.103092\n",
       "[5 rows x 6 columns]\n"
      ]
     },
     "execution_count": 9,
     "metadata": {},
     "output_type": "execute_result"
    }
   ],
   "source": [
    "east_aml, east_train_preds, east_test_preds = train_automl(train, test, 'East', MAX_TIME)\n",
    "east_aml.leaderboard.head(5)"
   ]
  },
  {
   "cell_type": "code",
   "execution_count": 10,
   "id": "d9818f07",
   "metadata": {
    "execution": {
     "iopub.execute_input": "2022-10-30T22:13:17.376386Z",
     "iopub.status.busy": "2022-10-30T22:13:17.375980Z",
     "iopub.status.idle": "2022-10-30T22:13:17.387663Z",
     "shell.execute_reply": "2022-10-30T22:13:17.386583Z"
    },
    "papermill": {
     "duration": 0.032188,
     "end_time": "2022-10-30T22:13:17.390508",
     "exception": false,
     "start_time": "2022-10-30T22:13:17.358320",
     "status": "completed"
    },
    "tags": []
   },
   "outputs": [
    {
     "data": {
      "text/html": [
       "<table class='dataframe'>\n",
       "<thead>\n",
       "<tr><th>Filename                            </th><th style=\"text-align: right;\">  North_pixel</th><th style=\"text-align: right;\">  East_pixel</th><th style=\"text-align: right;\">  Altitude</th><th style=\"text-align: right;\">     Delta</th><th style=\"text-align: right;\">    North</th><th style=\"text-align: right;\">      East</th><th style=\"text-align: right;\">  kfold</th></tr>\n",
       "</thead>\n",
       "<tbody>\n",
       "<tr><td>00003e3b9e5336685200ae85d21b4f5e.jpg</td><td style=\"text-align: right;\">    -1.29619 </td><td style=\"text-align: right;\">    2.86893 </td><td style=\"text-align: right;\">   178.83 </td><td style=\"text-align: right;\">-0.0652313</td><td style=\"text-align: right;\">-0.386045</td><td style=\"text-align: right;\"> 0.929772 </td><td style=\"text-align: right;\">      0</td></tr>\n",
       "<tr><td>0001261e2060303a06ba6c64d676d639.jpg</td><td style=\"text-align: right;\">     0.847966</td><td style=\"text-align: right;\">    0.356077</td><td style=\"text-align: right;\">   207.921</td><td style=\"text-align: right;\">-0.0806885</td><td style=\"text-align: right;\"> 0.635584</td><td style=\"text-align: right;\"> 0.152819 </td><td style=\"text-align: right;\">      2</td></tr>\n",
       "<tr><td>0002ac0d783338cfeab0b2bdbd872cda.jpg</td><td style=\"text-align: right;\">    -3.51745 </td><td style=\"text-align: right;\">   -1.59259 </td><td style=\"text-align: right;\">   178.048</td><td style=\"text-align: right;\"> 0.0215759</td><td style=\"text-align: right;\">-1.22823 </td><td style=\"text-align: right;\">-0.499388 </td><td style=\"text-align: right;\">      3</td></tr>\n",
       "<tr><td>0004289ee1c7b8b08c77e19878106ae3.jpg</td><td style=\"text-align: right;\">    -6.09153 </td><td style=\"text-align: right;\">   -3.09927 </td><td style=\"text-align: right;\">   201.085</td><td style=\"text-align: right;\"> 0.505981 </td><td style=\"text-align: right;\">-1.73971 </td><td style=\"text-align: right;\">-0.699928 </td><td style=\"text-align: right;\">      1</td></tr>\n",
       "<tr><td>0004d0b59e19461ff126e3a08a814c33.jpg</td><td style=\"text-align: right;\">    -0.449659</td><td style=\"text-align: right;\">    8.12569 </td><td style=\"text-align: right;\">   187.55 </td><td style=\"text-align: right;\">-0.328156 </td><td style=\"text-align: right;\">-0.169798</td><td style=\"text-align: right;\"> 2.82875  </td><td style=\"text-align: right;\">      0</td></tr>\n",
       "<tr><td>00053f5e11d1fe4e49a221165b39abc9.jpg</td><td style=\"text-align: right;\">    -1.22675 </td><td style=\"text-align: right;\">   -0.162461</td><td style=\"text-align: right;\">   168.996</td><td style=\"text-align: right;\">-0.0148621</td><td style=\"text-align: right;\">-0.321776</td><td style=\"text-align: right;\">-0.0755221</td><td style=\"text-align: right;\">      4</td></tr>\n",
       "<tr><td>00056c20eb5a029583db75506953f1d9.jpg</td><td style=\"text-align: right;\">     1.73019 </td><td style=\"text-align: right;\">   -4.61845 </td><td style=\"text-align: right;\">   179.963</td><td style=\"text-align: right;\"> 0.109741 </td><td style=\"text-align: right;\"> 0.646206</td><td style=\"text-align: right;\">-1.68678  </td><td style=\"text-align: right;\">      2</td></tr>\n",
       "<tr><td>0006aabe0ba47a35c0b0bf6596f85159.jpg</td><td style=\"text-align: right;\">    -5.84977 </td><td style=\"text-align: right;\">    1.00668 </td><td style=\"text-align: right;\">   180.632</td><td style=\"text-align: right;\"> 0.212234 </td><td style=\"text-align: right;\">-0.178107</td><td style=\"text-align: right;\"> 0.132653 </td><td style=\"text-align: right;\">      2</td></tr>\n",
       "<tr><td>0006dd05ea1e999ddaa041a7091b7b36.jpg</td><td style=\"text-align: right;\">    -9.62826 </td><td style=\"text-align: right;\">    8.84762 </td><td style=\"text-align: right;\">   168.886</td><td style=\"text-align: right;\"> 0.0512695</td><td style=\"text-align: right;\">-1.82588 </td><td style=\"text-align: right;\"> 1.95608  </td><td style=\"text-align: right;\">      2</td></tr>\n",
       "<tr><td>0007789b118e4710fc0e7c8758a6532a.jpg</td><td style=\"text-align: right;\">     6.68168 </td><td style=\"text-align: right;\">   -2.49028 </td><td style=\"text-align: right;\">   194.349</td><td style=\"text-align: right;\"> 0.387817 </td><td style=\"text-align: right;\"> 2.46552 </td><td style=\"text-align: right;\">-0.88375  </td><td style=\"text-align: right;\">      3</td></tr>\n",
       "</tbody>\n",
       "</table><pre style='font-size: smaller; margin-bottom: 1em;'>[91231 rows x 8 columns]</pre>"
      ],
      "text/plain": [
       "Filename                                North_pixel    East_pixel    Altitude       Delta      North        East    kfold\n",
       "------------------------------------  -------------  ------------  ----------  ----------  ---------  ----------  -------\n",
       "00003e3b9e5336685200ae85d21b4f5e.jpg      -1.29619       2.86893      178.83   -0.0652313  -0.386045   0.929772         0\n",
       "0001261e2060303a06ba6c64d676d639.jpg       0.847966      0.356077     207.921  -0.0806885   0.635584   0.152819         2\n",
       "0002ac0d783338cfeab0b2bdbd872cda.jpg      -3.51745      -1.59259      178.048   0.0215759  -1.22823   -0.499388         3\n",
       "0004289ee1c7b8b08c77e19878106ae3.jpg      -6.09153      -3.09927      201.085   0.505981   -1.73971   -0.699928         1\n",
       "0004d0b59e19461ff126e3a08a814c33.jpg      -0.449659      8.12569      187.55   -0.328156   -0.169798   2.82875          0\n",
       "00053f5e11d1fe4e49a221165b39abc9.jpg      -1.22675      -0.162461     168.996  -0.0148621  -0.321776  -0.0755221        4\n",
       "00056c20eb5a029583db75506953f1d9.jpg       1.73019      -4.61845      179.963   0.109741    0.646206  -1.68678          2\n",
       "0006aabe0ba47a35c0b0bf6596f85159.jpg      -5.84977       1.00668      180.632   0.212234   -0.178107   0.132653         2\n",
       "0006dd05ea1e999ddaa041a7091b7b36.jpg      -9.62826       8.84762      168.886   0.0512695  -1.82588    1.95608          2\n",
       "0007789b118e4710fc0e7c8758a6532a.jpg       6.68168      -2.49028      194.349   0.387817    2.46552   -0.88375          3\n",
       "[91231 rows x 8 columns]\n"
      ]
     },
     "execution_count": 10,
     "metadata": {},
     "output_type": "execute_result"
    }
   ],
   "source": [
    "train"
   ]
  },
  {
   "cell_type": "code",
   "execution_count": 11,
   "id": "7e400716",
   "metadata": {
    "execution": {
     "iopub.execute_input": "2022-10-30T22:13:17.430918Z",
     "iopub.status.busy": "2022-10-30T22:13:17.430512Z",
     "iopub.status.idle": "2022-10-30T22:13:19.814532Z",
     "shell.execute_reply": "2022-10-30T22:13:19.813757Z"
    },
    "papermill": {
     "duration": 2.404576,
     "end_time": "2022-10-30T22:13:19.817242",
     "exception": false,
     "start_time": "2022-10-30T22:13:17.412666",
     "status": "completed"
    },
    "tags": []
   },
   "outputs": [
    {
     "data": {
      "text/html": [
       "<table class='dataframe'>\n",
       "<thead>\n",
       "<tr><th>Filename                            </th><th style=\"text-align: right;\">  North_pixel</th><th style=\"text-align: right;\">  East_pixel</th><th style=\"text-align: right;\">  Altitude</th><th style=\"text-align: right;\">     Delta</th><th style=\"text-align: right;\">    North</th><th style=\"text-align: right;\">     East</th><th style=\"text-align: right;\">  kfold</th><th style=\"text-align: right;\">  North_prediction</th><th style=\"text-align: right;\">  East_prediction</th></tr>\n",
       "</thead>\n",
       "<tbody>\n",
       "<tr><td>00003e3b9e5336685200ae85d21b4f5e.jpg</td><td style=\"text-align: right;\">    -1.29619 </td><td style=\"text-align: right;\">    2.86893 </td><td style=\"text-align: right;\">   178.83 </td><td style=\"text-align: right;\">-0.0652313</td><td style=\"text-align: right;\">-0.386045</td><td style=\"text-align: right;\"> 0.929772</td><td style=\"text-align: right;\">      0</td><td style=\"text-align: right;\">         -0.443444</td><td style=\"text-align: right;\">         0.96083 </td></tr>\n",
       "<tr><td>0001261e2060303a06ba6c64d676d639.jpg</td><td style=\"text-align: right;\">     0.847966</td><td style=\"text-align: right;\">    0.356077</td><td style=\"text-align: right;\">   207.921</td><td style=\"text-align: right;\">-0.0806885</td><td style=\"text-align: right;\"> 0.635584</td><td style=\"text-align: right;\"> 0.152819</td><td style=\"text-align: right;\">      2</td><td style=\"text-align: right;\">          0.598949</td><td style=\"text-align: right;\">         0.194531</td></tr>\n",
       "<tr><td>0002ac0d783338cfeab0b2bdbd872cda.jpg</td><td style=\"text-align: right;\">    -3.51745 </td><td style=\"text-align: right;\">   -1.59259 </td><td style=\"text-align: right;\">   178.048</td><td style=\"text-align: right;\"> 0.0215759</td><td style=\"text-align: right;\">-1.22823 </td><td style=\"text-align: right;\">-0.499388</td><td style=\"text-align: right;\">      3</td><td style=\"text-align: right;\">         -1.21967 </td><td style=\"text-align: right;\">        -0.491063</td></tr>\n",
       "<tr><td>0004289ee1c7b8b08c77e19878106ae3.jpg</td><td style=\"text-align: right;\">    -6.09153 </td><td style=\"text-align: right;\">   -3.09927 </td><td style=\"text-align: right;\">   201.085</td><td style=\"text-align: right;\"> 0.505981 </td><td style=\"text-align: right;\">-1.73971 </td><td style=\"text-align: right;\">-0.699928</td><td style=\"text-align: right;\">      1</td><td style=\"text-align: right;\">         -1.68223 </td><td style=\"text-align: right;\">        -0.740143</td></tr>\n",
       "<tr><td>0004d0b59e19461ff126e3a08a814c33.jpg</td><td style=\"text-align: right;\">    -0.449659</td><td style=\"text-align: right;\">    8.12569 </td><td style=\"text-align: right;\">   187.55 </td><td style=\"text-align: right;\">-0.328156 </td><td style=\"text-align: right;\">-0.169798</td><td style=\"text-align: right;\"> 2.82875 </td><td style=\"text-align: right;\">      0</td><td style=\"text-align: right;\">         -0.167562</td><td style=\"text-align: right;\">         2.66844 </td></tr>\n",
       "</tbody>\n",
       "</table><pre style='font-size: smaller; margin-bottom: 1em;'>[5 rows x 10 columns]</pre>"
      ],
      "text/plain": [
       "Filename                                North_pixel    East_pixel    Altitude       Delta      North       East    kfold    North_prediction    East_prediction\n",
       "------------------------------------  -------------  ------------  ----------  ----------  ---------  ---------  -------  ------------------  -----------------\n",
       "00003e3b9e5336685200ae85d21b4f5e.jpg      -1.29619       2.86893      178.83   -0.0652313  -0.386045   0.929772        0           -0.443444           0.96083\n",
       "0001261e2060303a06ba6c64d676d639.jpg       0.847966      0.356077     207.921  -0.0806885   0.635584   0.152819        2            0.598949           0.194531\n",
       "0002ac0d783338cfeab0b2bdbd872cda.jpg      -3.51745      -1.59259      178.048   0.0215759  -1.22823   -0.499388        3           -1.21967           -0.491063\n",
       "0004289ee1c7b8b08c77e19878106ae3.jpg      -6.09153      -3.09927      201.085   0.505981   -1.73971   -0.699928        1           -1.68223           -0.740143\n",
       "0004d0b59e19461ff126e3a08a814c33.jpg      -0.449659      8.12569      187.55   -0.328156   -0.169798   2.82875         0           -0.167562           2.66844\n",
       "[5 rows x 10 columns]\n"
      ]
     },
     "execution_count": 11,
     "metadata": {},
     "output_type": "execute_result"
    }
   ],
   "source": [
    "train_final = train.cbind(north_train_preds)\n",
    "train_final = train_final.cbind(east_train_preds)\n",
    "train_final.as_data_frame().to_csv('train_final.csv')\n",
    "\n",
    "train_final.head(5)"
   ]
  },
  {
   "cell_type": "code",
   "execution_count": 12,
   "id": "ceacd86b",
   "metadata": {
    "execution": {
     "iopub.execute_input": "2022-10-30T22:13:19.853040Z",
     "iopub.status.busy": "2022-10-30T22:13:19.852644Z",
     "iopub.status.idle": "2022-10-30T22:13:20.868116Z",
     "shell.execute_reply": "2022-10-30T22:13:20.866961Z"
    },
    "papermill": {
     "duration": 1.036237,
     "end_time": "2022-10-30T22:13:20.870615",
     "exception": false,
     "start_time": "2022-10-30T22:13:19.834378",
     "status": "completed"
    },
    "tags": []
   },
   "outputs": [
    {
     "data": {
      "text/html": [
       "<table class='dataframe'>\n",
       "<thead>\n",
       "<tr><th>Filename                            </th><th style=\"text-align: right;\">  North_pixel</th><th style=\"text-align: right;\">  East_pixel</th><th style=\"text-align: right;\">  Altitude</th><th style=\"text-align: right;\">     Delta</th><th style=\"text-align: right;\">  kfold</th><th style=\"text-align: right;\">  North_prediction</th><th style=\"text-align: right;\">  East_prediction</th></tr>\n",
       "</thead>\n",
       "<tbody>\n",
       "<tr><td>000053b1e684c9e7ea73727b2238ce18.jpg</td><td style=\"text-align: right;\">     0.356597</td><td style=\"text-align: right;\">    0.257315</td><td style=\"text-align: right;\">   167.943</td><td style=\"text-align: right;\"> 0.0102692</td><td style=\"text-align: right;\">      0</td><td style=\"text-align: right;\">         0.0770973</td><td style=\"text-align: right;\">        -0.026273</td></tr>\n",
       "<tr><td>00029153d12ae1c9abe59c17ff2e0895.jpg</td><td style=\"text-align: right;\">     9.36693 </td><td style=\"text-align: right;\">   -2.49368 </td><td style=\"text-align: right;\">   195.853</td><td style=\"text-align: right;\"> 0.0892181</td><td style=\"text-align: right;\">      2</td><td style=\"text-align: right;\">         1.55857  </td><td style=\"text-align: right;\">        -0.768692</td></tr>\n",
       "<tr><td>0006246bee639c7a7b11a08e34dd3cc6.jpg</td><td style=\"text-align: right;\">   -12.5184  </td><td style=\"text-align: right;\">   -0.683746</td><td style=\"text-align: right;\">   146.943</td><td style=\"text-align: right;\">-0.0183258</td><td style=\"text-align: right;\">      1</td><td style=\"text-align: right;\">        -1.20127  </td><td style=\"text-align: right;\">         0.210356</td></tr>\n",
       "<tr><td>00063cb5da1826febf178b669eea3250.jpg</td><td style=\"text-align: right;\">   -25.9429  </td><td style=\"text-align: right;\">   -0.682081</td><td style=\"text-align: right;\">   213.184</td><td style=\"text-align: right;\">-0.108704 </td><td style=\"text-align: right;\">      1</td><td style=\"text-align: right;\">        -0.991213 </td><td style=\"text-align: right;\">        -0.19948 </td></tr>\n",
       "<tr><td>00063ece2e68a8847f228e8fd922f851.jpg</td><td style=\"text-align: right;\">    -0.165511</td><td style=\"text-align: right;\">   -6.8528  </td><td style=\"text-align: right;\">   184.758</td><td style=\"text-align: right;\"> 0.0177002</td><td style=\"text-align: right;\">      0</td><td style=\"text-align: right;\">         0.024323 </td><td style=\"text-align: right;\">        -1.09214 </td></tr>\n",
       "<tr><td>000838c1249fec206b77360ff0adc110.jpg</td><td style=\"text-align: right;\">     2.78873 </td><td style=\"text-align: right;\">   -2.46239 </td><td style=\"text-align: right;\">   209.136</td><td style=\"text-align: right;\">-0.544525 </td><td style=\"text-align: right;\">      1</td><td style=\"text-align: right;\">         1.22051  </td><td style=\"text-align: right;\">        -1.42201 </td></tr>\n",
       "<tr><td>000a8e84b013655b832041a6f362e5c9.jpg</td><td style=\"text-align: right;\">    -0.061612</td><td style=\"text-align: right;\">   -4.1541  </td><td style=\"text-align: right;\">   177.72 </td><td style=\"text-align: right;\">-0.23024  </td><td style=\"text-align: right;\">      4</td><td style=\"text-align: right;\">         0.0270366</td><td style=\"text-align: right;\">        -1.05773 </td></tr>\n",
       "<tr><td>000d0c74074191add6f22e0004db8f76.jpg</td><td style=\"text-align: right;\">     2.78086 </td><td style=\"text-align: right;\">   -5.82139 </td><td style=\"text-align: right;\">   200.488</td><td style=\"text-align: right;\"> 0.0812378</td><td style=\"text-align: right;\">      3</td><td style=\"text-align: right;\">         0.880434 </td><td style=\"text-align: right;\">        -1.98016 </td></tr>\n",
       "<tr><td>000dd3543ac84d906eae52e7c779bb2a.jpg</td><td style=\"text-align: right;\">    -3.27656 </td><td style=\"text-align: right;\">   -8.70192 </td><td style=\"text-align: right;\">   155.313</td><td style=\"text-align: right;\"> 0.062027 </td><td style=\"text-align: right;\">      4</td><td style=\"text-align: right;\">        -0.395344 </td><td style=\"text-align: right;\">        -1.27647 </td></tr>\n",
       "<tr><td>00129b07887a18a7331909231c28816e.jpg</td><td style=\"text-align: right;\">     0.2546  </td><td style=\"text-align: right;\">    4.49667 </td><td style=\"text-align: right;\">   187.643</td><td style=\"text-align: right;\">-0.133362 </td><td style=\"text-align: right;\">      4</td><td style=\"text-align: right;\">         0.103261 </td><td style=\"text-align: right;\">         1.56825 </td></tr>\n",
       "</tbody>\n",
       "</table><pre style='font-size: smaller; margin-bottom: 1em;'>[55031 rows x 8 columns]</pre>"
      ],
      "text/plain": [
       "Filename                                North_pixel    East_pixel    Altitude       Delta    kfold    North_prediction    East_prediction\n",
       "------------------------------------  -------------  ------------  ----------  ----------  -------  ------------------  -----------------\n",
       "000053b1e684c9e7ea73727b2238ce18.jpg       0.356597      0.257315     167.943   0.0102692        0           0.0770973          -0.026273\n",
       "00029153d12ae1c9abe59c17ff2e0895.jpg       9.36693      -2.49368      195.853   0.0892181        2           1.55857            -0.768692\n",
       "0006246bee639c7a7b11a08e34dd3cc6.jpg     -12.5184       -0.683746     146.943  -0.0183258        1          -1.20127             0.210356\n",
       "00063cb5da1826febf178b669eea3250.jpg     -25.9429       -0.682081     213.184  -0.108704         1          -0.991213           -0.19948\n",
       "00063ece2e68a8847f228e8fd922f851.jpg      -0.165511     -6.8528       184.758   0.0177002        0           0.024323           -1.09214\n",
       "000838c1249fec206b77360ff0adc110.jpg       2.78873      -2.46239      209.136  -0.544525         1           1.22051            -1.42201\n",
       "000a8e84b013655b832041a6f362e5c9.jpg      -0.061612     -4.1541       177.72   -0.23024          4           0.0270366          -1.05773\n",
       "000d0c74074191add6f22e0004db8f76.jpg       2.78086      -5.82139      200.488   0.0812378        3           0.880434           -1.98016\n",
       "000dd3543ac84d906eae52e7c779bb2a.jpg      -3.27656      -8.70192      155.313   0.062027         4          -0.395344           -1.27647\n",
       "00129b07887a18a7331909231c28816e.jpg       0.2546        4.49667      187.643  -0.133362         4           0.103261            1.56825\n",
       "[55031 rows x 8 columns]\n"
      ]
     },
     "execution_count": 12,
     "metadata": {},
     "output_type": "execute_result"
    }
   ],
   "source": [
    "test_final = test.cbind(north_test_preds)\n",
    "test_final = test_final.cbind(east_test_preds)\n",
    "test_final.as_data_frame().to_csv('test_final.csv')\n",
    "\n",
    "test_final"
   ]
  },
  {
   "cell_type": "code",
   "execution_count": 13,
   "id": "147a176c",
   "metadata": {
    "execution": {
     "iopub.execute_input": "2022-10-30T22:13:20.907524Z",
     "iopub.status.busy": "2022-10-30T22:13:20.907144Z",
     "iopub.status.idle": "2022-10-30T22:13:21.269206Z",
     "shell.execute_reply": "2022-10-30T22:13:21.268096Z"
    },
    "papermill": {
     "duration": 0.383209,
     "end_time": "2022-10-30T22:13:21.271969",
     "exception": false,
     "start_time": "2022-10-30T22:13:20.888760",
     "status": "completed"
    },
    "tags": []
   },
   "outputs": [
    {
     "data": {
      "text/html": [
       "<div>\n",
       "<style scoped>\n",
       "    .dataframe tbody tr th:only-of-type {\n",
       "        vertical-align: middle;\n",
       "    }\n",
       "\n",
       "    .dataframe tbody tr th {\n",
       "        vertical-align: top;\n",
       "    }\n",
       "\n",
       "    .dataframe thead th {\n",
       "        text-align: right;\n",
       "    }\n",
       "</style>\n",
       "<table border=\"1\" class=\"dataframe\">\n",
       "  <thead>\n",
       "    <tr style=\"text-align: right;\">\n",
       "      <th></th>\n",
       "      <th>Id</th>\n",
       "      <th>Predicted</th>\n",
       "    </tr>\n",
       "  </thead>\n",
       "  <tbody>\n",
       "    <tr>\n",
       "      <th>0</th>\n",
       "      <td>000053b1e684c9e7ea73727b2238ce18.jpg:North</td>\n",
       "      <td>0.077097</td>\n",
       "    </tr>\n",
       "    <tr>\n",
       "      <th>1</th>\n",
       "      <td>00029153d12ae1c9abe59c17ff2e0895.jpg:North</td>\n",
       "      <td>1.558574</td>\n",
       "    </tr>\n",
       "    <tr>\n",
       "      <th>2</th>\n",
       "      <td>0006246bee639c7a7b11a08e34dd3cc6.jpg:North</td>\n",
       "      <td>-1.201269</td>\n",
       "    </tr>\n",
       "    <tr>\n",
       "      <th>3</th>\n",
       "      <td>00063cb5da1826febf178b669eea3250.jpg:North</td>\n",
       "      <td>-0.991213</td>\n",
       "    </tr>\n",
       "    <tr>\n",
       "      <th>4</th>\n",
       "      <td>00063ece2e68a8847f228e8fd922f851.jpg:North</td>\n",
       "      <td>0.024323</td>\n",
       "    </tr>\n",
       "  </tbody>\n",
       "</table>\n",
       "</div>"
      ],
      "text/plain": [
       "                                           Id  Predicted\n",
       "0  000053b1e684c9e7ea73727b2238ce18.jpg:North   0.077097\n",
       "1  00029153d12ae1c9abe59c17ff2e0895.jpg:North   1.558574\n",
       "2  0006246bee639c7a7b11a08e34dd3cc6.jpg:North  -1.201269\n",
       "3  00063cb5da1826febf178b669eea3250.jpg:North  -0.991213\n",
       "4  00063ece2e68a8847f228e8fd922f851.jpg:North   0.024323"
      ]
     },
     "execution_count": 13,
     "metadata": {},
     "output_type": "execute_result"
    }
   ],
   "source": [
    "submission = test_final.as_data_frame()[['Filename', 'North_prediction', 'East_prediction']]\n",
    "submission.rename({'North_prediction':'North', 'East_prediction':'East'}, axis=1, inplace=True)\n",
    "submission = submission.melt(id_vars='Filename', value_name='Predicted')\n",
    "submission['Id'] = submission.Filename + ':' + submission.variable\n",
    "submission = submission[['Id', 'Predicted']]\n",
    "submission.head()"
   ]
  },
  {
   "cell_type": "code",
   "execution_count": 14,
   "id": "d81936b2",
   "metadata": {
    "execution": {
     "iopub.execute_input": "2022-10-30T22:13:21.308037Z",
     "iopub.status.busy": "2022-10-30T22:13:21.307610Z",
     "iopub.status.idle": "2022-10-30T22:13:21.633457Z",
     "shell.execute_reply": "2022-10-30T22:13:21.632164Z"
    },
    "papermill": {
     "duration": 0.347569,
     "end_time": "2022-10-30T22:13:21.636674",
     "exception": false,
     "start_time": "2022-10-30T22:13:21.289105",
     "status": "completed"
    },
    "tags": []
   },
   "outputs": [],
   "source": [
    "submission.to_csv('submission.csv', index=False)"
   ]
  },
  {
   "cell_type": "code",
   "execution_count": null,
   "id": "cdf1798a",
   "metadata": {
    "papermill": {
     "duration": 0.017063,
     "end_time": "2022-10-30T22:13:21.671511",
     "exception": false,
     "start_time": "2022-10-30T22:13:21.654448",
     "status": "completed"
    },
    "tags": []
   },
   "outputs": [],
   "source": []
  }
 ],
 "metadata": {
  "kernelspec": {
   "display_name": "Python 3",
   "language": "python",
   "name": "python3"
  },
  "language_info": {
   "codemirror_mode": {
    "name": "ipython",
    "version": 3
   },
   "file_extension": ".py",
   "mimetype": "text/x-python",
   "name": "python",
   "nbconvert_exporter": "python",
   "pygments_lexer": "ipython3",
   "version": "3.7.12"
  },
  "papermill": {
   "default_parameters": {},
   "duration": 758.355257,
   "end_time": "2022-10-30T22:13:23.215977",
   "environment_variables": {},
   "exception": null,
   "input_path": "__notebook__.ipynb",
   "output_path": "__notebook__.ipynb",
   "parameters": {},
   "start_time": "2022-10-30T22:00:44.860720",
   "version": "2.3.4"
  }
 },
 "nbformat": 4,
 "nbformat_minor": 5
}
