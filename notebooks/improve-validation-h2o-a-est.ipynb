{
 "cells": [
  {
   "cell_type": "markdown",
   "id": "3f6d6213",
   "metadata": {
    "papermill": {
     "duration": 0.008027,
     "end_time": "2022-10-30T22:00:42.149495",
     "exception": false,
     "start_time": "2022-10-30T22:00:42.141468",
     "status": "completed"
    },
    "tags": []
   },
   "source": [
    "# Single Output Regression"
   ]
  },
  {
   "cell_type": "code",
   "execution_count": 1,
   "id": "3890cd60",
   "metadata": {
    "_cell_guid": "b1076dfc-b9ad-4769-8c92-a6c4dae69d19",
    "_uuid": "8f2839f25d086af736a60e9eeb907d3b93b6e0e5",
    "execution": {
     "iopub.execute_input": "2022-10-30T22:00:42.162415Z",
     "iopub.status.busy": "2022-10-30T22:00:42.161577Z",
     "iopub.status.idle": "2022-10-30T22:00:42.302644Z",
     "shell.execute_reply": "2022-10-30T22:00:42.301233Z"
    },
    "papermill": {
     "duration": 0.150924,
     "end_time": "2022-10-30T22:00:42.305854",
     "exception": false,
     "start_time": "2022-10-30T22:00:42.154930",
     "status": "completed"
    },
    "tags": []
   },
   "outputs": [],
   "source": [
    "import os\n",
    "import sys\n",
    "import numpy as np\n",
    "import pandas as pd\n",
    "from tqdm.auto import tqdm\n",
    "import matplotlib.pyplot as plt\n",
    "from kaggle_secrets import UserSecretsClient\n",
    "from pathlib import Path\n",
    "\n",
    "\n",
    "# user_secrets = UserSecretsClient()\n",
    "# wandb_key = user_secrets.get_secret(\"wandb_key\")\n",
    "\n",
    "SEED = 42\n",
    "PATH = Path('../input/kdd-team/')\n",
    "PIX_FILES = ['pixels_dist_train_a_est.csv', 'pixels_dist_test_a_est.csv']\n",
    "MAX_TIME = 360"
   ]
  },
  {
   "cell_type": "code",
   "execution_count": 2,
   "id": "963653ea",
   "metadata": {
    "execution": {
     "iopub.execute_input": "2022-10-30T22:00:42.317953Z",
     "iopub.status.busy": "2022-10-30T22:00:42.317549Z",
     "iopub.status.idle": "2022-10-30T22:00:42.931277Z",
     "shell.execute_reply": "2022-10-30T22:00:42.929618Z"
    },
    "papermill": {
     "duration": 0.624914,
     "end_time": "2022-10-30T22:00:42.935970",
     "exception": false,
     "start_time": "2022-10-30T22:00:42.311056",
     "status": "completed"
    },
    "tags": []
   },
   "outputs": [
    {
     "name": "stdout",
     "output_type": "stream",
     "text": [
      "(146262, 6)\n"
     ]
    },
    {
     "data": {
      "text/html": [
       "<div>\n",
       "<style scoped>\n",
       "    .dataframe tbody tr th:only-of-type {\n",
       "        vertical-align: middle;\n",
       "    }\n",
       "\n",
       "    .dataframe tbody tr th {\n",
       "        vertical-align: top;\n",
       "    }\n",
       "\n",
       "    .dataframe thead th {\n",
       "        text-align: right;\n",
       "    }\n",
       "</style>\n",
       "<table border=\"1\" class=\"dataframe\">\n",
       "  <thead>\n",
       "    <tr style=\"text-align: right;\">\n",
       "      <th></th>\n",
       "      <th>Filename</th>\n",
       "      <th>Altitude</th>\n",
       "      <th>Delta</th>\n",
       "      <th>North</th>\n",
       "      <th>East</th>\n",
       "      <th>kfold</th>\n",
       "    </tr>\n",
       "  </thead>\n",
       "  <tbody>\n",
       "    <tr>\n",
       "      <th>0</th>\n",
       "      <td>00003e3b9e5336685200ae85d21b4f5e.jpg</td>\n",
       "      <td>178.829834</td>\n",
       "      <td>-0.065231</td>\n",
       "      <td>-0.386045</td>\n",
       "      <td>0.929772</td>\n",
       "      <td>0</td>\n",
       "    </tr>\n",
       "    <tr>\n",
       "      <th>1</th>\n",
       "      <td>0001261e2060303a06ba6c64d676d639.jpg</td>\n",
       "      <td>207.921478</td>\n",
       "      <td>-0.080688</td>\n",
       "      <td>0.635584</td>\n",
       "      <td>0.152819</td>\n",
       "      <td>2</td>\n",
       "    </tr>\n",
       "    <tr>\n",
       "      <th>2</th>\n",
       "      <td>0002ac0d783338cfeab0b2bdbd872cda.jpg</td>\n",
       "      <td>178.048431</td>\n",
       "      <td>0.021576</td>\n",
       "      <td>-1.228229</td>\n",
       "      <td>-0.499388</td>\n",
       "      <td>3</td>\n",
       "    </tr>\n",
       "    <tr>\n",
       "      <th>3</th>\n",
       "      <td>0004289ee1c7b8b08c77e19878106ae3.jpg</td>\n",
       "      <td>201.084625</td>\n",
       "      <td>0.505981</td>\n",
       "      <td>-1.739709</td>\n",
       "      <td>-0.699928</td>\n",
       "      <td>1</td>\n",
       "    </tr>\n",
       "    <tr>\n",
       "      <th>4</th>\n",
       "      <td>0004d0b59e19461ff126e3a08a814c33.jpg</td>\n",
       "      <td>187.550201</td>\n",
       "      <td>-0.328156</td>\n",
       "      <td>-0.169798</td>\n",
       "      <td>2.828752</td>\n",
       "      <td>0</td>\n",
       "    </tr>\n",
       "  </tbody>\n",
       "</table>\n",
       "</div>"
      ],
      "text/plain": [
       "                               Filename    Altitude     Delta     North  \\\n",
       "0  00003e3b9e5336685200ae85d21b4f5e.jpg  178.829834 -0.065231 -0.386045   \n",
       "1  0001261e2060303a06ba6c64d676d639.jpg  207.921478 -0.080688  0.635584   \n",
       "2  0002ac0d783338cfeab0b2bdbd872cda.jpg  178.048431  0.021576 -1.228229   \n",
       "3  0004289ee1c7b8b08c77e19878106ae3.jpg  201.084625  0.505981 -1.739709   \n",
       "4  0004d0b59e19461ff126e3a08a814c33.jpg  187.550201 -0.328156 -0.169798   \n",
       "\n",
       "       East  kfold  \n",
       "0  0.929772      0  \n",
       "1  0.152819      2  \n",
       "2 -0.499388      3  \n",
       "3 -0.699928      1  \n",
       "4  2.828752      0  "
      ]
     },
     "execution_count": 2,
     "metadata": {},
     "output_type": "execute_result"
    }
   ],
   "source": [
    "pub = pd.read_csv('../input/kdd-team/public.csv')\n",
    "print(pub.shape)\n",
    "pub.head()"
   ]
  },
  {
   "cell_type": "code",
   "execution_count": 3,
   "id": "64c041dd",
   "metadata": {
    "execution": {
     "iopub.execute_input": "2022-10-30T22:00:42.953956Z",
     "iopub.status.busy": "2022-10-30T22:00:42.953226Z",
     "iopub.status.idle": "2022-10-30T22:00:42.990665Z",
     "shell.execute_reply": "2022-10-30T22:00:42.989210Z"
    },
    "papermill": {
     "duration": 0.050015,
     "end_time": "2022-10-30T22:00:42.993967",
     "exception": false,
     "start_time": "2022-10-30T22:00:42.943952",
     "status": "completed"
    },
    "tags": []
   },
   "outputs": [
    {
     "name": "stdout",
     "output_type": "stream",
     "text": [
      "<class 'pandas.core.frame.DataFrame'>\n",
      "RangeIndex: 146262 entries, 0 to 146261\n",
      "Data columns (total 6 columns):\n",
      " #   Column    Non-Null Count   Dtype  \n",
      "---  ------    --------------   -----  \n",
      " 0   Filename  146262 non-null  object \n",
      " 1   Altitude  146262 non-null  float64\n",
      " 2   Delta     146262 non-null  float64\n",
      " 3   North     91231 non-null   float64\n",
      " 4   East      91231 non-null   float64\n",
      " 5   kfold     146262 non-null  int64  \n",
      "dtypes: float64(4), int64(1), object(1)\n",
      "memory usage: 6.7+ MB\n"
     ]
    }
   ],
   "source": [
    "pub.info()"
   ]
  },
  {
   "cell_type": "code",
   "execution_count": 4,
   "id": "e2bc5604",
   "metadata": {
    "execution": {
     "iopub.execute_input": "2022-10-30T22:00:43.006711Z",
     "iopub.status.busy": "2022-10-30T22:00:43.006271Z",
     "iopub.status.idle": "2022-10-30T22:00:43.017398Z",
     "shell.execute_reply": "2022-10-30T22:00:43.016122Z"
    },
    "papermill": {
     "duration": 0.02005,
     "end_time": "2022-10-30T22:00:43.019890",
     "exception": false,
     "start_time": "2022-10-30T22:00:42.999840",
     "status": "completed"
    },
    "tags": []
   },
   "outputs": [],
   "source": [
    "def make_train_test(train_pixels_file, test_pixels_file=None, H2O=False):\n",
    "    train = pd.read_csv(PATH / train_pixels_file, low_memory=False)\n",
    "    print('Train Shape:', train.shape)\n",
    "    train.rename({'Images':'Filename'}, axis=1, inplace=True)\n",
    "    train = train.merge(pub, on='Filename', how='inner').reset_index(drop=True)\n",
    "    train.reset_index(inplace=True, drop=True)\n",
    "    print('Train Merged Shape:', train.shape)\n",
    "    \n",
    "    if test_pixels_file is not None:\n",
    "        test = pd.read_csv(PATH / test_pixels_file, low_memory=False)\n",
    "        print('Test Shape:', test.shape)\n",
    "        test.rename({'Images':'Filename'}, axis=1, inplace=True)\n",
    "        test = test.merge(pub, on='Filename', how='inner')\n",
    "        test.drop(['North', 'East'], axis=1, inplace=True)\n",
    "        test.reset_index(inplace=True, drop=True)\n",
    "        print('Test Merged Shape:', test.shape)\n",
    "    else:\n",
    "        X_test = None\n",
    "        \n",
    "    if H2O:\n",
    "        train = h2o.H2OFrame(train)\n",
    "        test = h2o.H2OFrame(test)\n",
    "        \n",
    "    return train, test"
   ]
  },
  {
   "cell_type": "code",
   "execution_count": 5,
   "id": "3046279c",
   "metadata": {
    "execution": {
     "iopub.execute_input": "2022-10-30T22:00:43.032085Z",
     "iopub.status.busy": "2022-10-30T22:00:43.031119Z",
     "iopub.status.idle": "2022-10-30T22:00:51.542826Z",
     "shell.execute_reply": "2022-10-30T22:00:51.541260Z"
    },
    "papermill": {
     "duration": 8.521289,
     "end_time": "2022-10-30T22:00:51.546195",
     "exception": false,
     "start_time": "2022-10-30T22:00:43.024906",
     "status": "completed"
    },
    "tags": []
   },
   "outputs": [
    {
     "name": "stdout",
     "output_type": "stream",
     "text": [
      "Checking whether there is an H2O instance running at http://localhost:54321 ..... not found.\n",
      "Attempting to start a local H2O server...\n",
      "  Java Version: openjdk version \"11.0.16\" 2022-07-19; OpenJDK Runtime Environment (build 11.0.16+8-post-Ubuntu-0ubuntu120.04); OpenJDK 64-Bit Server VM (build 11.0.16+8-post-Ubuntu-0ubuntu120.04, mixed mode, sharing)\n",
      "  Starting server from /opt/conda/lib/python3.7/site-packages/h2o/backend/bin/h2o.jar\n",
      "  Ice root: /tmp/tmp0m4jzkne\n",
      "  JVM stdout: /tmp/tmp0m4jzkne/h2o_unknownUser_started_from_python.out\n",
      "  JVM stderr: /tmp/tmp0m4jzkne/h2o_unknownUser_started_from_python.err\n",
      "  Server is running at http://127.0.0.1:54321\n",
      "Connecting to H2O server at http://127.0.0.1:54321 ... successful.\n"
     ]
    },
    {
     "data": {
      "text/html": [
       "\n",
       "<style>\n",
       "\n",
       "#h2o-table-1.h2o-container {\n",
       "  overflow-x: auto;\n",
       "}\n",
       "#h2o-table-1 .h2o-table {\n",
       "  /* width: 100%; */\n",
       "  margin-top: 1em;\n",
       "  margin-bottom: 1em;\n",
       "}\n",
       "#h2o-table-1 .h2o-table caption {\n",
       "  white-space: nowrap;\n",
       "  caption-side: top;\n",
       "  text-align: left;\n",
       "  /* margin-left: 1em; */\n",
       "  margin: 0;\n",
       "  font-size: larger;\n",
       "}\n",
       "#h2o-table-1 .h2o-table thead {\n",
       "  white-space: nowrap; \n",
       "  position: sticky;\n",
       "  top: 0;\n",
       "  box-shadow: 0 -1px inset;\n",
       "}\n",
       "#h2o-table-1 .h2o-table tbody {\n",
       "  overflow: auto;\n",
       "}\n",
       "#h2o-table-1 .h2o-table th,\n",
       "#h2o-table-1 .h2o-table td {\n",
       "  text-align: right;\n",
       "  /* border: 1px solid; */\n",
       "}\n",
       "#h2o-table-1 .h2o-table tr:nth-child(even) {\n",
       "  /* background: #F5F5F5 */\n",
       "}\n",
       "\n",
       "</style>      \n",
       "<div id=\"h2o-table-1\" class=\"h2o-container\">\n",
       "  <table class=\"h2o-table\">\n",
       "    <caption></caption>\n",
       "    <thead></thead>\n",
       "    <tbody><tr><td>H2O_cluster_uptime:</td>\n",
       "<td>03 secs</td></tr>\n",
       "<tr><td>H2O_cluster_timezone:</td>\n",
       "<td>Etc/UTC</td></tr>\n",
       "<tr><td>H2O_data_parsing_timezone:</td>\n",
       "<td>UTC</td></tr>\n",
       "<tr><td>H2O_cluster_version:</td>\n",
       "<td>3.38.0.1</td></tr>\n",
       "<tr><td>H2O_cluster_version_age:</td>\n",
       "<td>1 month and 11 days </td></tr>\n",
       "<tr><td>H2O_cluster_name:</td>\n",
       "<td>H2O_from_python_unknownUser_vyx5rh</td></tr>\n",
       "<tr><td>H2O_cluster_total_nodes:</td>\n",
       "<td>1</td></tr>\n",
       "<tr><td>H2O_cluster_free_memory:</td>\n",
       "<td>7.500 Gb</td></tr>\n",
       "<tr><td>H2O_cluster_total_cores:</td>\n",
       "<td>4</td></tr>\n",
       "<tr><td>H2O_cluster_allowed_cores:</td>\n",
       "<td>4</td></tr>\n",
       "<tr><td>H2O_cluster_status:</td>\n",
       "<td>locked, healthy</td></tr>\n",
       "<tr><td>H2O_connection_url:</td>\n",
       "<td>http://127.0.0.1:54321</td></tr>\n",
       "<tr><td>H2O_connection_proxy:</td>\n",
       "<td>{\"http\": null, \"https\": null}</td></tr>\n",
       "<tr><td>H2O_internal_security:</td>\n",
       "<td>False</td></tr>\n",
       "<tr><td>Python_version:</td>\n",
       "<td>3.7.12 final</td></tr></tbody>\n",
       "  </table>\n",
       "</div>\n"
      ],
      "text/plain": [
       "--------------------------  ----------------------------------\n",
       "H2O_cluster_uptime:         03 secs\n",
       "H2O_cluster_timezone:       Etc/UTC\n",
       "H2O_data_parsing_timezone:  UTC\n",
       "H2O_cluster_version:        3.38.0.1\n",
       "H2O_cluster_version_age:    1 month and 11 days\n",
       "H2O_cluster_name:           H2O_from_python_unknownUser_vyx5rh\n",
       "H2O_cluster_total_nodes:    1\n",
       "H2O_cluster_free_memory:    7.500 Gb\n",
       "H2O_cluster_total_cores:    4\n",
       "H2O_cluster_allowed_cores:  4\n",
       "H2O_cluster_status:         locked, healthy\n",
       "H2O_connection_url:         http://127.0.0.1:54321\n",
       "H2O_connection_proxy:       {\"http\": null, \"https\": null}\n",
       "H2O_internal_security:      False\n",
       "Python_version:             3.7.12 final\n",
       "--------------------------  ----------------------------------"
      ]
     },
     "metadata": {},
     "output_type": "display_data"
    }
   ],
   "source": [
    "import h2o\n",
    "from h2o.automl import H2OAutoML\n",
    "\n",
    "h2o.init()"
   ]
  },
  {
   "cell_type": "code",
   "execution_count": 6,
   "id": "f9f24d0b",
   "metadata": {
    "execution": {
     "iopub.execute_input": "2022-10-30T22:00:51.566067Z",
     "iopub.status.busy": "2022-10-30T22:00:51.565330Z",
     "iopub.status.idle": "2022-10-30T22:00:58.750444Z",
     "shell.execute_reply": "2022-10-30T22:00:58.748780Z"
    },
    "papermill": {
     "duration": 7.199358,
     "end_time": "2022-10-30T22:00:58.754162",
     "exception": false,
     "start_time": "2022-10-30T22:00:51.554804",
     "status": "completed"
    },
    "tags": []
   },
   "outputs": [
    {
     "name": "stdout",
     "output_type": "stream",
     "text": [
      "Train Shape: (91231, 3)\n",
      "Train Merged Shape: (91231, 8)\n",
      "Test Shape: (55031, 3)\n",
      "Test Merged Shape: (55031, 6)\n",
      "Parse progress: |████████████████████████████████████████████████████████████████| (done) 100%\n",
      "Parse progress: |████████████████████████████████████████████████████████████████| (done) 100%\n"
     ]
    }
   ],
   "source": [
    "train, test = make_train_test(PIX_FILES[0],\n",
    "                              PIX_FILES[1],\n",
    "                              H2O=True)"
   ]
  },
  {
   "cell_type": "code",
   "execution_count": 7,
   "id": "61ae406c",
   "metadata": {
    "execution": {
     "iopub.execute_input": "2022-10-30T22:00:58.775117Z",
     "iopub.status.busy": "2022-10-30T22:00:58.773652Z",
     "iopub.status.idle": "2022-10-30T22:00:58.784339Z",
     "shell.execute_reply": "2022-10-30T22:00:58.783105Z"
    },
    "papermill": {
     "duration": 0.024814,
     "end_time": "2022-10-30T22:00:58.787990",
     "exception": false,
     "start_time": "2022-10-30T22:00:58.763176",
     "status": "completed"
    },
    "tags": []
   },
   "outputs": [],
   "source": [
    "features = ['North_pixel', 'East_pixel', 'Altitude', 'Delta']\n",
    "\n",
    "def train_automl(train, test, target, max_runtime_secs=3600):\n",
    "    \n",
    "    aml = H2OAutoML(seed=SEED,\n",
    "                    max_runtime_secs=max_runtime_secs,\n",
    "                    stopping_metric='RMSE',\n",
    "                    sort_metric='RMSE',\n",
    "                    exploitation_ratio=0.1,\n",
    "                    verbosity='info')\n",
    "\n",
    "    aml.train(x=features, y=target, training_frame=train)  \n",
    "    \n",
    "    train_preds = aml.leader.predict(train)\n",
    "    train_preds.rename({'predict':target+'_prediction'})\n",
    "    \n",
    "    test_preds = aml.leader.predict(test)\n",
    "    test_preds.rename({'predict':target+'_prediction'})\n",
    "    \n",
    "    return aml, train_preds, test_preds\n",
    "    "
   ]
  },
  {
   "cell_type": "code",
   "execution_count": 8,
   "id": "c4318d22",
   "metadata": {
    "execution": {
     "iopub.execute_input": "2022-10-30T22:00:58.809371Z",
     "iopub.status.busy": "2022-10-30T22:00:58.808378Z",
     "iopub.status.idle": "2022-10-30T22:07:03.689147Z",
     "shell.execute_reply": "2022-10-30T22:07:03.687560Z"
    },
    "papermill": {
     "duration": 364.89597,
     "end_time": "2022-10-30T22:07:03.692791",
     "exception": false,
     "start_time": "2022-10-30T22:00:58.796821",
     "status": "completed"
    },
    "tags": []
   },
   "outputs": [
    {
     "name": "stdout",
     "output_type": "stream",
     "text": [
      "AutoML progress: |\n",
      "22:00:59.10: Project: AutoML_1_20221030_220058\n",
      "22:00:59.12: 5-fold cross-validation will be used.\n",
      "22:00:59.13: Setting stopping tolerance adaptively based on the training frame: 0.0033107682550761745\n",
      "22:00:59.13: Build control seed: 42\n",
      "22:00:59.14: training frame: Frame key: AutoML_1_20221030_220058_training_Key_Frame__upload_b10035c17da862f2b089829acda44db7.hex    cols: 8    rows: 91231  chunks: 4    size: 8212986  checksum: 7075760434043015152\n",
      "22:00:59.14: validation frame: NULL\n",
      "22:00:59.14: leaderboard frame: NULL\n",
      "22:00:59.14: blending frame: NULL\n",
      "22:00:59.14: response column: North\n",
      "22:00:59.15: fold column: null\n",
      "22:00:59.15: weights column: null\n",
      "22:00:59.42: Loading execution steps: [{XGBoost : [def_2 (1g, 10w), def_1 (2g, 10w), def_3 (3g, 10w), grid_1 (4g, 90w), lr_search (6g, 30w)]}, {GLM : [def_1 (1g, 10w)]}, {DRF : [def_1 (2g, 10w), XRT (3g, 10w)]}, {GBM : [def_5 (1g, 10w), def_2 (2g, 10w), def_3 (2g, 10w), def_4 (2g, 10w), def_1 (3g, 10w), grid_1 (4g, 60w), lr_annealing (6g, 10w)]}, {DeepLearning : [def_1 (3g, 10w), grid_1 (4g, 30w), grid_2 (5g, 30w), grid_3 (5g, 30w)]}, {completion : [resume_best_grids (10g, 60w)]}, {StackedEnsemble : [best_of_family_1 (1g, 5w), best_of_family_2 (2g, 5w), best_of_family_3 (3g, 5w), best_of_family_4 (4g, 5w), best_of_family_5 (5g, 5w), all_2 (2g, 10w), all_3 (3g, 10w), all_4 (4g, 10w), all_5 (5g, 10w), monotonic (6g, 10w), best_of_family_gbm (6g, 10w), all_gbm (7g, 10w), best_of_family_xglm (8g, 10w), all_xglm (8g, 10w), best_of_family (10g, 10w), best_N (10g, 10w)]}]\n",
      "22:00:59.81: AutoML job created: 2022.10.30 22:00:58.971\n",
      "22:00:59.82: AutoML build started: 2022.10.30 22:00:59.82\n",
      "22:00:59.104: AutoML: starting XGBoost_1_AutoML_1_20221030_220058 model training\n",
      "\n",
      "████████\n",
      "22:01:42.32: New leader: XGBoost_1_AutoML_1_20221030_220058, rmse: 0.40715993252805094\n",
      "22:01:42.38: AutoML: starting GLM_1_AutoML_1_20221030_220058 model training\n",
      "\n",
      "█\n",
      "22:01:45.974: AutoML: starting GBM_1_AutoML_1_20221030_220058 model training\n",
      "\n",
      "███████\n",
      "22:02:29.295: New leader: GBM_1_AutoML_1_20221030_220058, rmse: 0.37530687684789454\n",
      "22:02:29.314: AutoML: starting StackedEnsemble_BestOfFamily_1_AutoML_1_20221030_220058 model training\n",
      "\n",
      "█\n",
      "22:02:30.496: New leader: StackedEnsemble_BestOfFamily_1_AutoML_1_20221030_220058, rmse: 0.3672580406892915\n",
      "22:02:30.497: AutoML: starting XGBoost_2_AutoML_1_20221030_220058 model training\n",
      "\n",
      "████\n",
      "22:02:54.649: AutoML: starting DRF_1_AutoML_1_20221030_220058 model training\n",
      "\n",
      "███████\n",
      "22:03:38.271: New leader: DRF_1_AutoML_1_20221030_220058, rmse: 0.3401939381671498\n",
      "22:03:38.272: AutoML: starting GBM_2_AutoML_1_20221030_220058 model training\n",
      "\n",
      "█████\n",
      "22:04:03.904: AutoML: starting GBM_3_AutoML_1_20221030_220058 model training\n",
      "\n",
      "████\n",
      "22:04:27.31: AutoML: starting GBM_4_AutoML_1_20221030_220058 model training\n",
      "\n",
      "███\n",
      "22:04:49.868: AutoML: starting StackedEnsemble_BestOfFamily_2_AutoML_1_20221030_220058 model training\n",
      "\n",
      "█\n",
      "22:04:50.662: New leader: StackedEnsemble_BestOfFamily_2_AutoML_1_20221030_220058, rmse: 0.33927181253488115\n",
      "22:04:50.664: AutoML: starting StackedEnsemble_AllModels_1_AutoML_1_20221030_220058 model training\n",
      "22:04:51.441: New leader: StackedEnsemble_AllModels_1_AutoML_1_20221030_220058, rmse: 0.33815693349362075\n",
      "22:04:51.442: AutoML: starting XGBoost_3_AutoML_1_20221030_220058 model training\n",
      "\n",
      "████\n",
      "22:05:13.800: AutoML: starting XRT_1_AutoML_1_20221030_220058 model training\n",
      "\n",
      "███\n",
      "22:05:37.140: AutoML: starting GBM_5_AutoML_1_20221030_220058 model training\n",
      "\n",
      "████\n",
      "22:05:57.854: AutoML: starting DeepLearning_1_AutoML_1_20221030_220058 model training\n",
      "\n",
      "████\n",
      "22:06:18.735: AutoML: starting StackedEnsemble_BestOfFamily_3_AutoML_1_20221030_220058 model training\n",
      "22:06:19.357: New leader: StackedEnsemble_BestOfFamily_3_AutoML_1_20221030_220058, rmse: 0.3357294793703633\n",
      "22:06:19.359: AutoML: starting StackedEnsemble_AllModels_2_AutoML_1_20221030_220058 model training\n",
      "\n",
      "\n",
      "22:06:20.222: New leader: StackedEnsemble_AllModels_2_AutoML_1_20221030_220058, rmse: 0.33538176482865123\n",
      "22:06:20.226: AutoML: starting XGBoost_grid_1_AutoML_1_20221030_220058 hyperparameter search\n",
      "\n",
      "███\n",
      "22:06:39.275: AutoML: starting GBM_grid_1_AutoML_1_20221030_220058 hyperparameter search\n",
      "\n",
      "██\n",
      "22:06:51.208: AutoML: starting DeepLearning_grid_1_AutoML_1_20221030_220058 hyperparameter search\n",
      "\n",
      "██| (done) 100%\n",
      "\n",
      "22:06:56.923: AutoML: starting StackedEnsemble_AllModels_3_AutoML_1_20221030_220058 model training\n",
      "22:06:57.786: AutoML: starting DeepLearning_grid_2_AutoML_1_20221030_220058 hyperparameter search\n",
      "22:06:59.876: Actual modeling steps: [{XGBoost : [def_2 (1g, 10w)]}, {GLM : [def_1 (1g, 10w)]}, {GBM : [def_5 (1g, 10w)]}, {StackedEnsemble : [best_of_family_1 (1g, 5w)]}, {XGBoost : [def_1 (2g, 10w)]}, {DRF : [def_1 (2g, 10w)]}, {GBM : [def_2 (2g, 10w), def_3 (2g, 10w), def_4 (2g, 10w)]}, {StackedEnsemble : [best_of_family_2 (2g, 5w), all_2 (2g, 10w)]}, {XGBoost : [def_3 (3g, 10w)]}, {DRF : [XRT (3g, 10w)]}, {GBM : [def_1 (3g, 10w)]}, {DeepLearning : [def_1 (3g, 10w)]}, {StackedEnsemble : [best_of_family_3 (3g, 5w), all_3 (3g, 10w)]}, {XGBoost : [grid_1 (4g, 90w)]}, {GBM : [grid_1 (4g, 60w)]}, {DeepLearning : [grid_1 (4g, 30w)]}, {StackedEnsemble : [all_4 (4g, 10w)]}, {DeepLearning : [grid_2 (5g, 30w)]}]\n",
      "22:06:59.876: AutoML build stopped: 2022.10.30 22:06:59.876\n",
      "22:06:59.876: AutoML build done: built 16 models\n",
      "22:06:59.876: AutoML duration:  6 min  0.794 sec\n",
      "\n",
      "stackedensemble prediction progress: |███████████████████████████████████████████| (done) 100%\n",
      "stackedensemble prediction progress: |███████████████████████████████████████████| (done) 100%\n"
     ]
    },
    {
     "data": {
      "text/html": [
       "<table class='dataframe'>\n",
       "<thead>\n",
       "<tr><th>model_id                                               </th><th style=\"text-align: right;\">    rmse</th><th style=\"text-align: right;\">     mse</th><th style=\"text-align: right;\">     mae</th><th style=\"text-align: right;\">  rmsle</th><th style=\"text-align: right;\">  mean_residual_deviance</th></tr>\n",
       "</thead>\n",
       "<tbody>\n",
       "<tr><td>StackedEnsemble_AllModels_2_AutoML_1_20221030_220058   </td><td style=\"text-align: right;\">0.335382</td><td style=\"text-align: right;\">0.112481</td><td style=\"text-align: right;\">0.129516</td><td style=\"text-align: right;\">    nan</td><td style=\"text-align: right;\">                0.112481</td></tr>\n",
       "<tr><td>StackedEnsemble_AllModels_3_AutoML_1_20221030_220058   </td><td style=\"text-align: right;\">0.335668</td><td style=\"text-align: right;\">0.112673</td><td style=\"text-align: right;\">0.130267</td><td style=\"text-align: right;\">    nan</td><td style=\"text-align: right;\">                0.112673</td></tr>\n",
       "<tr><td>StackedEnsemble_BestOfFamily_3_AutoML_1_20221030_220058</td><td style=\"text-align: right;\">0.335729</td><td style=\"text-align: right;\">0.112714</td><td style=\"text-align: right;\">0.128862</td><td style=\"text-align: right;\">    nan</td><td style=\"text-align: right;\">                0.112714</td></tr>\n",
       "<tr><td>StackedEnsemble_AllModels_1_AutoML_1_20221030_220058   </td><td style=\"text-align: right;\">0.338157</td><td style=\"text-align: right;\">0.11435 </td><td style=\"text-align: right;\">0.13007 </td><td style=\"text-align: right;\">    nan</td><td style=\"text-align: right;\">                0.11435 </td></tr>\n",
       "<tr><td>StackedEnsemble_BestOfFamily_2_AutoML_1_20221030_220058</td><td style=\"text-align: right;\">0.339272</td><td style=\"text-align: right;\">0.115105</td><td style=\"text-align: right;\">0.129542</td><td style=\"text-align: right;\">    nan</td><td style=\"text-align: right;\">                0.115105</td></tr>\n",
       "</tbody>\n",
       "</table><pre style='font-size: smaller; margin-bottom: 1em;'>[5 rows x 6 columns]</pre>"
      ],
      "text/plain": [
       "model_id                                                     rmse       mse       mae    rmsle    mean_residual_deviance\n",
       "-------------------------------------------------------  --------  --------  --------  -------  ------------------------\n",
       "StackedEnsemble_AllModels_2_AutoML_1_20221030_220058     0.335382  0.112481  0.129516      nan                  0.112481\n",
       "StackedEnsemble_AllModels_3_AutoML_1_20221030_220058     0.335668  0.112673  0.130267      nan                  0.112673\n",
       "StackedEnsemble_BestOfFamily_3_AutoML_1_20221030_220058  0.335729  0.112714  0.128862      nan                  0.112714\n",
       "StackedEnsemble_AllModels_1_AutoML_1_20221030_220058     0.338157  0.11435   0.13007       nan                  0.11435\n",
       "StackedEnsemble_BestOfFamily_2_AutoML_1_20221030_220058  0.339272  0.115105  0.129542      nan                  0.115105\n",
       "[5 rows x 6 columns]\n"
      ]
     },
     "execution_count": 8,
     "metadata": {},
     "output_type": "execute_result"
    }
   ],
   "source": [
    "north_aml, north_train_preds, north_test_preds = train_automl(train, test, 'North', MAX_TIME)\n",
    "north_aml.leaderboard.head(5)"
   ]
  },
  {
   "cell_type": "code",
   "execution_count": 9,
   "id": "926a67e2",
   "metadata": {
    "execution": {
     "iopub.execute_input": "2022-10-30T22:07:03.723584Z",
     "iopub.status.busy": "2022-10-30T22:07:03.722995Z",
     "iopub.status.idle": "2022-10-30T22:13:07.223523Z",
     "shell.execute_reply": "2022-10-30T22:13:07.221707Z"
    },
    "papermill": {
     "duration": 363.516909,
     "end_time": "2022-10-30T22:13:07.226145",
     "exception": false,
     "start_time": "2022-10-30T22:07:03.709236",
     "status": "completed"
    },
    "tags": []
   },
   "outputs": [
    {
     "name": "stdout",
     "output_type": "stream",
     "text": [
      "AutoML progress: |\n",
      "22:07:03.741: Project: AutoML_2_20221030_220703\n",
      "22:07:03.741: 5-fold cross-validation will be used.\n",
      "22:07:03.742: Setting stopping tolerance adaptively based on the training frame: 0.0033107682550761745\n",
      "22:07:03.742: Build control seed: 42\n",
      "22:07:03.743: training frame: Frame key: AutoML_2_20221030_220703_training_Key_Frame__upload_b10035c17da862f2b089829acda44db7.hex    cols: 8    rows: 91231  chunks: 4    size: 8212986  checksum: 7075760434043015152\n",
      "22:07:03.743: validation frame: NULL\n",
      "22:07:03.743: leaderboard frame: NULL\n",
      "22:07:03.743: blending frame: NULL\n",
      "22:07:03.743: response column: East\n",
      "22:07:03.743: fold column: null\n",
      "22:07:03.743: weights column: null\n",
      "22:07:03.743: Loading execution steps: [{XGBoost : [def_2 (1g, 10w), def_1 (2g, 10w), def_3 (3g, 10w), grid_1 (4g, 90w), lr_search (6g, 30w)]}, {GLM : [def_1 (1g, 10w)]}, {DRF : [def_1 (2g, 10w), XRT (3g, 10w)]}, {GBM : [def_5 (1g, 10w), def_2 (2g, 10w), def_3 (2g, 10w), def_4 (2g, 10w), def_1 (3g, 10w), grid_1 (4g, 60w), lr_annealing (6g, 10w)]}, {DeepLearning : [def_1 (3g, 10w), grid_1 (4g, 30w), grid_2 (5g, 30w), grid_3 (5g, 30w)]}, {completion : [resume_best_grids (10g, 60w)]}, {StackedEnsemble : [best_of_family_1 (1g, 5w), best_of_family_2 (2g, 5w), best_of_family_3 (3g, 5w), best_of_family_4 (4g, 5w), best_of_family_5 (5g, 5w), all_2 (2g, 10w), all_3 (3g, 10w), all_4 (4g, 10w), all_5 (5g, 10w), monotonic (6g, 10w), best_of_family_gbm (6g, 10w), all_gbm (7g, 10w), best_of_family_xglm (8g, 10w), all_xglm (8g, 10w), best_of_family (10g, 10w), best_N (10g, 10w)]}]\n",
      "22:07:03.745: AutoML job created: 2022.10.30 22:07:03.740\n",
      "22:07:03.745: AutoML build started: 2022.10.30 22:07:03.745\n",
      "22:07:03.746: AutoML: starting XGBoost_1_AutoML_2_20221030_220703 model training\n",
      "\n",
      "██████\n",
      "22:07:32.528: New leader: XGBoost_1_AutoML_2_20221030_220703, rmse: 0.3471902971934373\n",
      "22:07:32.529: AutoML: starting GLM_1_AutoML_2_20221030_220703 model training\n",
      "\n",
      "\n",
      "22:07:34.208: AutoML: starting GBM_1_AutoML_2_20221030_220703 model training\n",
      "\n",
      "██████\n",
      "22:08:08.575: New leader: GBM_1_AutoML_2_20221030_220703, rmse: 0.34565371486893937\n",
      "22:08:08.576: AutoML: starting StackedEnsemble_BestOfFamily_1_AutoML_2_20221030_220703 model training\n",
      "22:08:09.224: New leader: StackedEnsemble_BestOfFamily_1_AutoML_2_20221030_220703, rmse: 0.33558249375081556\n",
      "22:08:09.225: AutoML: starting XGBoost_2_AutoML_2_20221030_220703 model training\n",
      "\n",
      "█████\n",
      "22:08:35.196: AutoML: starting DRF_1_AutoML_2_20221030_220703 model training\n",
      "\n",
      "████████\n",
      "22:09:23.151: New leader: DRF_1_AutoML_2_20221030_220703, rmse: 0.31054143412487517\n",
      "22:09:23.152: AutoML: starting GBM_2_AutoML_2_20221030_220703 model training\n",
      "\n",
      "████\n",
      "22:09:48.243: AutoML: starting GBM_3_AutoML_2_20221030_220703 model training\n",
      "\n",
      "█████\n",
      "22:10:14.503: AutoML: starting GBM_4_AutoML_2_20221030_220703 model training\n",
      "\n",
      "████\n",
      "22:10:37.582: AutoML: starting StackedEnsemble_BestOfFamily_2_AutoML_2_20221030_220703 model training\n",
      "22:10:38.91: New leader: StackedEnsemble_BestOfFamily_2_AutoML_2_20221030_220703, rmse: 0.30967174534702074\n",
      "22:10:38.92: AutoML: starting StackedEnsemble_AllModels_1_AutoML_2_20221030_220703 model training\n",
      "22:10:38.822: New leader: StackedEnsemble_AllModels_1_AutoML_2_20221030_220703, rmse: 0.30965165083902035\n",
      "22:10:38.825: AutoML: starting XGBoost_3_AutoML_2_20221030_220703 model training\n",
      "\n",
      "████\n",
      "22:11:04.892: AutoML: starting XRT_1_AutoML_2_20221030_220703 model training\n",
      "\n",
      "█████\n",
      "22:11:30.603: AutoML: starting GBM_5_AutoML_2_20221030_220703 model training\n",
      "\n",
      "████\n",
      "22:11:56.333: AutoML: starting DeepLearning_1_AutoML_2_20221030_220703 model training\n",
      "\n",
      "████\n",
      "22:12:17.78: AutoML: starting StackedEnsemble_BestOfFamily_3_AutoML_2_20221030_220703 model training\n",
      "22:12:17.704: New leader: StackedEnsemble_BestOfFamily_3_AutoML_2_20221030_220703, rmse: 0.3080112042821005\n",
      "22:12:17.707: AutoML: starting StackedEnsemble_AllModels_2_AutoML_2_20221030_220703 model training\n",
      "\n",
      "\n",
      "22:12:18.560: AutoML: starting XGBoost_grid_1_AutoML_2_20221030_220703 hyperparameter search\n",
      "\n",
      "████\n",
      "22:12:41.5: AutoML: starting GBM_grid_1_AutoML_2_20221030_220703 hyperparameter search\n",
      "\n",
      "██\n",
      "22:12:54.255: AutoML: starting DeepLearning_grid_1_AutoML_2_20221030_220703 hyperparameter search\n",
      "\n",
      "█\n",
      "22:13:00.891: AutoML: starting StackedEnsemble_AllModels_3_AutoML_2_20221030_220703 model training\n",
      "\n",
      "█| (done) 100%\n",
      "\n",
      "22:13:01.829: AutoML: starting DeepLearning_grid_2_AutoML_2_20221030_220703 hyperparameter search\n",
      "22:13:03.960: Actual modeling steps: [{XGBoost : [def_2 (1g, 10w)]}, {GLM : [def_1 (1g, 10w)]}, {GBM : [def_5 (1g, 10w)]}, {StackedEnsemble : [best_of_family_1 (1g, 5w)]}, {XGBoost : [def_1 (2g, 10w)]}, {DRF : [def_1 (2g, 10w)]}, {GBM : [def_2 (2g, 10w), def_3 (2g, 10w), def_4 (2g, 10w)]}, {StackedEnsemble : [best_of_family_2 (2g, 5w), all_2 (2g, 10w)]}, {XGBoost : [def_3 (3g, 10w)]}, {DRF : [XRT (3g, 10w)]}, {GBM : [def_1 (3g, 10w)]}, {DeepLearning : [def_1 (3g, 10w)]}, {StackedEnsemble : [best_of_family_3 (3g, 5w), all_3 (3g, 10w)]}, {XGBoost : [grid_1 (4g, 90w)]}, {GBM : [grid_1 (4g, 60w)]}, {DeepLearning : [grid_1 (4g, 30w)]}, {StackedEnsemble : [all_4 (4g, 10w)]}, {DeepLearning : [grid_2 (5g, 30w)]}]\n",
      "22:13:03.960: AutoML build stopped: 2022.10.30 22:13:03.960\n",
      "22:13:03.960: AutoML build done: built 16 models\n",
      "22:13:03.960: AutoML duration:  6 min  0.215 sec\n",
      "\n",
      "stackedensemble prediction progress: |███████████████████████████████████████████| (done) 100%\n",
      "stackedensemble prediction progress: |███████████████████████████████████████████| (done) 100%\n"
     ]
    },
    {
     "data": {
      "text/html": [
       "<table class='dataframe'>\n",
       "<thead>\n",
       "<tr><th>model_id                                               </th><th style=\"text-align: right;\">    rmse</th><th style=\"text-align: right;\">      mse</th><th style=\"text-align: right;\">     mae</th><th style=\"text-align: right;\">  rmsle</th><th style=\"text-align: right;\">  mean_residual_deviance</th></tr>\n",
       "</thead>\n",
       "<tbody>\n",
       "<tr><td>StackedEnsemble_BestOfFamily_3_AutoML_2_20221030_220703</td><td style=\"text-align: right;\">0.308011</td><td style=\"text-align: right;\">0.0948709</td><td style=\"text-align: right;\">0.124022</td><td style=\"text-align: right;\">    nan</td><td style=\"text-align: right;\">               0.0948709</td></tr>\n",
       "<tr><td>StackedEnsemble_AllModels_2_AutoML_2_20221030_220703   </td><td style=\"text-align: right;\">0.308046</td><td style=\"text-align: right;\">0.0948921</td><td style=\"text-align: right;\">0.124019</td><td style=\"text-align: right;\">    nan</td><td style=\"text-align: right;\">               0.0948921</td></tr>\n",
       "<tr><td>StackedEnsemble_AllModels_3_AutoML_2_20221030_220703   </td><td style=\"text-align: right;\">0.308064</td><td style=\"text-align: right;\">0.0949037</td><td style=\"text-align: right;\">0.124037</td><td style=\"text-align: right;\">    nan</td><td style=\"text-align: right;\">               0.0949037</td></tr>\n",
       "<tr><td>StackedEnsemble_AllModels_1_AutoML_2_20221030_220703   </td><td style=\"text-align: right;\">0.309652</td><td style=\"text-align: right;\">0.0958841</td><td style=\"text-align: right;\">0.12542 </td><td style=\"text-align: right;\">    nan</td><td style=\"text-align: right;\">               0.0958841</td></tr>\n",
       "<tr><td>StackedEnsemble_BestOfFamily_2_AutoML_2_20221030_220703</td><td style=\"text-align: right;\">0.309672</td><td style=\"text-align: right;\">0.0958966</td><td style=\"text-align: right;\">0.125414</td><td style=\"text-align: right;\">    nan</td><td style=\"text-align: right;\">               0.0958966</td></tr>\n",
       "</tbody>\n",
       "</table><pre style='font-size: smaller; margin-bottom: 1em;'>[5 rows x 6 columns]</pre>"
      ],
      "text/plain": [
       "model_id                                                     rmse        mse       mae    rmsle    mean_residual_deviance\n",
       "-------------------------------------------------------  --------  ---------  --------  -------  ------------------------\n",
       "StackedEnsemble_BestOfFamily_3_AutoML_2_20221030_220703  0.308011  0.0948709  0.124022      nan                 0.0948709\n",
       "StackedEnsemble_AllModels_2_AutoML_2_20221030_220703     0.308046  0.0948921  0.124019      nan                 0.0948921\n",
       "StackedEnsemble_AllModels_3_AutoML_2_20221030_220703     0.308064  0.0949037  0.124037      nan                 0.0949037\n",
       "StackedEnsemble_AllModels_1_AutoML_2_20221030_220703     0.309652  0.0958841  0.12542       nan                 0.0958841\n",
       "StackedEnsemble_BestOfFamily_2_AutoML_2_20221030_220703  0.309672  0.0958966  0.125414      nan                 0.0958966\n",
       "[5 rows x 6 columns]\n"
      ]
     },
     "execution_count": 9,
     "metadata": {},
     "output_type": "execute_result"
    }
   ],
   "source": [
    "east_aml, east_train_preds, east_test_preds = train_automl(train, test, 'East', MAX_TIME)\n",
    "east_aml.leaderboard.head(5)"
   ]
  },
  {
   "cell_type": "code",
   "execution_count": 10,
   "id": "e556744e",
   "metadata": {
    "execution": {
     "iopub.execute_input": "2022-10-30T22:13:07.263623Z",
     "iopub.status.busy": "2022-10-30T22:13:07.263161Z",
     "iopub.status.idle": "2022-10-30T22:13:07.277386Z",
     "shell.execute_reply": "2022-10-30T22:13:07.276158Z"
    },
    "papermill": {
     "duration": 0.036719,
     "end_time": "2022-10-30T22:13:07.279901",
     "exception": false,
     "start_time": "2022-10-30T22:13:07.243182",
     "status": "completed"
    },
    "tags": []
   },
   "outputs": [
    {
     "data": {
      "text/html": [
       "<table class='dataframe'>\n",
       "<thead>\n",
       "<tr><th>Filename                            </th><th style=\"text-align: right;\">  North_pixel</th><th style=\"text-align: right;\">  East_pixel</th><th style=\"text-align: right;\">  Altitude</th><th style=\"text-align: right;\">     Delta</th><th style=\"text-align: right;\">    North</th><th style=\"text-align: right;\">      East</th><th style=\"text-align: right;\">  kfold</th></tr>\n",
       "</thead>\n",
       "<tbody>\n",
       "<tr><td>00003e3b9e5336685200ae85d21b4f5e.jpg</td><td style=\"text-align: right;\">    -1.22047 </td><td style=\"text-align: right;\">    2.82652 </td><td style=\"text-align: right;\">   178.83 </td><td style=\"text-align: right;\">-0.0652313</td><td style=\"text-align: right;\">-0.386045</td><td style=\"text-align: right;\"> 0.929772 </td><td style=\"text-align: right;\">      0</td></tr>\n",
       "<tr><td>0001261e2060303a06ba6c64d676d639.jpg</td><td style=\"text-align: right;\">     0.7925  </td><td style=\"text-align: right;\">    0.231472</td><td style=\"text-align: right;\">   207.921</td><td style=\"text-align: right;\">-0.0806885</td><td style=\"text-align: right;\"> 0.635584</td><td style=\"text-align: right;\"> 0.152819 </td><td style=\"text-align: right;\">      2</td></tr>\n",
       "<tr><td>0002ac0d783338cfeab0b2bdbd872cda.jpg</td><td style=\"text-align: right;\">    -3.8237  </td><td style=\"text-align: right;\">   -1.65885 </td><td style=\"text-align: right;\">   178.048</td><td style=\"text-align: right;\"> 0.0215759</td><td style=\"text-align: right;\">-1.22823 </td><td style=\"text-align: right;\">-0.499388 </td><td style=\"text-align: right;\">      3</td></tr>\n",
       "<tr><td>0004289ee1c7b8b08c77e19878106ae3.jpg</td><td style=\"text-align: right;\">    -6.06536 </td><td style=\"text-align: right;\">   -2.35415 </td><td style=\"text-align: right;\">   201.085</td><td style=\"text-align: right;\"> 0.505981 </td><td style=\"text-align: right;\">-1.73971 </td><td style=\"text-align: right;\">-0.699928 </td><td style=\"text-align: right;\">      1</td></tr>\n",
       "<tr><td>0004d0b59e19461ff126e3a08a814c33.jpg</td><td style=\"text-align: right;\">    -0.564889</td><td style=\"text-align: right;\">    8.01241 </td><td style=\"text-align: right;\">   187.55 </td><td style=\"text-align: right;\">-0.328156 </td><td style=\"text-align: right;\">-0.169798</td><td style=\"text-align: right;\"> 2.82875  </td><td style=\"text-align: right;\">      0</td></tr>\n",
       "<tr><td>00053f5e11d1fe4e49a221165b39abc9.jpg</td><td style=\"text-align: right;\">    -1.26505 </td><td style=\"text-align: right;\">   -0.239883</td><td style=\"text-align: right;\">   168.996</td><td style=\"text-align: right;\">-0.0148621</td><td style=\"text-align: right;\">-0.321776</td><td style=\"text-align: right;\">-0.0755221</td><td style=\"text-align: right;\">      4</td></tr>\n",
       "<tr><td>00056c20eb5a029583db75506953f1d9.jpg</td><td style=\"text-align: right;\">     1.78264 </td><td style=\"text-align: right;\">   -4.7307  </td><td style=\"text-align: right;\">   179.963</td><td style=\"text-align: right;\"> 0.109741 </td><td style=\"text-align: right;\"> 0.646206</td><td style=\"text-align: right;\">-1.68678  </td><td style=\"text-align: right;\">      2</td></tr>\n",
       "<tr><td>0006aabe0ba47a35c0b0bf6596f85159.jpg</td><td style=\"text-align: right;\">    -6.36111 </td><td style=\"text-align: right;\">    0.247669</td><td style=\"text-align: right;\">   180.632</td><td style=\"text-align: right;\"> 0.212234 </td><td style=\"text-align: right;\">-0.178107</td><td style=\"text-align: right;\"> 0.132653 </td><td style=\"text-align: right;\">      2</td></tr>\n",
       "<tr><td>0006dd05ea1e999ddaa041a7091b7b36.jpg</td><td style=\"text-align: right;\">    -7.89952 </td><td style=\"text-align: right;\">    8.27357 </td><td style=\"text-align: right;\">   168.886</td><td style=\"text-align: right;\"> 0.0512695</td><td style=\"text-align: right;\">-1.82588 </td><td style=\"text-align: right;\"> 1.95608  </td><td style=\"text-align: right;\">      2</td></tr>\n",
       "<tr><td>0007789b118e4710fc0e7c8758a6532a.jpg</td><td style=\"text-align: right;\">     6.36956 </td><td style=\"text-align: right;\">   -2.11581 </td><td style=\"text-align: right;\">   194.349</td><td style=\"text-align: right;\"> 0.387817 </td><td style=\"text-align: right;\"> 2.46552 </td><td style=\"text-align: right;\">-0.88375  </td><td style=\"text-align: right;\">      3</td></tr>\n",
       "</tbody>\n",
       "</table><pre style='font-size: smaller; margin-bottom: 1em;'>[91231 rows x 8 columns]</pre>"
      ],
      "text/plain": [
       "Filename                                North_pixel    East_pixel    Altitude       Delta      North        East    kfold\n",
       "------------------------------------  -------------  ------------  ----------  ----------  ---------  ----------  -------\n",
       "00003e3b9e5336685200ae85d21b4f5e.jpg      -1.22047       2.82652      178.83   -0.0652313  -0.386045   0.929772         0\n",
       "0001261e2060303a06ba6c64d676d639.jpg       0.7925        0.231472     207.921  -0.0806885   0.635584   0.152819         2\n",
       "0002ac0d783338cfeab0b2bdbd872cda.jpg      -3.8237       -1.65885      178.048   0.0215759  -1.22823   -0.499388         3\n",
       "0004289ee1c7b8b08c77e19878106ae3.jpg      -6.06536      -2.35415      201.085   0.505981   -1.73971   -0.699928         1\n",
       "0004d0b59e19461ff126e3a08a814c33.jpg      -0.564889      8.01241      187.55   -0.328156   -0.169798   2.82875          0\n",
       "00053f5e11d1fe4e49a221165b39abc9.jpg      -1.26505      -0.239883     168.996  -0.0148621  -0.321776  -0.0755221        4\n",
       "00056c20eb5a029583db75506953f1d9.jpg       1.78264      -4.7307       179.963   0.109741    0.646206  -1.68678          2\n",
       "0006aabe0ba47a35c0b0bf6596f85159.jpg      -6.36111       0.247669     180.632   0.212234   -0.178107   0.132653         2\n",
       "0006dd05ea1e999ddaa041a7091b7b36.jpg      -7.89952       8.27357      168.886   0.0512695  -1.82588    1.95608          2\n",
       "0007789b118e4710fc0e7c8758a6532a.jpg       6.36956      -2.11581      194.349   0.387817    2.46552   -0.88375          3\n",
       "[91231 rows x 8 columns]\n"
      ]
     },
     "execution_count": 10,
     "metadata": {},
     "output_type": "execute_result"
    }
   ],
   "source": [
    "train"
   ]
  },
  {
   "cell_type": "code",
   "execution_count": 11,
   "id": "81968bab",
   "metadata": {
    "execution": {
     "iopub.execute_input": "2022-10-30T22:13:07.315674Z",
     "iopub.status.busy": "2022-10-30T22:13:07.315271Z",
     "iopub.status.idle": "2022-10-30T22:13:09.690625Z",
     "shell.execute_reply": "2022-10-30T22:13:09.689400Z"
    },
    "papermill": {
     "duration": 2.396689,
     "end_time": "2022-10-30T22:13:09.693248",
     "exception": false,
     "start_time": "2022-10-30T22:13:07.296559",
     "status": "completed"
    },
    "tags": []
   },
   "outputs": [
    {
     "data": {
      "text/html": [
       "<table class='dataframe'>\n",
       "<thead>\n",
       "<tr><th>Filename                            </th><th style=\"text-align: right;\">  North_pixel</th><th style=\"text-align: right;\">  East_pixel</th><th style=\"text-align: right;\">  Altitude</th><th style=\"text-align: right;\">     Delta</th><th style=\"text-align: right;\">    North</th><th style=\"text-align: right;\">     East</th><th style=\"text-align: right;\">  kfold</th><th style=\"text-align: right;\">  North_prediction</th><th style=\"text-align: right;\">  East_prediction</th></tr>\n",
       "</thead>\n",
       "<tbody>\n",
       "<tr><td>00003e3b9e5336685200ae85d21b4f5e.jpg</td><td style=\"text-align: right;\">    -1.22047 </td><td style=\"text-align: right;\">    2.82652 </td><td style=\"text-align: right;\">   178.83 </td><td style=\"text-align: right;\">-0.0652313</td><td style=\"text-align: right;\">-0.386045</td><td style=\"text-align: right;\"> 0.929772</td><td style=\"text-align: right;\">      0</td><td style=\"text-align: right;\">         -0.395535</td><td style=\"text-align: right;\">         0.920265</td></tr>\n",
       "<tr><td>0001261e2060303a06ba6c64d676d639.jpg</td><td style=\"text-align: right;\">     0.7925  </td><td style=\"text-align: right;\">    0.231472</td><td style=\"text-align: right;\">   207.921</td><td style=\"text-align: right;\">-0.0806885</td><td style=\"text-align: right;\"> 0.635584</td><td style=\"text-align: right;\"> 0.152819</td><td style=\"text-align: right;\">      2</td><td style=\"text-align: right;\">          0.610366</td><td style=\"text-align: right;\">         0.186492</td></tr>\n",
       "<tr><td>0002ac0d783338cfeab0b2bdbd872cda.jpg</td><td style=\"text-align: right;\">    -3.8237  </td><td style=\"text-align: right;\">   -1.65885 </td><td style=\"text-align: right;\">   178.048</td><td style=\"text-align: right;\"> 0.0215759</td><td style=\"text-align: right;\">-1.22823 </td><td style=\"text-align: right;\">-0.499388</td><td style=\"text-align: right;\">      3</td><td style=\"text-align: right;\">         -1.23191 </td><td style=\"text-align: right;\">        -0.481458</td></tr>\n",
       "<tr><td>0004289ee1c7b8b08c77e19878106ae3.jpg</td><td style=\"text-align: right;\">    -6.06536 </td><td style=\"text-align: right;\">   -2.35415 </td><td style=\"text-align: right;\">   201.085</td><td style=\"text-align: right;\"> 0.505981 </td><td style=\"text-align: right;\">-1.73971 </td><td style=\"text-align: right;\">-0.699928</td><td style=\"text-align: right;\">      1</td><td style=\"text-align: right;\">         -1.76411 </td><td style=\"text-align: right;\">        -0.729352</td></tr>\n",
       "<tr><td>0004d0b59e19461ff126e3a08a814c33.jpg</td><td style=\"text-align: right;\">    -0.564889</td><td style=\"text-align: right;\">    8.01241 </td><td style=\"text-align: right;\">   187.55 </td><td style=\"text-align: right;\">-0.328156 </td><td style=\"text-align: right;\">-0.169798</td><td style=\"text-align: right;\"> 2.82875 </td><td style=\"text-align: right;\">      0</td><td style=\"text-align: right;\">         -0.106102</td><td style=\"text-align: right;\">         2.57709 </td></tr>\n",
       "</tbody>\n",
       "</table><pre style='font-size: smaller; margin-bottom: 1em;'>[5 rows x 10 columns]</pre>"
      ],
      "text/plain": [
       "Filename                                North_pixel    East_pixel    Altitude       Delta      North       East    kfold    North_prediction    East_prediction\n",
       "------------------------------------  -------------  ------------  ----------  ----------  ---------  ---------  -------  ------------------  -----------------\n",
       "00003e3b9e5336685200ae85d21b4f5e.jpg      -1.22047       2.82652      178.83   -0.0652313  -0.386045   0.929772        0           -0.395535           0.920265\n",
       "0001261e2060303a06ba6c64d676d639.jpg       0.7925        0.231472     207.921  -0.0806885   0.635584   0.152819        2            0.610366           0.186492\n",
       "0002ac0d783338cfeab0b2bdbd872cda.jpg      -3.8237       -1.65885      178.048   0.0215759  -1.22823   -0.499388        3           -1.23191           -0.481458\n",
       "0004289ee1c7b8b08c77e19878106ae3.jpg      -6.06536      -2.35415      201.085   0.505981   -1.73971   -0.699928        1           -1.76411           -0.729352\n",
       "0004d0b59e19461ff126e3a08a814c33.jpg      -0.564889      8.01241      187.55   -0.328156   -0.169798   2.82875         0           -0.106102           2.57709\n",
       "[5 rows x 10 columns]\n"
      ]
     },
     "execution_count": 11,
     "metadata": {},
     "output_type": "execute_result"
    }
   ],
   "source": [
    "train_final = train.cbind(north_train_preds)\n",
    "train_final = train_final.cbind(east_train_preds)\n",
    "train_final.as_data_frame().to_csv('train_final.csv')\n",
    "\n",
    "train_final.head(5)"
   ]
  },
  {
   "cell_type": "code",
   "execution_count": 12,
   "id": "23e3f62a",
   "metadata": {
    "execution": {
     "iopub.execute_input": "2022-10-30T22:13:09.728907Z",
     "iopub.status.busy": "2022-10-30T22:13:09.728144Z",
     "iopub.status.idle": "2022-10-30T22:13:10.778838Z",
     "shell.execute_reply": "2022-10-30T22:13:10.777619Z"
    },
    "papermill": {
     "duration": 1.071375,
     "end_time": "2022-10-30T22:13:10.781481",
     "exception": false,
     "start_time": "2022-10-30T22:13:09.710106",
     "status": "completed"
    },
    "tags": []
   },
   "outputs": [
    {
     "data": {
      "text/html": [
       "<table class='dataframe'>\n",
       "<thead>\n",
       "<tr><th>Filename                            </th><th style=\"text-align: right;\">  North_pixel</th><th style=\"text-align: right;\">  East_pixel</th><th style=\"text-align: right;\">  Altitude</th><th style=\"text-align: right;\">     Delta</th><th style=\"text-align: right;\">  kfold</th><th style=\"text-align: right;\">  North_prediction</th><th style=\"text-align: right;\">  East_prediction</th></tr>\n",
       "</thead>\n",
       "<tbody>\n",
       "<tr><td>000053b1e684c9e7ea73727b2238ce18.jpg</td><td style=\"text-align: right;\">  -0.654044  </td><td style=\"text-align: right;\">  -1.04211  </td><td style=\"text-align: right;\">   167.943</td><td style=\"text-align: right;\"> 0.0102692</td><td style=\"text-align: right;\">      0</td><td style=\"text-align: right;\">         -0.23325 </td><td style=\"text-align: right;\">        -0.153566</td></tr>\n",
       "<tr><td>00029153d12ae1c9abe59c17ff2e0895.jpg</td><td style=\"text-align: right;\">   4.65447   </td><td style=\"text-align: right;\">  -5.10086  </td><td style=\"text-align: right;\">   195.853</td><td style=\"text-align: right;\"> 0.0892181</td><td style=\"text-align: right;\">      2</td><td style=\"text-align: right;\">          1.61387 </td><td style=\"text-align: right;\">        -1.64877 </td></tr>\n",
       "<tr><td>0006246bee639c7a7b11a08e34dd3cc6.jpg</td><td style=\"text-align: right;\"> -12.1243    </td><td style=\"text-align: right;\">  -0.0308469</td><td style=\"text-align: right;\">   146.943</td><td style=\"text-align: right;\">-0.0183258</td><td style=\"text-align: right;\">      1</td><td style=\"text-align: right;\">         -1.2992  </td><td style=\"text-align: right;\">         0.178793</td></tr>\n",
       "<tr><td>00063cb5da1826febf178b669eea3250.jpg</td><td style=\"text-align: right;\"> -21.45      </td><td style=\"text-align: right;\">   4.21257  </td><td style=\"text-align: right;\">   213.184</td><td style=\"text-align: right;\">-0.108704 </td><td style=\"text-align: right;\">      1</td><td style=\"text-align: right;\">         -1.07919 </td><td style=\"text-align: right;\">         0.39061 </td></tr>\n",
       "<tr><td>00063ece2e68a8847f228e8fd922f851.jpg</td><td style=\"text-align: right;\">   0.00832452</td><td style=\"text-align: right;\">  -6.20988  </td><td style=\"text-align: right;\">   184.758</td><td style=\"text-align: right;\"> 0.0177002</td><td style=\"text-align: right;\">      0</td><td style=\"text-align: right;\">          0.141974</td><td style=\"text-align: right;\">        -0.97295 </td></tr>\n",
       "<tr><td>000838c1249fec206b77360ff0adc110.jpg</td><td style=\"text-align: right;\">   3.46306   </td><td style=\"text-align: right;\">  -2.61436  </td><td style=\"text-align: right;\">   209.136</td><td style=\"text-align: right;\">-0.544525 </td><td style=\"text-align: right;\">      1</td><td style=\"text-align: right;\">          1.17048 </td><td style=\"text-align: right;\">        -1.30534 </td></tr>\n",
       "<tr><td>000a8e84b013655b832041a6f362e5c9.jpg</td><td style=\"text-align: right;\">  -0.321557  </td><td style=\"text-align: right;\">  -4.38535  </td><td style=\"text-align: right;\">   177.72 </td><td style=\"text-align: right;\">-0.23024  </td><td style=\"text-align: right;\">      4</td><td style=\"text-align: right;\">         -0.121386</td><td style=\"text-align: right;\">        -1.08199 </td></tr>\n",
       "<tr><td>000d0c74074191add6f22e0004db8f76.jpg</td><td style=\"text-align: right;\">   2.14271   </td><td style=\"text-align: right;\">  -5.28396  </td><td style=\"text-align: right;\">   200.488</td><td style=\"text-align: right;\"> 0.0812378</td><td style=\"text-align: right;\">      3</td><td style=\"text-align: right;\">          0.61841 </td><td style=\"text-align: right;\">        -1.76348 </td></tr>\n",
       "<tr><td>000dd3543ac84d906eae52e7c779bb2a.jpg</td><td style=\"text-align: right;\">  -4.1014    </td><td style=\"text-align: right;\">  -8.30099  </td><td style=\"text-align: right;\">   155.313</td><td style=\"text-align: right;\"> 0.062027 </td><td style=\"text-align: right;\">      4</td><td style=\"text-align: right;\">         -0.525346</td><td style=\"text-align: right;\">        -1.09816 </td></tr>\n",
       "<tr><td>00129b07887a18a7331909231c28816e.jpg</td><td style=\"text-align: right;\">   0.456218  </td><td style=\"text-align: right;\">   4.28046  </td><td style=\"text-align: right;\">   187.643</td><td style=\"text-align: right;\">-0.133362 </td><td style=\"text-align: right;\">      4</td><td style=\"text-align: right;\">          0.219356</td><td style=\"text-align: right;\">         1.75238 </td></tr>\n",
       "</tbody>\n",
       "</table><pre style='font-size: smaller; margin-bottom: 1em;'>[55031 rows x 8 columns]</pre>"
      ],
      "text/plain": [
       "Filename                                North_pixel    East_pixel    Altitude       Delta    kfold    North_prediction    East_prediction\n",
       "------------------------------------  -------------  ------------  ----------  ----------  -------  ------------------  -----------------\n",
       "000053b1e684c9e7ea73727b2238ce18.jpg    -0.654044      -1.04211       167.943   0.0102692        0           -0.23325           -0.153566\n",
       "00029153d12ae1c9abe59c17ff2e0895.jpg     4.65447       -5.10086       195.853   0.0892181        2            1.61387           -1.64877\n",
       "0006246bee639c7a7b11a08e34dd3cc6.jpg   -12.1243        -0.0308469     146.943  -0.0183258        1           -1.2992             0.178793\n",
       "00063cb5da1826febf178b669eea3250.jpg   -21.45           4.21257       213.184  -0.108704         1           -1.07919            0.39061\n",
       "00063ece2e68a8847f228e8fd922f851.jpg     0.00832452    -6.20988       184.758   0.0177002        0            0.141974          -0.97295\n",
       "000838c1249fec206b77360ff0adc110.jpg     3.46306       -2.61436       209.136  -0.544525         1            1.17048           -1.30534\n",
       "000a8e84b013655b832041a6f362e5c9.jpg    -0.321557      -4.38535       177.72   -0.23024          4           -0.121386          -1.08199\n",
       "000d0c74074191add6f22e0004db8f76.jpg     2.14271       -5.28396       200.488   0.0812378        3            0.61841           -1.76348\n",
       "000dd3543ac84d906eae52e7c779bb2a.jpg    -4.1014        -8.30099       155.313   0.062027         4           -0.525346          -1.09816\n",
       "00129b07887a18a7331909231c28816e.jpg     0.456218       4.28046       187.643  -0.133362         4            0.219356           1.75238\n",
       "[55031 rows x 8 columns]\n"
      ]
     },
     "execution_count": 12,
     "metadata": {},
     "output_type": "execute_result"
    }
   ],
   "source": [
    "test_final = test.cbind(north_test_preds)\n",
    "test_final = test_final.cbind(east_test_preds)\n",
    "test_final.as_data_frame().to_csv('test_final.csv')\n",
    "\n",
    "test_final"
   ]
  },
  {
   "cell_type": "code",
   "execution_count": 13,
   "id": "8f9ddae8",
   "metadata": {
    "execution": {
     "iopub.execute_input": "2022-10-30T22:13:10.817115Z",
     "iopub.status.busy": "2022-10-30T22:13:10.816711Z",
     "iopub.status.idle": "2022-10-30T22:13:11.213899Z",
     "shell.execute_reply": "2022-10-30T22:13:11.212629Z"
    },
    "papermill": {
     "duration": 0.418198,
     "end_time": "2022-10-30T22:13:11.216503",
     "exception": false,
     "start_time": "2022-10-30T22:13:10.798305",
     "status": "completed"
    },
    "tags": []
   },
   "outputs": [
    {
     "data": {
      "text/html": [
       "<div>\n",
       "<style scoped>\n",
       "    .dataframe tbody tr th:only-of-type {\n",
       "        vertical-align: middle;\n",
       "    }\n",
       "\n",
       "    .dataframe tbody tr th {\n",
       "        vertical-align: top;\n",
       "    }\n",
       "\n",
       "    .dataframe thead th {\n",
       "        text-align: right;\n",
       "    }\n",
       "</style>\n",
       "<table border=\"1\" class=\"dataframe\">\n",
       "  <thead>\n",
       "    <tr style=\"text-align: right;\">\n",
       "      <th></th>\n",
       "      <th>Id</th>\n",
       "      <th>Predicted</th>\n",
       "    </tr>\n",
       "  </thead>\n",
       "  <tbody>\n",
       "    <tr>\n",
       "      <th>0</th>\n",
       "      <td>000053b1e684c9e7ea73727b2238ce18.jpg:North</td>\n",
       "      <td>-0.233250</td>\n",
       "    </tr>\n",
       "    <tr>\n",
       "      <th>1</th>\n",
       "      <td>00029153d12ae1c9abe59c17ff2e0895.jpg:North</td>\n",
       "      <td>1.613872</td>\n",
       "    </tr>\n",
       "    <tr>\n",
       "      <th>2</th>\n",
       "      <td>0006246bee639c7a7b11a08e34dd3cc6.jpg:North</td>\n",
       "      <td>-1.299204</td>\n",
       "    </tr>\n",
       "    <tr>\n",
       "      <th>3</th>\n",
       "      <td>00063cb5da1826febf178b669eea3250.jpg:North</td>\n",
       "      <td>-1.079194</td>\n",
       "    </tr>\n",
       "    <tr>\n",
       "      <th>4</th>\n",
       "      <td>00063ece2e68a8847f228e8fd922f851.jpg:North</td>\n",
       "      <td>0.141974</td>\n",
       "    </tr>\n",
       "  </tbody>\n",
       "</table>\n",
       "</div>"
      ],
      "text/plain": [
       "                                           Id  Predicted\n",
       "0  000053b1e684c9e7ea73727b2238ce18.jpg:North  -0.233250\n",
       "1  00029153d12ae1c9abe59c17ff2e0895.jpg:North   1.613872\n",
       "2  0006246bee639c7a7b11a08e34dd3cc6.jpg:North  -1.299204\n",
       "3  00063cb5da1826febf178b669eea3250.jpg:North  -1.079194\n",
       "4  00063ece2e68a8847f228e8fd922f851.jpg:North   0.141974"
      ]
     },
     "execution_count": 13,
     "metadata": {},
     "output_type": "execute_result"
    }
   ],
   "source": [
    "submission = test_final.as_data_frame()[['Filename', 'North_prediction', 'East_prediction']]\n",
    "submission.rename({'North_prediction':'North', 'East_prediction':'East'}, axis=1, inplace=True)\n",
    "submission = submission.melt(id_vars='Filename', value_name='Predicted')\n",
    "submission['Id'] = submission.Filename + ':' + submission.variable\n",
    "submission = submission[['Id', 'Predicted']]\n",
    "submission.head()"
   ]
  },
  {
   "cell_type": "code",
   "execution_count": 14,
   "id": "e136d886",
   "metadata": {
    "execution": {
     "iopub.execute_input": "2022-10-30T22:13:11.254882Z",
     "iopub.status.busy": "2022-10-30T22:13:11.252604Z",
     "iopub.status.idle": "2022-10-30T22:13:11.583890Z",
     "shell.execute_reply": "2022-10-30T22:13:11.582761Z"
    },
    "papermill": {
     "duration": 0.3528,
     "end_time": "2022-10-30T22:13:11.586804",
     "exception": false,
     "start_time": "2022-10-30T22:13:11.234004",
     "status": "completed"
    },
    "tags": []
   },
   "outputs": [],
   "source": [
    "submission.to_csv('submission.csv', index=False)"
   ]
  },
  {
   "cell_type": "code",
   "execution_count": null,
   "id": "8c3fdb55",
   "metadata": {
    "papermill": {
     "duration": 0.016754,
     "end_time": "2022-10-30T22:13:11.620929",
     "exception": false,
     "start_time": "2022-10-30T22:13:11.604175",
     "status": "completed"
    },
    "tags": []
   },
   "outputs": [],
   "source": []
  }
 ],
 "metadata": {
  "kernelspec": {
   "display_name": "Python 3",
   "language": "python",
   "name": "python3"
  },
  "language_info": {
   "codemirror_mode": {
    "name": "ipython",
    "version": 3
   },
   "file_extension": ".py",
   "mimetype": "text/x-python",
   "name": "python",
   "nbconvert_exporter": "python",
   "pygments_lexer": "ipython3",
   "version": "3.7.12"
  },
  "papermill": {
   "default_parameters": {},
   "duration": 760.277118,
   "end_time": "2022-10-30T22:13:12.964922",
   "environment_variables": {},
   "exception": null,
   "input_path": "__notebook__.ipynb",
   "output_path": "__notebook__.ipynb",
   "parameters": {},
   "start_time": "2022-10-30T22:00:32.687804",
   "version": "2.3.4"
  }
 },
 "nbformat": 4,
 "nbformat_minor": 5
}
