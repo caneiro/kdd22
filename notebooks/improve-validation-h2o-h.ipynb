{
 "cells": [
  {
   "cell_type": "markdown",
   "id": "8a54af2d",
   "metadata": {
    "papermill": {
     "duration": 0.005552,
     "end_time": "2022-10-30T22:00:46.266045",
     "exception": false,
     "start_time": "2022-10-30T22:00:46.260493",
     "status": "completed"
    },
    "tags": []
   },
   "source": [
    "# Single Output Regression"
   ]
  },
  {
   "cell_type": "code",
   "execution_count": 1,
   "id": "65309492",
   "metadata": {
    "_cell_guid": "b1076dfc-b9ad-4769-8c92-a6c4dae69d19",
    "_uuid": "8f2839f25d086af736a60e9eeb907d3b93b6e0e5",
    "execution": {
     "iopub.execute_input": "2022-10-30T22:00:46.277115Z",
     "iopub.status.busy": "2022-10-30T22:00:46.276666Z",
     "iopub.status.idle": "2022-10-30T22:00:46.401399Z",
     "shell.execute_reply": "2022-10-30T22:00:46.400535Z"
    },
    "papermill": {
     "duration": 0.133398,
     "end_time": "2022-10-30T22:00:46.404153",
     "exception": false,
     "start_time": "2022-10-30T22:00:46.270755",
     "status": "completed"
    },
    "tags": []
   },
   "outputs": [],
   "source": [
    "import os\n",
    "import sys\n",
    "import numpy as np\n",
    "import pandas as pd\n",
    "from tqdm.auto import tqdm\n",
    "import matplotlib.pyplot as plt\n",
    "from kaggle_secrets import UserSecretsClient\n",
    "from pathlib import Path\n",
    "\n",
    "\n",
    "# user_secrets = UserSecretsClient()\n",
    "# wandb_key = user_secrets.get_secret(\"wandb_key\")\n",
    "\n",
    "SEED = 42\n",
    "PATH = Path('../input/kdd-team/')\n",
    "PIX_FILES = ['pixels_dist_train_h.csv', 'pixels_dist_test_h.csv']\n",
    "MAX_TIME = 360"
   ]
  },
  {
   "cell_type": "code",
   "execution_count": 2,
   "id": "ab6f154b",
   "metadata": {
    "execution": {
     "iopub.execute_input": "2022-10-30T22:00:46.414993Z",
     "iopub.status.busy": "2022-10-30T22:00:46.414307Z",
     "iopub.status.idle": "2022-10-30T22:00:46.891923Z",
     "shell.execute_reply": "2022-10-30T22:00:46.890736Z"
    },
    "papermill": {
     "duration": 0.489776,
     "end_time": "2022-10-30T22:00:46.898492",
     "exception": false,
     "start_time": "2022-10-30T22:00:46.408716",
     "status": "completed"
    },
    "tags": []
   },
   "outputs": [
    {
     "name": "stdout",
     "output_type": "stream",
     "text": [
      "(146262, 6)\n"
     ]
    },
    {
     "data": {
      "text/html": [
       "<div>\n",
       "<style scoped>\n",
       "    .dataframe tbody tr th:only-of-type {\n",
       "        vertical-align: middle;\n",
       "    }\n",
       "\n",
       "    .dataframe tbody tr th {\n",
       "        vertical-align: top;\n",
       "    }\n",
       "\n",
       "    .dataframe thead th {\n",
       "        text-align: right;\n",
       "    }\n",
       "</style>\n",
       "<table border=\"1\" class=\"dataframe\">\n",
       "  <thead>\n",
       "    <tr style=\"text-align: right;\">\n",
       "      <th></th>\n",
       "      <th>Filename</th>\n",
       "      <th>Altitude</th>\n",
       "      <th>Delta</th>\n",
       "      <th>North</th>\n",
       "      <th>East</th>\n",
       "      <th>kfold</th>\n",
       "    </tr>\n",
       "  </thead>\n",
       "  <tbody>\n",
       "    <tr>\n",
       "      <th>0</th>\n",
       "      <td>00003e3b9e5336685200ae85d21b4f5e.jpg</td>\n",
       "      <td>178.829834</td>\n",
       "      <td>-0.065231</td>\n",
       "      <td>-0.386045</td>\n",
       "      <td>0.929772</td>\n",
       "      <td>0</td>\n",
       "    </tr>\n",
       "    <tr>\n",
       "      <th>1</th>\n",
       "      <td>0001261e2060303a06ba6c64d676d639.jpg</td>\n",
       "      <td>207.921478</td>\n",
       "      <td>-0.080688</td>\n",
       "      <td>0.635584</td>\n",
       "      <td>0.152819</td>\n",
       "      <td>2</td>\n",
       "    </tr>\n",
       "    <tr>\n",
       "      <th>2</th>\n",
       "      <td>0002ac0d783338cfeab0b2bdbd872cda.jpg</td>\n",
       "      <td>178.048431</td>\n",
       "      <td>0.021576</td>\n",
       "      <td>-1.228229</td>\n",
       "      <td>-0.499388</td>\n",
       "      <td>3</td>\n",
       "    </tr>\n",
       "    <tr>\n",
       "      <th>3</th>\n",
       "      <td>0004289ee1c7b8b08c77e19878106ae3.jpg</td>\n",
       "      <td>201.084625</td>\n",
       "      <td>0.505981</td>\n",
       "      <td>-1.739709</td>\n",
       "      <td>-0.699928</td>\n",
       "      <td>1</td>\n",
       "    </tr>\n",
       "    <tr>\n",
       "      <th>4</th>\n",
       "      <td>0004d0b59e19461ff126e3a08a814c33.jpg</td>\n",
       "      <td>187.550201</td>\n",
       "      <td>-0.328156</td>\n",
       "      <td>-0.169798</td>\n",
       "      <td>2.828752</td>\n",
       "      <td>0</td>\n",
       "    </tr>\n",
       "  </tbody>\n",
       "</table>\n",
       "</div>"
      ],
      "text/plain": [
       "                               Filename    Altitude     Delta     North  \\\n",
       "0  00003e3b9e5336685200ae85d21b4f5e.jpg  178.829834 -0.065231 -0.386045   \n",
       "1  0001261e2060303a06ba6c64d676d639.jpg  207.921478 -0.080688  0.635584   \n",
       "2  0002ac0d783338cfeab0b2bdbd872cda.jpg  178.048431  0.021576 -1.228229   \n",
       "3  0004289ee1c7b8b08c77e19878106ae3.jpg  201.084625  0.505981 -1.739709   \n",
       "4  0004d0b59e19461ff126e3a08a814c33.jpg  187.550201 -0.328156 -0.169798   \n",
       "\n",
       "       East  kfold  \n",
       "0  0.929772      0  \n",
       "1  0.152819      2  \n",
       "2 -0.499388      3  \n",
       "3 -0.699928      1  \n",
       "4  2.828752      0  "
      ]
     },
     "execution_count": 2,
     "metadata": {},
     "output_type": "execute_result"
    }
   ],
   "source": [
    "pub = pd.read_csv('../input/kdd-team/public.csv')\n",
    "print(pub.shape)\n",
    "pub.head()"
   ]
  },
  {
   "cell_type": "code",
   "execution_count": 3,
   "id": "a0001799",
   "metadata": {
    "execution": {
     "iopub.execute_input": "2022-10-30T22:00:46.911836Z",
     "iopub.status.busy": "2022-10-30T22:00:46.910830Z",
     "iopub.status.idle": "2022-10-30T22:00:46.954469Z",
     "shell.execute_reply": "2022-10-30T22:00:46.953131Z"
    },
    "papermill": {
     "duration": 0.052568,
     "end_time": "2022-10-30T22:00:46.957153",
     "exception": false,
     "start_time": "2022-10-30T22:00:46.904585",
     "status": "completed"
    },
    "tags": []
   },
   "outputs": [
    {
     "name": "stdout",
     "output_type": "stream",
     "text": [
      "<class 'pandas.core.frame.DataFrame'>\n",
      "RangeIndex: 146262 entries, 0 to 146261\n",
      "Data columns (total 6 columns):\n",
      " #   Column    Non-Null Count   Dtype  \n",
      "---  ------    --------------   -----  \n",
      " 0   Filename  146262 non-null  object \n",
      " 1   Altitude  146262 non-null  float64\n",
      " 2   Delta     146262 non-null  float64\n",
      " 3   North     91231 non-null   float64\n",
      " 4   East      91231 non-null   float64\n",
      " 5   kfold     146262 non-null  int64  \n",
      "dtypes: float64(4), int64(1), object(1)\n",
      "memory usage: 6.7+ MB\n"
     ]
    }
   ],
   "source": [
    "pub.info()"
   ]
  },
  {
   "cell_type": "code",
   "execution_count": 4,
   "id": "38c9eee5",
   "metadata": {
    "execution": {
     "iopub.execute_input": "2022-10-30T22:00:46.968599Z",
     "iopub.status.busy": "2022-10-30T22:00:46.968201Z",
     "iopub.status.idle": "2022-10-30T22:00:46.978176Z",
     "shell.execute_reply": "2022-10-30T22:00:46.976913Z"
    },
    "papermill": {
     "duration": 0.018051,
     "end_time": "2022-10-30T22:00:46.980360",
     "exception": false,
     "start_time": "2022-10-30T22:00:46.962309",
     "status": "completed"
    },
    "tags": []
   },
   "outputs": [],
   "source": [
    "def make_train_test(train_pixels_file, test_pixels_file=None, H2O=False):\n",
    "    train = pd.read_csv(PATH / train_pixels_file, low_memory=False)\n",
    "    print('Train Shape:', train.shape)\n",
    "    train.rename({'Images':'Filename'}, axis=1, inplace=True)\n",
    "    train = train.merge(pub, on='Filename', how='inner').reset_index(drop=True)\n",
    "    train.reset_index(inplace=True, drop=True)\n",
    "    print('Train Merged Shape:', train.shape)\n",
    "    \n",
    "    if test_pixels_file is not None:\n",
    "        test = pd.read_csv(PATH / test_pixels_file, low_memory=False)\n",
    "        print('Test Shape:', test.shape)\n",
    "        test.rename({'Images':'Filename'}, axis=1, inplace=True)\n",
    "        test = test.merge(pub, on='Filename', how='inner')\n",
    "        test.drop(['North', 'East'], axis=1, inplace=True)\n",
    "        test.reset_index(inplace=True, drop=True)\n",
    "        print('Test Merged Shape:', test.shape)\n",
    "    else:\n",
    "        X_test = None\n",
    "        \n",
    "    if H2O:\n",
    "        train = h2o.H2OFrame(train)\n",
    "        test = h2o.H2OFrame(test)\n",
    "        \n",
    "    return train, test"
   ]
  },
  {
   "cell_type": "code",
   "execution_count": 5,
   "id": "3450853e",
   "metadata": {
    "execution": {
     "iopub.execute_input": "2022-10-30T22:00:46.991282Z",
     "iopub.status.busy": "2022-10-30T22:00:46.990932Z",
     "iopub.status.idle": "2022-10-30T22:00:54.957224Z",
     "shell.execute_reply": "2022-10-30T22:00:54.955983Z"
    },
    "papermill": {
     "duration": 7.974722,
     "end_time": "2022-10-30T22:00:54.959939",
     "exception": false,
     "start_time": "2022-10-30T22:00:46.985217",
     "status": "completed"
    },
    "tags": []
   },
   "outputs": [
    {
     "name": "stdout",
     "output_type": "stream",
     "text": [
      "Checking whether there is an H2O instance running at http://localhost:54321 ..... not found.\n",
      "Attempting to start a local H2O server...\n",
      "  Java Version: openjdk version \"11.0.16\" 2022-07-19; OpenJDK Runtime Environment (build 11.0.16+8-post-Ubuntu-0ubuntu120.04); OpenJDK 64-Bit Server VM (build 11.0.16+8-post-Ubuntu-0ubuntu120.04, mixed mode, sharing)\n",
      "  Starting server from /opt/conda/lib/python3.7/site-packages/h2o/backend/bin/h2o.jar\n",
      "  Ice root: /tmp/tmpuyo3wni6\n",
      "  JVM stdout: /tmp/tmpuyo3wni6/h2o_unknownUser_started_from_python.out\n",
      "  JVM stderr: /tmp/tmpuyo3wni6/h2o_unknownUser_started_from_python.err\n",
      "  Server is running at http://127.0.0.1:54321\n",
      "Connecting to H2O server at http://127.0.0.1:54321 ... successful.\n"
     ]
    },
    {
     "data": {
      "text/html": [
       "\n",
       "<style>\n",
       "\n",
       "#h2o-table-1.h2o-container {\n",
       "  overflow-x: auto;\n",
       "}\n",
       "#h2o-table-1 .h2o-table {\n",
       "  /* width: 100%; */\n",
       "  margin-top: 1em;\n",
       "  margin-bottom: 1em;\n",
       "}\n",
       "#h2o-table-1 .h2o-table caption {\n",
       "  white-space: nowrap;\n",
       "  caption-side: top;\n",
       "  text-align: left;\n",
       "  /* margin-left: 1em; */\n",
       "  margin: 0;\n",
       "  font-size: larger;\n",
       "}\n",
       "#h2o-table-1 .h2o-table thead {\n",
       "  white-space: nowrap; \n",
       "  position: sticky;\n",
       "  top: 0;\n",
       "  box-shadow: 0 -1px inset;\n",
       "}\n",
       "#h2o-table-1 .h2o-table tbody {\n",
       "  overflow: auto;\n",
       "}\n",
       "#h2o-table-1 .h2o-table th,\n",
       "#h2o-table-1 .h2o-table td {\n",
       "  text-align: right;\n",
       "  /* border: 1px solid; */\n",
       "}\n",
       "#h2o-table-1 .h2o-table tr:nth-child(even) {\n",
       "  /* background: #F5F5F5 */\n",
       "}\n",
       "\n",
       "</style>      \n",
       "<div id=\"h2o-table-1\" class=\"h2o-container\">\n",
       "  <table class=\"h2o-table\">\n",
       "    <caption></caption>\n",
       "    <thead></thead>\n",
       "    <tbody><tr><td>H2O_cluster_uptime:</td>\n",
       "<td>02 secs</td></tr>\n",
       "<tr><td>H2O_cluster_timezone:</td>\n",
       "<td>Etc/UTC</td></tr>\n",
       "<tr><td>H2O_data_parsing_timezone:</td>\n",
       "<td>UTC</td></tr>\n",
       "<tr><td>H2O_cluster_version:</td>\n",
       "<td>3.38.0.1</td></tr>\n",
       "<tr><td>H2O_cluster_version_age:</td>\n",
       "<td>1 month and 11 days </td></tr>\n",
       "<tr><td>H2O_cluster_name:</td>\n",
       "<td>H2O_from_python_unknownUser_ipk8qc</td></tr>\n",
       "<tr><td>H2O_cluster_total_nodes:</td>\n",
       "<td>1</td></tr>\n",
       "<tr><td>H2O_cluster_free_memory:</td>\n",
       "<td>7.500 Gb</td></tr>\n",
       "<tr><td>H2O_cluster_total_cores:</td>\n",
       "<td>4</td></tr>\n",
       "<tr><td>H2O_cluster_allowed_cores:</td>\n",
       "<td>4</td></tr>\n",
       "<tr><td>H2O_cluster_status:</td>\n",
       "<td>locked, healthy</td></tr>\n",
       "<tr><td>H2O_connection_url:</td>\n",
       "<td>http://127.0.0.1:54321</td></tr>\n",
       "<tr><td>H2O_connection_proxy:</td>\n",
       "<td>{\"http\": null, \"https\": null}</td></tr>\n",
       "<tr><td>H2O_internal_security:</td>\n",
       "<td>False</td></tr>\n",
       "<tr><td>Python_version:</td>\n",
       "<td>3.7.12 final</td></tr></tbody>\n",
       "  </table>\n",
       "</div>\n"
      ],
      "text/plain": [
       "--------------------------  ----------------------------------\n",
       "H2O_cluster_uptime:         02 secs\n",
       "H2O_cluster_timezone:       Etc/UTC\n",
       "H2O_data_parsing_timezone:  UTC\n",
       "H2O_cluster_version:        3.38.0.1\n",
       "H2O_cluster_version_age:    1 month and 11 days\n",
       "H2O_cluster_name:           H2O_from_python_unknownUser_ipk8qc\n",
       "H2O_cluster_total_nodes:    1\n",
       "H2O_cluster_free_memory:    7.500 Gb\n",
       "H2O_cluster_total_cores:    4\n",
       "H2O_cluster_allowed_cores:  4\n",
       "H2O_cluster_status:         locked, healthy\n",
       "H2O_connection_url:         http://127.0.0.1:54321\n",
       "H2O_connection_proxy:       {\"http\": null, \"https\": null}\n",
       "H2O_internal_security:      False\n",
       "Python_version:             3.7.12 final\n",
       "--------------------------  ----------------------------------"
      ]
     },
     "metadata": {},
     "output_type": "display_data"
    }
   ],
   "source": [
    "import h2o\n",
    "from h2o.automl import H2OAutoML\n",
    "\n",
    "h2o.init()"
   ]
  },
  {
   "cell_type": "code",
   "execution_count": 6,
   "id": "de2eed8c",
   "metadata": {
    "execution": {
     "iopub.execute_input": "2022-10-30T22:00:54.978770Z",
     "iopub.status.busy": "2022-10-30T22:00:54.977977Z",
     "iopub.status.idle": "2022-10-30T22:01:01.619115Z",
     "shell.execute_reply": "2022-10-30T22:01:01.617589Z"
    },
    "papermill": {
     "duration": 6.653545,
     "end_time": "2022-10-30T22:01:01.621567",
     "exception": false,
     "start_time": "2022-10-30T22:00:54.968022",
     "status": "completed"
    },
    "tags": []
   },
   "outputs": [
    {
     "name": "stdout",
     "output_type": "stream",
     "text": [
      "Train Shape: (91231, 3)\n",
      "Train Merged Shape: (91231, 8)\n",
      "Test Shape: (55031, 3)\n",
      "Test Merged Shape: (55031, 6)\n",
      "Parse progress: |████████████████████████████████████████████████████████████████| (done) 100%\n",
      "Parse progress: |████████████████████████████████████████████████████████████████| (done) 100%\n"
     ]
    }
   ],
   "source": [
    "train, test = make_train_test(PIX_FILES[0],\n",
    "                              PIX_FILES[1],\n",
    "                              H2O=True)"
   ]
  },
  {
   "cell_type": "code",
   "execution_count": 7,
   "id": "dcfe654a",
   "metadata": {
    "execution": {
     "iopub.execute_input": "2022-10-30T22:01:01.635062Z",
     "iopub.status.busy": "2022-10-30T22:01:01.634641Z",
     "iopub.status.idle": "2022-10-30T22:01:01.642049Z",
     "shell.execute_reply": "2022-10-30T22:01:01.640927Z"
    },
    "papermill": {
     "duration": 0.016795,
     "end_time": "2022-10-30T22:01:01.644320",
     "exception": false,
     "start_time": "2022-10-30T22:01:01.627525",
     "status": "completed"
    },
    "tags": []
   },
   "outputs": [],
   "source": [
    "features = ['North_pixel', 'East_pixel', 'Altitude', 'Delta']\n",
    "\n",
    "def train_automl(train, test, target, max_runtime_secs=3600):\n",
    "    \n",
    "    aml = H2OAutoML(seed=SEED,\n",
    "                    max_runtime_secs=max_runtime_secs,\n",
    "                    stopping_metric='RMSE',\n",
    "                    sort_metric='RMSE',\n",
    "                    exploitation_ratio=0.1,\n",
    "                    verbosity='info')\n",
    "\n",
    "    aml.train(x=features, y=target, training_frame=train)  \n",
    "    \n",
    "    train_preds = aml.leader.predict(train)\n",
    "    train_preds.rename({'predict':target+'_prediction'})\n",
    "    \n",
    "    test_preds = aml.leader.predict(test)\n",
    "    test_preds.rename({'predict':target+'_prediction'})\n",
    "    \n",
    "    return aml, train_preds, test_preds\n",
    "    "
   ]
  },
  {
   "cell_type": "code",
   "execution_count": 8,
   "id": "58f0e252",
   "metadata": {
    "execution": {
     "iopub.execute_input": "2022-10-30T22:01:01.657584Z",
     "iopub.status.busy": "2022-10-30T22:01:01.657215Z",
     "iopub.status.idle": "2022-10-30T22:07:13.386072Z",
     "shell.execute_reply": "2022-10-30T22:07:13.384353Z"
    },
    "papermill": {
     "duration": 371.739019,
     "end_time": "2022-10-30T22:07:13.389239",
     "exception": false,
     "start_time": "2022-10-30T22:01:01.650220",
     "status": "completed"
    },
    "tags": []
   },
   "outputs": [
    {
     "name": "stdout",
     "output_type": "stream",
     "text": [
      "AutoML progress: |\n",
      "22:01:01.771: Project: AutoML_1_20221030_220101\n",
      "22:01:01.774: 5-fold cross-validation will be used.\n",
      "22:01:01.774: Setting stopping tolerance adaptively based on the training frame: 0.0033107682550761745\n",
      "22:01:01.775: Build control seed: 42\n",
      "22:01:01.776: training frame: Frame key: AutoML_1_20221030_220101_training_Key_Frame__upload_9aafb5aa6fa62fbb8d53adc1a6c543c6.hex    cols: 8    rows: 91231  chunks: 4    size: 8212986  checksum: -8379930449702062030\n",
      "22:01:01.776: validation frame: NULL\n",
      "22:01:01.776: leaderboard frame: NULL\n",
      "22:01:01.777: blending frame: NULL\n",
      "22:01:01.777: response column: North\n",
      "22:01:01.777: fold column: null\n",
      "22:01:01.777: weights column: null\n",
      "22:01:01.803: Loading execution steps: [{XGBoost : [def_2 (1g, 10w), def_1 (2g, 10w), def_3 (3g, 10w), grid_1 (4g, 90w), lr_search (6g, 30w)]}, {GLM : [def_1 (1g, 10w)]}, {DRF : [def_1 (2g, 10w), XRT (3g, 10w)]}, {GBM : [def_5 (1g, 10w), def_2 (2g, 10w), def_3 (2g, 10w), def_4 (2g, 10w), def_1 (3g, 10w), grid_1 (4g, 60w), lr_annealing (6g, 10w)]}, {DeepLearning : [def_1 (3g, 10w), grid_1 (4g, 30w), grid_2 (5g, 30w), grid_3 (5g, 30w)]}, {completion : [resume_best_grids (10g, 60w)]}, {StackedEnsemble : [best_of_family_1 (1g, 5w), best_of_family_2 (2g, 5w), best_of_family_3 (3g, 5w), best_of_family_4 (4g, 5w), best_of_family_5 (5g, 5w), all_2 (2g, 10w), all_3 (3g, 10w), all_4 (4g, 10w), all_5 (5g, 10w), monotonic (6g, 10w), best_of_family_gbm (6g, 10w), all_gbm (7g, 10w), best_of_family_xglm (8g, 10w), all_xglm (8g, 10w), best_of_family (10g, 10w), best_N (10g, 10w)]}]\n",
      "22:01:01.838: AutoML job created: 2022.10.30 22:01:01.731\n",
      "22:01:01.839: AutoML build started: 2022.10.30 22:01:01.839\n",
      "22:01:01.857: AutoML: starting XGBoost_1_AutoML_1_20221030_220101 model training\n",
      "\n",
      "████████\n",
      "22:01:43.305: New leader: XGBoost_1_AutoML_1_20221030_220101, rmse: 0.44609142906739546\n",
      "22:01:43.311: AutoML: starting GLM_1_AutoML_1_20221030_220101 model training\n",
      "\n",
      "█\n",
      "22:01:46.292: AutoML: starting GBM_1_AutoML_1_20221030_220101 model training\n",
      "\n",
      "████████\n",
      "22:02:33.638: AutoML: starting StackedEnsemble_BestOfFamily_1_AutoML_1_20221030_220101 model training\n",
      "22:02:34.718: New leader: StackedEnsemble_BestOfFamily_1_AutoML_1_20221030_220101, rmse: 0.4189357827909821\n",
      "22:02:34.719: AutoML: starting XGBoost_2_AutoML_1_20221030_220101 model training\n",
      "\n",
      "███\n",
      "22:02:55.112: AutoML: starting DRF_1_AutoML_1_20221030_220101 model training\n",
      "\n",
      "███\n",
      "22:03:12.587: AutoML: starting GBM_2_AutoML_1_20221030_220101 model training\n",
      "\n",
      "████████\n",
      "22:03:55.563: AutoML: starting GBM_3_AutoML_1_20221030_220101 model training\n",
      "\n",
      "█████\n",
      "22:04:27.640: AutoML: starting GBM_4_AutoML_1_20221030_220101 model training\n",
      "\n",
      "██████\n",
      "22:05:04.673: AutoML: starting StackedEnsemble_BestOfFamily_2_AutoML_1_20221030_220101 model training\n",
      "\n",
      "█\n",
      "22:05:05.440: New leader: StackedEnsemble_BestOfFamily_2_AutoML_1_20221030_220101, rmse: 0.41193309569362385\n",
      "22:05:05.444: AutoML: starting StackedEnsemble_AllModels_1_AutoML_1_20221030_220101 model training\n",
      "\n",
      "\n",
      "22:05:06.657: New leader: StackedEnsemble_AllModels_1_AutoML_1_20221030_220101, rmse: 0.4014192820192153\n",
      "22:05:06.659: AutoML: starting XGBoost_3_AutoML_1_20221030_220101 model training\n",
      "\n",
      "███\n",
      "22:05:27.271: AutoML: starting XRT_1_AutoML_1_20221030_220101 model training\n",
      "\n",
      "███\n",
      "22:05:44.149: AutoML: starting GBM_5_AutoML_1_20221030_220101 model training\n",
      "\n",
      "████\n",
      "22:06:05.946: AutoML: starting DeepLearning_1_AutoML_1_20221030_220101 model training\n",
      "\n",
      "███\n",
      "22:06:25.60: AutoML: starting StackedEnsemble_BestOfFamily_3_AutoML_1_20221030_220101 model training\n",
      "\n",
      "\n",
      "22:06:26.278: AutoML: starting StackedEnsemble_AllModels_2_AutoML_1_20221030_220101 model training\n",
      "\n",
      "█\n",
      "22:06:27.628: AutoML: starting XGBoost_grid_1_AutoML_1_20221030_220101 hyperparameter search\n",
      "\n",
      "███\n",
      "22:06:45.98: AutoML: starting GBM_grid_1_AutoML_1_20221030_220101 hyperparameter search\n",
      "\n",
      "█\n",
      "22:06:55.210: AutoML: starting DeepLearning_grid_1_AutoML_1_20221030_220101 hyperparameter search\n",
      "\n",
      "██| (done) 100%\n",
      "\n",
      "22:07:00.151: AutoML: starting StackedEnsemble_AllModels_3_AutoML_1_20221030_220101 model training\n",
      "22:07:01.542: AutoML: starting DeepLearning_grid_2_AutoML_1_20221030_220101 hyperparameter search\n",
      "22:07:02.661: Actual modeling steps: [{XGBoost : [def_2 (1g, 10w)]}, {GLM : [def_1 (1g, 10w)]}, {GBM : [def_5 (1g, 10w)]}, {StackedEnsemble : [best_of_family_1 (1g, 5w)]}, {XGBoost : [def_1 (2g, 10w)]}, {DRF : [def_1 (2g, 10w)]}, {GBM : [def_2 (2g, 10w), def_3 (2g, 10w), def_4 (2g, 10w)]}, {StackedEnsemble : [best_of_family_2 (2g, 5w), all_2 (2g, 10w)]}, {XGBoost : [def_3 (3g, 10w)]}, {DRF : [XRT (3g, 10w)]}, {GBM : [def_1 (3g, 10w)]}, {DeepLearning : [def_1 (3g, 10w)]}, {StackedEnsemble : [best_of_family_3 (3g, 5w), all_3 (3g, 10w)]}, {XGBoost : [grid_1 (4g, 90w)]}, {GBM : [grid_1 (4g, 60w)]}, {DeepLearning : [grid_1 (4g, 30w)]}, {StackedEnsemble : [all_4 (4g, 10w)]}, {DeepLearning : [grid_2 (5g, 30w)]}]\n",
      "22:07:02.661: AutoML build stopped: 2022.10.30 22:07:02.661\n",
      "22:07:02.661: AutoML build done: built 16 models\n",
      "22:07:02.661: AutoML duration:  6 min  0.822 sec\n",
      "\n",
      "stackedensemble prediction progress: |███████████████████████████████████████████| (done) 100%\n",
      "stackedensemble prediction progress: |███████████████████████████████████████████| (done) 100%\n"
     ]
    },
    {
     "data": {
      "text/html": [
       "<table class='dataframe'>\n",
       "<thead>\n",
       "<tr><th>model_id                                               </th><th style=\"text-align: right;\">    rmse</th><th style=\"text-align: right;\">     mse</th><th style=\"text-align: right;\">     mae</th><th style=\"text-align: right;\">  rmsle</th><th style=\"text-align: right;\">  mean_residual_deviance</th></tr>\n",
       "</thead>\n",
       "<tbody>\n",
       "<tr><td>StackedEnsemble_AllModels_1_AutoML_1_20221030_220101   </td><td style=\"text-align: right;\">0.401419</td><td style=\"text-align: right;\">0.161137</td><td style=\"text-align: right;\">0.20609 </td><td style=\"text-align: right;\">    nan</td><td style=\"text-align: right;\">                0.161137</td></tr>\n",
       "<tr><td>StackedEnsemble_AllModels_2_AutoML_1_20221030_220101   </td><td style=\"text-align: right;\">0.402212</td><td style=\"text-align: right;\">0.161775</td><td style=\"text-align: right;\">0.207829</td><td style=\"text-align: right;\">    nan</td><td style=\"text-align: right;\">                0.161775</td></tr>\n",
       "<tr><td>StackedEnsemble_BestOfFamily_2_AutoML_1_20221030_220101</td><td style=\"text-align: right;\">0.411933</td><td style=\"text-align: right;\">0.169689</td><td style=\"text-align: right;\">0.21646 </td><td style=\"text-align: right;\">    nan</td><td style=\"text-align: right;\">                0.169689</td></tr>\n",
       "<tr><td>StackedEnsemble_BestOfFamily_3_AutoML_1_20221030_220101</td><td style=\"text-align: right;\">0.412237</td><td style=\"text-align: right;\">0.16994 </td><td style=\"text-align: right;\">0.217845</td><td style=\"text-align: right;\">    nan</td><td style=\"text-align: right;\">                0.16994 </td></tr>\n",
       "<tr><td>StackedEnsemble_AllModels_3_AutoML_1_20221030_220101   </td><td style=\"text-align: right;\">0.417794</td><td style=\"text-align: right;\">0.174551</td><td style=\"text-align: right;\">0.208891</td><td style=\"text-align: right;\">    nan</td><td style=\"text-align: right;\">                0.174551</td></tr>\n",
       "</tbody>\n",
       "</table><pre style='font-size: smaller; margin-bottom: 1em;'>[5 rows x 6 columns]</pre>"
      ],
      "text/plain": [
       "model_id                                                     rmse       mse       mae    rmsle    mean_residual_deviance\n",
       "-------------------------------------------------------  --------  --------  --------  -------  ------------------------\n",
       "StackedEnsemble_AllModels_1_AutoML_1_20221030_220101     0.401419  0.161137  0.20609       nan                  0.161137\n",
       "StackedEnsemble_AllModels_2_AutoML_1_20221030_220101     0.402212  0.161775  0.207829      nan                  0.161775\n",
       "StackedEnsemble_BestOfFamily_2_AutoML_1_20221030_220101  0.411933  0.169689  0.21646       nan                  0.169689\n",
       "StackedEnsemble_BestOfFamily_3_AutoML_1_20221030_220101  0.412237  0.16994   0.217845      nan                  0.16994\n",
       "StackedEnsemble_AllModels_3_AutoML_1_20221030_220101     0.417794  0.174551  0.208891      nan                  0.174551\n",
       "[5 rows x 6 columns]\n"
      ]
     },
     "execution_count": 8,
     "metadata": {},
     "output_type": "execute_result"
    }
   ],
   "source": [
    "north_aml, north_train_preds, north_test_preds = train_automl(train, test, 'North', MAX_TIME)\n",
    "north_aml.leaderboard.head(5)"
   ]
  },
  {
   "cell_type": "code",
   "execution_count": 9,
   "id": "e0d5474d",
   "metadata": {
    "execution": {
     "iopub.execute_input": "2022-10-30T22:07:13.413832Z",
     "iopub.status.busy": "2022-10-30T22:07:13.413386Z",
     "iopub.status.idle": "2022-10-30T22:13:24.518536Z",
     "shell.execute_reply": "2022-10-30T22:13:24.516823Z"
    },
    "papermill": {
     "duration": 371.120279,
     "end_time": "2022-10-30T22:13:24.520923",
     "exception": false,
     "start_time": "2022-10-30T22:07:13.400644",
     "status": "completed"
    },
    "tags": []
   },
   "outputs": [
    {
     "name": "stdout",
     "output_type": "stream",
     "text": [
      "AutoML progress: |\n",
      "22:07:13.427: Project: AutoML_2_20221030_220713\n",
      "22:07:13.427: 5-fold cross-validation will be used.\n",
      "22:07:13.428: Setting stopping tolerance adaptively based on the training frame: 0.0033107682550761745\n",
      "22:07:13.428: Build control seed: 42\n",
      "22:07:13.428: training frame: Frame key: AutoML_2_20221030_220713_training_Key_Frame__upload_9aafb5aa6fa62fbb8d53adc1a6c543c6.hex    cols: 8    rows: 91231  chunks: 4    size: 8212986  checksum: -8379930449702062030\n",
      "22:07:13.428: validation frame: NULL\n",
      "22:07:13.428: leaderboard frame: NULL\n",
      "22:07:13.428: blending frame: NULL\n",
      "22:07:13.428: response column: East\n",
      "22:07:13.428: fold column: null\n",
      "22:07:13.428: weights column: null\n",
      "22:07:13.429: Loading execution steps: [{XGBoost : [def_2 (1g, 10w), def_1 (2g, 10w), def_3 (3g, 10w), grid_1 (4g, 90w), lr_search (6g, 30w)]}, {GLM : [def_1 (1g, 10w)]}, {DRF : [def_1 (2g, 10w), XRT (3g, 10w)]}, {GBM : [def_5 (1g, 10w), def_2 (2g, 10w), def_3 (2g, 10w), def_4 (2g, 10w), def_1 (3g, 10w), grid_1 (4g, 60w), lr_annealing (6g, 10w)]}, {DeepLearning : [def_1 (3g, 10w), grid_1 (4g, 30w), grid_2 (5g, 30w), grid_3 (5g, 30w)]}, {completion : [resume_best_grids (10g, 60w)]}, {StackedEnsemble : [best_of_family_1 (1g, 5w), best_of_family_2 (2g, 5w), best_of_family_3 (3g, 5w), best_of_family_4 (4g, 5w), best_of_family_5 (5g, 5w), all_2 (2g, 10w), all_3 (3g, 10w), all_4 (4g, 10w), all_5 (5g, 10w), monotonic (6g, 10w), best_of_family_gbm (6g, 10w), all_gbm (7g, 10w), best_of_family_xglm (8g, 10w), all_xglm (8g, 10w), best_of_family (10g, 10w), best_N (10g, 10w)]}]\n",
      "22:07:13.431: AutoML job created: 2022.10.30 22:07:13.427\n",
      "22:07:13.431: AutoML build started: 2022.10.30 22:07:13.431\n",
      "22:07:13.432: AutoML: starting XGBoost_1_AutoML_2_20221030_220713 model training\n",
      "\n",
      "██████\n",
      "22:07:41.847: New leader: XGBoost_1_AutoML_2_20221030_220713, rmse: 0.3787215555629588\n",
      "22:07:41.848: AutoML: starting GLM_1_AutoML_2_20221030_220713 model training\n",
      "\n",
      "\n",
      "22:07:43.120: AutoML: starting GBM_1_AutoML_2_20221030_220713 model training\n",
      "\n",
      "███████\n",
      "22:08:24.934: AutoML: starting StackedEnsemble_BestOfFamily_1_AutoML_2_20221030_220713 model training\n",
      "\n",
      "\n",
      "22:08:25.641: New leader: StackedEnsemble_BestOfFamily_1_AutoML_2_20221030_220713, rmse: 0.3707714610371723\n",
      "22:08:25.646: AutoML: starting XGBoost_2_AutoML_2_20221030_220713 model training\n",
      "\n",
      "█████\n",
      "22:08:53.422: AutoML: starting DRF_1_AutoML_2_20221030_220713 model training\n",
      "\n",
      "███\n",
      "22:09:09.864: AutoML: starting GBM_2_AutoML_2_20221030_220713 model training\n",
      "\n",
      "██████\n",
      "22:09:46.557: AutoML: starting GBM_3_AutoML_2_20221030_220713 model training\n",
      "\n",
      "███████\n",
      "22:10:28.16: AutoML: starting GBM_4_AutoML_2_20221030_220713 model training\n",
      "\n",
      "██████\n",
      "22:11:04.216: AutoML: starting StackedEnsemble_BestOfFamily_2_AutoML_2_20221030_220713 model training\n",
      "\n",
      "█\n",
      "22:11:04.937: New leader: StackedEnsemble_BestOfFamily_2_AutoML_2_20221030_220713, rmse: 0.3688098572991573\n",
      "22:11:04.939: AutoML: starting StackedEnsemble_AllModels_1_AutoML_2_20221030_220713 model training\n",
      "22:11:06.6: New leader: StackedEnsemble_AllModels_1_AutoML_2_20221030_220713, rmse: 0.3668133879635361\n",
      "22:11:06.8: AutoML: starting XGBoost_3_AutoML_2_20221030_220713 model training\n",
      "\n",
      "████\n",
      "22:11:29.177: AutoML: starting XRT_1_AutoML_2_20221030_220713 model training\n",
      "\n",
      "███\n",
      "22:11:47.283: AutoML: starting GBM_5_AutoML_2_20221030_220713 model training\n",
      "\n",
      "███\n",
      "22:12:08.239: AutoML: starting DeepLearning_1_AutoML_2_20221030_220713 model training\n",
      "\n",
      "████\n",
      "22:12:28.430: AutoML: starting StackedEnsemble_BestOfFamily_3_AutoML_2_20221030_220713 model training\n",
      "22:12:29.141: AutoML: starting StackedEnsemble_AllModels_2_AutoML_2_20221030_220713 model training\n",
      "\n",
      "\n",
      "22:12:30.286: AutoML: starting XGBoost_grid_1_AutoML_2_20221030_220713 hyperparameter search\n",
      "\n",
      "████\n",
      "22:12:52.69: AutoML: starting GBM_grid_1_AutoML_2_20221030_220713 hyperparameter search\n",
      "\n",
      "██\n",
      "22:13:04.609: AutoML: starting DeepLearning_grid_1_AutoML_2_20221030_220713 hyperparameter search\n",
      "\n",
      "██| (done) 100%\n",
      "\n",
      "22:13:10.921: AutoML: starting StackedEnsemble_AllModels_3_AutoML_2_20221030_220713 model training\n",
      "22:13:12.198: AutoML: starting DeepLearning_grid_2_AutoML_2_20221030_220713 hyperparameter search\n",
      "22:13:14.249: Actual modeling steps: [{XGBoost : [def_2 (1g, 10w)]}, {GLM : [def_1 (1g, 10w)]}, {GBM : [def_5 (1g, 10w)]}, {StackedEnsemble : [best_of_family_1 (1g, 5w)]}, {XGBoost : [def_1 (2g, 10w)]}, {DRF : [def_1 (2g, 10w)]}, {GBM : [def_2 (2g, 10w), def_3 (2g, 10w), def_4 (2g, 10w)]}, {StackedEnsemble : [best_of_family_2 (2g, 5w), all_2 (2g, 10w)]}, {XGBoost : [def_3 (3g, 10w)]}, {DRF : [XRT (3g, 10w)]}, {GBM : [def_1 (3g, 10w)]}, {DeepLearning : [def_1 (3g, 10w)]}, {StackedEnsemble : [best_of_family_3 (3g, 5w), all_3 (3g, 10w)]}, {XGBoost : [grid_1 (4g, 90w)]}, {GBM : [grid_1 (4g, 60w)]}, {DeepLearning : [grid_1 (4g, 30w)]}, {StackedEnsemble : [all_4 (4g, 10w)]}, {DeepLearning : [grid_2 (5g, 30w)]}]\n",
      "22:13:14.249: AutoML build stopped: 2022.10.30 22:13:14.249\n",
      "22:13:14.249: AutoML build done: built 16 models\n",
      "22:13:14.249: AutoML duration:  6 min  0.818 sec\n",
      "\n",
      "stackedensemble prediction progress: |███████████████████████████████████████████| (done) 100%\n",
      "stackedensemble prediction progress: |███████████████████████████████████████████| (done) 100%\n"
     ]
    },
    {
     "data": {
      "text/html": [
       "<table class='dataframe'>\n",
       "<thead>\n",
       "<tr><th>model_id                                               </th><th style=\"text-align: right;\">    rmse</th><th style=\"text-align: right;\">     mse</th><th style=\"text-align: right;\">     mae</th><th style=\"text-align: right;\">  rmsle</th><th style=\"text-align: right;\">  mean_residual_deviance</th></tr>\n",
       "</thead>\n",
       "<tbody>\n",
       "<tr><td>StackedEnsemble_AllModels_1_AutoML_2_20221030_220713   </td><td style=\"text-align: right;\">0.366813</td><td style=\"text-align: right;\">0.134552</td><td style=\"text-align: right;\">0.189861</td><td style=\"text-align: right;\">    nan</td><td style=\"text-align: right;\">                0.134552</td></tr>\n",
       "<tr><td>StackedEnsemble_AllModels_2_AutoML_2_20221030_220713   </td><td style=\"text-align: right;\">0.366814</td><td style=\"text-align: right;\">0.134553</td><td style=\"text-align: right;\">0.189858</td><td style=\"text-align: right;\">    nan</td><td style=\"text-align: right;\">                0.134553</td></tr>\n",
       "<tr><td>StackedEnsemble_AllModels_3_AutoML_2_20221030_220713   </td><td style=\"text-align: right;\">0.366898</td><td style=\"text-align: right;\">0.134614</td><td style=\"text-align: right;\">0.189829</td><td style=\"text-align: right;\">    nan</td><td style=\"text-align: right;\">                0.134614</td></tr>\n",
       "<tr><td>StackedEnsemble_BestOfFamily_3_AutoML_2_20221030_220713</td><td style=\"text-align: right;\">0.368805</td><td style=\"text-align: right;\">0.136017</td><td style=\"text-align: right;\">0.192274</td><td style=\"text-align: right;\">    nan</td><td style=\"text-align: right;\">                0.136017</td></tr>\n",
       "<tr><td>StackedEnsemble_BestOfFamily_2_AutoML_2_20221030_220713</td><td style=\"text-align: right;\">0.36881 </td><td style=\"text-align: right;\">0.136021</td><td style=\"text-align: right;\">0.192275</td><td style=\"text-align: right;\">    nan</td><td style=\"text-align: right;\">                0.136021</td></tr>\n",
       "</tbody>\n",
       "</table><pre style='font-size: smaller; margin-bottom: 1em;'>[5 rows x 6 columns]</pre>"
      ],
      "text/plain": [
       "model_id                                                     rmse       mse       mae    rmsle    mean_residual_deviance\n",
       "-------------------------------------------------------  --------  --------  --------  -------  ------------------------\n",
       "StackedEnsemble_AllModels_1_AutoML_2_20221030_220713     0.366813  0.134552  0.189861      nan                  0.134552\n",
       "StackedEnsemble_AllModels_2_AutoML_2_20221030_220713     0.366814  0.134553  0.189858      nan                  0.134553\n",
       "StackedEnsemble_AllModels_3_AutoML_2_20221030_220713     0.366898  0.134614  0.189829      nan                  0.134614\n",
       "StackedEnsemble_BestOfFamily_3_AutoML_2_20221030_220713  0.368805  0.136017  0.192274      nan                  0.136017\n",
       "StackedEnsemble_BestOfFamily_2_AutoML_2_20221030_220713  0.36881   0.136021  0.192275      nan                  0.136021\n",
       "[5 rows x 6 columns]\n"
      ]
     },
     "execution_count": 9,
     "metadata": {},
     "output_type": "execute_result"
    }
   ],
   "source": [
    "east_aml, east_train_preds, east_test_preds = train_automl(train, test, 'East', MAX_TIME)\n",
    "east_aml.leaderboard.head(5)"
   ]
  },
  {
   "cell_type": "code",
   "execution_count": 10,
   "id": "fb431d0c",
   "metadata": {
    "execution": {
     "iopub.execute_input": "2022-10-30T22:13:24.555311Z",
     "iopub.status.busy": "2022-10-30T22:13:24.554943Z",
     "iopub.status.idle": "2022-10-30T22:13:24.566301Z",
     "shell.execute_reply": "2022-10-30T22:13:24.565129Z"
    },
    "papermill": {
     "duration": 0.031425,
     "end_time": "2022-10-30T22:13:24.568596",
     "exception": false,
     "start_time": "2022-10-30T22:13:24.537171",
     "status": "completed"
    },
    "tags": []
   },
   "outputs": [
    {
     "data": {
      "text/html": [
       "<table class='dataframe'>\n",
       "<thead>\n",
       "<tr><th>Filename                            </th><th style=\"text-align: right;\">  North_pixel</th><th style=\"text-align: right;\">  East_pixel</th><th style=\"text-align: right;\">  Altitude</th><th style=\"text-align: right;\">     Delta</th><th style=\"text-align: right;\">    North</th><th style=\"text-align: right;\">      East</th><th style=\"text-align: right;\">  kfold</th></tr>\n",
       "</thead>\n",
       "<tbody>\n",
       "<tr><td>00003e3b9e5336685200ae85d21b4f5e.jpg</td><td style=\"text-align: right;\">     -1.09818</td><td style=\"text-align: right;\">    2.82837 </td><td style=\"text-align: right;\">   178.83 </td><td style=\"text-align: right;\">-0.0652313</td><td style=\"text-align: right;\">-0.386045</td><td style=\"text-align: right;\"> 0.929772 </td><td style=\"text-align: right;\">      0</td></tr>\n",
       "<tr><td>0001261e2060303a06ba6c64d676d639.jpg</td><td style=\"text-align: right;\">      1.45245</td><td style=\"text-align: right;\">    0.207358</td><td style=\"text-align: right;\">   207.921</td><td style=\"text-align: right;\">-0.0806885</td><td style=\"text-align: right;\"> 0.635584</td><td style=\"text-align: right;\"> 0.152819 </td><td style=\"text-align: right;\">      2</td></tr>\n",
       "<tr><td>0002ac0d783338cfeab0b2bdbd872cda.jpg</td><td style=\"text-align: right;\">     -3.54421</td><td style=\"text-align: right;\">   -1.49436 </td><td style=\"text-align: right;\">   178.048</td><td style=\"text-align: right;\"> 0.0215759</td><td style=\"text-align: right;\">-1.22823 </td><td style=\"text-align: right;\">-0.499388 </td><td style=\"text-align: right;\">      3</td></tr>\n",
       "<tr><td>0004289ee1c7b8b08c77e19878106ae3.jpg</td><td style=\"text-align: right;\">     -6.05406</td><td style=\"text-align: right;\">   -4.08215 </td><td style=\"text-align: right;\">   201.085</td><td style=\"text-align: right;\"> 0.505981 </td><td style=\"text-align: right;\">-1.73971 </td><td style=\"text-align: right;\">-0.699928 </td><td style=\"text-align: right;\">      1</td></tr>\n",
       "<tr><td>0004d0b59e19461ff126e3a08a814c33.jpg</td><td style=\"text-align: right;\">     -0.69025</td><td style=\"text-align: right;\">    8.23287 </td><td style=\"text-align: right;\">   187.55 </td><td style=\"text-align: right;\">-0.328156 </td><td style=\"text-align: right;\">-0.169798</td><td style=\"text-align: right;\"> 2.82875  </td><td style=\"text-align: right;\">      0</td></tr>\n",
       "<tr><td>00053f5e11d1fe4e49a221165b39abc9.jpg</td><td style=\"text-align: right;\">     -1.53787</td><td style=\"text-align: right;\">    0.156357</td><td style=\"text-align: right;\">   168.996</td><td style=\"text-align: right;\">-0.0148621</td><td style=\"text-align: right;\">-0.321776</td><td style=\"text-align: right;\">-0.0755221</td><td style=\"text-align: right;\">      4</td></tr>\n",
       "<tr><td>00056c20eb5a029583db75506953f1d9.jpg</td><td style=\"text-align: right;\">      1.84261</td><td style=\"text-align: right;\">   -4.58337 </td><td style=\"text-align: right;\">   179.963</td><td style=\"text-align: right;\"> 0.109741 </td><td style=\"text-align: right;\"> 0.646206</td><td style=\"text-align: right;\">-1.68678  </td><td style=\"text-align: right;\">      2</td></tr>\n",
       "<tr><td>0006aabe0ba47a35c0b0bf6596f85159.jpg</td><td style=\"text-align: right;\">     -6.29129</td><td style=\"text-align: right;\">    1.70565 </td><td style=\"text-align: right;\">   180.632</td><td style=\"text-align: right;\"> 0.212234 </td><td style=\"text-align: right;\">-0.178107</td><td style=\"text-align: right;\"> 0.132653 </td><td style=\"text-align: right;\">      2</td></tr>\n",
       "<tr><td>0006dd05ea1e999ddaa041a7091b7b36.jpg</td><td style=\"text-align: right;\">    -11.2507 </td><td style=\"text-align: right;\">   11.3918  </td><td style=\"text-align: right;\">   168.886</td><td style=\"text-align: right;\"> 0.0512695</td><td style=\"text-align: right;\">-1.82588 </td><td style=\"text-align: right;\"> 1.95608  </td><td style=\"text-align: right;\">      2</td></tr>\n",
       "<tr><td>0007789b118e4710fc0e7c8758a6532a.jpg</td><td style=\"text-align: right;\">      6.03035</td><td style=\"text-align: right;\">   -2.07258 </td><td style=\"text-align: right;\">   194.349</td><td style=\"text-align: right;\"> 0.387817 </td><td style=\"text-align: right;\"> 2.46552 </td><td style=\"text-align: right;\">-0.88375  </td><td style=\"text-align: right;\">      3</td></tr>\n",
       "</tbody>\n",
       "</table><pre style='font-size: smaller; margin-bottom: 1em;'>[91231 rows x 8 columns]</pre>"
      ],
      "text/plain": [
       "Filename                                North_pixel    East_pixel    Altitude       Delta      North        East    kfold\n",
       "------------------------------------  -------------  ------------  ----------  ----------  ---------  ----------  -------\n",
       "00003e3b9e5336685200ae85d21b4f5e.jpg       -1.09818      2.82837      178.83   -0.0652313  -0.386045   0.929772         0\n",
       "0001261e2060303a06ba6c64d676d639.jpg        1.45245      0.207358     207.921  -0.0806885   0.635584   0.152819         2\n",
       "0002ac0d783338cfeab0b2bdbd872cda.jpg       -3.54421     -1.49436      178.048   0.0215759  -1.22823   -0.499388         3\n",
       "0004289ee1c7b8b08c77e19878106ae3.jpg       -6.05406     -4.08215      201.085   0.505981   -1.73971   -0.699928         1\n",
       "0004d0b59e19461ff126e3a08a814c33.jpg       -0.69025      8.23287      187.55   -0.328156   -0.169798   2.82875          0\n",
       "00053f5e11d1fe4e49a221165b39abc9.jpg       -1.53787      0.156357     168.996  -0.0148621  -0.321776  -0.0755221        4\n",
       "00056c20eb5a029583db75506953f1d9.jpg        1.84261     -4.58337      179.963   0.109741    0.646206  -1.68678          2\n",
       "0006aabe0ba47a35c0b0bf6596f85159.jpg       -6.29129      1.70565      180.632   0.212234   -0.178107   0.132653         2\n",
       "0006dd05ea1e999ddaa041a7091b7b36.jpg      -11.2507      11.3918       168.886   0.0512695  -1.82588    1.95608          2\n",
       "0007789b118e4710fc0e7c8758a6532a.jpg        6.03035     -2.07258      194.349   0.387817    2.46552   -0.88375          3\n",
       "[91231 rows x 8 columns]\n"
      ]
     },
     "execution_count": 10,
     "metadata": {},
     "output_type": "execute_result"
    }
   ],
   "source": [
    "train"
   ]
  },
  {
   "cell_type": "code",
   "execution_count": 11,
   "id": "10172e28",
   "metadata": {
    "execution": {
     "iopub.execute_input": "2022-10-30T22:13:24.604451Z",
     "iopub.status.busy": "2022-10-30T22:13:24.604047Z",
     "iopub.status.idle": "2022-10-30T22:13:27.004702Z",
     "shell.execute_reply": "2022-10-30T22:13:27.003603Z"
    },
    "papermill": {
     "duration": 2.421268,
     "end_time": "2022-10-30T22:13:27.007164",
     "exception": false,
     "start_time": "2022-10-30T22:13:24.585896",
     "status": "completed"
    },
    "tags": []
   },
   "outputs": [
    {
     "data": {
      "text/html": [
       "<table class='dataframe'>\n",
       "<thead>\n",
       "<tr><th>Filename                            </th><th style=\"text-align: right;\">  North_pixel</th><th style=\"text-align: right;\">  East_pixel</th><th style=\"text-align: right;\">  Altitude</th><th style=\"text-align: right;\">     Delta</th><th style=\"text-align: right;\">    North</th><th style=\"text-align: right;\">     East</th><th style=\"text-align: right;\">  kfold</th><th style=\"text-align: right;\">  North_prediction</th><th style=\"text-align: right;\">  East_prediction</th></tr>\n",
       "</thead>\n",
       "<tbody>\n",
       "<tr><td>00003e3b9e5336685200ae85d21b4f5e.jpg</td><td style=\"text-align: right;\">     -1.09818</td><td style=\"text-align: right;\">    2.82837 </td><td style=\"text-align: right;\">   178.83 </td><td style=\"text-align: right;\">-0.0652313</td><td style=\"text-align: right;\">-0.386045</td><td style=\"text-align: right;\"> 0.929772</td><td style=\"text-align: right;\">      0</td><td style=\"text-align: right;\">         -0.416314</td><td style=\"text-align: right;\">         0.935959</td></tr>\n",
       "<tr><td>0001261e2060303a06ba6c64d676d639.jpg</td><td style=\"text-align: right;\">      1.45245</td><td style=\"text-align: right;\">    0.207358</td><td style=\"text-align: right;\">   207.921</td><td style=\"text-align: right;\">-0.0806885</td><td style=\"text-align: right;\"> 0.635584</td><td style=\"text-align: right;\"> 0.152819</td><td style=\"text-align: right;\">      2</td><td style=\"text-align: right;\">          0.659026</td><td style=\"text-align: right;\">         0.307514</td></tr>\n",
       "<tr><td>0002ac0d783338cfeab0b2bdbd872cda.jpg</td><td style=\"text-align: right;\">     -3.54421</td><td style=\"text-align: right;\">   -1.49436 </td><td style=\"text-align: right;\">   178.048</td><td style=\"text-align: right;\"> 0.0215759</td><td style=\"text-align: right;\">-1.22823 </td><td style=\"text-align: right;\">-0.499388</td><td style=\"text-align: right;\">      3</td><td style=\"text-align: right;\">         -1.16268 </td><td style=\"text-align: right;\">        -0.349525</td></tr>\n",
       "<tr><td>0004289ee1c7b8b08c77e19878106ae3.jpg</td><td style=\"text-align: right;\">     -6.05406</td><td style=\"text-align: right;\">   -4.08215 </td><td style=\"text-align: right;\">   201.085</td><td style=\"text-align: right;\"> 0.505981 </td><td style=\"text-align: right;\">-1.73971 </td><td style=\"text-align: right;\">-0.699928</td><td style=\"text-align: right;\">      1</td><td style=\"text-align: right;\">         -1.83866 </td><td style=\"text-align: right;\">        -0.908323</td></tr>\n",
       "<tr><td>0004d0b59e19461ff126e3a08a814c33.jpg</td><td style=\"text-align: right;\">     -0.69025</td><td style=\"text-align: right;\">    8.23287 </td><td style=\"text-align: right;\">   187.55 </td><td style=\"text-align: right;\">-0.328156 </td><td style=\"text-align: right;\">-0.169798</td><td style=\"text-align: right;\"> 2.82875 </td><td style=\"text-align: right;\">      0</td><td style=\"text-align: right;\">         -0.192661</td><td style=\"text-align: right;\">         2.61813 </td></tr>\n",
       "</tbody>\n",
       "</table><pre style='font-size: smaller; margin-bottom: 1em;'>[5 rows x 10 columns]</pre>"
      ],
      "text/plain": [
       "Filename                                North_pixel    East_pixel    Altitude       Delta      North       East    kfold    North_prediction    East_prediction\n",
       "------------------------------------  -------------  ------------  ----------  ----------  ---------  ---------  -------  ------------------  -----------------\n",
       "00003e3b9e5336685200ae85d21b4f5e.jpg       -1.09818      2.82837      178.83   -0.0652313  -0.386045   0.929772        0           -0.416314           0.935959\n",
       "0001261e2060303a06ba6c64d676d639.jpg        1.45245      0.207358     207.921  -0.0806885   0.635584   0.152819        2            0.659026           0.307514\n",
       "0002ac0d783338cfeab0b2bdbd872cda.jpg       -3.54421     -1.49436      178.048   0.0215759  -1.22823   -0.499388        3           -1.16268           -0.349525\n",
       "0004289ee1c7b8b08c77e19878106ae3.jpg       -6.05406     -4.08215      201.085   0.505981   -1.73971   -0.699928        1           -1.83866           -0.908323\n",
       "0004d0b59e19461ff126e3a08a814c33.jpg       -0.69025      8.23287      187.55   -0.328156   -0.169798   2.82875         0           -0.192661           2.61813\n",
       "[5 rows x 10 columns]\n"
      ]
     },
     "execution_count": 11,
     "metadata": {},
     "output_type": "execute_result"
    }
   ],
   "source": [
    "train_final = train.cbind(north_train_preds)\n",
    "train_final = train_final.cbind(east_train_preds)\n",
    "train_final.as_data_frame().to_csv('train_final.csv')\n",
    "\n",
    "train_final.head(5)"
   ]
  },
  {
   "cell_type": "code",
   "execution_count": 12,
   "id": "6ca57049",
   "metadata": {
    "execution": {
     "iopub.execute_input": "2022-10-30T22:13:27.042482Z",
     "iopub.status.busy": "2022-10-30T22:13:27.042112Z",
     "iopub.status.idle": "2022-10-30T22:13:28.095808Z",
     "shell.execute_reply": "2022-10-30T22:13:28.094606Z"
    },
    "papermill": {
     "duration": 1.074315,
     "end_time": "2022-10-30T22:13:28.098204",
     "exception": false,
     "start_time": "2022-10-30T22:13:27.023889",
     "status": "completed"
    },
    "tags": []
   },
   "outputs": [
    {
     "data": {
      "text/html": [
       "<table class='dataframe'>\n",
       "<thead>\n",
       "<tr><th>Filename                            </th><th style=\"text-align: right;\">  North_pixel</th><th style=\"text-align: right;\">  East_pixel</th><th style=\"text-align: right;\">  Altitude</th><th style=\"text-align: right;\">     Delta</th><th style=\"text-align: right;\">  kfold</th><th style=\"text-align: right;\">  North_prediction</th><th style=\"text-align: right;\">  East_prediction</th></tr>\n",
       "</thead>\n",
       "<tbody>\n",
       "<tr><td>000053b1e684c9e7ea73727b2238ce18.jpg</td><td style=\"text-align: right;\">     3.94642 </td><td style=\"text-align: right;\">   -3.81585 </td><td style=\"text-align: right;\">   167.943</td><td style=\"text-align: right;\"> 0.0102692</td><td style=\"text-align: right;\">      0</td><td style=\"text-align: right;\">          0.988251</td><td style=\"text-align: right;\">        -0.699585</td></tr>\n",
       "<tr><td>00029153d12ae1c9abe59c17ff2e0895.jpg</td><td style=\"text-align: right;\">     7.66823 </td><td style=\"text-align: right;\">   -4.03186 </td><td style=\"text-align: right;\">   195.853</td><td style=\"text-align: right;\"> 0.0892181</td><td style=\"text-align: right;\">      2</td><td style=\"text-align: right;\">          1.77602 </td><td style=\"text-align: right;\">        -0.945193</td></tr>\n",
       "<tr><td>0006246bee639c7a7b11a08e34dd3cc6.jpg</td><td style=\"text-align: right;\">   -11.5494  </td><td style=\"text-align: right;\">   -0.880645</td><td style=\"text-align: right;\">   146.943</td><td style=\"text-align: right;\">-0.0183258</td><td style=\"text-align: right;\">      1</td><td style=\"text-align: right;\">         -1.26527 </td><td style=\"text-align: right;\">         0.419442</td></tr>\n",
       "<tr><td>00063cb5da1826febf178b669eea3250.jpg</td><td style=\"text-align: right;\">   -28.9916  </td><td style=\"text-align: right;\">    1.93089 </td><td style=\"text-align: right;\">   213.184</td><td style=\"text-align: right;\">-0.108704 </td><td style=\"text-align: right;\">      1</td><td style=\"text-align: right;\">         -1.74882 </td><td style=\"text-align: right;\">         0.474431</td></tr>\n",
       "<tr><td>00063ece2e68a8847f228e8fd922f851.jpg</td><td style=\"text-align: right;\">     0.184479</td><td style=\"text-align: right;\">   -6.92578 </td><td style=\"text-align: right;\">   184.758</td><td style=\"text-align: right;\"> 0.0177002</td><td style=\"text-align: right;\">      0</td><td style=\"text-align: right;\">          0.207216</td><td style=\"text-align: right;\">        -1.39372 </td></tr>\n",
       "<tr><td>000838c1249fec206b77360ff0adc110.jpg</td><td style=\"text-align: right;\">     2.54224 </td><td style=\"text-align: right;\">   -2.43533 </td><td style=\"text-align: right;\">   209.136</td><td style=\"text-align: right;\">-0.544525 </td><td style=\"text-align: right;\">      1</td><td style=\"text-align: right;\">          0.840378</td><td style=\"text-align: right;\">        -0.935216</td></tr>\n",
       "<tr><td>000a8e84b013655b832041a6f362e5c9.jpg</td><td style=\"text-align: right;\">    -0.601386</td><td style=\"text-align: right;\">   -3.88556 </td><td style=\"text-align: right;\">   177.72 </td><td style=\"text-align: right;\">-0.23024  </td><td style=\"text-align: right;\">      4</td><td style=\"text-align: right;\">         -0.16359 </td><td style=\"text-align: right;\">        -0.916767</td></tr>\n",
       "<tr><td>000d0c74074191add6f22e0004db8f76.jpg</td><td style=\"text-align: right;\">     3.12172 </td><td style=\"text-align: right;\">   -6.69092 </td><td style=\"text-align: right;\">   200.488</td><td style=\"text-align: right;\"> 0.0812378</td><td style=\"text-align: right;\">      3</td><td style=\"text-align: right;\">          1.00045 </td><td style=\"text-align: right;\">        -2.17762 </td></tr>\n",
       "<tr><td>000dd3543ac84d906eae52e7c779bb2a.jpg</td><td style=\"text-align: right;\">    -0.954504</td><td style=\"text-align: right;\">   -9.59106 </td><td style=\"text-align: right;\">   155.313</td><td style=\"text-align: right;\"> 0.062027 </td><td style=\"text-align: right;\">      4</td><td style=\"text-align: right;\">         -0.30847 </td><td style=\"text-align: right;\">        -1.33626 </td></tr>\n",
       "<tr><td>00129b07887a18a7331909231c28816e.jpg</td><td style=\"text-align: right;\">     0.559739</td><td style=\"text-align: right;\">    4.16881 </td><td style=\"text-align: right;\">   187.643</td><td style=\"text-align: right;\">-0.133362 </td><td style=\"text-align: right;\">      4</td><td style=\"text-align: right;\">          0.164492</td><td style=\"text-align: right;\">         1.43955 </td></tr>\n",
       "</tbody>\n",
       "</table><pre style='font-size: smaller; margin-bottom: 1em;'>[55031 rows x 8 columns]</pre>"
      ],
      "text/plain": [
       "Filename                                North_pixel    East_pixel    Altitude       Delta    kfold    North_prediction    East_prediction\n",
       "------------------------------------  -------------  ------------  ----------  ----------  -------  ------------------  -----------------\n",
       "000053b1e684c9e7ea73727b2238ce18.jpg       3.94642      -3.81585      167.943   0.0102692        0            0.988251          -0.699585\n",
       "00029153d12ae1c9abe59c17ff2e0895.jpg       7.66823      -4.03186      195.853   0.0892181        2            1.77602           -0.945193\n",
       "0006246bee639c7a7b11a08e34dd3cc6.jpg     -11.5494       -0.880645     146.943  -0.0183258        1           -1.26527            0.419442\n",
       "00063cb5da1826febf178b669eea3250.jpg     -28.9916        1.93089      213.184  -0.108704         1           -1.74882            0.474431\n",
       "00063ece2e68a8847f228e8fd922f851.jpg       0.184479     -6.92578      184.758   0.0177002        0            0.207216          -1.39372\n",
       "000838c1249fec206b77360ff0adc110.jpg       2.54224      -2.43533      209.136  -0.544525         1            0.840378          -0.935216\n",
       "000a8e84b013655b832041a6f362e5c9.jpg      -0.601386     -3.88556      177.72   -0.23024          4           -0.16359           -0.916767\n",
       "000d0c74074191add6f22e0004db8f76.jpg       3.12172      -6.69092      200.488   0.0812378        3            1.00045           -2.17762\n",
       "000dd3543ac84d906eae52e7c779bb2a.jpg      -0.954504     -9.59106      155.313   0.062027         4           -0.30847           -1.33626\n",
       "00129b07887a18a7331909231c28816e.jpg       0.559739      4.16881      187.643  -0.133362         4            0.164492           1.43955\n",
       "[55031 rows x 8 columns]\n"
      ]
     },
     "execution_count": 12,
     "metadata": {},
     "output_type": "execute_result"
    }
   ],
   "source": [
    "test_final = test.cbind(north_test_preds)\n",
    "test_final = test_final.cbind(east_test_preds)\n",
    "test_final.as_data_frame().to_csv('test_final.csv')\n",
    "\n",
    "test_final"
   ]
  },
  {
   "cell_type": "code",
   "execution_count": 13,
   "id": "c2d6d882",
   "metadata": {
    "execution": {
     "iopub.execute_input": "2022-10-30T22:13:28.134066Z",
     "iopub.status.busy": "2022-10-30T22:13:28.133651Z",
     "iopub.status.idle": "2022-10-30T22:13:28.520704Z",
     "shell.execute_reply": "2022-10-30T22:13:28.519602Z"
    },
    "papermill": {
     "duration": 0.407903,
     "end_time": "2022-10-30T22:13:28.523289",
     "exception": false,
     "start_time": "2022-10-30T22:13:28.115386",
     "status": "completed"
    },
    "tags": []
   },
   "outputs": [
    {
     "data": {
      "text/html": [
       "<div>\n",
       "<style scoped>\n",
       "    .dataframe tbody tr th:only-of-type {\n",
       "        vertical-align: middle;\n",
       "    }\n",
       "\n",
       "    .dataframe tbody tr th {\n",
       "        vertical-align: top;\n",
       "    }\n",
       "\n",
       "    .dataframe thead th {\n",
       "        text-align: right;\n",
       "    }\n",
       "</style>\n",
       "<table border=\"1\" class=\"dataframe\">\n",
       "  <thead>\n",
       "    <tr style=\"text-align: right;\">\n",
       "      <th></th>\n",
       "      <th>Id</th>\n",
       "      <th>Predicted</th>\n",
       "    </tr>\n",
       "  </thead>\n",
       "  <tbody>\n",
       "    <tr>\n",
       "      <th>0</th>\n",
       "      <td>000053b1e684c9e7ea73727b2238ce18.jpg:North</td>\n",
       "      <td>0.988251</td>\n",
       "    </tr>\n",
       "    <tr>\n",
       "      <th>1</th>\n",
       "      <td>00029153d12ae1c9abe59c17ff2e0895.jpg:North</td>\n",
       "      <td>1.776024</td>\n",
       "    </tr>\n",
       "    <tr>\n",
       "      <th>2</th>\n",
       "      <td>0006246bee639c7a7b11a08e34dd3cc6.jpg:North</td>\n",
       "      <td>-1.265272</td>\n",
       "    </tr>\n",
       "    <tr>\n",
       "      <th>3</th>\n",
       "      <td>00063cb5da1826febf178b669eea3250.jpg:North</td>\n",
       "      <td>-1.748818</td>\n",
       "    </tr>\n",
       "    <tr>\n",
       "      <th>4</th>\n",
       "      <td>00063ece2e68a8847f228e8fd922f851.jpg:North</td>\n",
       "      <td>0.207216</td>\n",
       "    </tr>\n",
       "  </tbody>\n",
       "</table>\n",
       "</div>"
      ],
      "text/plain": [
       "                                           Id  Predicted\n",
       "0  000053b1e684c9e7ea73727b2238ce18.jpg:North   0.988251\n",
       "1  00029153d12ae1c9abe59c17ff2e0895.jpg:North   1.776024\n",
       "2  0006246bee639c7a7b11a08e34dd3cc6.jpg:North  -1.265272\n",
       "3  00063cb5da1826febf178b669eea3250.jpg:North  -1.748818\n",
       "4  00063ece2e68a8847f228e8fd922f851.jpg:North   0.207216"
      ]
     },
     "execution_count": 13,
     "metadata": {},
     "output_type": "execute_result"
    }
   ],
   "source": [
    "submission = test_final.as_data_frame()[['Filename', 'North_prediction', 'East_prediction']]\n",
    "submission.rename({'North_prediction':'North', 'East_prediction':'East'}, axis=1, inplace=True)\n",
    "submission = submission.melt(id_vars='Filename', value_name='Predicted')\n",
    "submission['Id'] = submission.Filename + ':' + submission.variable\n",
    "submission = submission[['Id', 'Predicted']]\n",
    "submission.head()"
   ]
  },
  {
   "cell_type": "code",
   "execution_count": 14,
   "id": "0b77a014",
   "metadata": {
    "execution": {
     "iopub.execute_input": "2022-10-30T22:13:28.559697Z",
     "iopub.status.busy": "2022-10-30T22:13:28.559261Z",
     "iopub.status.idle": "2022-10-30T22:13:28.887702Z",
     "shell.execute_reply": "2022-10-30T22:13:28.886717Z"
    },
    "papermill": {
     "duration": 0.349544,
     "end_time": "2022-10-30T22:13:28.890273",
     "exception": false,
     "start_time": "2022-10-30T22:13:28.540729",
     "status": "completed"
    },
    "tags": []
   },
   "outputs": [],
   "source": [
    "submission.to_csv('submission.csv', index=False)"
   ]
  },
  {
   "cell_type": "code",
   "execution_count": null,
   "id": "5ad70c12",
   "metadata": {
    "papermill": {
     "duration": 0.016795,
     "end_time": "2022-10-30T22:13:28.924796",
     "exception": false,
     "start_time": "2022-10-30T22:13:28.908001",
     "status": "completed"
    },
    "tags": []
   },
   "outputs": [],
   "source": []
  }
 ],
 "metadata": {
  "kernelspec": {
   "display_name": "Python 3",
   "language": "python",
   "name": "python3"
  },
  "language_info": {
   "codemirror_mode": {
    "name": "ipython",
    "version": 3
   },
   "file_extension": ".py",
   "mimetype": "text/x-python",
   "name": "python",
   "nbconvert_exporter": "python",
   "pygments_lexer": "ipython3",
   "version": "3.7.12"
  },
  "papermill": {
   "default_parameters": {},
   "duration": 772.500762,
   "end_time": "2022-10-30T22:13:30.269123",
   "environment_variables": {},
   "exception": null,
   "input_path": "__notebook__.ipynb",
   "output_path": "__notebook__.ipynb",
   "parameters": {},
   "start_time": "2022-10-30T22:00:37.768361",
   "version": "2.3.4"
  }
 },
 "nbformat": 4,
 "nbformat_minor": 5
}
