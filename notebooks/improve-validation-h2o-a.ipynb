{
 "cells": [
  {
   "cell_type": "markdown",
   "id": "f16d4c75",
   "metadata": {
    "papermill": {
     "duration": 0.0056,
     "end_time": "2022-10-30T22:00:35.445961",
     "exception": false,
     "start_time": "2022-10-30T22:00:35.440361",
     "status": "completed"
    },
    "tags": []
   },
   "source": [
    "# Single Output Regression"
   ]
  },
  {
   "cell_type": "code",
   "execution_count": 1,
   "id": "6bfb7cae",
   "metadata": {
    "_cell_guid": "b1076dfc-b9ad-4769-8c92-a6c4dae69d19",
    "_uuid": "8f2839f25d086af736a60e9eeb907d3b93b6e0e5",
    "execution": {
     "iopub.execute_input": "2022-10-30T22:00:35.457120Z",
     "iopub.status.busy": "2022-10-30T22:00:35.456634Z",
     "iopub.status.idle": "2022-10-30T22:00:35.578580Z",
     "shell.execute_reply": "2022-10-30T22:00:35.577181Z"
    },
    "papermill": {
     "duration": 0.131139,
     "end_time": "2022-10-30T22:00:35.581696",
     "exception": false,
     "start_time": "2022-10-30T22:00:35.450557",
     "status": "completed"
    },
    "tags": []
   },
   "outputs": [],
   "source": [
    "import os\n",
    "import sys\n",
    "import numpy as np\n",
    "import pandas as pd\n",
    "from tqdm.auto import tqdm\n",
    "import matplotlib.pyplot as plt\n",
    "from kaggle_secrets import UserSecretsClient\n",
    "from pathlib import Path\n",
    "\n",
    "\n",
    "# user_secrets = UserSecretsClient()\n",
    "# wandb_key = user_secrets.get_secret(\"wandb_key\")\n",
    "\n",
    "SEED = 42\n",
    "PATH = Path('../input/kdd-team/')\n",
    "PIX_FILES = ['pixels_dist_train_a.csv', 'pixels_dist_test_a.csv']\n",
    "MAX_TIME = 360"
   ]
  },
  {
   "cell_type": "code",
   "execution_count": 2,
   "id": "18d010ba",
   "metadata": {
    "execution": {
     "iopub.execute_input": "2022-10-30T22:00:35.593436Z",
     "iopub.status.busy": "2022-10-30T22:00:35.592288Z",
     "iopub.status.idle": "2022-10-30T22:00:36.086041Z",
     "shell.execute_reply": "2022-10-30T22:00:36.084673Z"
    },
    "papermill": {
     "duration": 0.504932,
     "end_time": "2022-10-30T22:00:36.091422",
     "exception": false,
     "start_time": "2022-10-30T22:00:35.586490",
     "status": "completed"
    },
    "tags": []
   },
   "outputs": [
    {
     "name": "stdout",
     "output_type": "stream",
     "text": [
      "(146262, 6)\n"
     ]
    },
    {
     "data": {
      "text/html": [
       "<div>\n",
       "<style scoped>\n",
       "    .dataframe tbody tr th:only-of-type {\n",
       "        vertical-align: middle;\n",
       "    }\n",
       "\n",
       "    .dataframe tbody tr th {\n",
       "        vertical-align: top;\n",
       "    }\n",
       "\n",
       "    .dataframe thead th {\n",
       "        text-align: right;\n",
       "    }\n",
       "</style>\n",
       "<table border=\"1\" class=\"dataframe\">\n",
       "  <thead>\n",
       "    <tr style=\"text-align: right;\">\n",
       "      <th></th>\n",
       "      <th>Filename</th>\n",
       "      <th>Altitude</th>\n",
       "      <th>Delta</th>\n",
       "      <th>North</th>\n",
       "      <th>East</th>\n",
       "      <th>kfold</th>\n",
       "    </tr>\n",
       "  </thead>\n",
       "  <tbody>\n",
       "    <tr>\n",
       "      <th>0</th>\n",
       "      <td>00003e3b9e5336685200ae85d21b4f5e.jpg</td>\n",
       "      <td>178.829834</td>\n",
       "      <td>-0.065231</td>\n",
       "      <td>-0.386045</td>\n",
       "      <td>0.929772</td>\n",
       "      <td>0</td>\n",
       "    </tr>\n",
       "    <tr>\n",
       "      <th>1</th>\n",
       "      <td>0001261e2060303a06ba6c64d676d639.jpg</td>\n",
       "      <td>207.921478</td>\n",
       "      <td>-0.080688</td>\n",
       "      <td>0.635584</td>\n",
       "      <td>0.152819</td>\n",
       "      <td>2</td>\n",
       "    </tr>\n",
       "    <tr>\n",
       "      <th>2</th>\n",
       "      <td>0002ac0d783338cfeab0b2bdbd872cda.jpg</td>\n",
       "      <td>178.048431</td>\n",
       "      <td>0.021576</td>\n",
       "      <td>-1.228229</td>\n",
       "      <td>-0.499388</td>\n",
       "      <td>3</td>\n",
       "    </tr>\n",
       "    <tr>\n",
       "      <th>3</th>\n",
       "      <td>0004289ee1c7b8b08c77e19878106ae3.jpg</td>\n",
       "      <td>201.084625</td>\n",
       "      <td>0.505981</td>\n",
       "      <td>-1.739709</td>\n",
       "      <td>-0.699928</td>\n",
       "      <td>1</td>\n",
       "    </tr>\n",
       "    <tr>\n",
       "      <th>4</th>\n",
       "      <td>0004d0b59e19461ff126e3a08a814c33.jpg</td>\n",
       "      <td>187.550201</td>\n",
       "      <td>-0.328156</td>\n",
       "      <td>-0.169798</td>\n",
       "      <td>2.828752</td>\n",
       "      <td>0</td>\n",
       "    </tr>\n",
       "  </tbody>\n",
       "</table>\n",
       "</div>"
      ],
      "text/plain": [
       "                               Filename    Altitude     Delta     North  \\\n",
       "0  00003e3b9e5336685200ae85d21b4f5e.jpg  178.829834 -0.065231 -0.386045   \n",
       "1  0001261e2060303a06ba6c64d676d639.jpg  207.921478 -0.080688  0.635584   \n",
       "2  0002ac0d783338cfeab0b2bdbd872cda.jpg  178.048431  0.021576 -1.228229   \n",
       "3  0004289ee1c7b8b08c77e19878106ae3.jpg  201.084625  0.505981 -1.739709   \n",
       "4  0004d0b59e19461ff126e3a08a814c33.jpg  187.550201 -0.328156 -0.169798   \n",
       "\n",
       "       East  kfold  \n",
       "0  0.929772      0  \n",
       "1  0.152819      2  \n",
       "2 -0.499388      3  \n",
       "3 -0.699928      1  \n",
       "4  2.828752      0  "
      ]
     },
     "execution_count": 2,
     "metadata": {},
     "output_type": "execute_result"
    }
   ],
   "source": [
    "pub = pd.read_csv('../input/kdd-team/public.csv')\n",
    "print(pub.shape)\n",
    "pub.head()"
   ]
  },
  {
   "cell_type": "code",
   "execution_count": 3,
   "id": "38f78b91",
   "metadata": {
    "execution": {
     "iopub.execute_input": "2022-10-30T22:00:36.103933Z",
     "iopub.status.busy": "2022-10-30T22:00:36.102728Z",
     "iopub.status.idle": "2022-10-30T22:00:36.136685Z",
     "shell.execute_reply": "2022-10-30T22:00:36.135312Z"
    },
    "papermill": {
     "duration": 0.043195,
     "end_time": "2022-10-30T22:00:36.139557",
     "exception": false,
     "start_time": "2022-10-30T22:00:36.096362",
     "status": "completed"
    },
    "tags": []
   },
   "outputs": [
    {
     "name": "stdout",
     "output_type": "stream",
     "text": [
      "<class 'pandas.core.frame.DataFrame'>\n",
      "RangeIndex: 146262 entries, 0 to 146261\n",
      "Data columns (total 6 columns):\n",
      " #   Column    Non-Null Count   Dtype  \n",
      "---  ------    --------------   -----  \n",
      " 0   Filename  146262 non-null  object \n",
      " 1   Altitude  146262 non-null  float64\n",
      " 2   Delta     146262 non-null  float64\n",
      " 3   North     91231 non-null   float64\n",
      " 4   East      91231 non-null   float64\n",
      " 5   kfold     146262 non-null  int64  \n",
      "dtypes: float64(4), int64(1), object(1)\n",
      "memory usage: 6.7+ MB\n"
     ]
    }
   ],
   "source": [
    "pub.info()"
   ]
  },
  {
   "cell_type": "code",
   "execution_count": 4,
   "id": "4245df69",
   "metadata": {
    "execution": {
     "iopub.execute_input": "2022-10-30T22:00:36.151794Z",
     "iopub.status.busy": "2022-10-30T22:00:36.151376Z",
     "iopub.status.idle": "2022-10-30T22:00:36.161686Z",
     "shell.execute_reply": "2022-10-30T22:00:36.160819Z"
    },
    "papermill": {
     "duration": 0.018994,
     "end_time": "2022-10-30T22:00:36.163852",
     "exception": false,
     "start_time": "2022-10-30T22:00:36.144858",
     "status": "completed"
    },
    "tags": []
   },
   "outputs": [],
   "source": [
    "def make_train_test(train_pixels_file, test_pixels_file=None, H2O=False):\n",
    "    train = pd.read_csv(PATH / train_pixels_file, low_memory=False)\n",
    "    print('Train Shape:', train.shape)\n",
    "    train.rename({'Images':'Filename'}, axis=1, inplace=True)\n",
    "    train = train.merge(pub, on='Filename', how='inner').reset_index(drop=True)\n",
    "    train.reset_index(inplace=True, drop=True)\n",
    "    print('Train Merged Shape:', train.shape)\n",
    "    \n",
    "    if test_pixels_file is not None:\n",
    "        test = pd.read_csv(PATH / test_pixels_file, low_memory=False)\n",
    "        print('Test Shape:', test.shape)\n",
    "        test.rename({'Images':'Filename'}, axis=1, inplace=True)\n",
    "        test = test.merge(pub, on='Filename', how='inner')\n",
    "        test.drop(['North', 'East'], axis=1, inplace=True)\n",
    "        test.reset_index(inplace=True, drop=True)\n",
    "        print('Test Merged Shape:', test.shape)\n",
    "    else:\n",
    "        X_test = None\n",
    "        \n",
    "    if H2O:\n",
    "        train = h2o.H2OFrame(train)\n",
    "        test = h2o.H2OFrame(test)\n",
    "        \n",
    "    return train, test"
   ]
  },
  {
   "cell_type": "code",
   "execution_count": 5,
   "id": "e03fb1cb",
   "metadata": {
    "execution": {
     "iopub.execute_input": "2022-10-30T22:00:36.175005Z",
     "iopub.status.busy": "2022-10-30T22:00:36.174564Z",
     "iopub.status.idle": "2022-10-30T22:00:44.367020Z",
     "shell.execute_reply": "2022-10-30T22:00:44.365447Z"
    },
    "papermill": {
     "duration": 8.202428,
     "end_time": "2022-10-30T22:00:44.371077",
     "exception": false,
     "start_time": "2022-10-30T22:00:36.168649",
     "status": "completed"
    },
    "tags": []
   },
   "outputs": [
    {
     "name": "stdout",
     "output_type": "stream",
     "text": [
      "Checking whether there is an H2O instance running at http://localhost:54321 ..... not found.\n",
      "Attempting to start a local H2O server...\n",
      "  Java Version: openjdk version \"11.0.16\" 2022-07-19; OpenJDK Runtime Environment (build 11.0.16+8-post-Ubuntu-0ubuntu120.04); OpenJDK 64-Bit Server VM (build 11.0.16+8-post-Ubuntu-0ubuntu120.04, mixed mode, sharing)\n",
      "  Starting server from /opt/conda/lib/python3.7/site-packages/h2o/backend/bin/h2o.jar\n",
      "  Ice root: /tmp/tmpp7ari9ir\n",
      "  JVM stdout: /tmp/tmpp7ari9ir/h2o_unknownUser_started_from_python.out\n",
      "  JVM stderr: /tmp/tmpp7ari9ir/h2o_unknownUser_started_from_python.err\n",
      "  Server is running at http://127.0.0.1:54321\n",
      "Connecting to H2O server at http://127.0.0.1:54321 ... successful.\n"
     ]
    },
    {
     "data": {
      "text/html": [
       "\n",
       "<style>\n",
       "\n",
       "#h2o-table-1.h2o-container {\n",
       "  overflow-x: auto;\n",
       "}\n",
       "#h2o-table-1 .h2o-table {\n",
       "  /* width: 100%; */\n",
       "  margin-top: 1em;\n",
       "  margin-bottom: 1em;\n",
       "}\n",
       "#h2o-table-1 .h2o-table caption {\n",
       "  white-space: nowrap;\n",
       "  caption-side: top;\n",
       "  text-align: left;\n",
       "  /* margin-left: 1em; */\n",
       "  margin: 0;\n",
       "  font-size: larger;\n",
       "}\n",
       "#h2o-table-1 .h2o-table thead {\n",
       "  white-space: nowrap; \n",
       "  position: sticky;\n",
       "  top: 0;\n",
       "  box-shadow: 0 -1px inset;\n",
       "}\n",
       "#h2o-table-1 .h2o-table tbody {\n",
       "  overflow: auto;\n",
       "}\n",
       "#h2o-table-1 .h2o-table th,\n",
       "#h2o-table-1 .h2o-table td {\n",
       "  text-align: right;\n",
       "  /* border: 1px solid; */\n",
       "}\n",
       "#h2o-table-1 .h2o-table tr:nth-child(even) {\n",
       "  /* background: #F5F5F5 */\n",
       "}\n",
       "\n",
       "</style>      \n",
       "<div id=\"h2o-table-1\" class=\"h2o-container\">\n",
       "  <table class=\"h2o-table\">\n",
       "    <caption></caption>\n",
       "    <thead></thead>\n",
       "    <tbody><tr><td>H2O_cluster_uptime:</td>\n",
       "<td>02 secs</td></tr>\n",
       "<tr><td>H2O_cluster_timezone:</td>\n",
       "<td>Etc/UTC</td></tr>\n",
       "<tr><td>H2O_data_parsing_timezone:</td>\n",
       "<td>UTC</td></tr>\n",
       "<tr><td>H2O_cluster_version:</td>\n",
       "<td>3.38.0.1</td></tr>\n",
       "<tr><td>H2O_cluster_version_age:</td>\n",
       "<td>1 month and 11 days </td></tr>\n",
       "<tr><td>H2O_cluster_name:</td>\n",
       "<td>H2O_from_python_unknownUser_gxhwss</td></tr>\n",
       "<tr><td>H2O_cluster_total_nodes:</td>\n",
       "<td>1</td></tr>\n",
       "<tr><td>H2O_cluster_free_memory:</td>\n",
       "<td>7.500 Gb</td></tr>\n",
       "<tr><td>H2O_cluster_total_cores:</td>\n",
       "<td>4</td></tr>\n",
       "<tr><td>H2O_cluster_allowed_cores:</td>\n",
       "<td>4</td></tr>\n",
       "<tr><td>H2O_cluster_status:</td>\n",
       "<td>locked, healthy</td></tr>\n",
       "<tr><td>H2O_connection_url:</td>\n",
       "<td>http://127.0.0.1:54321</td></tr>\n",
       "<tr><td>H2O_connection_proxy:</td>\n",
       "<td>{\"http\": null, \"https\": null}</td></tr>\n",
       "<tr><td>H2O_internal_security:</td>\n",
       "<td>False</td></tr>\n",
       "<tr><td>Python_version:</td>\n",
       "<td>3.7.12 final</td></tr></tbody>\n",
       "  </table>\n",
       "</div>\n"
      ],
      "text/plain": [
       "--------------------------  ----------------------------------\n",
       "H2O_cluster_uptime:         02 secs\n",
       "H2O_cluster_timezone:       Etc/UTC\n",
       "H2O_data_parsing_timezone:  UTC\n",
       "H2O_cluster_version:        3.38.0.1\n",
       "H2O_cluster_version_age:    1 month and 11 days\n",
       "H2O_cluster_name:           H2O_from_python_unknownUser_gxhwss\n",
       "H2O_cluster_total_nodes:    1\n",
       "H2O_cluster_free_memory:    7.500 Gb\n",
       "H2O_cluster_total_cores:    4\n",
       "H2O_cluster_allowed_cores:  4\n",
       "H2O_cluster_status:         locked, healthy\n",
       "H2O_connection_url:         http://127.0.0.1:54321\n",
       "H2O_connection_proxy:       {\"http\": null, \"https\": null}\n",
       "H2O_internal_security:      False\n",
       "Python_version:             3.7.12 final\n",
       "--------------------------  ----------------------------------"
      ]
     },
     "metadata": {},
     "output_type": "display_data"
    }
   ],
   "source": [
    "import h2o\n",
    "from h2o.automl import H2OAutoML\n",
    "\n",
    "h2o.init()"
   ]
  },
  {
   "cell_type": "code",
   "execution_count": 6,
   "id": "e3e623b0",
   "metadata": {
    "execution": {
     "iopub.execute_input": "2022-10-30T22:00:44.392390Z",
     "iopub.status.busy": "2022-10-30T22:00:44.391004Z",
     "iopub.status.idle": "2022-10-30T22:00:51.332957Z",
     "shell.execute_reply": "2022-10-30T22:00:51.330636Z"
    },
    "papermill": {
     "duration": 6.956651,
     "end_time": "2022-10-30T22:00:51.337183",
     "exception": false,
     "start_time": "2022-10-30T22:00:44.380532",
     "status": "completed"
    },
    "tags": []
   },
   "outputs": [
    {
     "name": "stdout",
     "output_type": "stream",
     "text": [
      "Train Shape: (91231, 3)\n",
      "Train Merged Shape: (91231, 8)\n",
      "Test Shape: (55031, 3)\n",
      "Test Merged Shape: (55031, 6)\n",
      "Parse progress: |████████████████████████████████████████████████████████████████| (done) 100%\n",
      "Parse progress: |████████████████████████████████████████████████████████████████| (done) 100%\n"
     ]
    }
   ],
   "source": [
    "train, test = make_train_test(PIX_FILES[0],\n",
    "                              PIX_FILES[1],\n",
    "                              H2O=True)"
   ]
  },
  {
   "cell_type": "code",
   "execution_count": 7,
   "id": "fbda1949",
   "metadata": {
    "execution": {
     "iopub.execute_input": "2022-10-30T22:00:51.356732Z",
     "iopub.status.busy": "2022-10-30T22:00:51.356336Z",
     "iopub.status.idle": "2022-10-30T22:00:51.363763Z",
     "shell.execute_reply": "2022-10-30T22:00:51.362615Z"
    },
    "papermill": {
     "duration": 0.019771,
     "end_time": "2022-10-30T22:00:51.365994",
     "exception": false,
     "start_time": "2022-10-30T22:00:51.346223",
     "status": "completed"
    },
    "tags": []
   },
   "outputs": [],
   "source": [
    "features = ['North_pixel', 'East_pixel', 'Altitude', 'Delta']\n",
    "\n",
    "def train_automl(train, test, target, max_runtime_secs=3600):\n",
    "    \n",
    "    aml = H2OAutoML(seed=SEED,\n",
    "                    max_runtime_secs=max_runtime_secs,\n",
    "                    stopping_metric='RMSE',\n",
    "                    sort_metric='RMSE',\n",
    "                    exploitation_ratio=0.1,\n",
    "                    verbosity='info')\n",
    "\n",
    "    aml.train(x=features, y=target, training_frame=train)  \n",
    "    \n",
    "    train_preds = aml.leader.predict(train)\n",
    "    train_preds.rename({'predict':target+'_prediction'})\n",
    "    \n",
    "    test_preds = aml.leader.predict(test)\n",
    "    test_preds.rename({'predict':target+'_prediction'})\n",
    "    \n",
    "    return aml, train_preds, test_preds\n",
    "    "
   ]
  },
  {
   "cell_type": "code",
   "execution_count": 8,
   "id": "e6cee227",
   "metadata": {
    "execution": {
     "iopub.execute_input": "2022-10-30T22:00:51.380032Z",
     "iopub.status.busy": "2022-10-30T22:00:51.379394Z",
     "iopub.status.idle": "2022-10-30T22:06:55.846777Z",
     "shell.execute_reply": "2022-10-30T22:06:55.845667Z"
    },
    "papermill": {
     "duration": 364.477676,
     "end_time": "2022-10-30T22:06:55.849758",
     "exception": false,
     "start_time": "2022-10-30T22:00:51.372082",
     "status": "completed"
    },
    "tags": []
   },
   "outputs": [
    {
     "name": "stdout",
     "output_type": "stream",
     "text": [
      "AutoML progress: |\n",
      "22:00:51.523: Project: AutoML_1_20221030_220051\n",
      "22:00:51.525: 5-fold cross-validation will be used.\n",
      "22:00:51.526: Setting stopping tolerance adaptively based on the training frame: 0.0033107682550761745\n",
      "22:00:51.526: Build control seed: 42\n",
      "22:00:51.527: training frame: Frame key: AutoML_1_20221030_220051_training_Key_Frame__upload_b9bc166e19fabcc7b8916b1e01e745a0.hex    cols: 8    rows: 91231  chunks: 4    size: 8212986  checksum: 7243384574813962690\n",
      "22:00:51.527: validation frame: NULL\n",
      "22:00:51.527: leaderboard frame: NULL\n",
      "22:00:51.528: blending frame: NULL\n",
      "22:00:51.528: response column: North\n",
      "22:00:51.528: fold column: null\n",
      "22:00:51.528: weights column: null\n",
      "22:00:51.557: Loading execution steps: [{XGBoost : [def_2 (1g, 10w), def_1 (2g, 10w), def_3 (3g, 10w), grid_1 (4g, 90w), lr_search (6g, 30w)]}, {GLM : [def_1 (1g, 10w)]}, {DRF : [def_1 (2g, 10w), XRT (3g, 10w)]}, {GBM : [def_5 (1g, 10w), def_2 (2g, 10w), def_3 (2g, 10w), def_4 (2g, 10w), def_1 (3g, 10w), grid_1 (4g, 60w), lr_annealing (6g, 10w)]}, {DeepLearning : [def_1 (3g, 10w), grid_1 (4g, 30w), grid_2 (5g, 30w), grid_3 (5g, 30w)]}, {completion : [resume_best_grids (10g, 60w)]}, {StackedEnsemble : [best_of_family_1 (1g, 5w), best_of_family_2 (2g, 5w), best_of_family_3 (3g, 5w), best_of_family_4 (4g, 5w), best_of_family_5 (5g, 5w), all_2 (2g, 10w), all_3 (3g, 10w), all_4 (4g, 10w), all_5 (5g, 10w), monotonic (6g, 10w), best_of_family_gbm (6g, 10w), all_gbm (7g, 10w), best_of_family_xglm (8g, 10w), all_xglm (8g, 10w), best_of_family (10g, 10w), best_N (10g, 10w)]}]\n",
      "22:00:51.608: AutoML job created: 2022.10.30 22:00:51.463\n",
      "22:00:51.609: AutoML build started: 2022.10.30 22:00:51.609\n",
      "22:00:51.642: AutoML: starting XGBoost_1_AutoML_1_20221030_220051 model training\n",
      "\n",
      "████████\n",
      "22:01:34.295: New leader: XGBoost_1_AutoML_1_20221030_220051, rmse: 0.4234983660118507\n",
      "22:01:34.302: AutoML: starting GLM_1_AutoML_1_20221030_220051 model training\n",
      "\n",
      "█\n",
      "22:01:38.124: AutoML: starting GBM_1_AutoML_1_20221030_220051 model training\n",
      "\n",
      "███████\n",
      "22:02:21.121: New leader: GBM_1_AutoML_1_20221030_220051, rmse: 0.3871986888870597\n",
      "22:02:21.133: AutoML: starting StackedEnsemble_BestOfFamily_1_AutoML_1_20221030_220051 model training\n",
      "\n",
      "\n",
      "22:02:22.317: New leader: StackedEnsemble_BestOfFamily_1_AutoML_1_20221030_220051, rmse: 0.37963916075716103\n",
      "22:02:22.318: AutoML: starting XGBoost_2_AutoML_1_20221030_220051 model training\n",
      "\n",
      "████\n",
      "22:02:45.757: AutoML: starting DRF_1_AutoML_1_20221030_220051 model training\n",
      "\n",
      "████████\n",
      "22:03:28.998: New leader: DRF_1_AutoML_1_20221030_220051, rmse: 0.3564639283521302\n",
      "22:03:29.0: AutoML: starting GBM_2_AutoML_1_20221030_220051 model training\n",
      "\n",
      "████\n",
      "22:03:50.874: AutoML: starting GBM_3_AutoML_1_20221030_220051 model training\n",
      "\n",
      "████\n",
      "22:04:13.140: AutoML: starting GBM_4_AutoML_1_20221030_220051 model training\n",
      "\n",
      "███\n",
      "22:04:36.475: AutoML: starting StackedEnsemble_BestOfFamily_2_AutoML_1_20221030_220051 model training\n",
      "\n",
      "█\n",
      "22:04:37.168: New leader: StackedEnsemble_BestOfFamily_2_AutoML_1_20221030_220051, rmse: 0.35177886035648426\n",
      "22:04:37.170: AutoML: starting StackedEnsemble_AllModels_1_AutoML_1_20221030_220051 model training\n",
      "22:04:38.17: New leader: StackedEnsemble_AllModels_1_AutoML_1_20221030_220051, rmse: 0.35064038061013714\n",
      "22:04:38.18: AutoML: starting XGBoost_3_AutoML_1_20221030_220051 model training\n",
      "\n",
      "████\n",
      "22:05:02.210: AutoML: starting XRT_1_AutoML_1_20221030_220051 model training\n",
      "\n",
      "████\n",
      "22:05:26.349: AutoML: starting GBM_5_AutoML_1_20221030_220051 model training\n",
      "\n",
      "████\n",
      "22:05:48.527: AutoML: starting DeepLearning_1_AutoML_1_20221030_220051 model training\n",
      "\n",
      "███\n",
      "22:06:08.558: AutoML: starting StackedEnsemble_BestOfFamily_3_AutoML_1_20221030_220051 model training\n",
      "22:06:09.183: New leader: StackedEnsemble_BestOfFamily_3_AutoML_1_20221030_220051, rmse: 0.349383153488213\n",
      "22:06:09.185: AutoML: starting StackedEnsemble_AllModels_2_AutoML_1_20221030_220051 model training\n",
      "\n",
      "\n",
      "22:06:09.939: New leader: StackedEnsemble_AllModels_2_AutoML_1_20221030_220051, rmse: 0.34898861592889585\n",
      "22:06:09.942: AutoML: starting XGBoost_grid_1_AutoML_1_20221030_220051 hyperparameter search\n",
      "\n",
      "████\n",
      "22:06:30.109: AutoML: starting GBM_grid_1_AutoML_1_20221030_220051 hyperparameter search\n",
      "\n",
      "██\n",
      "22:06:42.704: AutoML: starting DeepLearning_grid_1_AutoML_1_20221030_220051 hyperparameter search\n",
      "\n",
      "█\n",
      "22:06:49.102: AutoML: starting StackedEnsemble_AllModels_3_AutoML_1_20221030_220051 model training\n",
      "\n",
      "█| (done) 100%\n",
      "\n",
      "22:06:50.100: New leader: StackedEnsemble_AllModels_3_AutoML_1_20221030_220051, rmse: 0.3489387355365051\n",
      "22:06:50.101: AutoML: starting DeepLearning_grid_2_AutoML_1_20221030_220051 hyperparameter search\n",
      "22:06:52.128: Actual modeling steps: [{XGBoost : [def_2 (1g, 10w)]}, {GLM : [def_1 (1g, 10w)]}, {GBM : [def_5 (1g, 10w)]}, {StackedEnsemble : [best_of_family_1 (1g, 5w)]}, {XGBoost : [def_1 (2g, 10w)]}, {DRF : [def_1 (2g, 10w)]}, {GBM : [def_2 (2g, 10w), def_3 (2g, 10w), def_4 (2g, 10w)]}, {StackedEnsemble : [best_of_family_2 (2g, 5w), all_2 (2g, 10w)]}, {XGBoost : [def_3 (3g, 10w)]}, {DRF : [XRT (3g, 10w)]}, {GBM : [def_1 (3g, 10w)]}, {DeepLearning : [def_1 (3g, 10w)]}, {StackedEnsemble : [best_of_family_3 (3g, 5w), all_3 (3g, 10w)]}, {XGBoost : [grid_1 (4g, 90w)]}, {GBM : [grid_1 (4g, 60w)]}, {DeepLearning : [grid_1 (4g, 30w)]}, {StackedEnsemble : [all_4 (4g, 10w)]}, {DeepLearning : [grid_2 (5g, 30w)]}]\n",
      "22:06:52.128: AutoML build stopped: 2022.10.30 22:06:52.128\n",
      "22:06:52.128: AutoML build done: built 16 models\n",
      "22:06:52.128: AutoML duration:  6 min  0.519 sec\n",
      "\n",
      "stackedensemble prediction progress: |███████████████████████████████████████████| (done) 100%\n",
      "stackedensemble prediction progress: |███████████████████████████████████████████| (done) 100%\n"
     ]
    },
    {
     "data": {
      "text/html": [
       "<table class='dataframe'>\n",
       "<thead>\n",
       "<tr><th>model_id                                               </th><th style=\"text-align: right;\">    rmse</th><th style=\"text-align: right;\">     mse</th><th style=\"text-align: right;\">     mae</th><th style=\"text-align: right;\">  rmsle</th><th style=\"text-align: right;\">  mean_residual_deviance</th></tr>\n",
       "</thead>\n",
       "<tbody>\n",
       "<tr><td>StackedEnsemble_AllModels_3_AutoML_1_20221030_220051   </td><td style=\"text-align: right;\">0.348939</td><td style=\"text-align: right;\">0.121758</td><td style=\"text-align: right;\">0.148725</td><td style=\"text-align: right;\">    nan</td><td style=\"text-align: right;\">                0.121758</td></tr>\n",
       "<tr><td>StackedEnsemble_AllModels_2_AutoML_1_20221030_220051   </td><td style=\"text-align: right;\">0.348989</td><td style=\"text-align: right;\">0.121793</td><td style=\"text-align: right;\">0.14915 </td><td style=\"text-align: right;\">    nan</td><td style=\"text-align: right;\">                0.121793</td></tr>\n",
       "<tr><td>StackedEnsemble_BestOfFamily_3_AutoML_1_20221030_220051</td><td style=\"text-align: right;\">0.349383</td><td style=\"text-align: right;\">0.122069</td><td style=\"text-align: right;\">0.148847</td><td style=\"text-align: right;\">    nan</td><td style=\"text-align: right;\">                0.122069</td></tr>\n",
       "<tr><td>StackedEnsemble_AllModels_1_AutoML_1_20221030_220051   </td><td style=\"text-align: right;\">0.35064 </td><td style=\"text-align: right;\">0.122949</td><td style=\"text-align: right;\">0.149183</td><td style=\"text-align: right;\">    nan</td><td style=\"text-align: right;\">                0.122949</td></tr>\n",
       "<tr><td>StackedEnsemble_BestOfFamily_2_AutoML_1_20221030_220051</td><td style=\"text-align: right;\">0.351779</td><td style=\"text-align: right;\">0.123748</td><td style=\"text-align: right;\">0.149204</td><td style=\"text-align: right;\">    nan</td><td style=\"text-align: right;\">                0.123748</td></tr>\n",
       "</tbody>\n",
       "</table><pre style='font-size: smaller; margin-bottom: 1em;'>[5 rows x 6 columns]</pre>"
      ],
      "text/plain": [
       "model_id                                                     rmse       mse       mae    rmsle    mean_residual_deviance\n",
       "-------------------------------------------------------  --------  --------  --------  -------  ------------------------\n",
       "StackedEnsemble_AllModels_3_AutoML_1_20221030_220051     0.348939  0.121758  0.148725      nan                  0.121758\n",
       "StackedEnsemble_AllModels_2_AutoML_1_20221030_220051     0.348989  0.121793  0.14915       nan                  0.121793\n",
       "StackedEnsemble_BestOfFamily_3_AutoML_1_20221030_220051  0.349383  0.122069  0.148847      nan                  0.122069\n",
       "StackedEnsemble_AllModels_1_AutoML_1_20221030_220051     0.35064   0.122949  0.149183      nan                  0.122949\n",
       "StackedEnsemble_BestOfFamily_2_AutoML_1_20221030_220051  0.351779  0.123748  0.149204      nan                  0.123748\n",
       "[5 rows x 6 columns]\n"
      ]
     },
     "execution_count": 8,
     "metadata": {},
     "output_type": "execute_result"
    }
   ],
   "source": [
    "north_aml, north_train_preds, north_test_preds = train_automl(train, test, 'North', MAX_TIME)\n",
    "north_aml.leaderboard.head(5)"
   ]
  },
  {
   "cell_type": "code",
   "execution_count": 9,
   "id": "fc5d8e17",
   "metadata": {
    "execution": {
     "iopub.execute_input": "2022-10-30T22:06:55.886608Z",
     "iopub.status.busy": "2022-10-30T22:06:55.885687Z",
     "iopub.status.idle": "2022-10-30T22:12:59.368891Z",
     "shell.execute_reply": "2022-10-30T22:12:59.367683Z"
    },
    "papermill": {
     "duration": 363.520884,
     "end_time": "2022-10-30T22:12:59.387618",
     "exception": false,
     "start_time": "2022-10-30T22:06:55.866734",
     "status": "completed"
    },
    "tags": []
   },
   "outputs": [
    {
     "name": "stdout",
     "output_type": "stream",
     "text": [
      "AutoML progress: |\n",
      "22:06:55.899: Project: AutoML_2_20221030_220655\n",
      "22:06:55.899: 5-fold cross-validation will be used.\n",
      "22:06:55.900: Setting stopping tolerance adaptively based on the training frame: 0.0033107682550761745\n",
      "22:06:55.900: Build control seed: 42\n",
      "22:06:55.900: training frame: Frame key: AutoML_2_20221030_220655_training_Key_Frame__upload_b9bc166e19fabcc7b8916b1e01e745a0.hex    cols: 8    rows: 91231  chunks: 4    size: 8212986  checksum: 7243384574813962690\n",
      "22:06:55.900: validation frame: NULL\n",
      "22:06:55.900: leaderboard frame: NULL\n",
      "22:06:55.900: blending frame: NULL\n",
      "22:06:55.900: response column: East\n",
      "22:06:55.900: fold column: null\n",
      "22:06:55.900: weights column: null\n",
      "22:06:55.900: Loading execution steps: [{XGBoost : [def_2 (1g, 10w), def_1 (2g, 10w), def_3 (3g, 10w), grid_1 (4g, 90w), lr_search (6g, 30w)]}, {GLM : [def_1 (1g, 10w)]}, {DRF : [def_1 (2g, 10w), XRT (3g, 10w)]}, {GBM : [def_5 (1g, 10w), def_2 (2g, 10w), def_3 (2g, 10w), def_4 (2g, 10w), def_1 (3g, 10w), grid_1 (4g, 60w), lr_annealing (6g, 10w)]}, {DeepLearning : [def_1 (3g, 10w), grid_1 (4g, 30w), grid_2 (5g, 30w), grid_3 (5g, 30w)]}, {completion : [resume_best_grids (10g, 60w)]}, {StackedEnsemble : [best_of_family_1 (1g, 5w), best_of_family_2 (2g, 5w), best_of_family_3 (3g, 5w), best_of_family_4 (4g, 5w), best_of_family_5 (5g, 5w), all_2 (2g, 10w), all_3 (3g, 10w), all_4 (4g, 10w), all_5 (5g, 10w), monotonic (6g, 10w), best_of_family_gbm (6g, 10w), all_gbm (7g, 10w), best_of_family_xglm (8g, 10w), all_xglm (8g, 10w), best_of_family (10g, 10w), best_N (10g, 10w)]}]\n",
      "22:06:55.901: AutoML job created: 2022.10.30 22:06:55.899\n",
      "22:06:55.902: AutoML build started: 2022.10.30 22:06:55.901\n",
      "22:06:55.902: AutoML: starting XGBoost_1_AutoML_2_20221030_220655 model training\n",
      "\n",
      "██████\n",
      "22:07:24.384: New leader: XGBoost_1_AutoML_2_20221030_220655, rmse: 0.35880544953070165\n",
      "22:07:24.384: AutoML: starting GLM_1_AutoML_2_20221030_220655 model training\n",
      "\n",
      "\n",
      "22:07:26.113: AutoML: starting GBM_1_AutoML_2_20221030_220655 model training\n",
      "\n",
      "██████\n",
      "22:08:00.46: New leader: GBM_1_AutoML_2_20221030_220655, rmse: 0.35520326459614165\n",
      "22:08:00.46: AutoML: starting StackedEnsemble_BestOfFamily_1_AutoML_2_20221030_220655 model training\n",
      "\n",
      "\n",
      "22:08:00.674: New leader: StackedEnsemble_BestOfFamily_1_AutoML_2_20221030_220655, rmse: 0.3457846439263114\n",
      "22:08:00.675: AutoML: starting XGBoost_2_AutoML_2_20221030_220655 model training\n",
      "\n",
      "████\n",
      "22:08:24.98: AutoML: starting DRF_1_AutoML_2_20221030_220655 model training\n",
      "\n",
      "████████\n",
      "22:09:11.947: New leader: DRF_1_AutoML_2_20221030_220655, rmse: 0.32540450558947237\n",
      "22:09:11.948: AutoML: starting GBM_2_AutoML_2_20221030_220655 model training\n",
      "\n",
      "████\n",
      "22:09:34.941: AutoML: starting GBM_3_AutoML_2_20221030_220655 model training\n",
      "\n",
      "████\n",
      "22:09:57.393: AutoML: starting GBM_4_AutoML_2_20221030_220655 model training\n",
      "\n",
      "████\n",
      "22:10:21.522: AutoML: starting StackedEnsemble_BestOfFamily_2_AutoML_2_20221030_220655 model training\n",
      "\n",
      "\n",
      "22:10:22.27: New leader: StackedEnsemble_BestOfFamily_2_AutoML_2_20221030_220655, rmse: 0.32124630759611006\n",
      "22:10:22.30: AutoML: starting StackedEnsemble_AllModels_1_AutoML_2_20221030_220655 model training\n",
      "22:10:22.642: New leader: StackedEnsemble_AllModels_1_AutoML_2_20221030_220655, rmse: 0.3212303946285278\n",
      "22:10:22.643: AutoML: starting XGBoost_3_AutoML_2_20221030_220655 model training\n",
      "\n",
      "█████\n",
      "22:10:49.609: AutoML: starting XRT_1_AutoML_2_20221030_220655 model training\n",
      "\n",
      "█████\n",
      "22:11:17.492: AutoML: starting GBM_5_AutoML_2_20221030_220655 model training\n",
      "\n",
      "████\n",
      "22:11:42.208: AutoML: starting DeepLearning_1_AutoML_2_20221030_220655 model training\n",
      "\n",
      "███\n",
      "22:12:02.729: AutoML: starting StackedEnsemble_BestOfFamily_3_AutoML_2_20221030_220655 model training\n",
      "\n",
      "█\n",
      "22:12:03.275: New leader: StackedEnsemble_BestOfFamily_3_AutoML_2_20221030_220655, rmse: 0.319938474167917\n",
      "22:12:03.278: AutoML: starting StackedEnsemble_AllModels_2_AutoML_2_20221030_220655 model training\n",
      "22:12:03.926: AutoML: starting XGBoost_grid_1_AutoML_2_20221030_220655 hyperparameter search\n",
      "\n",
      "████\n",
      "22:12:28.677: AutoML: starting GBM_grid_1_AutoML_2_20221030_220655 hyperparameter search\n",
      "\n",
      "███\n",
      "22:12:44.654: AutoML: starting DeepLearning_grid_1_AutoML_2_20221030_220655 hyperparameter search\n",
      "\n",
      "█\n",
      "22:12:52.227: AutoML: starting StackedEnsemble_AllModels_3_AutoML_2_20221030_220655 model training\n",
      "\n",
      "\n",
      "22:12:53.72: New leader: StackedEnsemble_AllModels_3_AutoML_2_20221030_220655, rmse: 0.3199206923686597\n",
      "22:12:53.73: AutoML: starting DeepLearning_grid_2_AutoML_2_20221030_220655 hyperparameter search\n",
      "\n",
      "█| (done) 100%\n",
      "\n",
      "22:12:56.105: Actual modeling steps: [{XGBoost : [def_2 (1g, 10w)]}, {GLM : [def_1 (1g, 10w)]}, {GBM : [def_5 (1g, 10w)]}, {StackedEnsemble : [best_of_family_1 (1g, 5w)]}, {XGBoost : [def_1 (2g, 10w)]}, {DRF : [def_1 (2g, 10w)]}, {GBM : [def_2 (2g, 10w), def_3 (2g, 10w), def_4 (2g, 10w)]}, {StackedEnsemble : [best_of_family_2 (2g, 5w), all_2 (2g, 10w)]}, {XGBoost : [def_3 (3g, 10w)]}, {DRF : [XRT (3g, 10w)]}, {GBM : [def_1 (3g, 10w)]}, {DeepLearning : [def_1 (3g, 10w)]}, {StackedEnsemble : [best_of_family_3 (3g, 5w), all_3 (3g, 10w)]}, {XGBoost : [grid_1 (4g, 90w)]}, {GBM : [grid_1 (4g, 60w)]}, {DeepLearning : [grid_1 (4g, 30w)]}, {StackedEnsemble : [all_4 (4g, 10w)]}, {DeepLearning : [grid_2 (5g, 30w)]}]\n",
      "22:12:56.106: AutoML build stopped: 2022.10.30 22:12:56.105\n",
      "22:12:56.106: AutoML build done: built 16 models\n",
      "22:12:56.106: AutoML duration:  6 min  0.204 sec\n",
      "\n",
      "stackedensemble prediction progress: |███████████████████████████████████████████| (done) 100%\n",
      "stackedensemble prediction progress: |███████████████████████████████████████████| (done) 100%\n"
     ]
    },
    {
     "data": {
      "text/html": [
       "<table class='dataframe'>\n",
       "<thead>\n",
       "<tr><th>model_id                                               </th><th style=\"text-align: right;\">    rmse</th><th style=\"text-align: right;\">     mse</th><th style=\"text-align: right;\">     mae</th><th style=\"text-align: right;\">  rmsle</th><th style=\"text-align: right;\">  mean_residual_deviance</th></tr>\n",
       "</thead>\n",
       "<tbody>\n",
       "<tr><td>StackedEnsemble_AllModels_3_AutoML_2_20221030_220655   </td><td style=\"text-align: right;\">0.319921</td><td style=\"text-align: right;\">0.102349</td><td style=\"text-align: right;\">0.141929</td><td style=\"text-align: right;\">    nan</td><td style=\"text-align: right;\">                0.102349</td></tr>\n",
       "<tr><td>StackedEnsemble_BestOfFamily_3_AutoML_2_20221030_220655</td><td style=\"text-align: right;\">0.319938</td><td style=\"text-align: right;\">0.102361</td><td style=\"text-align: right;\">0.141933</td><td style=\"text-align: right;\">    nan</td><td style=\"text-align: right;\">                0.102361</td></tr>\n",
       "<tr><td>StackedEnsemble_AllModels_2_AutoML_2_20221030_220655   </td><td style=\"text-align: right;\">0.319993</td><td style=\"text-align: right;\">0.102396</td><td style=\"text-align: right;\">0.141956</td><td style=\"text-align: right;\">    nan</td><td style=\"text-align: right;\">                0.102396</td></tr>\n",
       "<tr><td>StackedEnsemble_AllModels_1_AutoML_2_20221030_220655   </td><td style=\"text-align: right;\">0.32123 </td><td style=\"text-align: right;\">0.103189</td><td style=\"text-align: right;\">0.14325 </td><td style=\"text-align: right;\">    nan</td><td style=\"text-align: right;\">                0.103189</td></tr>\n",
       "<tr><td>StackedEnsemble_BestOfFamily_2_AutoML_2_20221030_220655</td><td style=\"text-align: right;\">0.321246</td><td style=\"text-align: right;\">0.103199</td><td style=\"text-align: right;\">0.143254</td><td style=\"text-align: right;\">    nan</td><td style=\"text-align: right;\">                0.103199</td></tr>\n",
       "</tbody>\n",
       "</table><pre style='font-size: smaller; margin-bottom: 1em;'>[5 rows x 6 columns]</pre>"
      ],
      "text/plain": [
       "model_id                                                     rmse       mse       mae    rmsle    mean_residual_deviance\n",
       "-------------------------------------------------------  --------  --------  --------  -------  ------------------------\n",
       "StackedEnsemble_AllModels_3_AutoML_2_20221030_220655     0.319921  0.102349  0.141929      nan                  0.102349\n",
       "StackedEnsemble_BestOfFamily_3_AutoML_2_20221030_220655  0.319938  0.102361  0.141933      nan                  0.102361\n",
       "StackedEnsemble_AllModels_2_AutoML_2_20221030_220655     0.319993  0.102396  0.141956      nan                  0.102396\n",
       "StackedEnsemble_AllModels_1_AutoML_2_20221030_220655     0.32123   0.103189  0.14325       nan                  0.103189\n",
       "StackedEnsemble_BestOfFamily_2_AutoML_2_20221030_220655  0.321246  0.103199  0.143254      nan                  0.103199\n",
       "[5 rows x 6 columns]\n"
      ]
     },
     "execution_count": 9,
     "metadata": {},
     "output_type": "execute_result"
    }
   ],
   "source": [
    "east_aml, east_train_preds, east_test_preds = train_automl(train, test, 'East', MAX_TIME)\n",
    "east_aml.leaderboard.head(5)"
   ]
  },
  {
   "cell_type": "code",
   "execution_count": 10,
   "id": "6fee158b",
   "metadata": {
    "execution": {
     "iopub.execute_input": "2022-10-30T22:12:59.423505Z",
     "iopub.status.busy": "2022-10-30T22:12:59.422776Z",
     "iopub.status.idle": "2022-10-30T22:12:59.434321Z",
     "shell.execute_reply": "2022-10-30T22:12:59.433128Z"
    },
    "papermill": {
     "duration": 0.031944,
     "end_time": "2022-10-30T22:12:59.436434",
     "exception": false,
     "start_time": "2022-10-30T22:12:59.404490",
     "status": "completed"
    },
    "tags": []
   },
   "outputs": [
    {
     "data": {
      "text/html": [
       "<table class='dataframe'>\n",
       "<thead>\n",
       "<tr><th>Filename                            </th><th style=\"text-align: right;\">  North_pixel</th><th style=\"text-align: right;\">  East_pixel</th><th style=\"text-align: right;\">  Altitude</th><th style=\"text-align: right;\">     Delta</th><th style=\"text-align: right;\">    North</th><th style=\"text-align: right;\">      East</th><th style=\"text-align: right;\">  kfold</th></tr>\n",
       "</thead>\n",
       "<tbody>\n",
       "<tr><td>00003e3b9e5336685200ae85d21b4f5e.jpg</td><td style=\"text-align: right;\">    -1.29619 </td><td style=\"text-align: right;\">    2.86893 </td><td style=\"text-align: right;\">   178.83 </td><td style=\"text-align: right;\">-0.0652313</td><td style=\"text-align: right;\">-0.386045</td><td style=\"text-align: right;\"> 0.929772 </td><td style=\"text-align: right;\">      0</td></tr>\n",
       "<tr><td>0001261e2060303a06ba6c64d676d639.jpg</td><td style=\"text-align: right;\">     0.847966</td><td style=\"text-align: right;\">    0.356077</td><td style=\"text-align: right;\">   207.921</td><td style=\"text-align: right;\">-0.0806885</td><td style=\"text-align: right;\"> 0.635584</td><td style=\"text-align: right;\"> 0.152819 </td><td style=\"text-align: right;\">      2</td></tr>\n",
       "<tr><td>0002ac0d783338cfeab0b2bdbd872cda.jpg</td><td style=\"text-align: right;\">    -3.51745 </td><td style=\"text-align: right;\">   -1.59259 </td><td style=\"text-align: right;\">   178.048</td><td style=\"text-align: right;\"> 0.0215759</td><td style=\"text-align: right;\">-1.22823 </td><td style=\"text-align: right;\">-0.499388 </td><td style=\"text-align: right;\">      3</td></tr>\n",
       "<tr><td>0004289ee1c7b8b08c77e19878106ae3.jpg</td><td style=\"text-align: right;\">    -6.09153 </td><td style=\"text-align: right;\">   -3.09927 </td><td style=\"text-align: right;\">   201.085</td><td style=\"text-align: right;\"> 0.505981 </td><td style=\"text-align: right;\">-1.73971 </td><td style=\"text-align: right;\">-0.699928 </td><td style=\"text-align: right;\">      1</td></tr>\n",
       "<tr><td>0004d0b59e19461ff126e3a08a814c33.jpg</td><td style=\"text-align: right;\">    -0.449659</td><td style=\"text-align: right;\">    8.12569 </td><td style=\"text-align: right;\">   187.55 </td><td style=\"text-align: right;\">-0.328156 </td><td style=\"text-align: right;\">-0.169798</td><td style=\"text-align: right;\"> 2.82875  </td><td style=\"text-align: right;\">      0</td></tr>\n",
       "<tr><td>00053f5e11d1fe4e49a221165b39abc9.jpg</td><td style=\"text-align: right;\">    -1.22675 </td><td style=\"text-align: right;\">   -0.162461</td><td style=\"text-align: right;\">   168.996</td><td style=\"text-align: right;\">-0.0148621</td><td style=\"text-align: right;\">-0.321776</td><td style=\"text-align: right;\">-0.0755221</td><td style=\"text-align: right;\">      4</td></tr>\n",
       "<tr><td>00056c20eb5a029583db75506953f1d9.jpg</td><td style=\"text-align: right;\">     1.73019 </td><td style=\"text-align: right;\">   -4.61845 </td><td style=\"text-align: right;\">   179.963</td><td style=\"text-align: right;\"> 0.109741 </td><td style=\"text-align: right;\"> 0.646206</td><td style=\"text-align: right;\">-1.68678  </td><td style=\"text-align: right;\">      2</td></tr>\n",
       "<tr><td>0006aabe0ba47a35c0b0bf6596f85159.jpg</td><td style=\"text-align: right;\">    -5.84977 </td><td style=\"text-align: right;\">    1.00668 </td><td style=\"text-align: right;\">   180.632</td><td style=\"text-align: right;\"> 0.212234 </td><td style=\"text-align: right;\">-0.178107</td><td style=\"text-align: right;\"> 0.132653 </td><td style=\"text-align: right;\">      2</td></tr>\n",
       "<tr><td>0006dd05ea1e999ddaa041a7091b7b36.jpg</td><td style=\"text-align: right;\">    -9.62826 </td><td style=\"text-align: right;\">    8.84762 </td><td style=\"text-align: right;\">   168.886</td><td style=\"text-align: right;\"> 0.0512695</td><td style=\"text-align: right;\">-1.82588 </td><td style=\"text-align: right;\"> 1.95608  </td><td style=\"text-align: right;\">      2</td></tr>\n",
       "<tr><td>0007789b118e4710fc0e7c8758a6532a.jpg</td><td style=\"text-align: right;\">     6.68168 </td><td style=\"text-align: right;\">   -2.49028 </td><td style=\"text-align: right;\">   194.349</td><td style=\"text-align: right;\"> 0.387817 </td><td style=\"text-align: right;\"> 2.46552 </td><td style=\"text-align: right;\">-0.88375  </td><td style=\"text-align: right;\">      3</td></tr>\n",
       "</tbody>\n",
       "</table><pre style='font-size: smaller; margin-bottom: 1em;'>[91231 rows x 8 columns]</pre>"
      ],
      "text/plain": [
       "Filename                                North_pixel    East_pixel    Altitude       Delta      North        East    kfold\n",
       "------------------------------------  -------------  ------------  ----------  ----------  ---------  ----------  -------\n",
       "00003e3b9e5336685200ae85d21b4f5e.jpg      -1.29619       2.86893      178.83   -0.0652313  -0.386045   0.929772         0\n",
       "0001261e2060303a06ba6c64d676d639.jpg       0.847966      0.356077     207.921  -0.0806885   0.635584   0.152819         2\n",
       "0002ac0d783338cfeab0b2bdbd872cda.jpg      -3.51745      -1.59259      178.048   0.0215759  -1.22823   -0.499388         3\n",
       "0004289ee1c7b8b08c77e19878106ae3.jpg      -6.09153      -3.09927      201.085   0.505981   -1.73971   -0.699928         1\n",
       "0004d0b59e19461ff126e3a08a814c33.jpg      -0.449659      8.12569      187.55   -0.328156   -0.169798   2.82875          0\n",
       "00053f5e11d1fe4e49a221165b39abc9.jpg      -1.22675      -0.162461     168.996  -0.0148621  -0.321776  -0.0755221        4\n",
       "00056c20eb5a029583db75506953f1d9.jpg       1.73019      -4.61845      179.963   0.109741    0.646206  -1.68678          2\n",
       "0006aabe0ba47a35c0b0bf6596f85159.jpg      -5.84977       1.00668      180.632   0.212234   -0.178107   0.132653         2\n",
       "0006dd05ea1e999ddaa041a7091b7b36.jpg      -9.62826       8.84762      168.886   0.0512695  -1.82588    1.95608          2\n",
       "0007789b118e4710fc0e7c8758a6532a.jpg       6.68168      -2.49028      194.349   0.387817    2.46552   -0.88375          3\n",
       "[91231 rows x 8 columns]\n"
      ]
     },
     "execution_count": 10,
     "metadata": {},
     "output_type": "execute_result"
    }
   ],
   "source": [
    "train"
   ]
  },
  {
   "cell_type": "code",
   "execution_count": 11,
   "id": "f489cf35",
   "metadata": {
    "execution": {
     "iopub.execute_input": "2022-10-30T22:12:59.471880Z",
     "iopub.status.busy": "2022-10-30T22:12:59.471188Z",
     "iopub.status.idle": "2022-10-30T22:13:02.147966Z",
     "shell.execute_reply": "2022-10-30T22:13:02.147162Z"
    },
    "papermill": {
     "duration": 2.696885,
     "end_time": "2022-10-30T22:13:02.150038",
     "exception": false,
     "start_time": "2022-10-30T22:12:59.453153",
     "status": "completed"
    },
    "tags": []
   },
   "outputs": [
    {
     "data": {
      "text/html": [
       "<table class='dataframe'>\n",
       "<thead>\n",
       "<tr><th>Filename                            </th><th style=\"text-align: right;\">  North_pixel</th><th style=\"text-align: right;\">  East_pixel</th><th style=\"text-align: right;\">  Altitude</th><th style=\"text-align: right;\">     Delta</th><th style=\"text-align: right;\">    North</th><th style=\"text-align: right;\">     East</th><th style=\"text-align: right;\">  kfold</th><th style=\"text-align: right;\">  North_prediction</th><th style=\"text-align: right;\">  East_prediction</th></tr>\n",
       "</thead>\n",
       "<tbody>\n",
       "<tr><td>00003e3b9e5336685200ae85d21b4f5e.jpg</td><td style=\"text-align: right;\">    -1.29619 </td><td style=\"text-align: right;\">    2.86893 </td><td style=\"text-align: right;\">   178.83 </td><td style=\"text-align: right;\">-0.0652313</td><td style=\"text-align: right;\">-0.386045</td><td style=\"text-align: right;\"> 0.929772</td><td style=\"text-align: right;\">      0</td><td style=\"text-align: right;\">         -0.435958</td><td style=\"text-align: right;\">         0.960169</td></tr>\n",
       "<tr><td>0001261e2060303a06ba6c64d676d639.jpg</td><td style=\"text-align: right;\">     0.847966</td><td style=\"text-align: right;\">    0.356077</td><td style=\"text-align: right;\">   207.921</td><td style=\"text-align: right;\">-0.0806885</td><td style=\"text-align: right;\"> 0.635584</td><td style=\"text-align: right;\"> 0.152819</td><td style=\"text-align: right;\">      2</td><td style=\"text-align: right;\">          0.613518</td><td style=\"text-align: right;\">         0.193717</td></tr>\n",
       "<tr><td>0002ac0d783338cfeab0b2bdbd872cda.jpg</td><td style=\"text-align: right;\">    -3.51745 </td><td style=\"text-align: right;\">   -1.59259 </td><td style=\"text-align: right;\">   178.048</td><td style=\"text-align: right;\"> 0.0215759</td><td style=\"text-align: right;\">-1.22823 </td><td style=\"text-align: right;\">-0.499388</td><td style=\"text-align: right;\">      3</td><td style=\"text-align: right;\">         -1.1904  </td><td style=\"text-align: right;\">        -0.489612</td></tr>\n",
       "<tr><td>0004289ee1c7b8b08c77e19878106ae3.jpg</td><td style=\"text-align: right;\">    -6.09153 </td><td style=\"text-align: right;\">   -3.09927 </td><td style=\"text-align: right;\">   201.085</td><td style=\"text-align: right;\"> 0.505981 </td><td style=\"text-align: right;\">-1.73971 </td><td style=\"text-align: right;\">-0.699928</td><td style=\"text-align: right;\">      1</td><td style=\"text-align: right;\">         -1.64493 </td><td style=\"text-align: right;\">        -0.720874</td></tr>\n",
       "<tr><td>0004d0b59e19461ff126e3a08a814c33.jpg</td><td style=\"text-align: right;\">    -0.449659</td><td style=\"text-align: right;\">    8.12569 </td><td style=\"text-align: right;\">   187.55 </td><td style=\"text-align: right;\">-0.328156 </td><td style=\"text-align: right;\">-0.169798</td><td style=\"text-align: right;\"> 2.82875 </td><td style=\"text-align: right;\">      0</td><td style=\"text-align: right;\">         -0.182669</td><td style=\"text-align: right;\">         2.66299 </td></tr>\n",
       "</tbody>\n",
       "</table><pre style='font-size: smaller; margin-bottom: 1em;'>[5 rows x 10 columns]</pre>"
      ],
      "text/plain": [
       "Filename                                North_pixel    East_pixel    Altitude       Delta      North       East    kfold    North_prediction    East_prediction\n",
       "------------------------------------  -------------  ------------  ----------  ----------  ---------  ---------  -------  ------------------  -----------------\n",
       "00003e3b9e5336685200ae85d21b4f5e.jpg      -1.29619       2.86893      178.83   -0.0652313  -0.386045   0.929772        0           -0.435958           0.960169\n",
       "0001261e2060303a06ba6c64d676d639.jpg       0.847966      0.356077     207.921  -0.0806885   0.635584   0.152819        2            0.613518           0.193717\n",
       "0002ac0d783338cfeab0b2bdbd872cda.jpg      -3.51745      -1.59259      178.048   0.0215759  -1.22823   -0.499388        3           -1.1904            -0.489612\n",
       "0004289ee1c7b8b08c77e19878106ae3.jpg      -6.09153      -3.09927      201.085   0.505981   -1.73971   -0.699928        1           -1.64493           -0.720874\n",
       "0004d0b59e19461ff126e3a08a814c33.jpg      -0.449659      8.12569      187.55   -0.328156   -0.169798   2.82875         0           -0.182669           2.66299\n",
       "[5 rows x 10 columns]\n"
      ]
     },
     "execution_count": 11,
     "metadata": {},
     "output_type": "execute_result"
    }
   ],
   "source": [
    "train_final = train.cbind(north_train_preds)\n",
    "train_final = train_final.cbind(east_train_preds)\n",
    "train_final.as_data_frame().to_csv('train_final.csv')\n",
    "\n",
    "train_final.head(5)"
   ]
  },
  {
   "cell_type": "code",
   "execution_count": 12,
   "id": "7c9c4d64",
   "metadata": {
    "execution": {
     "iopub.execute_input": "2022-10-30T22:13:02.185801Z",
     "iopub.status.busy": "2022-10-30T22:13:02.184751Z",
     "iopub.status.idle": "2022-10-30T22:13:03.213852Z",
     "shell.execute_reply": "2022-10-30T22:13:03.212782Z"
    },
    "papermill": {
     "duration": 1.049525,
     "end_time": "2022-10-30T22:13:03.216566",
     "exception": false,
     "start_time": "2022-10-30T22:13:02.167041",
     "status": "completed"
    },
    "tags": []
   },
   "outputs": [
    {
     "data": {
      "text/html": [
       "<table class='dataframe'>\n",
       "<thead>\n",
       "<tr><th>Filename                            </th><th style=\"text-align: right;\">  North_pixel</th><th style=\"text-align: right;\">  East_pixel</th><th style=\"text-align: right;\">  Altitude</th><th style=\"text-align: right;\">     Delta</th><th style=\"text-align: right;\">  kfold</th><th style=\"text-align: right;\">  North_prediction</th><th style=\"text-align: right;\">  East_prediction</th></tr>\n",
       "</thead>\n",
       "<tbody>\n",
       "<tr><td>000053b1e684c9e7ea73727b2238ce18.jpg</td><td style=\"text-align: right;\">     0.356597</td><td style=\"text-align: right;\">    0.257315</td><td style=\"text-align: right;\">   167.943</td><td style=\"text-align: right;\"> 0.0102692</td><td style=\"text-align: right;\">      0</td><td style=\"text-align: right;\">        0.0733064 </td><td style=\"text-align: right;\">       -0.0207893</td></tr>\n",
       "<tr><td>00029153d12ae1c9abe59c17ff2e0895.jpg</td><td style=\"text-align: right;\">     9.36693 </td><td style=\"text-align: right;\">   -2.49368 </td><td style=\"text-align: right;\">   195.853</td><td style=\"text-align: right;\"> 0.0892181</td><td style=\"text-align: right;\">      2</td><td style=\"text-align: right;\">        1.57244   </td><td style=\"text-align: right;\">       -0.733408 </td></tr>\n",
       "<tr><td>0006246bee639c7a7b11a08e34dd3cc6.jpg</td><td style=\"text-align: right;\">   -12.5184  </td><td style=\"text-align: right;\">   -0.683746</td><td style=\"text-align: right;\">   146.943</td><td style=\"text-align: right;\">-0.0183258</td><td style=\"text-align: right;\">      1</td><td style=\"text-align: right;\">       -1.04938   </td><td style=\"text-align: right;\">        0.296893 </td></tr>\n",
       "<tr><td>00063cb5da1826febf178b669eea3250.jpg</td><td style=\"text-align: right;\">   -25.9429  </td><td style=\"text-align: right;\">   -0.682081</td><td style=\"text-align: right;\">   213.184</td><td style=\"text-align: right;\">-0.108704 </td><td style=\"text-align: right;\">      1</td><td style=\"text-align: right;\">       -0.921319  </td><td style=\"text-align: right;\">       -0.141444 </td></tr>\n",
       "<tr><td>00063ece2e68a8847f228e8fd922f851.jpg</td><td style=\"text-align: right;\">    -0.165511</td><td style=\"text-align: right;\">   -6.8528  </td><td style=\"text-align: right;\">   184.758</td><td style=\"text-align: right;\"> 0.0177002</td><td style=\"text-align: right;\">      0</td><td style=\"text-align: right;\">        0.0101612 </td><td style=\"text-align: right;\">       -1.04042  </td></tr>\n",
       "<tr><td>000838c1249fec206b77360ff0adc110.jpg</td><td style=\"text-align: right;\">     2.78873 </td><td style=\"text-align: right;\">   -2.46239 </td><td style=\"text-align: right;\">   209.136</td><td style=\"text-align: right;\">-0.544525 </td><td style=\"text-align: right;\">      1</td><td style=\"text-align: right;\">        1.25909   </td><td style=\"text-align: right;\">       -1.45315  </td></tr>\n",
       "<tr><td>000a8e84b013655b832041a6f362e5c9.jpg</td><td style=\"text-align: right;\">    -0.061612</td><td style=\"text-align: right;\">   -4.1541  </td><td style=\"text-align: right;\">   177.72 </td><td style=\"text-align: right;\">-0.23024  </td><td style=\"text-align: right;\">      4</td><td style=\"text-align: right;\">       -0.00699272</td><td style=\"text-align: right;\">       -1.06834  </td></tr>\n",
       "<tr><td>000d0c74074191add6f22e0004db8f76.jpg</td><td style=\"text-align: right;\">     2.78086 </td><td style=\"text-align: right;\">   -5.82139 </td><td style=\"text-align: right;\">   200.488</td><td style=\"text-align: right;\"> 0.0812378</td><td style=\"text-align: right;\">      3</td><td style=\"text-align: right;\">        0.930063  </td><td style=\"text-align: right;\">       -1.95179  </td></tr>\n",
       "<tr><td>000dd3543ac84d906eae52e7c779bb2a.jpg</td><td style=\"text-align: right;\">    -3.27656 </td><td style=\"text-align: right;\">   -8.70192 </td><td style=\"text-align: right;\">   155.313</td><td style=\"text-align: right;\"> 0.062027 </td><td style=\"text-align: right;\">      4</td><td style=\"text-align: right;\">       -0.383622  </td><td style=\"text-align: right;\">       -1.22927  </td></tr>\n",
       "<tr><td>00129b07887a18a7331909231c28816e.jpg</td><td style=\"text-align: right;\">     0.2546  </td><td style=\"text-align: right;\">    4.49667 </td><td style=\"text-align: right;\">   187.643</td><td style=\"text-align: right;\">-0.133362 </td><td style=\"text-align: right;\">      4</td><td style=\"text-align: right;\">        0.0738928 </td><td style=\"text-align: right;\">        1.6081   </td></tr>\n",
       "</tbody>\n",
       "</table><pre style='font-size: smaller; margin-bottom: 1em;'>[55031 rows x 8 columns]</pre>"
      ],
      "text/plain": [
       "Filename                                North_pixel    East_pixel    Altitude       Delta    kfold    North_prediction    East_prediction\n",
       "------------------------------------  -------------  ------------  ----------  ----------  -------  ------------------  -----------------\n",
       "000053b1e684c9e7ea73727b2238ce18.jpg       0.356597      0.257315     167.943   0.0102692        0          0.0733064          -0.0207893\n",
       "00029153d12ae1c9abe59c17ff2e0895.jpg       9.36693      -2.49368      195.853   0.0892181        2          1.57244            -0.733408\n",
       "0006246bee639c7a7b11a08e34dd3cc6.jpg     -12.5184       -0.683746     146.943  -0.0183258        1         -1.04938             0.296893\n",
       "00063cb5da1826febf178b669eea3250.jpg     -25.9429       -0.682081     213.184  -0.108704         1         -0.921319           -0.141444\n",
       "00063ece2e68a8847f228e8fd922f851.jpg      -0.165511     -6.8528       184.758   0.0177002        0          0.0101612          -1.04042\n",
       "000838c1249fec206b77360ff0adc110.jpg       2.78873      -2.46239      209.136  -0.544525         1          1.25909            -1.45315\n",
       "000a8e84b013655b832041a6f362e5c9.jpg      -0.061612     -4.1541       177.72   -0.23024          4         -0.00699272         -1.06834\n",
       "000d0c74074191add6f22e0004db8f76.jpg       2.78086      -5.82139      200.488   0.0812378        3          0.930063           -1.95179\n",
       "000dd3543ac84d906eae52e7c779bb2a.jpg      -3.27656      -8.70192      155.313   0.062027         4         -0.383622           -1.22927\n",
       "00129b07887a18a7331909231c28816e.jpg       0.2546        4.49667      187.643  -0.133362         4          0.0738928           1.6081\n",
       "[55031 rows x 8 columns]\n"
      ]
     },
     "execution_count": 12,
     "metadata": {},
     "output_type": "execute_result"
    }
   ],
   "source": [
    "test_final = test.cbind(north_test_preds)\n",
    "test_final = test_final.cbind(east_test_preds)\n",
    "test_final.as_data_frame().to_csv('test_final.csv')\n",
    "\n",
    "test_final"
   ]
  },
  {
   "cell_type": "code",
   "execution_count": 13,
   "id": "821173b4",
   "metadata": {
    "execution": {
     "iopub.execute_input": "2022-10-30T22:13:03.252333Z",
     "iopub.status.busy": "2022-10-30T22:13:03.251271Z",
     "iopub.status.idle": "2022-10-30T22:13:03.635233Z",
     "shell.execute_reply": "2022-10-30T22:13:03.634056Z"
    },
    "papermill": {
     "duration": 0.404515,
     "end_time": "2022-10-30T22:13:03.637730",
     "exception": false,
     "start_time": "2022-10-30T22:13:03.233215",
     "status": "completed"
    },
    "tags": []
   },
   "outputs": [
    {
     "data": {
      "text/html": [
       "<div>\n",
       "<style scoped>\n",
       "    .dataframe tbody tr th:only-of-type {\n",
       "        vertical-align: middle;\n",
       "    }\n",
       "\n",
       "    .dataframe tbody tr th {\n",
       "        vertical-align: top;\n",
       "    }\n",
       "\n",
       "    .dataframe thead th {\n",
       "        text-align: right;\n",
       "    }\n",
       "</style>\n",
       "<table border=\"1\" class=\"dataframe\">\n",
       "  <thead>\n",
       "    <tr style=\"text-align: right;\">\n",
       "      <th></th>\n",
       "      <th>Id</th>\n",
       "      <th>Predicted</th>\n",
       "    </tr>\n",
       "  </thead>\n",
       "  <tbody>\n",
       "    <tr>\n",
       "      <th>0</th>\n",
       "      <td>000053b1e684c9e7ea73727b2238ce18.jpg:North</td>\n",
       "      <td>0.073306</td>\n",
       "    </tr>\n",
       "    <tr>\n",
       "      <th>1</th>\n",
       "      <td>00029153d12ae1c9abe59c17ff2e0895.jpg:North</td>\n",
       "      <td>1.572435</td>\n",
       "    </tr>\n",
       "    <tr>\n",
       "      <th>2</th>\n",
       "      <td>0006246bee639c7a7b11a08e34dd3cc6.jpg:North</td>\n",
       "      <td>-1.049377</td>\n",
       "    </tr>\n",
       "    <tr>\n",
       "      <th>3</th>\n",
       "      <td>00063cb5da1826febf178b669eea3250.jpg:North</td>\n",
       "      <td>-0.921319</td>\n",
       "    </tr>\n",
       "    <tr>\n",
       "      <th>4</th>\n",
       "      <td>00063ece2e68a8847f228e8fd922f851.jpg:North</td>\n",
       "      <td>0.010161</td>\n",
       "    </tr>\n",
       "  </tbody>\n",
       "</table>\n",
       "</div>"
      ],
      "text/plain": [
       "                                           Id  Predicted\n",
       "0  000053b1e684c9e7ea73727b2238ce18.jpg:North   0.073306\n",
       "1  00029153d12ae1c9abe59c17ff2e0895.jpg:North   1.572435\n",
       "2  0006246bee639c7a7b11a08e34dd3cc6.jpg:North  -1.049377\n",
       "3  00063cb5da1826febf178b669eea3250.jpg:North  -0.921319\n",
       "4  00063ece2e68a8847f228e8fd922f851.jpg:North   0.010161"
      ]
     },
     "execution_count": 13,
     "metadata": {},
     "output_type": "execute_result"
    }
   ],
   "source": [
    "submission = test_final.as_data_frame()[['Filename', 'North_prediction', 'East_prediction']]\n",
    "submission.rename({'North_prediction':'North', 'East_prediction':'East'}, axis=1, inplace=True)\n",
    "submission = submission.melt(id_vars='Filename', value_name='Predicted')\n",
    "submission['Id'] = submission.Filename + ':' + submission.variable\n",
    "submission = submission[['Id', 'Predicted']]\n",
    "submission.head()"
   ]
  },
  {
   "cell_type": "code",
   "execution_count": 14,
   "id": "e8c126ae",
   "metadata": {
    "execution": {
     "iopub.execute_input": "2022-10-30T22:13:03.673820Z",
     "iopub.status.busy": "2022-10-30T22:13:03.673421Z",
     "iopub.status.idle": "2022-10-30T22:13:03.999321Z",
     "shell.execute_reply": "2022-10-30T22:13:03.998098Z"
    },
    "papermill": {
     "duration": 0.347066,
     "end_time": "2022-10-30T22:13:04.002096",
     "exception": false,
     "start_time": "2022-10-30T22:13:03.655030",
     "status": "completed"
    },
    "tags": []
   },
   "outputs": [],
   "source": [
    "submission.to_csv('submission.csv', index=False)"
   ]
  },
  {
   "cell_type": "code",
   "execution_count": null,
   "id": "e0915e27",
   "metadata": {
    "papermill": {
     "duration": 0.016875,
     "end_time": "2022-10-30T22:13:04.036286",
     "exception": false,
     "start_time": "2022-10-30T22:13:04.019411",
     "status": "completed"
    },
    "tags": []
   },
   "outputs": [],
   "source": []
  }
 ],
 "metadata": {
  "kernelspec": {
   "display_name": "Python 3",
   "language": "python",
   "name": "python3"
  },
  "language_info": {
   "codemirror_mode": {
    "name": "ipython",
    "version": 3
   },
   "file_extension": ".py",
   "mimetype": "text/x-python",
   "name": "python",
   "nbconvert_exporter": "python",
   "pygments_lexer": "ipython3",
   "version": "3.7.12"
  },
  "papermill": {
   "default_parameters": {},
   "duration": 758.290177,
   "end_time": "2022-10-30T22:13:05.380147",
   "environment_variables": {},
   "exception": null,
   "input_path": "__notebook__.ipynb",
   "output_path": "__notebook__.ipynb",
   "parameters": {},
   "start_time": "2022-10-30T22:00:27.089970",
   "version": "2.3.4"
  }
 },
 "nbformat": 4,
 "nbformat_minor": 5
}
