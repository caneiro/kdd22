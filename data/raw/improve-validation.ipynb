{
 "cells": [
  {
   "cell_type": "markdown",
   "id": "41df2386",
   "metadata": {
    "papermill": {
     "duration": 0.005458,
     "end_time": "2022-10-30T00:47:39.593400",
     "exception": false,
     "start_time": "2022-10-30T00:47:39.587942",
     "status": "completed"
    },
    "tags": []
   },
   "source": [
    "# Multi Output Regression"
   ]
  },
  {
   "cell_type": "code",
   "execution_count": 1,
   "id": "5756c5d5",
   "metadata": {
    "execution": {
     "iopub.execute_input": "2022-10-30T00:47:39.604536Z",
     "iopub.status.busy": "2022-10-30T00:47:39.603777Z",
     "iopub.status.idle": "2022-10-30T00:47:51.064659Z",
     "shell.execute_reply": "2022-10-30T00:47:51.063161Z"
    },
    "papermill": {
     "duration": 11.46935,
     "end_time": "2022-10-30T00:47:51.067315",
     "exception": false,
     "start_time": "2022-10-30T00:47:39.597965",
     "status": "completed"
    },
    "tags": []
   },
   "outputs": [
    {
     "name": "stdout",
     "output_type": "stream",
     "text": [
      "Collecting feature-engine\r\n",
      "  Downloading feature_engine-1.4.0-py2.py3-none-any.whl (276 kB)\r\n",
      "\u001b[2K     \u001b[90m━━━━━━━━━━━━━━━━━━━━━━━━━━━━━━━━━━━━━━━\u001b[0m \u001b[32m276.4/276.4 kB\u001b[0m \u001b[31m1.5 MB/s\u001b[0m eta \u001b[36m0:00:00\u001b[0m\r\n",
      "\u001b[?25hRequirement already satisfied: pandas>=1.0.3 in /opt/conda/lib/python3.7/site-packages (from feature-engine) (1.3.5)\r\n",
      "Requirement already satisfied: numpy>=1.18.2 in /opt/conda/lib/python3.7/site-packages (from feature-engine) (1.21.6)\r\n",
      "Requirement already satisfied: statsmodels>=0.11.1 in /opt/conda/lib/python3.7/site-packages (from feature-engine) (0.13.2)\r\n",
      "Requirement already satisfied: scikit-learn>=1.0.0 in /opt/conda/lib/python3.7/site-packages (from feature-engine) (1.0.2)\r\n",
      "Requirement already satisfied: scipy>=1.4.1 in /opt/conda/lib/python3.7/site-packages (from feature-engine) (1.7.3)\r\n",
      "Requirement already satisfied: python-dateutil>=2.7.3 in /opt/conda/lib/python3.7/site-packages (from pandas>=1.0.3->feature-engine) (2.8.2)\r\n",
      "Requirement already satisfied: pytz>=2017.3 in /opt/conda/lib/python3.7/site-packages (from pandas>=1.0.3->feature-engine) (2022.1)\r\n",
      "Requirement already satisfied: joblib>=0.11 in /opt/conda/lib/python3.7/site-packages (from scikit-learn>=1.0.0->feature-engine) (1.0.1)\r\n",
      "Requirement already satisfied: threadpoolctl>=2.0.0 in /opt/conda/lib/python3.7/site-packages (from scikit-learn>=1.0.0->feature-engine) (3.1.0)\r\n",
      "Requirement already satisfied: patsy>=0.5.2 in /opt/conda/lib/python3.7/site-packages (from statsmodels>=0.11.1->feature-engine) (0.5.2)\r\n",
      "Requirement already satisfied: packaging>=21.3 in /opt/conda/lib/python3.7/site-packages (from statsmodels>=0.11.1->feature-engine) (21.3)\r\n",
      "Requirement already satisfied: pyparsing!=3.0.5,>=2.0.2 in /opt/conda/lib/python3.7/site-packages (from packaging>=21.3->statsmodels>=0.11.1->feature-engine) (3.0.9)\r\n",
      "Requirement already satisfied: six in /opt/conda/lib/python3.7/site-packages (from patsy>=0.5.2->statsmodels>=0.11.1->feature-engine) (1.15.0)\r\n",
      "Installing collected packages: feature-engine\r\n",
      "Successfully installed feature-engine-1.4.0\r\n",
      "\u001b[33mWARNING: Running pip as the 'root' user can result in broken permissions and conflicting behaviour with the system package manager. It is recommended to use a virtual environment instead: https://pip.pypa.io/warnings/venv\u001b[0m\u001b[33m\r\n",
      "\u001b[0m"
     ]
    }
   ],
   "source": [
    "!pip install feature-engine"
   ]
  },
  {
   "cell_type": "code",
   "execution_count": 2,
   "id": "967b13a6",
   "metadata": {
    "_cell_guid": "b1076dfc-b9ad-4769-8c92-a6c4dae69d19",
    "_uuid": "8f2839f25d086af736a60e9eeb907d3b93b6e0e5",
    "execution": {
     "iopub.execute_input": "2022-10-30T00:47:51.080149Z",
     "iopub.status.busy": "2022-10-30T00:47:51.079263Z",
     "iopub.status.idle": "2022-10-30T00:47:51.452771Z",
     "shell.execute_reply": "2022-10-30T00:47:51.451789Z"
    },
    "papermill": {
     "duration": 0.382475,
     "end_time": "2022-10-30T00:47:51.455309",
     "exception": false,
     "start_time": "2022-10-30T00:47:51.072834",
     "status": "completed"
    },
    "tags": []
   },
   "outputs": [],
   "source": [
    "import os\n",
    "import sys\n",
    "import numpy as np\n",
    "import pandas as pd\n",
    "from tqdm.auto import tqdm\n",
    "import matplotlib.pyplot as plt\n",
    "from kaggle_secrets import UserSecretsClient\n",
    "\n",
    "\n",
    "user_secrets = UserSecretsClient()\n",
    "wandb_key = user_secrets.get_secret(\"wandb_key\")\n",
    "\n",
    "SEED = 42"
   ]
  },
  {
   "cell_type": "code",
   "execution_count": 3,
   "id": "b8619e93",
   "metadata": {
    "execution": {
     "iopub.execute_input": "2022-10-30T00:47:51.467619Z",
     "iopub.status.busy": "2022-10-30T00:47:51.466817Z",
     "iopub.status.idle": "2022-10-30T00:47:51.882104Z",
     "shell.execute_reply": "2022-10-30T00:47:51.880932Z"
    },
    "papermill": {
     "duration": 0.423482,
     "end_time": "2022-10-30T00:47:51.884341",
     "exception": false,
     "start_time": "2022-10-30T00:47:51.460859",
     "status": "completed"
    },
    "tags": []
   },
   "outputs": [
    {
     "name": "stdout",
     "output_type": "stream",
     "text": [
      "(146262, 5)\n"
     ]
    },
    {
     "data": {
      "text/html": [
       "<div>\n",
       "<style scoped>\n",
       "    .dataframe tbody tr th:only-of-type {\n",
       "        vertical-align: middle;\n",
       "    }\n",
       "\n",
       "    .dataframe tbody tr th {\n",
       "        vertical-align: top;\n",
       "    }\n",
       "\n",
       "    .dataframe thead th {\n",
       "        text-align: right;\n",
       "    }\n",
       "</style>\n",
       "<table border=\"1\" class=\"dataframe\">\n",
       "  <thead>\n",
       "    <tr style=\"text-align: right;\">\n",
       "      <th></th>\n",
       "      <th>Filename</th>\n",
       "      <th>Altitude</th>\n",
       "      <th>Delta</th>\n",
       "      <th>North</th>\n",
       "      <th>East</th>\n",
       "    </tr>\n",
       "  </thead>\n",
       "  <tbody>\n",
       "    <tr>\n",
       "      <th>0</th>\n",
       "      <td>00003e3b9e5336685200ae85d21b4f5e.jpg</td>\n",
       "      <td>178.829834</td>\n",
       "      <td>-0.065231</td>\n",
       "      <td>-0.386045</td>\n",
       "      <td>0.929772</td>\n",
       "    </tr>\n",
       "    <tr>\n",
       "      <th>1</th>\n",
       "      <td>0001261e2060303a06ba6c64d676d639.jpg</td>\n",
       "      <td>207.921478</td>\n",
       "      <td>-0.080688</td>\n",
       "      <td>0.635584</td>\n",
       "      <td>0.152819</td>\n",
       "    </tr>\n",
       "    <tr>\n",
       "      <th>2</th>\n",
       "      <td>0002ac0d783338cfeab0b2bdbd872cda.jpg</td>\n",
       "      <td>178.048431</td>\n",
       "      <td>0.021576</td>\n",
       "      <td>-1.228229</td>\n",
       "      <td>-0.499388</td>\n",
       "    </tr>\n",
       "    <tr>\n",
       "      <th>3</th>\n",
       "      <td>0004289ee1c7b8b08c77e19878106ae3.jpg</td>\n",
       "      <td>201.084625</td>\n",
       "      <td>0.505981</td>\n",
       "      <td>-1.739709</td>\n",
       "      <td>-0.699928</td>\n",
       "    </tr>\n",
       "    <tr>\n",
       "      <th>4</th>\n",
       "      <td>0004d0b59e19461ff126e3a08a814c33.jpg</td>\n",
       "      <td>187.550201</td>\n",
       "      <td>-0.328156</td>\n",
       "      <td>-0.169798</td>\n",
       "      <td>2.828752</td>\n",
       "    </tr>\n",
       "  </tbody>\n",
       "</table>\n",
       "</div>"
      ],
      "text/plain": [
       "                               Filename    Altitude     Delta     North  \\\n",
       "0  00003e3b9e5336685200ae85d21b4f5e.jpg  178.829834 -0.065231 -0.386045   \n",
       "1  0001261e2060303a06ba6c64d676d639.jpg  207.921478 -0.080688  0.635584   \n",
       "2  0002ac0d783338cfeab0b2bdbd872cda.jpg  178.048431  0.021576 -1.228229   \n",
       "3  0004289ee1c7b8b08c77e19878106ae3.jpg  201.084625  0.505981 -1.739709   \n",
       "4  0004d0b59e19461ff126e3a08a814c33.jpg  187.550201 -0.328156 -0.169798   \n",
       "\n",
       "       East  \n",
       "0  0.929772  \n",
       "1  0.152819  \n",
       "2 -0.499388  \n",
       "3 -0.699928  \n",
       "4  2.828752  "
      ]
     },
     "execution_count": 3,
     "metadata": {},
     "output_type": "execute_result"
    }
   ],
   "source": [
    "pub = pd.read_csv('../input/kdd-team/public.csv')\n",
    "print(pub.shape)\n",
    "pub.head()"
   ]
  },
  {
   "cell_type": "code",
   "execution_count": 4,
   "id": "5a613de8",
   "metadata": {
    "execution": {
     "iopub.execute_input": "2022-10-30T00:47:51.897798Z",
     "iopub.status.busy": "2022-10-30T00:47:51.896939Z",
     "iopub.status.idle": "2022-10-30T00:47:52.599674Z",
     "shell.execute_reply": "2022-10-30T00:47:52.598592Z"
    },
    "papermill": {
     "duration": 0.711981,
     "end_time": "2022-10-30T00:47:52.602122",
     "exception": false,
     "start_time": "2022-10-30T00:47:51.890141",
     "status": "completed"
    },
    "tags": []
   },
   "outputs": [
    {
     "data": {
      "image/png": "[encoded data removed]",
      "text/plain": [
       "<Figure size 432x288 with 4 Axes>"
      ]
     },
     "metadata": {
      "needs_background": "light"
     },
     "output_type": "display_data"
    }
   ],
   "source": [
    "pub.hist();"
   ]
  },
  {
   "cell_type": "code",
   "execution_count": 5,
   "id": "86658f5e",
   "metadata": {
    "execution": {
     "iopub.execute_input": "2022-10-30T00:47:52.619414Z",
     "iopub.status.busy": "2022-10-30T00:47:52.618988Z",
     "iopub.status.idle": "2022-10-30T00:47:52.831390Z",
     "shell.execute_reply": "2022-10-30T00:47:52.830412Z"
    },
    "papermill": {
     "duration": 0.223662,
     "end_time": "2022-10-30T00:47:52.833877",
     "exception": false,
     "start_time": "2022-10-30T00:47:52.610215",
     "status": "completed"
    },
    "tags": []
   },
   "outputs": [
    {
     "name": "stdout",
     "output_type": "stream",
     "text": [
      "(91231, 3)\n"
     ]
    },
    {
     "data": {
      "text/html": [
       "<div>\n",
       "<style scoped>\n",
       "    .dataframe tbody tr th:only-of-type {\n",
       "        vertical-align: middle;\n",
       "    }\n",
       "\n",
       "    .dataframe tbody tr th {\n",
       "        vertical-align: top;\n",
       "    }\n",
       "\n",
       "    .dataframe thead th {\n",
       "        text-align: right;\n",
       "    }\n",
       "</style>\n",
       "<table border=\"1\" class=\"dataframe\">\n",
       "  <thead>\n",
       "    <tr style=\"text-align: right;\">\n",
       "      <th></th>\n",
       "      <th>Images</th>\n",
       "      <th>North_pixel</th>\n",
       "      <th>East_pixel</th>\n",
       "    </tr>\n",
       "  </thead>\n",
       "  <tbody>\n",
       "    <tr>\n",
       "      <th>0</th>\n",
       "      <td>00003e3b9e5336685200ae85d21b4f5e.jpg</td>\n",
       "      <td>-1.098183</td>\n",
       "      <td>2.828369</td>\n",
       "    </tr>\n",
       "    <tr>\n",
       "      <th>1</th>\n",
       "      <td>0001261e2060303a06ba6c64d676d639.jpg</td>\n",
       "      <td>1.452448</td>\n",
       "      <td>0.207358</td>\n",
       "    </tr>\n",
       "    <tr>\n",
       "      <th>2</th>\n",
       "      <td>0002ac0d783338cfeab0b2bdbd872cda.jpg</td>\n",
       "      <td>-3.544215</td>\n",
       "      <td>-1.494362</td>\n",
       "    </tr>\n",
       "    <tr>\n",
       "      <th>3</th>\n",
       "      <td>0004289ee1c7b8b08c77e19878106ae3.jpg</td>\n",
       "      <td>-6.054061</td>\n",
       "      <td>-4.082150</td>\n",
       "    </tr>\n",
       "    <tr>\n",
       "      <th>4</th>\n",
       "      <td>0004d0b59e19461ff126e3a08a814c33.jpg</td>\n",
       "      <td>-0.690250</td>\n",
       "      <td>8.232869</td>\n",
       "    </tr>\n",
       "  </tbody>\n",
       "</table>\n",
       "</div>"
      ],
      "text/plain": [
       "                                 Images  North_pixel  East_pixel\n",
       "0  00003e3b9e5336685200ae85d21b4f5e.jpg    -1.098183    2.828369\n",
       "1  0001261e2060303a06ba6c64d676d639.jpg     1.452448    0.207358\n",
       "2  0002ac0d783338cfeab0b2bdbd872cda.jpg    -3.544215   -1.494362\n",
       "3  0004289ee1c7b8b08c77e19878106ae3.jpg    -6.054061   -4.082150\n",
       "4  0004d0b59e19461ff126e3a08a814c33.jpg    -0.690250    8.232869"
      ]
     },
     "execution_count": 5,
     "metadata": {},
     "output_type": "execute_result"
    }
   ],
   "source": [
    "pixels_dist = pd.read_csv('../input/kdd-team/pixels_dist.csv')\n",
    "print(pixels_dist.shape)\n",
    "pixels_dist.head()"
   ]
  },
  {
   "cell_type": "code",
   "execution_count": 6,
   "id": "06916246",
   "metadata": {
    "execution": {
     "iopub.execute_input": "2022-10-30T00:47:52.848627Z",
     "iopub.status.busy": "2022-10-30T00:47:52.847947Z",
     "iopub.status.idle": "2022-10-30T00:47:53.158606Z",
     "shell.execute_reply": "2022-10-30T00:47:53.157804Z"
    },
    "papermill": {
     "duration": 0.319918,
     "end_time": "2022-10-30T00:47:53.160758",
     "exception": false,
     "start_time": "2022-10-30T00:47:52.840840",
     "status": "completed"
    },
    "tags": []
   },
   "outputs": [
    {
     "data": {
      "image/png": "[encoded data removed]",
      "text/plain": [
       "<Figure size 432x288 with 2 Axes>"
      ]
     },
     "metadata": {
      "needs_background": "light"
     },
     "output_type": "display_data"
    }
   ],
   "source": [
    "pixels_dist.hist();"
   ]
  },
  {
   "cell_type": "code",
   "execution_count": 7,
   "id": "63371d0d",
   "metadata": {
    "execution": {
     "iopub.execute_input": "2022-10-30T00:47:53.174716Z",
     "iopub.status.busy": "2022-10-30T00:47:53.174178Z",
     "iopub.status.idle": "2022-10-30T00:47:53.295788Z",
     "shell.execute_reply": "2022-10-30T00:47:53.294538Z"
    },
    "papermill": {
     "duration": 0.131592,
     "end_time": "2022-10-30T00:47:53.298367",
     "exception": false,
     "start_time": "2022-10-30T00:47:53.166775",
     "status": "completed"
    },
    "tags": []
   },
   "outputs": [
    {
     "name": "stdout",
     "output_type": "stream",
     "text": [
      "(55031, 3)\n"
     ]
    },
    {
     "data": {
      "text/html": [
       "<div>\n",
       "<style scoped>\n",
       "    .dataframe tbody tr th:only-of-type {\n",
       "        vertical-align: middle;\n",
       "    }\n",
       "\n",
       "    .dataframe tbody tr th {\n",
       "        vertical-align: top;\n",
       "    }\n",
       "\n",
       "    .dataframe thead th {\n",
       "        text-align: right;\n",
       "    }\n",
       "</style>\n",
       "<table border=\"1\" class=\"dataframe\">\n",
       "  <thead>\n",
       "    <tr style=\"text-align: right;\">\n",
       "      <th></th>\n",
       "      <th>Images</th>\n",
       "      <th>North_pixel</th>\n",
       "      <th>East_pixel</th>\n",
       "    </tr>\n",
       "  </thead>\n",
       "  <tbody>\n",
       "    <tr>\n",
       "      <th>0</th>\n",
       "      <td>000053b1e684c9e7ea73727b2238ce18.jpg</td>\n",
       "      <td>3.946422</td>\n",
       "      <td>-3.815853</td>\n",
       "    </tr>\n",
       "    <tr>\n",
       "      <th>1</th>\n",
       "      <td>00029153d12ae1c9abe59c17ff2e0895.jpg</td>\n",
       "      <td>7.668228</td>\n",
       "      <td>-4.031865</td>\n",
       "    </tr>\n",
       "    <tr>\n",
       "      <th>2</th>\n",
       "      <td>0006246bee639c7a7b11a08e34dd3cc6.jpg</td>\n",
       "      <td>-11.549439</td>\n",
       "      <td>-0.880645</td>\n",
       "    </tr>\n",
       "    <tr>\n",
       "      <th>3</th>\n",
       "      <td>00063cb5da1826febf178b669eea3250.jpg</td>\n",
       "      <td>-28.991636</td>\n",
       "      <td>1.930891</td>\n",
       "    </tr>\n",
       "    <tr>\n",
       "      <th>4</th>\n",
       "      <td>00063ece2e68a8847f228e8fd922f851.jpg</td>\n",
       "      <td>0.184479</td>\n",
       "      <td>-6.925782</td>\n",
       "    </tr>\n",
       "  </tbody>\n",
       "</table>\n",
       "</div>"
      ],
      "text/plain": [
       "                                 Images  North_pixel  East_pixel\n",
       "0  000053b1e684c9e7ea73727b2238ce18.jpg     3.946422   -3.815853\n",
       "1  00029153d12ae1c9abe59c17ff2e0895.jpg     7.668228   -4.031865\n",
       "2  0006246bee639c7a7b11a08e34dd3cc6.jpg   -11.549439   -0.880645\n",
       "3  00063cb5da1826febf178b669eea3250.jpg   -28.991636    1.930891\n",
       "4  00063ece2e68a8847f228e8fd922f851.jpg     0.184479   -6.925782"
      ]
     },
     "execution_count": 7,
     "metadata": {},
     "output_type": "execute_result"
    }
   ],
   "source": [
    "pixels_dist_final = pd.read_csv('../input/kdd-team/pixels_dist_final.csv')\n",
    "print(pixels_dist_final.shape)\n",
    "pixels_dist_final.head()"
   ]
  },
  {
   "cell_type": "code",
   "execution_count": 8,
   "id": "a70c95e7",
   "metadata": {
    "execution": {
     "iopub.execute_input": "2022-10-30T00:47:53.313493Z",
     "iopub.status.busy": "2022-10-30T00:47:53.312563Z",
     "iopub.status.idle": "2022-10-30T00:47:53.725480Z",
     "shell.execute_reply": "2022-10-30T00:47:53.724593Z"
    },
    "papermill": {
     "duration": 0.422259,
     "end_time": "2022-10-30T00:47:53.727808",
     "exception": false,
     "start_time": "2022-10-30T00:47:53.305549",
     "status": "completed"
    },
    "tags": []
   },
   "outputs": [
    {
     "data": {
      "image/png": "[encoded data removed]",
      "text/plain": [
       "<Figure size 432x288 with 2 Axes>"
      ]
     },
     "metadata": {
      "needs_background": "light"
     },
     "output_type": "display_data"
    }
   ],
   "source": [
    "pixels_dist_final.hist();"
   ]
  },
  {
   "cell_type": "code",
   "execution_count": 9,
   "id": "c4ed2f21",
   "metadata": {
    "execution": {
     "iopub.execute_input": "2022-10-30T00:47:53.741976Z",
     "iopub.status.busy": "2022-10-30T00:47:53.741404Z",
     "iopub.status.idle": "2022-10-30T00:47:53.768898Z",
     "shell.execute_reply": "2022-10-30T00:47:53.766338Z"
    },
    "papermill": {
     "duration": 0.037538,
     "end_time": "2022-10-30T00:47:53.771842",
     "exception": false,
     "start_time": "2022-10-30T00:47:53.734304",
     "status": "completed"
    },
    "tags": []
   },
   "outputs": [
    {
     "name": "stdout",
     "output_type": "stream",
     "text": [
      "(91231, 3)\n"
     ]
    },
    {
     "data": {
      "text/html": [
       "<div>\n",
       "<style scoped>\n",
       "    .dataframe tbody tr th:only-of-type {\n",
       "        vertical-align: middle;\n",
       "    }\n",
       "\n",
       "    .dataframe tbody tr th {\n",
       "        vertical-align: top;\n",
       "    }\n",
       "\n",
       "    .dataframe thead th {\n",
       "        text-align: right;\n",
       "    }\n",
       "</style>\n",
       "<table border=\"1\" class=\"dataframe\">\n",
       "  <thead>\n",
       "    <tr style=\"text-align: right;\">\n",
       "      <th></th>\n",
       "      <th>Filename</th>\n",
       "      <th>Altitude</th>\n",
       "      <th>Delta</th>\n",
       "    </tr>\n",
       "  </thead>\n",
       "  <tbody>\n",
       "    <tr>\n",
       "      <th>0</th>\n",
       "      <td>00003e3b9e5336685200ae85d21b4f5e.jpg</td>\n",
       "      <td>178.829834</td>\n",
       "      <td>-0.065231</td>\n",
       "    </tr>\n",
       "    <tr>\n",
       "      <th>1</th>\n",
       "      <td>0001261e2060303a06ba6c64d676d639.jpg</td>\n",
       "      <td>207.921478</td>\n",
       "      <td>-0.080688</td>\n",
       "    </tr>\n",
       "    <tr>\n",
       "      <th>2</th>\n",
       "      <td>0002ac0d783338cfeab0b2bdbd872cda.jpg</td>\n",
       "      <td>178.048431</td>\n",
       "      <td>0.021576</td>\n",
       "    </tr>\n",
       "    <tr>\n",
       "      <th>3</th>\n",
       "      <td>0004289ee1c7b8b08c77e19878106ae3.jpg</td>\n",
       "      <td>201.084625</td>\n",
       "      <td>0.505981</td>\n",
       "    </tr>\n",
       "    <tr>\n",
       "      <th>4</th>\n",
       "      <td>0004d0b59e19461ff126e3a08a814c33.jpg</td>\n",
       "      <td>187.550201</td>\n",
       "      <td>-0.328156</td>\n",
       "    </tr>\n",
       "  </tbody>\n",
       "</table>\n",
       "</div>"
      ],
      "text/plain": [
       "                               Filename    Altitude     Delta\n",
       "0  00003e3b9e5336685200ae85d21b4f5e.jpg  178.829834 -0.065231\n",
       "1  0001261e2060303a06ba6c64d676d639.jpg  207.921478 -0.080688\n",
       "2  0002ac0d783338cfeab0b2bdbd872cda.jpg  178.048431  0.021576\n",
       "3  0004289ee1c7b8b08c77e19878106ae3.jpg  201.084625  0.505981\n",
       "4  0004d0b59e19461ff126e3a08a814c33.jpg  187.550201 -0.328156"
      ]
     },
     "execution_count": 9,
     "metadata": {},
     "output_type": "execute_result"
    }
   ],
   "source": [
    "X_train = pub[pub.North.notna()][['Filename', 'Altitude', 'Delta']].copy().reset_index(drop=True)\n",
    "print(X_train.shape)\n",
    "X_train.head()\n"
   ]
  },
  {
   "cell_type": "code",
   "execution_count": 10,
   "id": "01b23ace",
   "metadata": {
    "execution": {
     "iopub.execute_input": "2022-10-30T00:47:53.786941Z",
     "iopub.status.busy": "2022-10-30T00:47:53.786656Z",
     "iopub.status.idle": "2022-10-30T00:47:53.818531Z",
     "shell.execute_reply": "2022-10-30T00:47:53.817527Z"
    },
    "papermill": {
     "duration": 0.042018,
     "end_time": "2022-10-30T00:47:53.820906",
     "exception": false,
     "start_time": "2022-10-30T00:47:53.778888",
     "status": "completed"
    },
    "tags": []
   },
   "outputs": [
    {
     "name": "stdout",
     "output_type": "stream",
     "text": [
      "same index!\n",
      "(91231, 5)\n"
     ]
    },
    {
     "data": {
      "text/html": [
       "<div>\n",
       "<style scoped>\n",
       "    .dataframe tbody tr th:only-of-type {\n",
       "        vertical-align: middle;\n",
       "    }\n",
       "\n",
       "    .dataframe tbody tr th {\n",
       "        vertical-align: top;\n",
       "    }\n",
       "\n",
       "    .dataframe thead th {\n",
       "        text-align: right;\n",
       "    }\n",
       "</style>\n",
       "<table border=\"1\" class=\"dataframe\">\n",
       "  <thead>\n",
       "    <tr style=\"text-align: right;\">\n",
       "      <th></th>\n",
       "      <th>Filename</th>\n",
       "      <th>Altitude</th>\n",
       "      <th>Delta</th>\n",
       "      <th>North_pixel</th>\n",
       "      <th>East_pixel</th>\n",
       "    </tr>\n",
       "  </thead>\n",
       "  <tbody>\n",
       "    <tr>\n",
       "      <th>0</th>\n",
       "      <td>00003e3b9e5336685200ae85d21b4f5e.jpg</td>\n",
       "      <td>178.829834</td>\n",
       "      <td>-0.065231</td>\n",
       "      <td>-1.098183</td>\n",
       "      <td>2.828369</td>\n",
       "    </tr>\n",
       "    <tr>\n",
       "      <th>1</th>\n",
       "      <td>0001261e2060303a06ba6c64d676d639.jpg</td>\n",
       "      <td>207.921478</td>\n",
       "      <td>-0.080688</td>\n",
       "      <td>1.452448</td>\n",
       "      <td>0.207358</td>\n",
       "    </tr>\n",
       "    <tr>\n",
       "      <th>2</th>\n",
       "      <td>0002ac0d783338cfeab0b2bdbd872cda.jpg</td>\n",
       "      <td>178.048431</td>\n",
       "      <td>0.021576</td>\n",
       "      <td>-3.544215</td>\n",
       "      <td>-1.494362</td>\n",
       "    </tr>\n",
       "    <tr>\n",
       "      <th>3</th>\n",
       "      <td>0004289ee1c7b8b08c77e19878106ae3.jpg</td>\n",
       "      <td>201.084625</td>\n",
       "      <td>0.505981</td>\n",
       "      <td>-6.054061</td>\n",
       "      <td>-4.082150</td>\n",
       "    </tr>\n",
       "    <tr>\n",
       "      <th>4</th>\n",
       "      <td>0004d0b59e19461ff126e3a08a814c33.jpg</td>\n",
       "      <td>187.550201</td>\n",
       "      <td>-0.328156</td>\n",
       "      <td>-0.690250</td>\n",
       "      <td>8.232869</td>\n",
       "    </tr>\n",
       "  </tbody>\n",
       "</table>\n",
       "</div>"
      ],
      "text/plain": [
       "                               Filename    Altitude     Delta  North_pixel  \\\n",
       "0  00003e3b9e5336685200ae85d21b4f5e.jpg  178.829834 -0.065231    -1.098183   \n",
       "1  0001261e2060303a06ba6c64d676d639.jpg  207.921478 -0.080688     1.452448   \n",
       "2  0002ac0d783338cfeab0b2bdbd872cda.jpg  178.048431  0.021576    -3.544215   \n",
       "3  0004289ee1c7b8b08c77e19878106ae3.jpg  201.084625  0.505981    -6.054061   \n",
       "4  0004d0b59e19461ff126e3a08a814c33.jpg  187.550201 -0.328156    -0.690250   \n",
       "\n",
       "   East_pixel  \n",
       "0    2.828369  \n",
       "1    0.207358  \n",
       "2   -1.494362  \n",
       "3   -4.082150  \n",
       "4    8.232869  "
      ]
     },
     "execution_count": 10,
     "metadata": {},
     "output_type": "execute_result"
    }
   ],
   "source": [
    "if all(X_train.Filename == pixels_dist.Images):\n",
    "    print('same index!')\n",
    "    X_train = pd.concat([X_train, pixels_dist.iloc[:, -2:]], axis=1)\n",
    "    \n",
    "print(X_train.shape)\n",
    "X_train.head()"
   ]
  },
  {
   "cell_type": "code",
   "execution_count": 11,
   "id": "f73ff689",
   "metadata": {
    "execution": {
     "iopub.execute_input": "2022-10-30T00:47:53.838038Z",
     "iopub.status.busy": "2022-10-30T00:47:53.837160Z",
     "iopub.status.idle": "2022-10-30T00:47:53.860204Z",
     "shell.execute_reply": "2022-10-30T00:47:53.859005Z"
    },
    "papermill": {
     "duration": 0.032923,
     "end_time": "2022-10-30T00:47:53.862554",
     "exception": false,
     "start_time": "2022-10-30T00:47:53.829631",
     "status": "completed"
    },
    "tags": []
   },
   "outputs": [
    {
     "name": "stdout",
     "output_type": "stream",
     "text": [
      "(91231, 2)\n"
     ]
    },
    {
     "data": {
      "text/html": [
       "<div>\n",
       "<style scoped>\n",
       "    .dataframe tbody tr th:only-of-type {\n",
       "        vertical-align: middle;\n",
       "    }\n",
       "\n",
       "    .dataframe tbody tr th {\n",
       "        vertical-align: top;\n",
       "    }\n",
       "\n",
       "    .dataframe thead th {\n",
       "        text-align: right;\n",
       "    }\n",
       "</style>\n",
       "<table border=\"1\" class=\"dataframe\">\n",
       "  <thead>\n",
       "    <tr style=\"text-align: right;\">\n",
       "      <th></th>\n",
       "      <th>North</th>\n",
       "      <th>East</th>\n",
       "    </tr>\n",
       "  </thead>\n",
       "  <tbody>\n",
       "    <tr>\n",
       "      <th>0</th>\n",
       "      <td>-0.386045</td>\n",
       "      <td>0.929772</td>\n",
       "    </tr>\n",
       "    <tr>\n",
       "      <th>1</th>\n",
       "      <td>0.635584</td>\n",
       "      <td>0.152819</td>\n",
       "    </tr>\n",
       "    <tr>\n",
       "      <th>2</th>\n",
       "      <td>-1.228229</td>\n",
       "      <td>-0.499388</td>\n",
       "    </tr>\n",
       "    <tr>\n",
       "      <th>3</th>\n",
       "      <td>-1.739709</td>\n",
       "      <td>-0.699928</td>\n",
       "    </tr>\n",
       "    <tr>\n",
       "      <th>4</th>\n",
       "      <td>-0.169798</td>\n",
       "      <td>2.828752</td>\n",
       "    </tr>\n",
       "  </tbody>\n",
       "</table>\n",
       "</div>"
      ],
      "text/plain": [
       "      North      East\n",
       "0 -0.386045  0.929772\n",
       "1  0.635584  0.152819\n",
       "2 -1.228229 -0.499388\n",
       "3 -1.739709 -0.699928\n",
       "4 -0.169798  2.828752"
      ]
     },
     "execution_count": 11,
     "metadata": {},
     "output_type": "execute_result"
    }
   ],
   "source": [
    "y_train = pub[pub.North.notna()][['North', 'East']].copy().reset_index(drop=True)\n",
    "print(y_train.shape)\n",
    "y_train.head()"
   ]
  },
  {
   "cell_type": "code",
   "execution_count": 12,
   "id": "34cc38bd",
   "metadata": {
    "execution": {
     "iopub.execute_input": "2022-10-30T00:47:53.877890Z",
     "iopub.status.busy": "2022-10-30T00:47:53.877624Z",
     "iopub.status.idle": "2022-10-30T00:47:53.896969Z",
     "shell.execute_reply": "2022-10-30T00:47:53.895458Z"
    },
    "papermill": {
     "duration": 0.030005,
     "end_time": "2022-10-30T00:47:53.899831",
     "exception": false,
     "start_time": "2022-10-30T00:47:53.869826",
     "status": "completed"
    },
    "tags": []
   },
   "outputs": [
    {
     "name": "stdout",
     "output_type": "stream",
     "text": [
      "(55031, 3)\n"
     ]
    },
    {
     "data": {
      "text/html": [
       "<div>\n",
       "<style scoped>\n",
       "    .dataframe tbody tr th:only-of-type {\n",
       "        vertical-align: middle;\n",
       "    }\n",
       "\n",
       "    .dataframe tbody tr th {\n",
       "        vertical-align: top;\n",
       "    }\n",
       "\n",
       "    .dataframe thead th {\n",
       "        text-align: right;\n",
       "    }\n",
       "</style>\n",
       "<table border=\"1\" class=\"dataframe\">\n",
       "  <thead>\n",
       "    <tr style=\"text-align: right;\">\n",
       "      <th></th>\n",
       "      <th>Filename</th>\n",
       "      <th>Altitude</th>\n",
       "      <th>Delta</th>\n",
       "    </tr>\n",
       "  </thead>\n",
       "  <tbody>\n",
       "    <tr>\n",
       "      <th>0</th>\n",
       "      <td>000053b1e684c9e7ea73727b2238ce18.jpg</td>\n",
       "      <td>167.943069</td>\n",
       "      <td>0.010269</td>\n",
       "    </tr>\n",
       "    <tr>\n",
       "      <th>1</th>\n",
       "      <td>00029153d12ae1c9abe59c17ff2e0895.jpg</td>\n",
       "      <td>195.853088</td>\n",
       "      <td>0.089218</td>\n",
       "    </tr>\n",
       "    <tr>\n",
       "      <th>2</th>\n",
       "      <td>0006246bee639c7a7b11a08e34dd3cc6.jpg</td>\n",
       "      <td>146.943466</td>\n",
       "      <td>-0.018326</td>\n",
       "    </tr>\n",
       "    <tr>\n",
       "      <th>3</th>\n",
       "      <td>00063cb5da1826febf178b669eea3250.jpg</td>\n",
       "      <td>213.184418</td>\n",
       "      <td>-0.108704</td>\n",
       "    </tr>\n",
       "    <tr>\n",
       "      <th>4</th>\n",
       "      <td>00063ece2e68a8847f228e8fd922f851.jpg</td>\n",
       "      <td>184.757767</td>\n",
       "      <td>0.017700</td>\n",
       "    </tr>\n",
       "  </tbody>\n",
       "</table>\n",
       "</div>"
      ],
      "text/plain": [
       "                               Filename    Altitude     Delta\n",
       "0  000053b1e684c9e7ea73727b2238ce18.jpg  167.943069  0.010269\n",
       "1  00029153d12ae1c9abe59c17ff2e0895.jpg  195.853088  0.089218\n",
       "2  0006246bee639c7a7b11a08e34dd3cc6.jpg  146.943466 -0.018326\n",
       "3  00063cb5da1826febf178b669eea3250.jpg  213.184418 -0.108704\n",
       "4  00063ece2e68a8847f228e8fd922f851.jpg  184.757767  0.017700"
      ]
     },
     "execution_count": 12,
     "metadata": {},
     "output_type": "execute_result"
    }
   ],
   "source": [
    "X_test = pub[~pub.North.notna()][['Filename', 'Altitude', 'Delta']].copy().reset_index(drop=True)\n",
    "print(X_test.shape)\n",
    "X_test.head()\n"
   ]
  },
  {
   "cell_type": "code",
   "execution_count": 13,
   "id": "1da96829",
   "metadata": {
    "execution": {
     "iopub.execute_input": "2022-10-30T00:47:53.917002Z",
     "iopub.status.busy": "2022-10-30T00:47:53.916704Z",
     "iopub.status.idle": "2022-10-30T00:47:53.942263Z",
     "shell.execute_reply": "2022-10-30T00:47:53.940550Z"
    },
    "papermill": {
     "duration": 0.036983,
     "end_time": "2022-10-30T00:47:53.944780",
     "exception": false,
     "start_time": "2022-10-30T00:47:53.907797",
     "status": "completed"
    },
    "tags": []
   },
   "outputs": [
    {
     "name": "stdout",
     "output_type": "stream",
     "text": [
      "same index!\n",
      "(55031, 5)\n"
     ]
    },
    {
     "data": {
      "text/html": [
       "<div>\n",
       "<style scoped>\n",
       "    .dataframe tbody tr th:only-of-type {\n",
       "        vertical-align: middle;\n",
       "    }\n",
       "\n",
       "    .dataframe tbody tr th {\n",
       "        vertical-align: top;\n",
       "    }\n",
       "\n",
       "    .dataframe thead th {\n",
       "        text-align: right;\n",
       "    }\n",
       "</style>\n",
       "<table border=\"1\" class=\"dataframe\">\n",
       "  <thead>\n",
       "    <tr style=\"text-align: right;\">\n",
       "      <th></th>\n",
       "      <th>Filename</th>\n",
       "      <th>Altitude</th>\n",
       "      <th>Delta</th>\n",
       "      <th>North_pixel</th>\n",
       "      <th>East_pixel</th>\n",
       "    </tr>\n",
       "  </thead>\n",
       "  <tbody>\n",
       "    <tr>\n",
       "      <th>0</th>\n",
       "      <td>000053b1e684c9e7ea73727b2238ce18.jpg</td>\n",
       "      <td>167.943069</td>\n",
       "      <td>0.010269</td>\n",
       "      <td>3.946422</td>\n",
       "      <td>-3.815853</td>\n",
       "    </tr>\n",
       "    <tr>\n",
       "      <th>1</th>\n",
       "      <td>00029153d12ae1c9abe59c17ff2e0895.jpg</td>\n",
       "      <td>195.853088</td>\n",
       "      <td>0.089218</td>\n",
       "      <td>7.668228</td>\n",
       "      <td>-4.031865</td>\n",
       "    </tr>\n",
       "    <tr>\n",
       "      <th>2</th>\n",
       "      <td>0006246bee639c7a7b11a08e34dd3cc6.jpg</td>\n",
       "      <td>146.943466</td>\n",
       "      <td>-0.018326</td>\n",
       "      <td>-11.549439</td>\n",
       "      <td>-0.880645</td>\n",
       "    </tr>\n",
       "    <tr>\n",
       "      <th>3</th>\n",
       "      <td>00063cb5da1826febf178b669eea3250.jpg</td>\n",
       "      <td>213.184418</td>\n",
       "      <td>-0.108704</td>\n",
       "      <td>-28.991636</td>\n",
       "      <td>1.930891</td>\n",
       "    </tr>\n",
       "    <tr>\n",
       "      <th>4</th>\n",
       "      <td>00063ece2e68a8847f228e8fd922f851.jpg</td>\n",
       "      <td>184.757767</td>\n",
       "      <td>0.017700</td>\n",
       "      <td>0.184479</td>\n",
       "      <td>-6.925782</td>\n",
       "    </tr>\n",
       "  </tbody>\n",
       "</table>\n",
       "</div>"
      ],
      "text/plain": [
       "                               Filename    Altitude     Delta  North_pixel  \\\n",
       "0  000053b1e684c9e7ea73727b2238ce18.jpg  167.943069  0.010269     3.946422   \n",
       "1  00029153d12ae1c9abe59c17ff2e0895.jpg  195.853088  0.089218     7.668228   \n",
       "2  0006246bee639c7a7b11a08e34dd3cc6.jpg  146.943466 -0.018326   -11.549439   \n",
       "3  00063cb5da1826febf178b669eea3250.jpg  213.184418 -0.108704   -28.991636   \n",
       "4  00063ece2e68a8847f228e8fd922f851.jpg  184.757767  0.017700     0.184479   \n",
       "\n",
       "   East_pixel  \n",
       "0   -3.815853  \n",
       "1   -4.031865  \n",
       "2   -0.880645  \n",
       "3    1.930891  \n",
       "4   -6.925782  "
      ]
     },
     "execution_count": 13,
     "metadata": {},
     "output_type": "execute_result"
    }
   ],
   "source": [
    "if all(X_test.Filename == pixels_dist_final.Images):\n",
    "    print('same index!')\n",
    "    X_test = pd.concat([X_test, pixels_dist_final.iloc[:, -2:]], axis=1)\n",
    "    \n",
    "print(X_test.shape)\n",
    "X_test.head()"
   ]
  },
  {
   "cell_type": "code",
   "execution_count": 14,
   "id": "d0795280",
   "metadata": {
    "execution": {
     "iopub.execute_input": "2022-10-30T00:47:53.961174Z",
     "iopub.status.busy": "2022-10-30T00:47:53.960903Z",
     "iopub.status.idle": "2022-10-30T00:48:01.455388Z",
     "shell.execute_reply": "2022-10-30T00:48:01.454306Z"
    },
    "papermill": {
     "duration": 7.50551,
     "end_time": "2022-10-30T00:48:01.457858",
     "exception": false,
     "start_time": "2022-10-30T00:47:53.952348",
     "status": "completed"
    },
    "tags": []
   },
   "outputs": [
    {
     "name": "stdout",
     "output_type": "stream",
     "text": [
      "Each Fold Score:  [0.37697476 0.41174687 0.38165005 0.38007109 0.4221389 ]\n",
      "Mean KFold Score 0.394516330931165\n"
     ]
    }
   ],
   "source": [
    "from sklearn.model_selection import KFold, cross_val_score\n",
    "from sklearn.pipeline import Pipeline\n",
    "from sklearn.compose import ColumnTransformer\n",
    "from sklearn.preprocessing import StandardScaler, MinMaxScaler\n",
    "from sklearn.neighbors import KNeighborsRegressor\n",
    "from sklearn.metrics import mean_squared_error\n",
    "from feature_engine.outliers import Winsorizer\n",
    "import xgboost as xgb\n",
    "from sklearn.model_selection import learning_curve\n",
    "\n",
    "scaler = StandardScaler()\n",
    "winsor = Winsorizer()\n",
    "\n",
    "ct = ColumnTransformer([('Scaler', scaler, ['Altitude'])], remainder='passthrough')\n",
    "model = xgb.XGBRegressor(random_state=SEED, tree_method='gpu_hist')\n",
    "pipe = Pipeline([('Winsorizer', winsor), ('Column_Transformer', ct), ('Model', model)])\n",
    "\n",
    "folds = KFold(random_state=SEED, shuffle=True)\n",
    "features = ['Altitude', 'Delta', 'North_pixel', 'East_pixel']\n",
    "\n",
    "scores = cross_val_score(estimator=pipe,\n",
    "                         X=X_train[features],\n",
    "                         y=y_train,\n",
    "                         scoring='neg_root_mean_squared_error',\n",
    "                         cv=folds, \n",
    "                         n_jobs=1)\n",
    "\n",
    "print('Each Fold Score: ', -scores)\n",
    "print('Mean KFold Score', -scores.mean())"
   ]
  },
  {
   "cell_type": "code",
   "execution_count": 15,
   "id": "af99400a",
   "metadata": {
    "execution": {
     "iopub.execute_input": "2022-10-30T00:48:01.476723Z",
     "iopub.status.busy": "2022-10-30T00:48:01.476393Z"
    },
    "papermill": {
     "duration": 158.407391,
     "end_time": "2022-10-30T00:50:39.874728",
     "exception": false,
     "start_time": "2022-10-30T00:48:01.467337",
     "status": "completed"
    },
    "tags": []
   },
   "outputs": [
    {
     "name": "stderr",
     "output_type": "stream",
     "text": [
      "\u001b[32m[I 2022-10-30 00:48:02,309]\u001b[0m A new study created in memory with name: no-name-e3cbb556-f701-433a-9ce0-4ae1611c9bed\u001b[0m\n",
      "\u001b[32m[I 2022-10-30 00:50:27,521]\u001b[0m Trial 0 finished with value: 1.0894607478978517 and parameters: {'max_depth': 19, 'eta': 0.001833888410665947, 'lambda': 0.7167359527940927, 'gamma': 0.500045574598077, 'grow_policy': 'depthwise', 'alpha': 0.38493849746349357}. Best is trial 0 with value: 1.0894607478978517.\u001b[0m\n",
      "\u001b[32m[I 2022-10-30 00:50:29,845]\u001b[0m Trial 1 finished with value: 0.41270162406869615 and parameters: {'max_depth': 12, 'eta': 0.8617065849910344, 'lambda': 0.44586790762330786, 'gamma': 0.7368961737870232, 'grow_policy': 'depthwise', 'alpha': 0.8082130844524079}. Best is trial 1 with value: 0.41270162406869615.\u001b[0m\n"
     ]
    }
   ],
   "source": [
    "import optuna\n",
    "from optuna import trial\n",
    "from optuna.integration.wandb import WeightsAndBiasesCallback\n",
    "import wandb\n",
    "\n",
    "# wandb.login(key=wandb_key)\n",
    "# wandb.init()\n",
    "# wandb_kwargs = {\"project\": \"kdd22\"}\n",
    "# wandbc = WeightsAndBiasesCallback(wandb_kwargs=wandb_kwargs, as_multirun=False)\n",
    "\n",
    "# @wandbc.track_in_wandb()\n",
    "def objective(trial):\n",
    "\n",
    "    params = {\n",
    "        'tree_method':'gpu_hist',\n",
    "        'eval_metric': 'rmse',\n",
    "        'max_depth':trial.suggest_int('max_depth', 1, 30),\n",
    "        'eta':trial.suggest_float('eta', 1e-8, 1.0),\n",
    "        'lambda':trial.suggest_float('lambda', 1e-8, 1.0),\n",
    "        'gamma':trial.suggest_float('gamma', 1e-8, 1.0),\n",
    "        'grow_policy':trial.suggest_categorical('grow_policy', ['depthwise', 'lossguide']),\n",
    "        'alpha':trial.suggest_float('alpha', 1e-8, 1.0),\n",
    "        'seed':SEED,\n",
    "        \n",
    "    }\n",
    "\n",
    "    # Add a callback for pruning.\n",
    "    pruning_callback = optuna.integration.XGBoostPruningCallback(trial, 'neg_root_mean_squared_error')\n",
    "    \n",
    "    model = xgb.XGBRegressor(**params)\n",
    "    pipe = Pipeline([('Winsorizer', winsor), ('Column_Transformer', ct), ('Model', model)])\n",
    "\n",
    "    scores = cross_val_score(estimator=pipe,\n",
    "                             X=X_train[features],\n",
    "                             y=y_train,\n",
    "                             scoring='neg_root_mean_squared_error',\n",
    "                             cv=folds, \n",
    "                             n_jobs=1)\n",
    "    \n",
    "#     print('Each Fold Score: ', -scores)\n",
    "#     print('Mean KFold Score', -scores.mean())\n",
    "    rmse = -scores.mean()\n",
    "    \n",
    "    return rmse\n",
    "\n",
    "study = optuna.create_study()\n",
    "study.optimize(objective, n_trials=100)"
   ]
  },
  {
   "cell_type": "code",
   "execution_count": null,
   "id": "8985b742",
   "metadata": {
    "execution": {
     "iopub.execute_input": "2022-10-29T22:40:51.255659Z",
     "iopub.status.busy": "2022-10-29T22:40:51.253613Z",
     "iopub.status.idle": "2022-10-29T22:40:51.262881Z",
     "shell.execute_reply": "2022-10-29T22:40:51.261272Z",
     "shell.execute_reply.started": "2022-10-29T22:40:51.255627Z"
    },
    "papermill": {
     "duration": null,
     "end_time": null,
     "exception": null,
     "start_time": null,
     "status": "completed"
    },
    "tags": []
   },
   "outputs": [],
   "source": [
    "print(study.best_trial)"
   ]
  },
  {
   "cell_type": "code",
   "execution_count": null,
   "id": "5ef5a26a",
   "metadata": {
    "execution": {
     "iopub.execute_input": "2022-10-29T22:40:51.264973Z",
     "iopub.status.busy": "2022-10-29T22:40:51.264034Z",
     "iopub.status.idle": "2022-10-29T22:40:51.274953Z",
     "shell.execute_reply": "2022-10-29T22:40:51.273802Z",
     "shell.execute_reply.started": "2022-10-29T22:40:51.264933Z"
    },
    "papermill": {
     "duration": null,
     "end_time": null,
     "exception": null,
     "start_time": null,
     "status": "completed"
    },
    "tags": []
   },
   "outputs": [],
   "source": [
    "best_params = study.best_params\n",
    "print(best_params)\n",
    "\n",
    "model = xgb.XGBRegressor(**best_params)\n",
    "pipe = Pipeline([('Winsorizer', winsor), ('Column_Transformer', ct), ('Model', model)])"
   ]
  },
  {
   "cell_type": "code",
   "execution_count": null,
   "id": "5b19de64",
   "metadata": {
    "execution": {
     "iopub.execute_input": "2022-10-29T22:45:26.810995Z",
     "iopub.status.busy": "2022-10-29T22:45:26.810614Z",
     "iopub.status.idle": "2022-10-29T22:46:20.133695Z",
     "shell.execute_reply": "2022-10-29T22:46:20.132730Z",
     "shell.execute_reply.started": "2022-10-29T22:45:26.810963Z"
    },
    "papermill": {
     "duration": null,
     "end_time": null,
     "exception": null,
     "start_time": null,
     "status": "completed"
    },
    "tags": []
   },
   "outputs": [],
   "source": [
    "pipe.fit(X_train[features], y_train)\n",
    "predictions = pd.DataFrame(pipe.predict(X_test[features]), columns=['North', 'East'])\n",
    "predictions.head()"
   ]
  },
  {
   "cell_type": "code",
   "execution_count": null,
   "id": "4415162e",
   "metadata": {
    "execution": {
     "iopub.execute_input": "2022-10-29T22:41:42.163522Z",
     "iopub.status.busy": "2022-10-29T22:41:42.160815Z",
     "iopub.status.idle": "2022-10-29T22:41:42.250868Z",
     "shell.execute_reply": "2022-10-29T22:41:42.249629Z",
     "shell.execute_reply.started": "2022-10-29T22:41:42.163473Z"
    },
    "papermill": {
     "duration": null,
     "end_time": null,
     "exception": null,
     "start_time": null,
     "status": "completed"
    },
    "tags": []
   },
   "outputs": [],
   "source": [
    "submission = pd.concat([X_test['Filename'], predictions], axis=1)\n",
    "submission = submission.melt(id_vars='Filename', value_name='Predicted')\n",
    "submission['Id'] = submission.Filename + ':' + submission.variable\n",
    "submission = submission[['Id', 'Predicted']]\n",
    "submission.head()"
   ]
  },
  {
   "cell_type": "code",
   "execution_count": null,
   "id": "8a277479",
   "metadata": {
    "execution": {
     "iopub.execute_input": "2022-10-29T22:41:42.258294Z",
     "iopub.status.busy": "2022-10-29T22:41:42.256261Z",
     "iopub.status.idle": "2022-10-29T22:41:42.529176Z",
     "shell.execute_reply": "2022-10-29T22:41:42.528045Z",
     "shell.execute_reply.started": "2022-10-29T22:41:42.258251Z"
    },
    "papermill": {
     "duration": null,
     "end_time": null,
     "exception": null,
     "start_time": null,
     "status": "completed"
    },
    "tags": []
   },
   "outputs": [],
   "source": [
    "submission.to_csv('submission.csv', index=False)"
   ]
  }
 ],
 "metadata": {
  "kernelspec": {
   "display_name": "Python 3",
   "language": "python",
   "name": "python3"
  },
  "language_info": {
   "codemirror_mode": {
    "name": "ipython",
    "version": 3
   },
   "file_extension": ".py",
   "mimetype": "text/x-python",
   "name": "python",
   "nbconvert_exporter": "python",
   "pygments_lexer": "ipython3",
   "version": "3.6.4"
  },
  "papermill": {
   "default_parameters": {},
   "duration": 188.397778,
   "end_time": "2022-10-30T00:50:39.915030",
   "environment_variables": {},
   "exception": null,
   "input_path": "__notebook__.ipynb",
   "output_path": "__notebook__.ipynb",
   "parameters": {},
   "start_time": "2022-10-30T00:47:31.517252",
   "version": "2.3.4"
  }
 },
 "nbformat": 4,
 "nbformat_minor": 5
}
